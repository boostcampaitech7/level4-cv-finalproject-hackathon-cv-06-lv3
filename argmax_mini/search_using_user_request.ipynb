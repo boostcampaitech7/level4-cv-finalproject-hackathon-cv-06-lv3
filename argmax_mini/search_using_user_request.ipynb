{
 "cells": [
  {
   "cell_type": "code",
   "execution_count": null,
   "metadata": {},
   "outputs": [],
   "source": [
    "from hackathon import surrogate_model\n",
    "import argparse\n",
    "import numpy as np\n",
    "import pandas as pd\n",
    "import os\n",
    "from hackathon import search_model\n",
    "from hackathon.src.datasets.data_loader import load_data\n",
    "import hackathon.src.dynamic_pipeline as dynamic_pipeline\n"
   ]
  },
  {
   "cell_type": "code",
   "execution_count": 2,
   "metadata": {},
   "outputs": [],
   "source": [
    "def concrete():\n",
    "    df = pd.read_csv('./hackathon/data/concrete.csv')\n",
    "\n",
    "    target = 'strength'\n",
    "    user_request_target = 40.0\n",
    "\n",
    "    control_name = ['cement', 'slag', 'ash', 'water', 'superplastic', 'coarseagg', 'fineagg', 'age']\n",
    "    importance={'cement': 1,\n",
    "                    'water': 2,\n",
    "    }\n",
    "    optimize={'cement': 'minimize',\n",
    "                'water': 'minimize',\n",
    "    }\n",
    "    return df, target, user_request_target, control_name, importance, optimize "
   ]
  },
  {
   "cell_type": "code",
   "execution_count": 3,
   "metadata": {},
   "outputs": [],
   "source": [
    "def dvm():\n",
    "    df = pd.read_csv('./hackathon/data/dvm_merged_df.csv')\n",
    "\n",
    "    target = 'Annual_revenue'\n",
    "    user_request_target = 2485797880\n",
    "\n",
    "    control_name = ['Entry_price', 'Fuel_type', 'Bodytype', 'Top_speed', 'Gearbox']\n",
    "    # control_name = [col for col in df.columns if col != target]\n",
    "    importance={'Entry_price': 1,\n",
    "                    'Top_speed': 2,\n",
    "    }\n",
    "    optimize={'Entry_price': 'minimize',\n",
    "                'Top_speed': 'minimize',\n",
    "    }\n",
    "    return df, target, user_request_target, control_name, importance, optimize "
   ]
  },
  {
   "cell_type": "code",
   "execution_count": 4,
   "metadata": {},
   "outputs": [],
   "source": [
    "def ecommerce():\n",
    "    df = pd.read_csv('./hackathon/data/ecommerce_sampled_10000.csv')\n",
    "\n",
    "    target = 'revenue'\n",
    "    user_request_target = 50000000\n",
    "\n",
    "    control_name = ['discount_rate']\n",
    "    # control_name = [col for col in df.columns if col != target]\n",
    "    importance={'discount_rate': 1,\n",
    "    }\n",
    "    optimize={'discount_rate': 'minimize',\n",
    "    }\n",
    "    return df, target, user_request_target, control_name, importance, optimize "
   ]
  },
  {
   "cell_type": "code",
   "execution_count": 5,
   "metadata": {},
   "outputs": [],
   "source": [
    "def melb():\n",
    "    df = pd.read_csv('./hackathon/data/melb_data.csv')\n",
    "\n",
    "    target = 'Price'\n",
    "    user_request_target = 7000000\n",
    "\n",
    "    control_name = ['Suburb', 'Rooms', 'Landsize']\n",
    "    # control_name = [col for col in df.columns if col != target]\n",
    "    importance={'Landsize': 1,\n",
    "            'Rooms': 2,\n",
    "    }\n",
    "    optimize={'Landsize': 'minimize',\n",
    "            'Rooms': 'minimize',\n",
    "    }\n",
    "    return df, target, user_request_target, control_name, importance, optimize "
   ]
  },
  {
   "cell_type": "code",
   "execution_count": 6,
   "metadata": {},
   "outputs": [],
   "source": [
    "def employee():\n",
    "    df = pd.read_csv('./hackathon/data/employee_attrition_dataset.csv')\n",
    "\n",
    "    target = 'Attrition'\n",
    "    user_request_target = 'No'\n",
    "\n",
    "    control_name = ['Job_Role', 'Hourly_Rate', 'Average_Hours_Worked_Per_Week', 'Relationship_with_Manager', 'Job_Involvement', 'Number_of_Companies_Worked']\n",
    "    # control_name = [col for col in df.columns if col != target]\n",
    "    importance={'Hourly_Rate': 1,\n",
    "                'Average_Hours_Worked_Per_Week': 2,\n",
    "    }\n",
    "    optimize={'Hourly_Rate': 'minimize',\n",
    "            'Average_Hours_Worked_Per_Week': 'maximize',\n",
    "    }\n",
    "    return df, target, user_request_target, control_name, importance, optimize "
   ]
  },
  {
   "cell_type": "code",
   "execution_count": 7,
   "metadata": {},
   "outputs": [],
   "source": [
    "df, target, user_request_target, control_name, importance, optimize = concrete() # concrete(), dvm(), ecommerce(), melb(), employee()\n",
    "model = 'catboost' # 'catboost','tabpfn'"
   ]
  },
  {
   "cell_type": "code",
   "execution_count": null,
   "metadata": {},
   "outputs": [],
   "source": [
    "ret_dict = dynamic_pipeline.preprocess_dynamic(df.copy())\n",
    "ret_dict[0].to_csv('./temp.csv', index=False)"
   ]
  },
  {
   "cell_type": "code",
   "execution_count": null,
   "metadata": {},
   "outputs": [],
   "source": [
    "# if target not in ret_dict['processed_df'].columns: raise Exception('unexpected target')\n",
    "args = argparse.Namespace(\n",
    "    target = [target],\n",
    "    data_path='./temp.csv',\n",
    "    model=model,\n",
    "    prj_id = 40,\n",
    "    seed=40\n",
    ")\n",
    "surrogate_model.main(args, ret_dict[-1])"
   ]
  },
  {
   "cell_type": "code",
   "execution_count": 10,
   "metadata": {},
   "outputs": [],
   "source": [
    "if target not in df.columns: raise Exception('unexpected target')\n",
    "control_range = df[control_name]\n",
    "control_range = {col: (df[col].min(), df[col].max()) for col in control_range}"
   ]
  },
  {
   "cell_type": "code",
   "execution_count": null,
   "metadata": {},
   "outputs": [],
   "source": [
    "print(target, df[target].min(),'~',df[target].max())"
   ]
  },
  {
   "cell_type": "code",
   "execution_count": 12,
   "metadata": {},
   "outputs": [],
   "source": [
    "df_scaled = load_data(args.data_path)\n",
    "X = df_scaled.drop(columns=args.target)\n",
    "y = df_scaled[args.target]\n",
    "x_col_list = X.columns.tolist()\n",
    "\n",
    "X_train,y_train = X.to_numpy(),y.to_numpy()\n"
   ]
  },
  {
   "cell_type": "code",
   "execution_count": 13,
   "metadata": {},
   "outputs": [],
   "source": [
    "scalers = ret_dict[-1]\n"
   ]
  },
  {
   "cell_type": "code",
   "execution_count": 14,
   "metadata": {},
   "outputs": [],
   "source": [
    "from hackathon.src.datasets.data_loader import load_data"
   ]
  },
  {
   "cell_type": "code",
   "execution_count": 15,
   "metadata": {},
   "outputs": [],
   "source": [
    "for l in [control_name, importance, optimize]:\n",
    "    for c in l:\n",
    "        if c not in ret_dict[0].columns:\n",
    "            raise Exception(f'{c} is unexpected col_name')\n",
    "args = argparse.Namespace(\n",
    "    model=model,\n",
    "    search_model='k_means',\n",
    "    data_path='./temp.csv',\n",
    "    control_name=control_name,\n",
    "    control_range= control_range,\n",
    "    target=[target],\n",
    "    importance=importance,\n",
    "    optimize=optimize,\n",
    "    prj_id=40,\n",
    "    seed=40,\n",
    "    user_request_target=[user_request_target],\n",
    "    model_path='./temp/surrogate_model/model',\n",
    "    user_request_idx=10\n",
    ")"
   ]
  },
  {
   "cell_type": "code",
   "execution_count": null,
   "metadata": {},
   "outputs": [],
   "source": [
    "# %%time \n",
    "x_opt = search_model.main(args,ret_dict[-1])"
   ]
  },
  {
   "cell_type": "code",
   "execution_count": null,
   "metadata": {},
   "outputs": [],
   "source": [
    "df"
   ]
  },
  {
   "cell_type": "code",
   "execution_count": null,
   "metadata": {},
   "outputs": [],
   "source": [
    "x_opt"
   ]
  },
  {
   "cell_type": "code",
   "execution_count": null,
   "metadata": {},
   "outputs": [],
   "source": [
    "x_opt.iloc[1]"
   ]
  },
  {
   "cell_type": "code",
   "execution_count": null,
   "metadata": {},
   "outputs": [],
   "source": []
  },
  {
   "cell_type": "code",
   "execution_count": null,
   "metadata": {},
   "outputs": [],
   "source": []
  }
 ],
 "metadata": {
  "kernelspec": {
   "display_name": "base",
   "language": "python",
   "name": "python3"
  },
  "language_info": {
   "codemirror_mode": {
    "name": "ipython",
    "version": 3
   },
   "file_extension": ".py",
   "mimetype": "text/x-python",
   "name": "python",
   "nbconvert_exporter": "python",
   "pygments_lexer": "ipython3",
   "version": "3.10.13"
  }
 },
 "nbformat": 4,
 "nbformat_minor": 2
}
