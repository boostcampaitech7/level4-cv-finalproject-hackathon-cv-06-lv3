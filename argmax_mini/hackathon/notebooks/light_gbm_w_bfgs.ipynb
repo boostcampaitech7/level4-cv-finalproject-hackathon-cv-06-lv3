{
 "cells": [
  {
   "cell_type": "code",
   "execution_count": null,
   "metadata": {},
   "outputs": [],
   "source": [
    "import kagglehub\n",
    "import fireducks.pandas as pd\n",
    "import numpy as np\n"
   ]
  },
  {
   "cell_type": "code",
   "execution_count": null,
   "metadata": {},
   "outputs": [],
   "source": [
    "import lightgbm as lgb"
   ]
  },
  {
   "cell_type": "code",
   "execution_count": null,
   "metadata": {},
   "outputs": [],
   "source": [
    "# path = kagglehub.dataset_download(\"vinayakshanawad/cement-manufacturing-concrete-dataset\")\n",
    "path = \"/data/ephemeral/home/.cache/kagglehub/datasets/vinayakshanawad/cement-manufacturing-concrete-dataset/versions/1\"\n",
    "df = pd.read_csv(path + \"/concrete.csv\")\n",
    "\n",
    "df.head()"
   ]
  },
  {
   "cell_type": "code",
   "execution_count": null,
   "metadata": {},
   "outputs": [],
   "source": [
    "import hackathon.src.datasets as datasets\n",
    "\n",
    "\n",
    "X_train, X_test, y_train, y_test = datasets.cement_data(path + \"/concrete.csv\")\n",
    "\n",
    "train_data, val_data = datasets.lightgbm_load_data(X_train, X_test, y_train, y_test)"
   ]
  },
  {
   "cell_type": "code",
   "execution_count": null,
   "metadata": {},
   "outputs": [],
   "source": [
    "import hackathon.src.surrogate as surrogate\n",
    "\n",
    "model = surrogate.lightgbm_train(train_data, val_data)\n",
    "\n",
    "rmse, mae, r2 = surrogate.lightgbm_evaluate(model, train_data, val_data)\n",
    "\n",
    "print(f\"RMSE: {rmse:.4f}, MAE: {mae:.4f}, R²: {r2:.4f}\")\n",
    "\n",
    "\n"
   ]
  },
  {
   "cell_type": "code",
   "execution_count": null,
   "metadata": {},
   "outputs": [],
   "source": [
    "from scipy.optimize import minimize\n",
    "\n",
    "def inverse_function(y_target,model,init_x,method='BFGS'):\n",
    "    def objective(x):\n",
    "        x = x.reshape(1, -1)\n",
    "        y_pred = surrogate.lightgbm_predict(model, x)\n",
    "        # print(y_pred.shape)\n",
    "        # print(y_target.shape)\n",
    "        res = (y_pred - y_target)**2\n",
    "        # print(res)\n",
    "        return res\n",
    "    result = minimize(objective, init_x, method=method)\n",
    "    return result.x"
   ]
  },
  {
   "cell_type": "code",
   "execution_count": null,
   "metadata": {},
   "outputs": [],
   "source": [
    "surrogate.lightgbm_predict(model, X_test[0:1])"
   ]
  },
  {
   "cell_type": "code",
   "execution_count": null,
   "metadata": {},
   "outputs": [],
   "source": [
    "\n",
    "x_inverse = inverse_function(y_test[0:1], model, X_train.mean(axis=0))"
   ]
  },
  {
   "cell_type": "code",
   "execution_count": null,
   "metadata": {},
   "outputs": [],
   "source": [
    "test = X_test[0:1]"
   ]
  },
  {
   "cell_type": "code",
   "execution_count": null,
   "metadata": {},
   "outputs": [],
   "source": [
    "from tqdm import tqdm"
   ]
  },
  {
   "cell_type": "code",
   "execution_count": null,
   "metadata": {},
   "outputs": [],
   "source": [
    "%%time\n",
    "inverse_list = []\n",
    "for sx,sy in tqdm(zip(X_test,y_test)):\n",
    "    x_inverse = inverse_function(sy, model, X_train.mean(axis=0))\n",
    "    inverse_list.append(x_inverse)\n"
   ]
  },
  {
   "cell_type": "code",
   "execution_count": null,
   "metadata": {},
   "outputs": [],
   "source": [
    "x_inverse = np.array(inverse_list)\n"
   ]
  },
  {
   "cell_type": "code",
   "execution_count": null,
   "metadata": {},
   "outputs": [],
   "source": [
    "SSE = np.sum((x_inverse - X_test)**2)\n",
    "SST = np.sum((X_test - X_train.mean(axis=0))**2)\n",
    "r2 = 1 - SSE/SST\n",
    "r2"
   ]
  },
  {
   "cell_type": "code",
   "execution_count": null,
   "metadata": {},
   "outputs": [],
   "source": []
  },
  {
   "cell_type": "code",
   "execution_count": null,
   "metadata": {},
   "outputs": [],
   "source": [
    "%%time\n",
    "inverse_list = []\n",
    "for sx,sy in tqdm(zip(X_test,y_test)):\n",
    "    x_inverse = inverse_function(sy, model, X_train.mean(axis=0),method='L-BFGS-B')\n",
    "    inverse_list.append(x_inverse)"
   ]
  },
  {
   "cell_type": "code",
   "execution_count": null,
   "metadata": {},
   "outputs": [],
   "source": [
    "x_inverse = np.array(inverse_list)\n",
    "SSE = np.sum((x_inverse - X_test)**2)\n",
    "SST = np.sum((X_test - X_train.mean(axis=0))**2)\n",
    "r2 = 1 - SSE/SST\n",
    "print(r2)"
   ]
  },
  {
   "cell_type": "code",
   "execution_count": null,
   "metadata": {},
   "outputs": [],
   "source": [
    "%%time\n",
    "inverse_list = []\n",
    "for sx,sy in tqdm(zip(X_test,y_test)):\n",
    "    x_inverse = inverse_function(sy, model, X_train.mean(axis=0),method='SLSQP')\n",
    "    inverse_list.append(x_inverse)"
   ]
  },
  {
   "cell_type": "code",
   "execution_count": null,
   "metadata": {},
   "outputs": [],
   "source": [
    "x_inverse = np.array(inverse_list)\n",
    "SSE = np.sum((x_inverse - X_test)**2)\n",
    "SST = np.sum((X_test - X_train.mean(axis=0))**2)\n",
    "r2 = 1 - SSE/SST\n",
    "print(r2)"
   ]
  },
  {
   "cell_type": "code",
   "execution_count": null,
   "metadata": {},
   "outputs": [],
   "source": [
    "%%time\n",
    "inverse_list = []\n",
    "for sx,sy in tqdm(zip(X_test,y_test)):\n",
    "    x_inverse = inverse_function(sy, model, X_train.mean(axis=0),method='trust-constr')\n",
    "    inverse_list.append(x_inverse)\n",
    "x_inverse = np.array(inverse_list)\n",
    "SSE = np.sum((x_inverse - X_test)**2)\n",
    "SST = np.sum((X_test - X_train.mean(axis=0))**2)\n",
    "r2 = 1 - SSE/SST\n",
    "print(r2)"
   ]
  },
  {
   "cell_type": "code",
   "execution_count": null,
   "metadata": {},
   "outputs": [],
   "source": [
    "%%time\n",
    "inverse_list = []\n",
    "for sx,sy in tqdm(zip(X_test,y_test)):\n",
    "    x_inverse = inverse_function(sy, model, X_train.mean(axis=0),method='COBYLA')\n",
    "    inverse_list.append(x_inverse)\n",
    "x_inverse = np.array(inverse_list)\n",
    "SSE = np.sum((x_inverse - X_test)**2)\n",
    "SST = np.sum((X_test - X_train.mean(axis=0))**2)\n",
    "r2 = 1 - SSE/SST\n",
    "print(r2)"
   ]
  },
  {
   "cell_type": "code",
   "execution_count": null,
   "metadata": {},
   "outputs": [],
   "source": [
    "%%time\n",
    "inverse_list = []\n",
    "for sx,sy in tqdm(zip(X_test,y_test)):\n",
    "    x_inverse = inverse_function(sy, model, X_train.mean(axis=0),method='TNC')\n",
    "    inverse_list.append(x_inverse)\n",
    "x_inverse = np.array(inverse_list)\n",
    "SSE = np.sum((x_inverse - X_test)**2)\n",
    "SST = np.sum((X_test - X_train.mean(axis=0))**2)\n",
    "r2 = 1 - SSE/SST\n",
    "print(r2)"
   ]
  },
  {
   "cell_type": "code",
   "execution_count": null,
   "metadata": {},
   "outputs": [],
   "source": [
    "%%time\n",
    "inverse_list = []\n",
    "for sx,sy in tqdm(zip(X_test,y_test)):\n",
    "    x_inverse = inverse_function(sy, model, X_train.mean(axis=0),method='Nelder-Mead')\n",
    "    inverse_list.append(x_inverse)\n",
    "x_inverse = np.array(inverse_list)\n",
    "SSE = np.sum((x_inverse - X_test)**2)\n",
    "SST = np.sum((X_test - X_train.mean(axis=0))**2)\n",
    "r2 = 1 - SSE/SST\n",
    "print(r2)"
   ]
  },
  {
   "cell_type": "code",
   "execution_count": null,
   "metadata": {},
   "outputs": [],
   "source": [
    "%%time\n",
    "inverse_list = []\n",
    "for sx,sy in tqdm(zip(X_test,y_test)):\n",
    "    x_inverse = inverse_function(sy, model, X_train.mean(axis=0),method='trust-exact')\n",
    "    inverse_list.append(x_inverse)\n",
    "x_inverse = np.array(inverse_list)\n",
    "SSE = np.sum((x_inverse - X_test)**2)\n",
    "SST = np.sum((X_test - X_train.mean(axis=0))**2)\n",
    "r2 = 1 - SSE/SST\n",
    "print(r2)"
   ]
  },
  {
   "cell_type": "code",
   "execution_count": null,
   "metadata": {},
   "outputs": [],
   "source": []
  }
 ],
 "metadata": {
  "kernelspec": {
   "display_name": "base",
   "language": "python",
   "name": "python3"
  },
  "language_info": {
   "codemirror_mode": {
    "name": "ipython",
    "version": 3
   },
   "file_extension": ".py",
   "mimetype": "text/x-python",
   "name": "python",
   "nbconvert_exporter": "python",
   "pygments_lexer": "ipython3",
   "version": "3.10.13"
  }
 },
 "nbformat": 4,
 "nbformat_minor": 2
}
