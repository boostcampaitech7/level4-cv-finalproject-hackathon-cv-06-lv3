{
 "cells": [
  {
   "cell_type": "markdown",
   "metadata": {},
   "source": [
    "## 파일 목적  \n",
    "실제 데이터(concrete 데이터셋)를 불러와 Surrogate Model에 gradient descent, GA를 구현하고 end-to-end로 문제없이 작동하는지 확인하기 위함"
   ]
  },
  {
   "cell_type": "markdown",
   "metadata": {},
   "source": [
    "## 데이터 불러오기"
   ]
  },
  {
   "cell_type": "code",
   "execution_count": 2,
   "metadata": {},
   "outputs": [
    {
     "name": "stderr",
     "output_type": "stream",
     "text": [
      "/opt/conda/lib/python3.10/site-packages/tqdm/auto.py:21: TqdmWarning: IProgress not found. Please update jupyter and ipywidgets. See https://ipywidgets.readthedocs.io/en/stable/user_install.html\n",
      "  from .autonotebook import tqdm as notebook_tqdm\n"
     ]
    }
   ],
   "source": [
    "import kagglehub"
   ]
  },
  {
   "cell_type": "code",
   "execution_count": 3,
   "metadata": {},
   "outputs": [],
   "source": [
    "path = kagglehub.dataset_download(\"vinayakshanawad/cement-manufacturing-concrete-dataset\")"
   ]
  },
  {
   "cell_type": "code",
   "execution_count": 4,
   "metadata": {},
   "outputs": [
    {
     "name": "stdout",
     "output_type": "stream",
     "text": [
      "Path to dataset files: /data/ephemeral/home/.cache/kagglehub/datasets/vinayakshanawad/cement-manufacturing-concrete-dataset/versions/1\n"
     ]
    }
   ],
   "source": [
    "print(\"Path to dataset files:\", path)"
   ]
  },
  {
   "cell_type": "code",
   "execution_count": 5,
   "metadata": {},
   "outputs": [],
   "source": [
    "path = \"/data/ephemeral/home/.cache/kagglehub/datasets/vinayakshanawad/cement-manufacturing-concrete-dataset/versions/1\""
   ]
  },
  {
   "cell_type": "code",
   "execution_count": 6,
   "metadata": {},
   "outputs": [
    {
     "data": {
      "text/html": [
       "<div>\n",
       "<style scoped>\n",
       "    .dataframe tbody tr th:only-of-type {\n",
       "        vertical-align: middle;\n",
       "    }\n",
       "\n",
       "    .dataframe tbody tr th {\n",
       "        vertical-align: top;\n",
       "    }\n",
       "\n",
       "    .dataframe thead th {\n",
       "        text-align: right;\n",
       "    }\n",
       "</style>\n",
       "<table border=\"1\" class=\"dataframe\">\n",
       "  <thead>\n",
       "    <tr style=\"text-align: right;\">\n",
       "      <th></th>\n",
       "      <th>cement</th>\n",
       "      <th>slag</th>\n",
       "      <th>ash</th>\n",
       "      <th>water</th>\n",
       "      <th>superplastic</th>\n",
       "      <th>coarseagg</th>\n",
       "      <th>fineagg</th>\n",
       "      <th>age</th>\n",
       "      <th>strength</th>\n",
       "    </tr>\n",
       "  </thead>\n",
       "  <tbody>\n",
       "    <tr>\n",
       "      <th>0</th>\n",
       "      <td>141.3</td>\n",
       "      <td>212.0</td>\n",
       "      <td>0.0</td>\n",
       "      <td>203.5</td>\n",
       "      <td>0.0</td>\n",
       "      <td>971.8</td>\n",
       "      <td>748.5</td>\n",
       "      <td>28</td>\n",
       "      <td>29.89</td>\n",
       "    </tr>\n",
       "    <tr>\n",
       "      <th>1</th>\n",
       "      <td>168.9</td>\n",
       "      <td>42.2</td>\n",
       "      <td>124.3</td>\n",
       "      <td>158.3</td>\n",
       "      <td>10.8</td>\n",
       "      <td>1080.8</td>\n",
       "      <td>796.2</td>\n",
       "      <td>14</td>\n",
       "      <td>23.51</td>\n",
       "    </tr>\n",
       "    <tr>\n",
       "      <th>2</th>\n",
       "      <td>250.0</td>\n",
       "      <td>0.0</td>\n",
       "      <td>95.7</td>\n",
       "      <td>187.4</td>\n",
       "      <td>5.5</td>\n",
       "      <td>956.9</td>\n",
       "      <td>861.2</td>\n",
       "      <td>28</td>\n",
       "      <td>29.22</td>\n",
       "    </tr>\n",
       "    <tr>\n",
       "      <th>3</th>\n",
       "      <td>266.0</td>\n",
       "      <td>114.0</td>\n",
       "      <td>0.0</td>\n",
       "      <td>228.0</td>\n",
       "      <td>0.0</td>\n",
       "      <td>932.0</td>\n",
       "      <td>670.0</td>\n",
       "      <td>28</td>\n",
       "      <td>45.85</td>\n",
       "    </tr>\n",
       "    <tr>\n",
       "      <th>4</th>\n",
       "      <td>154.8</td>\n",
       "      <td>183.4</td>\n",
       "      <td>0.0</td>\n",
       "      <td>193.3</td>\n",
       "      <td>9.1</td>\n",
       "      <td>1047.4</td>\n",
       "      <td>696.7</td>\n",
       "      <td>28</td>\n",
       "      <td>18.29</td>\n",
       "    </tr>\n",
       "  </tbody>\n",
       "</table>\n",
       "</div>"
      ],
      "text/plain": [
       "   cement   slag    ash  water  superplastic  coarseagg  fineagg  age  \\\n",
       "0   141.3  212.0    0.0  203.5           0.0      971.8    748.5   28   \n",
       "1   168.9   42.2  124.3  158.3          10.8     1080.8    796.2   14   \n",
       "2   250.0    0.0   95.7  187.4           5.5      956.9    861.2   28   \n",
       "3   266.0  114.0    0.0  228.0           0.0      932.0    670.0   28   \n",
       "4   154.8  183.4    0.0  193.3           9.1     1047.4    696.7   28   \n",
       "\n",
       "   strength  \n",
       "0     29.89  \n",
       "1     23.51  \n",
       "2     29.22  \n",
       "3     45.85  \n",
       "4     18.29  "
      ]
     },
     "execution_count": 6,
     "metadata": {},
     "output_type": "execute_result"
    }
   ],
   "source": [
    "import fireducks.pandas as pd\n",
    "df = pd.read_csv(path + \"/concrete.csv\")\n",
    "\n",
    "df.head()"
   ]
  },
  {
   "cell_type": "markdown",
   "metadata": {},
   "source": [
    "## 간단한 데이터 EDA"
   ]
  },
  {
   "cell_type": "code",
   "execution_count": 7,
   "metadata": {},
   "outputs": [
    {
     "data": {
      "text/html": [
       "<div>\n",
       "<style scoped>\n",
       "    .dataframe tbody tr th:only-of-type {\n",
       "        vertical-align: middle;\n",
       "    }\n",
       "\n",
       "    .dataframe tbody tr th {\n",
       "        vertical-align: top;\n",
       "    }\n",
       "\n",
       "    .dataframe thead th {\n",
       "        text-align: right;\n",
       "    }\n",
       "</style>\n",
       "<table border=\"1\" class=\"dataframe\">\n",
       "  <thead>\n",
       "    <tr style=\"text-align: right;\">\n",
       "      <th></th>\n",
       "      <th>cement</th>\n",
       "      <th>slag</th>\n",
       "      <th>ash</th>\n",
       "      <th>water</th>\n",
       "      <th>superplastic</th>\n",
       "      <th>coarseagg</th>\n",
       "      <th>fineagg</th>\n",
       "      <th>age</th>\n",
       "      <th>strength</th>\n",
       "    </tr>\n",
       "  </thead>\n",
       "  <tbody>\n",
       "    <tr>\n",
       "      <th>count</th>\n",
       "      <td>1030.000000</td>\n",
       "      <td>1030.000000</td>\n",
       "      <td>1030.000000</td>\n",
       "      <td>1030.000000</td>\n",
       "      <td>1030.000000</td>\n",
       "      <td>1030.000000</td>\n",
       "      <td>1030.000000</td>\n",
       "      <td>1030.000000</td>\n",
       "      <td>1030.000000</td>\n",
       "    </tr>\n",
       "    <tr>\n",
       "      <th>mean</th>\n",
       "      <td>281.167864</td>\n",
       "      <td>73.895825</td>\n",
       "      <td>54.188350</td>\n",
       "      <td>181.567282</td>\n",
       "      <td>6.204660</td>\n",
       "      <td>972.918932</td>\n",
       "      <td>773.580485</td>\n",
       "      <td>45.662136</td>\n",
       "      <td>35.817961</td>\n",
       "    </tr>\n",
       "    <tr>\n",
       "      <th>std</th>\n",
       "      <td>104.506364</td>\n",
       "      <td>86.279342</td>\n",
       "      <td>63.997004</td>\n",
       "      <td>21.354219</td>\n",
       "      <td>5.973841</td>\n",
       "      <td>77.753954</td>\n",
       "      <td>80.175980</td>\n",
       "      <td>63.169912</td>\n",
       "      <td>16.705742</td>\n",
       "    </tr>\n",
       "    <tr>\n",
       "      <th>min</th>\n",
       "      <td>102.000000</td>\n",
       "      <td>0.000000</td>\n",
       "      <td>0.000000</td>\n",
       "      <td>121.800000</td>\n",
       "      <td>0.000000</td>\n",
       "      <td>801.000000</td>\n",
       "      <td>594.000000</td>\n",
       "      <td>1.000000</td>\n",
       "      <td>2.330000</td>\n",
       "    </tr>\n",
       "    <tr>\n",
       "      <th>25%</th>\n",
       "      <td>192.375000</td>\n",
       "      <td>0.000000</td>\n",
       "      <td>0.000000</td>\n",
       "      <td>164.900000</td>\n",
       "      <td>0.000000</td>\n",
       "      <td>932.000000</td>\n",
       "      <td>730.950000</td>\n",
       "      <td>7.000000</td>\n",
       "      <td>23.710000</td>\n",
       "    </tr>\n",
       "    <tr>\n",
       "      <th>50%</th>\n",
       "      <td>272.900000</td>\n",
       "      <td>22.000000</td>\n",
       "      <td>0.000000</td>\n",
       "      <td>185.000000</td>\n",
       "      <td>6.400000</td>\n",
       "      <td>968.000000</td>\n",
       "      <td>779.500000</td>\n",
       "      <td>28.000000</td>\n",
       "      <td>34.445000</td>\n",
       "    </tr>\n",
       "    <tr>\n",
       "      <th>75%</th>\n",
       "      <td>350.000000</td>\n",
       "      <td>142.950000</td>\n",
       "      <td>118.300000</td>\n",
       "      <td>192.000000</td>\n",
       "      <td>10.200000</td>\n",
       "      <td>1029.400000</td>\n",
       "      <td>824.000000</td>\n",
       "      <td>56.000000</td>\n",
       "      <td>46.135000</td>\n",
       "    </tr>\n",
       "    <tr>\n",
       "      <th>max</th>\n",
       "      <td>540.000000</td>\n",
       "      <td>359.400000</td>\n",
       "      <td>200.100000</td>\n",
       "      <td>247.000000</td>\n",
       "      <td>32.200000</td>\n",
       "      <td>1145.000000</td>\n",
       "      <td>992.600000</td>\n",
       "      <td>365.000000</td>\n",
       "      <td>82.600000</td>\n",
       "    </tr>\n",
       "  </tbody>\n",
       "</table>\n",
       "</div>"
      ],
      "text/plain": [
       "            cement         slag          ash        water  superplastic  \\\n",
       "count  1030.000000  1030.000000  1030.000000  1030.000000   1030.000000   \n",
       "mean    281.167864    73.895825    54.188350   181.567282      6.204660   \n",
       "std     104.506364    86.279342    63.997004    21.354219      5.973841   \n",
       "min     102.000000     0.000000     0.000000   121.800000      0.000000   \n",
       "25%     192.375000     0.000000     0.000000   164.900000      0.000000   \n",
       "50%     272.900000    22.000000     0.000000   185.000000      6.400000   \n",
       "75%     350.000000   142.950000   118.300000   192.000000     10.200000   \n",
       "max     540.000000   359.400000   200.100000   247.000000     32.200000   \n",
       "\n",
       "         coarseagg      fineagg          age     strength  \n",
       "count  1030.000000  1030.000000  1030.000000  1030.000000  \n",
       "mean    972.918932   773.580485    45.662136    35.817961  \n",
       "std      77.753954    80.175980    63.169912    16.705742  \n",
       "min     801.000000   594.000000     1.000000     2.330000  \n",
       "25%     932.000000   730.950000     7.000000    23.710000  \n",
       "50%     968.000000   779.500000    28.000000    34.445000  \n",
       "75%    1029.400000   824.000000    56.000000    46.135000  \n",
       "max    1145.000000   992.600000   365.000000    82.600000  "
      ]
     },
     "execution_count": 7,
     "metadata": {},
     "output_type": "execute_result"
    }
   ],
   "source": [
    "df.describe()"
   ]
  },
  {
   "cell_type": "code",
   "execution_count": 8,
   "metadata": {},
   "outputs": [
    {
     "data": {
      "text/html": [
       "<div>\n",
       "<style scoped>\n",
       "    .dataframe tbody tr th:only-of-type {\n",
       "        vertical-align: middle;\n",
       "    }\n",
       "\n",
       "    .dataframe tbody tr th {\n",
       "        vertical-align: top;\n",
       "    }\n",
       "\n",
       "    .dataframe thead th {\n",
       "        text-align: right;\n",
       "    }\n",
       "</style>\n",
       "<table border=\"1\" class=\"dataframe\">\n",
       "  <thead>\n",
       "    <tr style=\"text-align: right;\">\n",
       "      <th></th>\n",
       "      <th>cement</th>\n",
       "      <th>slag</th>\n",
       "      <th>ash</th>\n",
       "      <th>water</th>\n",
       "      <th>superplastic</th>\n",
       "      <th>coarseagg</th>\n",
       "      <th>fineagg</th>\n",
       "      <th>age</th>\n",
       "      <th>strength</th>\n",
       "    </tr>\n",
       "  </thead>\n",
       "  <tbody>\n",
       "    <tr>\n",
       "      <th>cement</th>\n",
       "      <td>1.000000</td>\n",
       "      <td>-0.275216</td>\n",
       "      <td>-0.397467</td>\n",
       "      <td>-0.081587</td>\n",
       "      <td>0.092386</td>\n",
       "      <td>-0.109349</td>\n",
       "      <td>-0.222718</td>\n",
       "      <td>0.081946</td>\n",
       "      <td>0.497832</td>\n",
       "    </tr>\n",
       "    <tr>\n",
       "      <th>slag</th>\n",
       "      <td>-0.275216</td>\n",
       "      <td>1.000000</td>\n",
       "      <td>-0.323580</td>\n",
       "      <td>0.107252</td>\n",
       "      <td>0.043270</td>\n",
       "      <td>-0.283999</td>\n",
       "      <td>-0.281603</td>\n",
       "      <td>-0.044246</td>\n",
       "      <td>0.134829</td>\n",
       "    </tr>\n",
       "    <tr>\n",
       "      <th>ash</th>\n",
       "      <td>-0.397467</td>\n",
       "      <td>-0.323580</td>\n",
       "      <td>1.000000</td>\n",
       "      <td>-0.256984</td>\n",
       "      <td>0.377503</td>\n",
       "      <td>-0.009961</td>\n",
       "      <td>0.079108</td>\n",
       "      <td>-0.154371</td>\n",
       "      <td>-0.105755</td>\n",
       "    </tr>\n",
       "    <tr>\n",
       "      <th>water</th>\n",
       "      <td>-0.081587</td>\n",
       "      <td>0.107252</td>\n",
       "      <td>-0.256984</td>\n",
       "      <td>1.000000</td>\n",
       "      <td>-0.657533</td>\n",
       "      <td>-0.182294</td>\n",
       "      <td>-0.450661</td>\n",
       "      <td>0.277618</td>\n",
       "      <td>-0.289633</td>\n",
       "    </tr>\n",
       "    <tr>\n",
       "      <th>superplastic</th>\n",
       "      <td>0.092386</td>\n",
       "      <td>0.043270</td>\n",
       "      <td>0.377503</td>\n",
       "      <td>-0.657533</td>\n",
       "      <td>1.000000</td>\n",
       "      <td>-0.265999</td>\n",
       "      <td>0.222691</td>\n",
       "      <td>-0.192700</td>\n",
       "      <td>0.366079</td>\n",
       "    </tr>\n",
       "    <tr>\n",
       "      <th>coarseagg</th>\n",
       "      <td>-0.109349</td>\n",
       "      <td>-0.283999</td>\n",
       "      <td>-0.009961</td>\n",
       "      <td>-0.182294</td>\n",
       "      <td>-0.265999</td>\n",
       "      <td>1.000000</td>\n",
       "      <td>-0.178481</td>\n",
       "      <td>-0.003016</td>\n",
       "      <td>-0.164935</td>\n",
       "    </tr>\n",
       "    <tr>\n",
       "      <th>fineagg</th>\n",
       "      <td>-0.222718</td>\n",
       "      <td>-0.281603</td>\n",
       "      <td>0.079108</td>\n",
       "      <td>-0.450661</td>\n",
       "      <td>0.222691</td>\n",
       "      <td>-0.178481</td>\n",
       "      <td>1.000000</td>\n",
       "      <td>-0.156095</td>\n",
       "      <td>-0.167241</td>\n",
       "    </tr>\n",
       "    <tr>\n",
       "      <th>age</th>\n",
       "      <td>0.081946</td>\n",
       "      <td>-0.044246</td>\n",
       "      <td>-0.154371</td>\n",
       "      <td>0.277618</td>\n",
       "      <td>-0.192700</td>\n",
       "      <td>-0.003016</td>\n",
       "      <td>-0.156095</td>\n",
       "      <td>1.000000</td>\n",
       "      <td>0.328873</td>\n",
       "    </tr>\n",
       "    <tr>\n",
       "      <th>strength</th>\n",
       "      <td>0.497832</td>\n",
       "      <td>0.134829</td>\n",
       "      <td>-0.105755</td>\n",
       "      <td>-0.289633</td>\n",
       "      <td>0.366079</td>\n",
       "      <td>-0.164935</td>\n",
       "      <td>-0.167241</td>\n",
       "      <td>0.328873</td>\n",
       "      <td>1.000000</td>\n",
       "    </tr>\n",
       "  </tbody>\n",
       "</table>\n",
       "</div>"
      ],
      "text/plain": [
       "                cement      slag       ash     water  superplastic  coarseagg  \\\n",
       "cement        1.000000 -0.275216 -0.397467 -0.081587      0.092386  -0.109349   \n",
       "slag         -0.275216  1.000000 -0.323580  0.107252      0.043270  -0.283999   \n",
       "ash          -0.397467 -0.323580  1.000000 -0.256984      0.377503  -0.009961   \n",
       "water        -0.081587  0.107252 -0.256984  1.000000     -0.657533  -0.182294   \n",
       "superplastic  0.092386  0.043270  0.377503 -0.657533      1.000000  -0.265999   \n",
       "coarseagg    -0.109349 -0.283999 -0.009961 -0.182294     -0.265999   1.000000   \n",
       "fineagg      -0.222718 -0.281603  0.079108 -0.450661      0.222691  -0.178481   \n",
       "age           0.081946 -0.044246 -0.154371  0.277618     -0.192700  -0.003016   \n",
       "strength      0.497832  0.134829 -0.105755 -0.289633      0.366079  -0.164935   \n",
       "\n",
       "               fineagg       age  strength  \n",
       "cement       -0.222718  0.081946  0.497832  \n",
       "slag         -0.281603 -0.044246  0.134829  \n",
       "ash           0.079108 -0.154371 -0.105755  \n",
       "water        -0.450661  0.277618 -0.289633  \n",
       "superplastic  0.222691 -0.192700  0.366079  \n",
       "coarseagg    -0.178481 -0.003016 -0.164935  \n",
       "fineagg       1.000000 -0.156095 -0.167241  \n",
       "age          -0.156095  1.000000  0.328873  \n",
       "strength     -0.167241  0.328873  1.000000  "
      ]
     },
     "execution_count": 8,
     "metadata": {},
     "output_type": "execute_result"
    }
   ],
   "source": [
    "df.corr()\n"
   ]
  },
  {
   "cell_type": "code",
   "execution_count": 12,
   "metadata": {},
   "outputs": [],
   "source": [
    "\n",
    "import torch\n",
    "import sklearn"
   ]
  },
  {
   "cell_type": "code",
   "execution_count": 13,
   "metadata": {},
   "outputs": [],
   "source": [
    "train,test = sklearn.model_selection.train_test_split(df, test_size=0.2, random_state=42)"
   ]
  },
  {
   "cell_type": "code",
   "execution_count": 14,
   "metadata": {},
   "outputs": [
    {
     "data": {
      "text/plain": [
       "(824, 9)"
      ]
     },
     "execution_count": 14,
     "metadata": {},
     "output_type": "execute_result"
    }
   ],
   "source": [
    "train.shape"
   ]
  },
  {
   "cell_type": "code",
   "execution_count": 15,
   "metadata": {},
   "outputs": [
    {
     "data": {
      "text/plain": [
       "(206, 9)"
      ]
     },
     "execution_count": 15,
     "metadata": {},
     "output_type": "execute_result"
    }
   ],
   "source": [
    "test.shape"
   ]
  },
  {
   "cell_type": "code",
   "execution_count": 16,
   "metadata": {},
   "outputs": [
    {
     "data": {
      "text/html": [
       "<div>\n",
       "<style scoped>\n",
       "    .dataframe tbody tr th:only-of-type {\n",
       "        vertical-align: middle;\n",
       "    }\n",
       "\n",
       "    .dataframe tbody tr th {\n",
       "        vertical-align: top;\n",
       "    }\n",
       "\n",
       "    .dataframe thead th {\n",
       "        text-align: right;\n",
       "    }\n",
       "</style>\n",
       "<table border=\"1\" class=\"dataframe\">\n",
       "  <thead>\n",
       "    <tr style=\"text-align: right;\">\n",
       "      <th></th>\n",
       "      <th>cement</th>\n",
       "      <th>slag</th>\n",
       "      <th>ash</th>\n",
       "      <th>water</th>\n",
       "      <th>superplastic</th>\n",
       "      <th>coarseagg</th>\n",
       "      <th>fineagg</th>\n",
       "      <th>age</th>\n",
       "      <th>strength</th>\n",
       "    </tr>\n",
       "  </thead>\n",
       "  <tbody>\n",
       "    <tr>\n",
       "      <th>count</th>\n",
       "      <td>824.000000</td>\n",
       "      <td>824.000000</td>\n",
       "      <td>824.000000</td>\n",
       "      <td>824.000000</td>\n",
       "      <td>824.000000</td>\n",
       "      <td>824.000000</td>\n",
       "      <td>824.000000</td>\n",
       "      <td>824.000000</td>\n",
       "      <td>824.00000</td>\n",
       "    </tr>\n",
       "    <tr>\n",
       "      <th>mean</th>\n",
       "      <td>279.965413</td>\n",
       "      <td>75.690898</td>\n",
       "      <td>53.219539</td>\n",
       "      <td>181.983252</td>\n",
       "      <td>6.157160</td>\n",
       "      <td>972.918447</td>\n",
       "      <td>772.832039</td>\n",
       "      <td>45.701456</td>\n",
       "      <td>35.76557</td>\n",
       "    </tr>\n",
       "    <tr>\n",
       "      <th>std</th>\n",
       "      <td>104.609002</td>\n",
       "      <td>87.638248</td>\n",
       "      <td>63.987005</td>\n",
       "      <td>21.332896</td>\n",
       "      <td>5.949393</td>\n",
       "      <td>76.702670</td>\n",
       "      <td>80.330482</td>\n",
       "      <td>63.289443</td>\n",
       "      <td>16.65238</td>\n",
       "    </tr>\n",
       "    <tr>\n",
       "      <th>min</th>\n",
       "      <td>102.000000</td>\n",
       "      <td>0.000000</td>\n",
       "      <td>0.000000</td>\n",
       "      <td>121.800000</td>\n",
       "      <td>0.000000</td>\n",
       "      <td>801.000000</td>\n",
       "      <td>594.000000</td>\n",
       "      <td>1.000000</td>\n",
       "      <td>2.33000</td>\n",
       "    </tr>\n",
       "    <tr>\n",
       "      <th>25%</th>\n",
       "      <td>190.600000</td>\n",
       "      <td>0.000000</td>\n",
       "      <td>0.000000</td>\n",
       "      <td>164.900000</td>\n",
       "      <td>0.000000</td>\n",
       "      <td>932.000000</td>\n",
       "      <td>724.300000</td>\n",
       "      <td>14.000000</td>\n",
       "      <td>23.79750</td>\n",
       "    </tr>\n",
       "    <tr>\n",
       "      <th>50%</th>\n",
       "      <td>273.000000</td>\n",
       "      <td>23.000000</td>\n",
       "      <td>0.000000</td>\n",
       "      <td>185.700000</td>\n",
       "      <td>6.500000</td>\n",
       "      <td>968.000000</td>\n",
       "      <td>778.500000</td>\n",
       "      <td>28.000000</td>\n",
       "      <td>34.44500</td>\n",
       "    </tr>\n",
       "    <tr>\n",
       "      <th>75%</th>\n",
       "      <td>351.250000</td>\n",
       "      <td>145.000000</td>\n",
       "      <td>118.300000</td>\n",
       "      <td>193.000000</td>\n",
       "      <td>10.200000</td>\n",
       "      <td>1028.400000</td>\n",
       "      <td>824.000000</td>\n",
       "      <td>56.000000</td>\n",
       "      <td>45.91000</td>\n",
       "    </tr>\n",
       "    <tr>\n",
       "      <th>max</th>\n",
       "      <td>540.000000</td>\n",
       "      <td>359.400000</td>\n",
       "      <td>200.100000</td>\n",
       "      <td>246.900000</td>\n",
       "      <td>32.200000</td>\n",
       "      <td>1145.000000</td>\n",
       "      <td>992.600000</td>\n",
       "      <td>365.000000</td>\n",
       "      <td>80.20000</td>\n",
       "    </tr>\n",
       "  </tbody>\n",
       "</table>\n",
       "</div>"
      ],
      "text/plain": [
       "           cement        slag         ash       water  superplastic  \\\n",
       "count  824.000000  824.000000  824.000000  824.000000    824.000000   \n",
       "mean   279.965413   75.690898   53.219539  181.983252      6.157160   \n",
       "std    104.609002   87.638248   63.987005   21.332896      5.949393   \n",
       "min    102.000000    0.000000    0.000000  121.800000      0.000000   \n",
       "25%    190.600000    0.000000    0.000000  164.900000      0.000000   \n",
       "50%    273.000000   23.000000    0.000000  185.700000      6.500000   \n",
       "75%    351.250000  145.000000  118.300000  193.000000     10.200000   \n",
       "max    540.000000  359.400000  200.100000  246.900000     32.200000   \n",
       "\n",
       "         coarseagg     fineagg         age   strength  \n",
       "count   824.000000  824.000000  824.000000  824.00000  \n",
       "mean    972.918447  772.832039   45.701456   35.76557  \n",
       "std      76.702670   80.330482   63.289443   16.65238  \n",
       "min     801.000000  594.000000    1.000000    2.33000  \n",
       "25%     932.000000  724.300000   14.000000   23.79750  \n",
       "50%     968.000000  778.500000   28.000000   34.44500  \n",
       "75%    1028.400000  824.000000   56.000000   45.91000  \n",
       "max    1145.000000  992.600000  365.000000   80.20000  "
      ]
     },
     "execution_count": 16,
     "metadata": {},
     "output_type": "execute_result"
    }
   ],
   "source": [
    "train.describe()"
   ]
  },
  {
   "cell_type": "code",
   "execution_count": 17,
   "metadata": {},
   "outputs": [
    {
     "data": {
      "text/html": [
       "<div>\n",
       "<style scoped>\n",
       "    .dataframe tbody tr th:only-of-type {\n",
       "        vertical-align: middle;\n",
       "    }\n",
       "\n",
       "    .dataframe tbody tr th {\n",
       "        vertical-align: top;\n",
       "    }\n",
       "\n",
       "    .dataframe thead th {\n",
       "        text-align: right;\n",
       "    }\n",
       "</style>\n",
       "<table border=\"1\" class=\"dataframe\">\n",
       "  <thead>\n",
       "    <tr style=\"text-align: right;\">\n",
       "      <th></th>\n",
       "      <th>cement</th>\n",
       "      <th>slag</th>\n",
       "      <th>ash</th>\n",
       "      <th>water</th>\n",
       "      <th>superplastic</th>\n",
       "      <th>coarseagg</th>\n",
       "      <th>fineagg</th>\n",
       "      <th>age</th>\n",
       "      <th>strength</th>\n",
       "    </tr>\n",
       "  </thead>\n",
       "  <tbody>\n",
       "    <tr>\n",
       "      <th>count</th>\n",
       "      <td>206.000000</td>\n",
       "      <td>206.000000</td>\n",
       "      <td>206.000000</td>\n",
       "      <td>206.000000</td>\n",
       "      <td>206.000000</td>\n",
       "      <td>206.000000</td>\n",
       "      <td>206.000000</td>\n",
       "      <td>206.000000</td>\n",
       "      <td>206.000000</td>\n",
       "    </tr>\n",
       "    <tr>\n",
       "      <th>mean</th>\n",
       "      <td>285.977670</td>\n",
       "      <td>66.715534</td>\n",
       "      <td>58.063592</td>\n",
       "      <td>179.903398</td>\n",
       "      <td>6.394660</td>\n",
       "      <td>972.920874</td>\n",
       "      <td>776.574272</td>\n",
       "      <td>45.504854</td>\n",
       "      <td>36.027524</td>\n",
       "    </tr>\n",
       "    <tr>\n",
       "      <th>std</th>\n",
       "      <td>104.209555</td>\n",
       "      <td>80.416840</td>\n",
       "      <td>64.045839</td>\n",
       "      <td>21.410363</td>\n",
       "      <td>6.081593</td>\n",
       "      <td>82.018633</td>\n",
       "      <td>79.678916</td>\n",
       "      <td>62.842563</td>\n",
       "      <td>16.956835</td>\n",
       "    </tr>\n",
       "    <tr>\n",
       "      <th>min</th>\n",
       "      <td>116.000000</td>\n",
       "      <td>0.000000</td>\n",
       "      <td>0.000000</td>\n",
       "      <td>121.800000</td>\n",
       "      <td>0.000000</td>\n",
       "      <td>801.000000</td>\n",
       "      <td>594.000000</td>\n",
       "      <td>3.000000</td>\n",
       "      <td>7.320000</td>\n",
       "    </tr>\n",
       "    <tr>\n",
       "      <th>25%</th>\n",
       "      <td>211.025000</td>\n",
       "      <td>0.000000</td>\n",
       "      <td>0.000000</td>\n",
       "      <td>163.250000</td>\n",
       "      <td>0.000000</td>\n",
       "      <td>931.400000</td>\n",
       "      <td>745.000000</td>\n",
       "      <td>7.000000</td>\n",
       "      <td>22.772500</td>\n",
       "    </tr>\n",
       "    <tr>\n",
       "      <th>50%</th>\n",
       "      <td>269.400000</td>\n",
       "      <td>20.000000</td>\n",
       "      <td>0.000000</td>\n",
       "      <td>182.100000</td>\n",
       "      <td>6.000000</td>\n",
       "      <td>967.000000</td>\n",
       "      <td>781.100000</td>\n",
       "      <td>28.000000</td>\n",
       "      <td>34.505000</td>\n",
       "    </tr>\n",
       "    <tr>\n",
       "      <th>75%</th>\n",
       "      <td>349.000000</td>\n",
       "      <td>129.800000</td>\n",
       "      <td>118.300000</td>\n",
       "      <td>192.000000</td>\n",
       "      <td>10.375000</td>\n",
       "      <td>1036.250000</td>\n",
       "      <td>825.375000</td>\n",
       "      <td>56.000000</td>\n",
       "      <td>47.340000</td>\n",
       "    </tr>\n",
       "    <tr>\n",
       "      <th>max</th>\n",
       "      <td>540.000000</td>\n",
       "      <td>359.400000</td>\n",
       "      <td>200.000000</td>\n",
       "      <td>247.000000</td>\n",
       "      <td>32.200000</td>\n",
       "      <td>1134.300000</td>\n",
       "      <td>992.600000</td>\n",
       "      <td>365.000000</td>\n",
       "      <td>82.600000</td>\n",
       "    </tr>\n",
       "  </tbody>\n",
       "</table>\n",
       "</div>"
      ],
      "text/plain": [
       "           cement        slag         ash       water  superplastic  \\\n",
       "count  206.000000  206.000000  206.000000  206.000000    206.000000   \n",
       "mean   285.977670   66.715534   58.063592  179.903398      6.394660   \n",
       "std    104.209555   80.416840   64.045839   21.410363      6.081593   \n",
       "min    116.000000    0.000000    0.000000  121.800000      0.000000   \n",
       "25%    211.025000    0.000000    0.000000  163.250000      0.000000   \n",
       "50%    269.400000   20.000000    0.000000  182.100000      6.000000   \n",
       "75%    349.000000  129.800000  118.300000  192.000000     10.375000   \n",
       "max    540.000000  359.400000  200.000000  247.000000     32.200000   \n",
       "\n",
       "         coarseagg     fineagg         age    strength  \n",
       "count   206.000000  206.000000  206.000000  206.000000  \n",
       "mean    972.920874  776.574272   45.504854   36.027524  \n",
       "std      82.018633   79.678916   62.842563   16.956835  \n",
       "min     801.000000  594.000000    3.000000    7.320000  \n",
       "25%     931.400000  745.000000    7.000000   22.772500  \n",
       "50%     967.000000  781.100000   28.000000   34.505000  \n",
       "75%    1036.250000  825.375000   56.000000   47.340000  \n",
       "max    1134.300000  992.600000  365.000000   82.600000  "
      ]
     },
     "execution_count": 17,
     "metadata": {},
     "output_type": "execute_result"
    }
   ],
   "source": [
    "test.describe()"
   ]
  },
  {
   "cell_type": "code",
   "execution_count": 18,
   "metadata": {},
   "outputs": [
    {
     "name": "stdout",
     "output_type": "stream",
     "text": [
      "Q1: 0.0, Q3: 145.0, IQR: 145.0\n"
     ]
    },
    {
     "data": {
      "image/png": "[encoded data removed]",
      "text/plain": [
       "<Figure size 800x600 with 1 Axes>"
      ]
     },
     "metadata": {},
     "output_type": "display_data"
    }
   ],
   "source": [
    "import numpy as np\n",
    "import matplotlib.pyplot as plt\n",
    "\n",
    "Q1 = train['slag'].quantile(0.25)\n",
    "Q3 = train['slag'].quantile(0.75)\n",
    "IQR = Q3 - Q1\n",
    "\n",
    "print(f'Q1: {Q1}, Q3: {Q3}, IQR: {IQR}')\n",
    "\n",
    "plt.figure(figsize=(8, 6))\n",
    "plt.boxplot(train['slag'], vert=False, patch_artist=True, showmeans=True, meanline=True)\n",
    "plt.xlabel('slag', fontsize=12)\n",
    "plt.show()"
   ]
  },
  {
   "cell_type": "code",
   "execution_count": 19,
   "metadata": {},
   "outputs": [
    {
     "name": "stdout",
     "output_type": "stream",
     "text": [
      "Q1: 0.0, Q3: 129.8, IQR: 129.8\n"
     ]
    },
    {
     "data": {
      "image/png": "[encoded data removed]",
      "text/plain": [
       "<Figure size 800x600 with 1 Axes>"
      ]
     },
     "metadata": {},
     "output_type": "display_data"
    }
   ],
   "source": [
    "Q1 = test['slag'].quantile(0.25)\n",
    "Q3 = test['slag'].quantile(0.75)\n",
    "IQR = Q3 - Q1\n",
    "\n",
    "print(f'Q1: {Q1}, Q3: {Q3}, IQR: {IQR}')\n",
    "\n",
    "plt.figure(figsize=(8, 6))\n",
    "plt.boxplot(test['slag'], vert=False, patch_artist=True, showmeans=True, meanline=True)\n",
    "plt.xlabel('slag', fontsize=12)\n",
    "plt.show()"
   ]
  },
  {
   "cell_type": "markdown",
   "metadata": {},
   "source": [
    "## Search Model 학습 준비 및 학습"
   ]
  },
  {
   "cell_type": "code",
   "execution_count": 20,
   "metadata": {},
   "outputs": [],
   "source": [
    "class ConcreteDataset(torch.utils.data.Dataset):\n",
    "    def __init__(self, df, mean,std):\n",
    "        self.df = df\n",
    "        self.mean = mean\n",
    "        self.std = std\n",
    "\n",
    "\n",
    "    def __len__(self):\n",
    "        return len(self.df)\n",
    "\n",
    "    def __getitem__(self, idx):\n",
    "        x = self.df.iloc[idx][['cement','slag','ash','water','superplastic','coarseagg','fineagg','age']].to_numpy()\n",
    "        y = self.df.iloc[idx][['strength']].to_numpy()\n",
    "        x = torch.tensor(x, dtype=torch.float32)    \n",
    "        y = torch.tensor(y, dtype=torch.float32)\n",
    "        x = (x - self.mean[:-1]) / self.std[:-1]\n",
    "        # y = (y - self.mean[7]) / self.std[7]\n",
    "        y = torch.log(y)\n",
    "        # if self.transform:\n",
    "        #     x = self.transform(x)\n",
    "            \n",
    "        return x, y"
   ]
  },
  {
   "cell_type": "code",
   "execution_count": 21,
   "metadata": {},
   "outputs": [],
   "source": [
    "# dataset = ConcreteDataset(df)\n",
    "\n",
    "# dataset[0]"
   ]
  },
  {
   "cell_type": "code",
   "execution_count": 52,
   "metadata": {},
   "outputs": [
    {
     "data": {
      "text/html": [
       "<div>\n",
       "<style scoped>\n",
       "    .dataframe tbody tr th:only-of-type {\n",
       "        vertical-align: middle;\n",
       "    }\n",
       "\n",
       "    .dataframe tbody tr th {\n",
       "        vertical-align: top;\n",
       "    }\n",
       "\n",
       "    .dataframe thead th {\n",
       "        text-align: right;\n",
       "    }\n",
       "</style>\n",
       "<table border=\"1\" class=\"dataframe\">\n",
       "  <thead>\n",
       "    <tr style=\"text-align: right;\">\n",
       "      <th></th>\n",
       "      <th>cement</th>\n",
       "      <th>slag</th>\n",
       "      <th>ash</th>\n",
       "      <th>water</th>\n",
       "      <th>superplastic</th>\n",
       "      <th>coarseagg</th>\n",
       "      <th>fineagg</th>\n",
       "      <th>age</th>\n",
       "      <th>strength</th>\n",
       "    </tr>\n",
       "  </thead>\n",
       "  <tbody>\n",
       "    <tr>\n",
       "      <th>995</th>\n",
       "      <td>380.0</td>\n",
       "      <td>0.0</td>\n",
       "      <td>0.0</td>\n",
       "      <td>228.0</td>\n",
       "      <td>0.0</td>\n",
       "      <td>932.0</td>\n",
       "      <td>670.0</td>\n",
       "      <td>365</td>\n",
       "      <td>52.52</td>\n",
       "    </tr>\n",
       "    <tr>\n",
       "      <th>507</th>\n",
       "      <td>251.8</td>\n",
       "      <td>0.0</td>\n",
       "      <td>99.9</td>\n",
       "      <td>146.1</td>\n",
       "      <td>12.4</td>\n",
       "      <td>1006.0</td>\n",
       "      <td>899.8</td>\n",
       "      <td>28</td>\n",
       "      <td>33.94</td>\n",
       "    </tr>\n",
       "    <tr>\n",
       "      <th>334</th>\n",
       "      <td>323.7</td>\n",
       "      <td>282.8</td>\n",
       "      <td>0.0</td>\n",
       "      <td>183.8</td>\n",
       "      <td>10.3</td>\n",
       "      <td>942.7</td>\n",
       "      <td>659.9</td>\n",
       "      <td>3</td>\n",
       "      <td>28.30</td>\n",
       "    </tr>\n",
       "    <tr>\n",
       "      <th>848</th>\n",
       "      <td>252.3</td>\n",
       "      <td>0.0</td>\n",
       "      <td>98.8</td>\n",
       "      <td>146.3</td>\n",
       "      <td>14.2</td>\n",
       "      <td>987.8</td>\n",
       "      <td>889.0</td>\n",
       "      <td>56</td>\n",
       "      <td>55.83</td>\n",
       "    </tr>\n",
       "    <tr>\n",
       "      <th>294</th>\n",
       "      <td>238.2</td>\n",
       "      <td>158.8</td>\n",
       "      <td>0.0</td>\n",
       "      <td>185.7</td>\n",
       "      <td>0.0</td>\n",
       "      <td>1040.6</td>\n",
       "      <td>734.3</td>\n",
       "      <td>28</td>\n",
       "      <td>26.91</td>\n",
       "    </tr>\n",
       "    <tr>\n",
       "      <th>...</th>\n",
       "      <td>...</td>\n",
       "      <td>...</td>\n",
       "      <td>...</td>\n",
       "      <td>...</td>\n",
       "      <td>...</td>\n",
       "      <td>...</td>\n",
       "      <td>...</td>\n",
       "      <td>...</td>\n",
       "      <td>...</td>\n",
       "    </tr>\n",
       "    <tr>\n",
       "      <th>87</th>\n",
       "      <td>212.5</td>\n",
       "      <td>0.0</td>\n",
       "      <td>100.4</td>\n",
       "      <td>159.3</td>\n",
       "      <td>8.7</td>\n",
       "      <td>1007.8</td>\n",
       "      <td>903.6</td>\n",
       "      <td>14</td>\n",
       "      <td>26.31</td>\n",
       "    </tr>\n",
       "    <tr>\n",
       "      <th>330</th>\n",
       "      <td>167.4</td>\n",
       "      <td>129.9</td>\n",
       "      <td>128.6</td>\n",
       "      <td>175.5</td>\n",
       "      <td>7.8</td>\n",
       "      <td>1006.3</td>\n",
       "      <td>746.6</td>\n",
       "      <td>14</td>\n",
       "      <td>31.81</td>\n",
       "    </tr>\n",
       "    <tr>\n",
       "      <th>466</th>\n",
       "      <td>439.0</td>\n",
       "      <td>177.0</td>\n",
       "      <td>0.0</td>\n",
       "      <td>186.0</td>\n",
       "      <td>11.1</td>\n",
       "      <td>884.9</td>\n",
       "      <td>707.9</td>\n",
       "      <td>3</td>\n",
       "      <td>39.30</td>\n",
       "    </tr>\n",
       "    <tr>\n",
       "      <th>121</th>\n",
       "      <td>250.0</td>\n",
       "      <td>0.0</td>\n",
       "      <td>95.7</td>\n",
       "      <td>191.8</td>\n",
       "      <td>5.3</td>\n",
       "      <td>948.9</td>\n",
       "      <td>857.2</td>\n",
       "      <td>56</td>\n",
       "      <td>39.64</td>\n",
       "    </tr>\n",
       "    <tr>\n",
       "      <th>860</th>\n",
       "      <td>162.0</td>\n",
       "      <td>190.0</td>\n",
       "      <td>148.0</td>\n",
       "      <td>179.0</td>\n",
       "      <td>19.0</td>\n",
       "      <td>838.0</td>\n",
       "      <td>741.0</td>\n",
       "      <td>28</td>\n",
       "      <td>33.76</td>\n",
       "    </tr>\n",
       "  </tbody>\n",
       "</table>\n",
       "<p>824 rows × 9 columns</p>\n",
       "</div>"
      ],
      "text/plain": [
       "     cement   slag    ash  water  superplastic  coarseagg  fineagg  age  \\\n",
       "995   380.0    0.0    0.0  228.0           0.0      932.0    670.0  365   \n",
       "507   251.8    0.0   99.9  146.1          12.4     1006.0    899.8   28   \n",
       "334   323.7  282.8    0.0  183.8          10.3      942.7    659.9    3   \n",
       "848   252.3    0.0   98.8  146.3          14.2      987.8    889.0   56   \n",
       "294   238.2  158.8    0.0  185.7           0.0     1040.6    734.3   28   \n",
       "..      ...    ...    ...    ...           ...        ...      ...  ...   \n",
       "87    212.5    0.0  100.4  159.3           8.7     1007.8    903.6   14   \n",
       "330   167.4  129.9  128.6  175.5           7.8     1006.3    746.6   14   \n",
       "466   439.0  177.0    0.0  186.0          11.1      884.9    707.9    3   \n",
       "121   250.0    0.0   95.7  191.8           5.3      948.9    857.2   56   \n",
       "860   162.0  190.0  148.0  179.0          19.0      838.0    741.0   28   \n",
       "\n",
       "     strength  \n",
       "995     52.52  \n",
       "507     33.94  \n",
       "334     28.30  \n",
       "848     55.83  \n",
       "294     26.91  \n",
       "..        ...  \n",
       "87      26.31  \n",
       "330     31.81  \n",
       "466     39.30  \n",
       "121     39.64  \n",
       "860     33.76  \n",
       "\n",
       "[824 rows x 9 columns]"
      ]
     },
     "execution_count": 52,
     "metadata": {},
     "output_type": "execute_result"
    }
   ],
   "source": [
    "train"
   ]
  },
  {
   "cell_type": "code",
   "execution_count": 79,
   "metadata": {},
   "outputs": [],
   "source": [
    "mean = train[['cement','slag','ash','water','superplastic','coarseagg','fineagg','age','strength']].to_numpy().mean(axis=0)\n",
    "std = train[['cement','slag','ash','water','superplastic','coarseagg','fineagg','age','strength']].to_numpy().std(axis=0)\n",
    "mean = torch.tensor(mean, dtype=torch.float32)\n",
    "std = torch.tensor(std, dtype=torch.float32)"
   ]
  },
  {
   "cell_type": "code",
   "execution_count": 80,
   "metadata": {},
   "outputs": [
    {
     "name": "stdout",
     "output_type": "stream",
     "text": [
      "tensor([279.9654,  75.6909,  53.2195, 181.9832,   6.1572, 972.9185, 772.8320,\n",
      "         45.7015,  35.7656])\n",
      "tensor([104.5455,  87.5851,  63.9482,  21.3199,   5.9458,  76.6561,  80.2817,\n",
      "         63.2510,  16.6423])\n"
     ]
    }
   ],
   "source": [
    "print(mean)\n",
    "print(std)"
   ]
  },
  {
   "cell_type": "code",
   "execution_count": 81,
   "metadata": {},
   "outputs": [],
   "source": [
    "# import torchvision.transforms as transforms\n",
    "# transform = transforms.Compose([transforms.ToTensor(),transforms.Normalize((0.5,), (0.5,))])\n",
    "dataset_train = ConcreteDataset(train,mean,std)\n",
    "dataset_test = ConcreteDataset(test,mean,std)"
   ]
  },
  {
   "cell_type": "code",
   "execution_count": 82,
   "metadata": {},
   "outputs": [],
   "source": [
    "from torch.utils.data import DataLoader\n",
    "train_loader = DataLoader(dataset_train, batch_size=100, shuffle=True)\n",
    "test_loader = DataLoader(dataset_test, batch_size=100, shuffle=False)"
   ]
  },
  {
   "cell_type": "code",
   "execution_count": 94,
   "metadata": {},
   "outputs": [],
   "source": [
    "class simple_nn(torch.nn.Module):\n",
    "    def __init__(self):\n",
    "        super(simple_nn, self).__init__()\n",
    "        self.fc1 = torch.nn.Linear(8, 16)\n",
    "        self.fc2 = torch.nn.Linear(16, 32)\n",
    "        self.fc3 = torch.nn.Linear(32, 1)\n",
    "    def forward(self, x):\n",
    "        x = self.fc1(x)\n",
    "        x = torch.relu(x)\n",
    "        x = self.fc2(x)\n",
    "        x = torch.relu(x)\n",
    "        xf = self.fc3(x)\n",
    "        return xf,x"
   ]
  },
  {
   "cell_type": "code",
   "execution_count": 95,
   "metadata": {},
   "outputs": [
    {
     "data": {
      "text/plain": [
       "simple_nn(\n",
       "  (fc1): Linear(in_features=8, out_features=16, bias=True)\n",
       "  (fc2): Linear(in_features=16, out_features=32, bias=True)\n",
       "  (fc3): Linear(in_features=32, out_features=1, bias=True)\n",
       ")"
      ]
     },
     "execution_count": 95,
     "metadata": {},
     "output_type": "execute_result"
    }
   ],
   "source": [
    "model = simple_nn()\n",
    "model.cuda()"
   ]
  },
  {
   "cell_type": "code",
   "execution_count": 96,
   "metadata": {},
   "outputs": [],
   "source": [
    "import torch.optim as optim\n",
    "optimizer = optim.Adam(model.parameters(), lr=0.001)"
   ]
  },
  {
   "cell_type": "code",
   "execution_count": 97,
   "metadata": {},
   "outputs": [
    {
     "name": "stdout",
     "output_type": "stream",
     "text": [
      "losses: 9.975184546576607\n",
      "val_losses: 10.646121978759766\n",
      "errors: 34.53104019165039\n",
      "losses: 9.65825054380629\n",
      "val_losses: 10.213988622029621\n",
      "errors: 34.283912658691406\n",
      "losses: 9.249255515910962\n",
      "val_losses: 9.741136127048067\n",
      "errors: 33.91594314575195\n",
      "losses: 8.782293412420486\n",
      "val_losses: 9.223886768023172\n",
      "errors: 33.328208923339844\n",
      "losses: 8.272678958045113\n",
      "val_losses: 8.66085147857666\n",
      "errors: 32.30321502685547\n",
      "losses: 7.743645765163282\n",
      "val_losses: 8.060308906767103\n",
      "errors: 30.407032012939453\n",
      "losses: 7.192019432310075\n",
      "val_losses: 7.441611573809669\n",
      "errors: 27.9564151763916\n",
      "losses: 6.6403557625081815\n",
      "val_losses: 6.835797409216562\n",
      "errors: 27.270381927490234\n",
      "losses: 6.1303460465537185\n",
      "val_losses: 6.274568707854659\n",
      "errors: 28.21320152282715\n",
      "losses: 5.666123909420438\n",
      "val_losses: 5.783417654037476\n",
      "errors: 30.52383041381836\n",
      "losses: 5.253682871659598\n",
      "val_losses: 5.370164174022097\n",
      "errors: 32.43618392944336\n",
      "losses: 4.9010017260357195\n",
      "val_losses: 5.024634185764525\n",
      "errors: 32.627838134765625\n",
      "losses: 4.594012112189563\n",
      "val_losses: 4.729887031591856\n",
      "errors: 30.84292221069336\n",
      "losses: 4.329711469865981\n",
      "val_losses: 4.474568889254615\n",
      "errors: 28.988740921020508\n",
      "losses: 4.096281633553683\n",
      "val_losses: 4.250266799661849\n",
      "errors: 27.491222381591797\n",
      "losses: 3.8929588678810334\n",
      "val_losses: 4.051392329235872\n",
      "errors: 26.427839279174805\n",
      "losses: 3.7097710160648125\n",
      "val_losses: 3.873866284594817\n",
      "errors: 26.08510398864746\n",
      "losses: 3.5442051085425015\n",
      "val_losses: 3.7142454871424935\n",
      "errors: 26.024484634399414\n",
      "losses: 3.396926521557814\n",
      "val_losses: 3.57023707921045\n",
      "errors: 25.65298080444336\n",
      "losses: 3.2621921224726576\n",
      "val_losses: 3.43911711772283\n",
      "errors: 25.208290100097656\n",
      "losses: 3.1396883984722166\n",
      "val_losses: 3.3192676201699283\n",
      "errors: 24.504812240600586\n",
      "losses: 3.028688892421097\n",
      "val_losses: 3.2095139857494477\n",
      "errors: 24.14300537109375\n",
      "losses: 2.925090247450244\n",
      "val_losses: 3.108571087104688\n",
      "errors: 23.852752685546875\n",
      "losses: 2.829258506634721\n",
      "val_losses: 3.0154043436050415\n",
      "errors: 23.77951431274414\n",
      "losses: 2.7411521526177722\n",
      "val_losses: 2.9287822635968523\n",
      "errors: 23.25563621520996\n",
      "losses: 2.6593830744680176\n",
      "val_losses: 2.84809698890417\n",
      "errors: 23.121856689453125\n",
      "losses: 2.5826034338631256\n",
      "val_losses: 2.772646941520549\n",
      "errors: 22.636808395385742\n",
      "losses: 2.5108937550158728\n",
      "val_losses: 2.7020406034730726\n",
      "errors: 22.30354881286621\n",
      "losses: 2.444149876463002\n",
      "val_losses: 2.6359757966008677\n",
      "errors: 22.220348358154297\n",
      "losses: 2.3808149609300826\n",
      "val_losses: 2.5739428685771086\n",
      "errors: 22.072874069213867\n",
      "losses: 2.3209732273146244\n",
      "val_losses: 2.515608882711779\n",
      "errors: 22.244075775146484\n",
      "losses: 2.2653597726797066\n",
      "val_losses: 2.460534025604526\n",
      "errors: 21.939903259277344\n",
      "losses: 2.212828114277586\n",
      "val_losses: 2.4081449559842696\n",
      "errors: 21.259851455688477\n",
      "losses: 2.1622603074982276\n",
      "val_losses: 2.3581805883669382\n",
      "errors: 20.62322425842285\n",
      "losses: 2.1140436140317767\n",
      "val_losses: 2.310734556402479\n",
      "errors: 20.52838706970215\n",
      "losses: 2.0689521934147237\n",
      "val_losses: 2.265651715022546\n",
      "errors: 20.373437881469727\n",
      "losses: 2.026240705280333\n",
      "val_losses: 2.2228740292626457\n",
      "errors: 20.25515365600586\n",
      "losses: 1.9850402516231203\n",
      "val_losses: 2.1820200305236015\n",
      "errors: 20.13482093811035\n",
      "losses: 1.9456985693881315\n",
      "val_losses: 2.142911265548478\n",
      "errors: 19.950889587402344\n",
      "losses: 1.9085475788348252\n",
      "val_losses: 2.1054066218435765\n",
      "errors: 19.70839500427246\n",
      "losses: 1.8730540433873328\n",
      "val_losses: 2.069381777106262\n",
      "errors: 19.40485954284668\n",
      "losses: 1.8390662443070185\n",
      "val_losses: 2.034724012726829\n",
      "errors: 19.12777328491211\n",
      "losses: 1.8063435250320483\n",
      "val_losses: 2.001385504885237\n",
      "errors: 18.98541831970215\n",
      "losses: 1.7749436724216048\n",
      "val_losses: 1.9693799556204765\n",
      "errors: 18.895593643188477\n",
      "losses: 1.744837357674116\n",
      "val_losses: 1.9386326085638115\n",
      "errors: 18.791446685791016\n",
      "losses: 1.7154369965051683\n",
      "val_losses: 1.908915368327196\n",
      "errors: 18.519920349121094\n",
      "losses: 1.687536095156737\n",
      "val_losses: 1.8802424436765357\n",
      "errors: 18.312166213989258\n",
      "losses: 1.6604497055005698\n",
      "val_losses: 1.852511173942023\n",
      "errors: 18.39735221862793\n",
      "losses: 1.6346625036595903\n",
      "val_losses: 1.8257214047876347\n",
      "errors: 18.31947898864746\n",
      "losses: 1.6096128236916332\n",
      "val_losses: 1.799746234814326\n",
      "errors: 17.87058448791504\n",
      "losses: 1.5851129902798629\n",
      "val_losses: 1.7746864991639955\n",
      "errors: 17.853416442871094\n",
      "losses: 1.561450795994865\n",
      "val_losses: 1.7504396110008926\n",
      "errors: 17.68806266784668\n",
      "losses: 1.538827624710851\n",
      "val_losses: 1.7268722390978593\n",
      "errors: 17.42422103881836\n",
      "losses: 1.5169303457064887\n",
      "val_losses: 1.703890711988932\n",
      "errors: 17.112857818603516\n",
      "losses: 1.495744708270738\n",
      "val_losses: 1.6816458799622278\n",
      "errors: 17.160757064819336\n",
      "losses: 1.4751152074526226\n",
      "val_losses: 1.6599638749446188\n",
      "errors: 16.951190948486328\n",
      "losses: 1.4550507476455288\n",
      "val_losses: 1.6388477402472357\n",
      "errors: 16.848350524902344\n",
      "losses: 1.4354571259341478\n",
      "val_losses: 1.618356015147834\n",
      "errors: 16.84620475769043\n",
      "losses: 1.4166449930820537\n",
      "val_losses: 1.5984344177663663\n",
      "errors: 16.65842056274414\n",
      "losses: 1.3981788488449876\n",
      "val_losses: 1.5790236201551224\n",
      "errors: 16.40342140197754\n",
      "losses: 1.3804264718934705\n",
      "val_losses: 1.5600786968007112\n",
      "errors: 16.24239158630371\n",
      "losses: 1.3633698284038505\n",
      "val_losses: 1.5416245410839715\n",
      "errors: 16.120481491088867\n",
      "losses: 1.3465040212323005\n",
      "val_losses: 1.5236067440774705\n",
      "errors: 16.138341903686523\n",
      "losses: 1.3298801277608923\n",
      "val_losses: 1.5060487935940423\n",
      "errors: 16.050254821777344\n",
      "losses: 1.3139359598995275\n",
      "val_losses: 1.4889137680713944\n",
      "errors: 15.937752723693848\n",
      "losses: 1.2984097534508416\n",
      "val_losses: 1.4721891884550902\n",
      "errors: 15.546144485473633\n",
      "losses: 1.2830531675967807\n",
      "val_losses: 1.4558245954821951\n",
      "errors: 15.209916114807129\n",
      "losses: 1.2682451834914341\n",
      "val_losses: 1.4397656961398964\n",
      "errors: 15.263521194458008\n",
      "losses: 1.2536288779138942\n",
      "val_losses: 1.4240497362210551\n",
      "errors: 15.17764663696289\n",
      "losses: 1.2393487675558952\n",
      "val_losses: 1.4086829956088744\n",
      "errors: 15.09712028503418\n",
      "losses: 1.2254856908125495\n",
      "val_losses: 1.3937023107154827\n",
      "errors: 14.858640670776367\n",
      "losses: 1.2120045623799534\n",
      "val_losses: 1.3789775887573208\n",
      "errors: 14.667247772216797\n",
      "losses: 1.1987670148571152\n",
      "val_losses: 1.3644762744778367\n",
      "errors: 14.576099395751953\n",
      "losses: 1.1858413854205572\n",
      "val_losses: 1.3502179960141312\n",
      "errors: 14.370369911193848\n",
      "losses: 1.1730227254275922\n",
      "val_losses: 1.3361731082201005\n",
      "errors: 14.2667818069458\n",
      "losses: 1.1606385765804184\n",
      "val_losses: 1.3223877013252494\n",
      "errors: 14.254735946655273\n",
      "losses: 1.148386070029044\n",
      "val_losses: 1.3088826456498275\n",
      "errors: 13.845921516418457\n",
      "losses: 1.1363828581282895\n",
      "val_losses: 1.2955708475703869\n",
      "errors: 13.500743865966797\n",
      "losses: 1.1245921834905104\n",
      "val_losses: 1.2824925856373985\n",
      "errors: 13.548922538757324\n",
      "losses: 1.1130753067011636\n",
      "val_losses: 1.2696703658128778\n",
      "errors: 13.517046928405762\n",
      "losses: 1.1018880581577783\n",
      "val_losses: 1.257063201854749\n",
      "errors: 13.132587432861328\n",
      "losses: 1.0908490024042647\n",
      "val_losses: 1.2446701648395235\n",
      "errors: 12.886567115783691\n",
      "losses: 1.0799635469394835\n",
      "val_losses: 1.2325021058440686\n",
      "errors: 13.141700744628906\n",
      "losses: 1.0693245205298934\n",
      "val_losses: 1.2205176435647502\n",
      "errors: 12.833953857421875\n",
      "losses: 1.0589305555703594\n",
      "val_losses: 1.2087538135402343\n",
      "errors: 12.454301834106445\n",
      "losses: 1.048670446726395\n",
      "val_losses: 1.197180293846962\n",
      "errors: 12.315732955932617\n",
      "losses: 1.03860527103812\n",
      "val_losses: 1.1858082848718796\n",
      "errors: 12.238349914550781\n",
      "losses: 1.028745430775664\n",
      "val_losses: 1.1746122424462526\n",
      "errors: 12.079191207885742\n",
      "losses: 1.0190081685855892\n",
      "val_losses: 1.1636181980483091\n",
      "errors: 12.006431579589844\n",
      "losses: 1.009480621288588\n",
      "val_losses: 1.1528163146089623\n",
      "errors: 11.827726364135742\n",
      "losses: 1.0001440284744143\n",
      "val_losses: 1.1421798603001965\n",
      "errors: 11.639339447021484\n",
      "losses: 0.9909517588678767\n",
      "val_losses: 1.1317196895462878\n",
      "errors: 11.677734375\n",
      "losses: 0.9819192119218685\n",
      "val_losses: 1.1214410275968596\n",
      "errors: 11.36143970489502\n",
      "losses: 0.9730775843838991\n",
      "val_losses: 1.111322441633711\n",
      "errors: 11.308427810668945\n",
      "losses: 0.9643614452659037\n",
      "val_losses: 1.1013713041418474\n",
      "errors: 11.376517295837402\n",
      "losses: 0.9557709543344876\n",
      "val_losses: 1.0915774661116302\n",
      "errors: 11.204136848449707\n",
      "losses: 0.9472966806585437\n",
      "val_losses: 1.081921306467548\n",
      "errors: 10.942057609558105\n",
      "losses: 0.939004773421893\n",
      "val_losses: 1.0724179212029288\n",
      "errors: 10.809525489807129\n",
      "losses: 0.9309347649298265\n",
      "val_losses: 1.0630799523407362\n",
      "errors: 10.504652976989746\n",
      "losses: 0.9229085830847423\n",
      "val_losses: 1.0538828778266909\n",
      "errors: 10.387124061584473\n",
      "losses: 0.9150359477884699\n",
      "val_losses: 1.0448105825547733\n",
      "errors: 10.317384719848633\n",
      "losses: 0.9073094104402465\n",
      "val_losses: 1.0358692575611321\n",
      "errors: 10.18372631072998\n",
      "losses: 0.8996398415669654\n",
      "val_losses: 1.027060675823573\n",
      "errors: 9.962418556213379\n",
      "losses: 0.8921333031537824\n",
      "val_losses: 1.018395823593705\n",
      "errors: 9.933893203735352\n",
      "losses: 0.8848077542015484\n",
      "val_losses: 1.009884124781404\n",
      "errors: 9.94224739074707\n",
      "losses: 0.8775209858701164\n",
      "val_losses: 1.0015000445569084\n",
      "errors: 9.814793586730957\n",
      "losses: 0.8703816499510781\n",
      "val_losses: 0.9932444580711678\n",
      "errors: 9.704771995544434\n",
      "losses: 0.8633405764897663\n",
      "val_losses: 0.9851084782937425\n",
      "errors: 9.548763275146484\n",
      "losses: 0.856391828138833\n",
      "val_losses: 0.9771080333796479\n",
      "errors: 9.335785865783691\n",
      "losses: 0.8495525906332815\n",
      "val_losses: 0.9692247859230545\n",
      "errors: 9.164921760559082\n",
      "losses: 0.8427944033219291\n",
      "val_losses: 0.9614401584093991\n",
      "errors: 9.159667015075684\n",
      "losses: 0.8361775326128635\n",
      "val_losses: 0.9537787608846665\n",
      "errors: 8.980400085449219\n",
      "losses: 0.8296255202068341\n",
      "val_losses: 0.9462385048380993\n",
      "errors: 8.804347038269043\n",
      "losses: 0.8232086731763611\n",
      "val_losses: 0.938797757421669\n",
      "errors: 8.761049270629883\n",
      "losses: 0.8168789409137003\n",
      "val_losses: 0.9314856107036272\n",
      "errors: 8.564095497131348\n",
      "losses: 0.8106150404261104\n",
      "val_losses: 0.9242573641026499\n",
      "errors: 8.458346366882324\n",
      "losses: 0.8045372164543764\n",
      "val_losses: 0.9171394787070758\n",
      "errors: 8.4183931350708\n",
      "losses: 0.79846837088157\n",
      "val_losses: 0.9101542312504545\n",
      "errors: 8.288366317749023\n",
      "losses: 0.7925079033530059\n",
      "val_losses: 0.9032871504249025\n",
      "errors: 8.177329063415527\n",
      "losses: 0.7865846733217714\n",
      "val_losses: 0.8965091694353354\n",
      "errors: 8.085597038269043\n",
      "losses: 0.7807703009944261\n",
      "val_losses: 0.8898212560978473\n",
      "errors: 7.979089736938477\n",
      "losses: 0.7750769872489794\n",
      "val_losses: 0.8832484879454628\n",
      "errors: 7.880215167999268\n",
      "losses: 0.7694559595476106\n",
      "val_losses: 0.8767547532714156\n",
      "errors: 7.735531806945801\n",
      "losses: 0.7639117505281202\n",
      "val_losses: 0.8703612044894246\n",
      "errors: 7.659275531768799\n",
      "losses: 0.7584149324165451\n",
      "val_losses: 0.8640531521439552\n",
      "errors: 7.521113395690918\n",
      "losses: 0.7530123048069407\n",
      "val_losses: 0.8578440562757864\n",
      "errors: 7.482096195220947\n",
      "losses: 0.7476879459360088\n",
      "val_losses: 0.8517019154205722\n",
      "errors: 7.42411470413208\n",
      "losses: 0.7424505388868663\n",
      "val_losses: 0.8456668700673616\n",
      "errors: 7.335305213928223\n",
      "losses: 0.7372865089368553\n",
      "val_losses: 0.8396945761694772\n",
      "errors: 7.286580562591553\n",
      "losses: 0.7321811196322625\n",
      "val_losses: 0.833850206568455\n",
      "errors: 7.242347717285156\n",
      "losses: 0.7271230706504284\n",
      "val_losses: 0.8280599450754148\n",
      "errors: 7.090351104736328\n",
      "losses: 0.722133443455654\n",
      "val_losses: 0.8223620962464447\n",
      "errors: 7.0589399337768555\n",
      "losses: 0.7172258565873033\n",
      "val_losses: 0.8167211707298618\n",
      "errors: 7.01088285446167\n",
      "losses: 0.7123763245711132\n",
      "val_losses: 0.8111638288889357\n",
      "errors: 6.932218551635742\n",
      "losses: 0.707601634673621\n",
      "val_losses: 0.8056848343691708\n",
      "errors: 6.881673336029053\n",
      "losses: 0.7029008037544593\n",
      "val_losses: 0.800276052151971\n",
      "errors: 6.8132853507995605\n",
      "losses: 0.698266284998026\n",
      "val_losses: 0.794933996858968\n",
      "errors: 6.757584571838379\n",
      "losses: 0.6936670557900232\n",
      "val_losses: 0.7896744543911466\n",
      "errors: 6.661271572113037\n",
      "losses: 0.6891361916844222\n",
      "val_losses: 0.7845025138496209\n",
      "errors: 6.657179355621338\n",
      "losses: 0.6846865647812448\n",
      "val_losses: 0.779376506734462\n",
      "errors: 6.559357166290283\n",
      "losses: 0.6802808905065859\n",
      "val_losses: 0.7743582377214662\n",
      "errors: 6.541021347045898\n",
      "losses: 0.6759383936845502\n",
      "val_losses: 0.7693772995538415\n",
      "errors: 6.474457263946533\n",
      "losses: 0.6716484223328179\n",
      "val_losses: 0.764461469148353\n",
      "errors: 6.470309734344482\n",
      "losses: 0.6674057442815629\n",
      "val_losses: 0.7596528989228386\n",
      "errors: 6.479661464691162\n",
      "losses: 0.6632022091169695\n",
      "val_losses: 0.7548673476467188\n",
      "errors: 6.310688018798828\n",
      "losses: 0.6590776492755072\n",
      "val_losses: 0.7501599661767755\n",
      "errors: 6.26439905166626\n",
      "losses: 0.6549865073064738\n",
      "val_losses: 0.7455116413837793\n",
      "errors: 6.240902900695801\n",
      "losses: 0.6509639465504581\n",
      "val_losses: 0.7409111475152476\n",
      "errors: 6.197661399841309\n",
      "losses: 0.646966742447492\n",
      "val_losses: 0.7363774841380466\n",
      "errors: 6.230030059814453\n",
      "losses: 0.6430200963384575\n",
      "val_losses: 0.7318913334525294\n",
      "errors: 6.174708843231201\n",
      "losses: 0.6391557118498375\n",
      "val_losses: 0.7274671517000031\n",
      "errors: 6.119834899902344\n",
      "losses: 0.635298867294652\n",
      "val_losses: 0.7231049580875327\n",
      "errors: 6.08038854598999\n",
      "losses: 0.6315099982721981\n",
      "val_losses: 0.7187817336054021\n",
      "errors: 6.034456253051758\n",
      "losses: 0.6277455874204012\n",
      "val_losses: 0.7145167816414204\n",
      "errors: 6.010278701782227\n",
      "losses: 0.6240388765170048\n",
      "val_losses: 0.7103047610050248\n",
      "errors: 5.944789886474609\n",
      "losses: 0.620368873123398\n",
      "val_losses: 0.7061345252152692\n",
      "errors: 6.012260913848877\n",
      "losses: 0.6167405978997317\n",
      "val_losses: 0.7020224029012421\n",
      "errors: 5.966953754425049\n",
      "losses: 0.6131749755877126\n",
      "val_losses: 0.6979600963524626\n",
      "errors: 5.992672443389893\n",
      "losses: 0.6096153630270439\n",
      "val_losses: 0.693931900925419\n",
      "errors: 5.923623561859131\n",
      "losses: 0.6061212326089541\n",
      "val_losses: 0.6899494597610707\n",
      "errors: 5.924590587615967\n",
      "losses: 0.602666271103609\n",
      "val_losses: 0.6860213089988839\n",
      "errors: 5.9052734375\n",
      "losses: 0.5992444540477462\n",
      "val_losses: 0.6821402340759466\n",
      "errors: 5.850246906280518\n",
      "losses: 0.595862394045142\n",
      "val_losses: 0.6782968675447265\n",
      "errors: 5.836176872253418\n",
      "losses: 0.5925194028876016\n",
      "val_losses: 0.6745076167843932\n",
      "errors: 5.824070453643799\n",
      "losses: 0.5892184263728685\n",
      "val_losses: 0.6707449675133131\n",
      "errors: 5.830151557922363\n",
      "losses: 0.5859428353450565\n",
      "val_losses: 0.6670355704654173\n",
      "errors: 5.708659648895264\n",
      "losses: 0.5827005758673369\n",
      "val_losses: 0.6633628683160998\n",
      "errors: 5.716332912445068\n",
      "losses: 0.5794988790361911\n",
      "val_losses: 0.6597277780713897\n",
      "errors: 5.672182559967041\n",
      "losses: 0.5763594302729037\n",
      "val_losses: 0.6561311817704102\n",
      "errors: 5.656549453735352\n",
      "losses: 0.5732225566798079\n",
      "val_losses: 0.6525841799582921\n",
      "errors: 5.744565486907959\n",
      "losses: 0.5701415638613035\n",
      "val_losses: 0.6490686545420808\n",
      "errors: 5.738483905792236\n",
      "losses: 0.5670771019374448\n",
      "val_losses: 0.6456042730083414\n",
      "errors: 5.524639129638672\n",
      "losses: 0.5640515541836055\n",
      "val_losses: 0.6421610248241006\n",
      "errors: 5.5450029373168945\n",
      "losses: 0.5610785968244876\n",
      "val_losses: 0.6387535493349892\n",
      "errors: 5.533174514770508\n",
      "losses: 0.5581169526267147\n",
      "val_losses: 0.6353799467285474\n",
      "errors: 5.5862135887146\n",
      "losses: 0.5551960902145094\n",
      "val_losses: 0.6320465046023441\n",
      "errors: 5.529952049255371\n",
      "losses: 0.5523054032035205\n",
      "val_losses: 0.6287613763647564\n",
      "errors: 5.402303218841553\n",
      "losses: 0.5494364247321338\n",
      "val_losses: 0.6255121839473421\n",
      "errors: 5.423774719238281\n",
      "losses: 0.5466341964777935\n",
      "val_losses: 0.6222971398209947\n",
      "errors: 5.381338119506836\n",
      "losses: 0.5438377622250513\n",
      "val_losses: 0.6191016277643264\n",
      "errors: 5.5350542068481445\n",
      "losses: 0.5410739599668207\n",
      "val_losses: 0.6159438399278985\n",
      "errors: 5.359311580657959\n",
      "losses: 0.5383311271615171\n",
      "val_losses: 0.6128169234514563\n",
      "errors: 5.3743767738342285\n",
      "losses: 0.5356112290558286\n",
      "val_losses: 0.609724464780483\n",
      "errors: 5.424638271331787\n",
      "losses: 0.5329179995286094\n",
      "val_losses: 0.6066719161656995\n",
      "errors: 5.269010543823242\n",
      "losses: 0.5302659738204769\n",
      "val_losses: 0.6036526160331459\n",
      "errors: 5.2714338302612305\n",
      "losses: 0.5276325462105614\n",
      "val_losses: 0.6006619590518187\n",
      "errors: 5.304887771606445\n",
      "losses: 0.5250127088202167\n",
      "val_losses: 0.5976922274193661\n",
      "errors: 5.27974271774292\n",
      "losses: 0.5224224356323455\n",
      "val_losses: 0.5947575529456032\n",
      "errors: 5.152745723724365\n",
      "losses: 0.5198879229651654\n",
      "val_losses: 0.5918472206624096\n",
      "errors: 5.170119762420654\n",
      "losses: 0.5173567701790112\n",
      "val_losses: 0.5889683147598254\n",
      "errors: 5.1678338050842285\n",
      "losses: 0.514866996570065\n",
      "val_losses: 0.5861203129066846\n",
      "errors: 5.081069469451904\n",
      "losses: 0.512381041184805\n",
      "val_losses: 0.5833032105454347\n",
      "errors: 5.159124374389648\n",
      "losses: 0.5099235726391739\n",
      "val_losses: 0.5805130955700429\n",
      "errors: 5.208146095275879\n",
      "losses: 0.5074931416465321\n",
      "val_losses: 0.5777517847102327\n",
      "errors: 5.071606636047363\n",
      "losses: 0.5050871104983735\n",
      "val_losses: 0.5750143769268806\n",
      "errors: 5.084558010101318\n",
      "losses: 0.5027039395323205\n",
      "val_losses: 0.5723055386662382\n",
      "errors: 5.117772579193115\n",
      "losses: 0.5003415080201294\n",
      "val_losses: 0.569624742597039\n",
      "errors: 5.083991527557373\n",
      "losses: 0.4980011397045561\n",
      "val_losses: 0.5669701996224898\n",
      "errors: 5.023437023162842\n",
      "losses: 0.4956932828305596\n",
      "val_losses: 0.5643383209941475\n",
      "errors: 5.047184467315674\n",
      "losses: 0.49340157301837784\n",
      "val_losses: 0.5617315658802787\n",
      "errors: 5.0443243980407715\n"
     ]
    }
   ],
   "source": [
    "import numpy as np\n",
    "losses = []\n",
    "val_losses = []\n",
    "errors = []\n",
    "for i in range(200):\n",
    "    Lo = []\n",
    "    for inputs, outputs in train_loader:\n",
    "        inputs = inputs.cuda()\n",
    "        outputs = outputs.cuda()\n",
    "        model.zero_grad()\n",
    "        pred,_ = model(inputs)\n",
    "        loss = torch.nn.MSELoss()(pred, outputs)\n",
    "        \n",
    "        loss.backward()\n",
    "        optimizer.step()\n",
    "        Lo.append(loss.item())\n",
    "    \n",
    "    losses.append(np.mean(Lo))\n",
    "    err = []\n",
    "    vLo = []\n",
    "    for inputs, outputs in test_loader:\n",
    "        inputs = inputs.cuda()\n",
    "        outputs = outputs.cuda()\n",
    "        pred,_ = model(inputs)\n",
    "        loss = torch.nn.MSELoss()(pred, outputs)\n",
    "        vLo.append(loss.item())\n",
    "        err.append(abs(torch.exp(pred.detach().cpu())- torch.exp(outputs.detach().cpu())).numpy())\n",
    "    errors.append(np.concatenate(err,axis=0).mean())\n",
    "    val_losses.append(np.mean(vLo))\n",
    "    print(f'losses: {np.mean(losses)}')\n",
    "    print(f'val_losses: {np.mean(val_losses)}')\n",
    "    print(f'errors: {np.concatenate(err,axis=0).mean()}')"
   ]
  },
  {
   "cell_type": "code",
   "execution_count": 98,
   "metadata": {},
   "outputs": [
    {
     "data": {
      "text/plain": [
       "200"
      ]
     },
     "execution_count": 98,
     "metadata": {},
     "output_type": "execute_result"
    }
   ],
   "source": [
    "len(val_losses)"
   ]
  },
  {
   "cell_type": "code",
   "execution_count": 99,
   "metadata": {},
   "outputs": [
    {
     "data": {
      "text/plain": [
       "tensor([279.9654,  75.6909,  53.2195, 181.9832,   6.1572, 972.9185, 772.8320,\n",
       "         45.7015,  35.7656])"
      ]
     },
     "execution_count": 99,
     "metadata": {},
     "output_type": "execute_result"
    }
   ],
   "source": [
    "mean"
   ]
  },
  {
   "cell_type": "code",
   "execution_count": 100,
   "metadata": {},
   "outputs": [],
   "source": [
    "\n",
    "err = []\n",
    "mean_err = []\n",
    "pred_y = []\n",
    "\n",
    "for inputs, outputs in test_loader:\n",
    "    inputs = inputs.cuda()\n",
    "    outputs = outputs.cuda()\n",
    "    pred,_ = model(inputs)\n",
    "    loss = torch.nn.MSELoss()(pred, outputs)\n",
    "    val_losses.append(loss.item())\n",
    "    pred_y.append(torch.exp(pred.detach().cpu()).numpy())\n",
    "    y_p = (torch.exp(pred.detach().cpu())- torch.exp(outputs.detach().cpu()))**2\n",
    "    y_t = (mean[-1].repeat(outputs.shape[0]).reshape(outputs.shape[0],1) - torch.exp(outputs.detach().cpu()))**2\n",
    "    err.append(y_p.numpy())\n",
    "    mean_err.append(y_t.numpy())\n"
   ]
  },
  {
   "cell_type": "code",
   "execution_count": 101,
   "metadata": {},
   "outputs": [
    {
     "data": {
      "text/plain": [
       "(206, 8)"
      ]
     },
     "execution_count": 101,
     "metadata": {},
     "output_type": "execute_result"
    }
   ],
   "source": [
    "test[['cement','slag','ash','water','superplastic','coarseagg','fineagg','age']].to_numpy().shape"
   ]
  },
  {
   "cell_type": "code",
   "execution_count": 102,
   "metadata": {},
   "outputs": [],
   "source": [
    "err = np.concatenate(err,axis=0)\n",
    "mean_err = np.concatenate(mean_err,axis=0)\n"
   ]
  },
  {
   "cell_type": "code",
   "execution_count": 103,
   "metadata": {},
   "outputs": [],
   "source": [
    "pred_y = np.concatenate(pred_y,axis=0)"
   ]
  },
  {
   "cell_type": "code",
   "execution_count": 104,
   "metadata": {},
   "outputs": [
    {
     "name": "stdout",
     "output_type": "stream",
     "text": [
      "(206, 1)\n",
      "(206, 1)\n",
      "(206, 1)\n"
     ]
    }
   ],
   "source": [
    "print(err.shape)\n",
    "print(mean_err.shape)\n",
    "print(pred_y.shape)"
   ]
  },
  {
   "cell_type": "code",
   "execution_count": 105,
   "metadata": {},
   "outputs": [
    {
     "name": "stdout",
     "output_type": "stream",
     "text": [
      "0.8138769119977951\n"
     ]
    }
   ],
   "source": [
    "print(1- np.mean(err)/np.mean(mean_err))"
   ]
  },
  {
   "cell_type": "code",
   "execution_count": 106,
   "metadata": {},
   "outputs": [],
   "source": [
    "n = 1030\n",
    "p = 8"
   ]
  },
  {
   "cell_type": "code",
   "execution_count": 107,
   "metadata": {},
   "outputs": [
    {
     "name": "stdout",
     "output_type": "stream",
     "text": [
      "0.8124185566599\n"
     ]
    }
   ],
   "source": [
    "print(1- (np.mean(err)/(n-p-1))/(np.mean(mean_err)/(n-1)))"
   ]
  },
  {
   "cell_type": "code",
   "execution_count": 108,
   "metadata": {},
   "outputs": [
    {
     "data": {
      "text/plain": [
       "array([771.91547], dtype=float32)"
      ]
     },
     "execution_count": 108,
     "metadata": {},
     "output_type": "execute_result"
    }
   ],
   "source": [
    "max(err)"
   ]
  },
  {
   "cell_type": "code",
   "execution_count": 109,
   "metadata": {},
   "outputs": [
    {
     "data": {
      "text/plain": [
       "(183, 1)"
      ]
     },
     "execution_count": 109,
     "metadata": {},
     "output_type": "execute_result"
    }
   ],
   "source": [
    "err[np.where(err < 100)[1]].shape"
   ]
  },
  {
   "cell_type": "code",
   "execution_count": 110,
   "metadata": {},
   "outputs": [
    {
     "data": {
      "text/plain": [
       "(198, 1)"
      ]
     },
     "execution_count": 110,
     "metadata": {},
     "output_type": "execute_result"
    }
   ],
   "source": [
    "err[np.where(err < 300)[1]].shape"
   ]
  },
  {
   "cell_type": "code",
   "execution_count": 111,
   "metadata": {},
   "outputs": [
    {
     "data": {
      "text/plain": [
       "tensor([279.9654,  75.6909,  53.2195, 181.9832,   6.1572, 972.9185, 772.8320,\n",
       "         45.7015])"
      ]
     },
     "execution_count": 111,
     "metadata": {},
     "output_type": "execute_result"
    }
   ],
   "source": [
    "mean[:-1]"
   ]
  },
  {
   "cell_type": "code",
   "execution_count": 112,
   "metadata": {},
   "outputs": [
    {
     "data": {
      "text/plain": [
       "tensor([104.5455,  87.5851,  63.9482,  21.3199,   5.9458,  76.6561,  80.2817,\n",
       "         63.2510])"
      ]
     },
     "execution_count": 112,
     "metadata": {},
     "output_type": "execute_result"
    }
   ],
   "source": [
    "std[:-1]"
   ]
  },
  {
   "cell_type": "markdown",
   "metadata": {},
   "source": [
    "## Surrogate Model - 시도 1 : Gradient Descent"
   ]
  },
  {
   "cell_type": "code",
   "execution_count": 113,
   "metadata": {},
   "outputs": [],
   "source": [
    "from tqdm import tqdm"
   ]
  },
  {
   "cell_type": "code",
   "execution_count": 114,
   "metadata": {},
   "outputs": [
    {
     "data": {
      "text/plain": [
       "tensor([279.9654,  75.6909,  53.2195, 181.9832,   6.1572, 972.9185, 772.8320,\n",
       "         45.7015,  35.7656])"
      ]
     },
     "execution_count": 114,
     "metadata": {},
     "output_type": "execute_result"
    }
   ],
   "source": [
    "mean"
   ]
  },
  {
   "cell_type": "code",
   "execution_count": 149,
   "metadata": {},
   "outputs": [
    {
     "name": "stderr",
     "output_type": "stream",
     "text": [
      "100%|██████████| 3/3 [00:00<00:00, 13.29it/s]"
     ]
    },
    {
     "name": "stdout",
     "output_type": "stream",
     "text": [
      "??\n",
      "tensor([ 195.0346,  -75.6909,  -53.2195,   46.0168,   -6.1572,  -40.9185,\n",
      "        -178.8320,  -17.7015])\n",
      "tensor([279.9654,  75.6909,  53.2195, 181.9832,   6.1572, 972.9185, 772.8320,\n",
      "         45.7015])\n",
      "tensor([ 44.9818, -65.2012,  44.5750, -45.1234,   3.4928, -29.1334,  40.6239,\n",
      "        -26.3692])\n",
      "??\n",
      "tensor([-28.5654, -75.6909,  65.0805,   6.5168,   0.2428,  55.4816, -15.1320,\n",
      "        -42.7015])\n",
      "tensor([279.9654,  75.6909,  53.2195, 181.9832,   6.1572, 972.9185, 772.8320,\n",
      "         45.7015])\n",
      "tensor([  -1.5748, -121.5647,  -39.4412,  -12.0003,    2.0346,  115.2351,\n",
      "          50.7352,  -41.7872])\n",
      "??\n",
      "tensor([-33.1654, -75.6909,  71.8805, -38.6832,   5.8428, 113.8816,  28.0680,\n",
      "        -17.7015])\n",
      "tensor([279.9654,  75.6909,  53.2195, 181.9832,   6.1572, 972.9185, 772.8320,\n",
      "         45.7015])\n",
      "tensor([  12.1439,  -51.9291,  -13.6828,   22.2707,   -3.5675, -155.6174,\n",
      "           1.7123,  167.8348])\n"
     ]
    },
    {
     "name": "stderr",
     "output_type": "stream",
     "text": [
      "\n"
     ]
    }
   ],
   "source": [
    "flag = 0\n",
    "save_SSE = []\n",
    "save_SST = []\n",
    "patience = 10\n",
    "lr_decay_factor = 0.5  \n",
    "for x,y in tqdm(test_loader):\n",
    "    x = x.cuda()\n",
    "    y = y.cuda()\n",
    "    # print(x.shape)\n",
    "    # brewa\n",
    "    y_opt = y.detach()\n",
    "    init_x = torch.randn(x.shape[0],x.shape[1], device='cuda', requires_grad=True) # .requires_grad_(True).cuda()\n",
    "    # init_x = mean[:-1].expand(10,8).clone().requires_grad_(True)\n",
    "    init_x.requires_grad = True\n",
    "    optimizer = optim.Adam([init_x], lr=0.1)\n",
    "    \n",
    "    \n",
    "    for param in model.parameters():\n",
    "        param.requires_grad = False\n",
    "\n",
    "    min_val = 1e6\n",
    "    min_yp = None\n",
    "    min_yt = None\n",
    "\n",
    "    no_improve_epochs = 0\n",
    "\n",
    "    for i in range(10000):\n",
    "        optimizer.zero_grad()\n",
    "        # with torch.no_grad():\n",
    "        pred,features = model(init_x)\n",
    "        loss = torch.nn.MSELoss()(pred, y_opt)\n",
    "        loss.backward()\n",
    "        optimizer.step()\n",
    "        if loss.item() < min_val:\n",
    "            min_val = loss.item()\n",
    "            min_yp = (init_x.detach().cpu()*std[:-1] - x.detach().cpu()*std[:-1])**2\n",
    "            min_yt = (mean[:-1].repeat(init_x.shape[0]).reshape(init_x.shape[0],-1) - x.detach().cpu()*std[:-1])**2\n",
    "            # print(init_x.detach().cpu()*std[:-1].mean())\n",
    "            # print(\"??\")\n",
    "            # print((x.detach().cpu()*std[:-1])[0])\n",
    "            # print((mean[:-1].repeat(init_x.shape[0]).reshape(init_x.shape[0],-1))[0])\n",
    "            # print((init_x.detach().cpu()*std[:-1])[0])\n",
    "            # break\n",
    "            # print(min_x.mean())\n",
    "        else:\n",
    "            no_improve_epochs += 1\n",
    "        \n",
    "        if no_improve_epochs > patience:\n",
    "            optimizer.param_groups[0]['lr'] *= lr_decay_factor\n",
    "            # print(f'lr decayed to {optimizer.param_groups[0][\"lr\"]}')\n",
    "            no_improve_epochs = 0\n",
    "        # print((init_x.detach().cpu() - x.cpu()).numpy().mean())\n",
    "    \n",
    "    save_SSE.append(min_yp.numpy())\n",
    "    save_SST.append(min_yt.numpy())\n",
    "    \n"
   ]
  },
  {
   "cell_type": "code",
   "execution_count": null,
   "metadata": {},
   "outputs": [],
   "source": [
    "save_SSE = np.concatenate(save_SSE,axis=0)\n",
    "save_SST = np.concatenate(save_SST,axis=0)\n",
    "print(save_SSE.shape)\n",
    "print(save_SST.shape)\n",
    "print(1- np.mean(save_SSE)/np.mean(save_SST))\n"
   ]
  },
  {
   "cell_type": "code",
   "execution_count": null,
   "metadata": {},
   "outputs": [],
   "source": [
    "std# np.concatenate(save1,axis=0).shape"
   ]
  },
  {
   "cell_type": "code",
   "execution_count": null,
   "metadata": {},
   "outputs": [],
   "source": [
    "save_SSE.shape"
   ]
  },
  {
   "cell_type": "code",
   "execution_count": null,
   "metadata": {},
   "outputs": [],
   "source": [
    "save_SSE.mean(axis=1).shape"
   ]
  },
  {
   "cell_type": "code",
   "execution_count": null,
   "metadata": {},
   "outputs": [],
   "source": [
    "save_SST.mean(axis=1).shape"
   ]
  },
  {
   "cell_type": "code",
   "execution_count": null,
   "metadata": {},
   "outputs": [],
   "source": [
    "df.columns"
   ]
  },
  {
   "cell_type": "code",
   "execution_count": null,
   "metadata": {},
   "outputs": [],
   "source": [
    "1 - (save_SSE.mean(axis=0) / save_SST.mean(axis=0))"
   ]
  },
  {
   "cell_type": "code",
   "execution_count": null,
   "metadata": {},
   "outputs": [],
   "source": [
    "df.columns\n"
   ]
  },
  {
   "cell_type": "code",
   "execution_count": null,
   "metadata": {},
   "outputs": [],
   "source": [
    "std"
   ]
  },
  {
   "cell_type": "code",
   "execution_count": null,
   "metadata": {},
   "outputs": [],
   "source": [
    "mean"
   ]
  },
  {
   "cell_type": "markdown",
   "metadata": {},
   "source": [
    "## Surrogate Model - 시도 2 : GA(deap 라이브러리)"
   ]
  },
  {
   "cell_type": "code",
   "execution_count": 50,
   "metadata": {},
   "outputs": [
    {
     "data": {
      "text/plain": [
       "simple_nn(\n",
       "  (fc1): Linear(in_features=8, out_features=16, bias=True)\n",
       "  (fc2): Linear(in_features=16, out_features=32, bias=True)\n",
       "  (fc3): Linear(in_features=32, out_features=1, bias=True)\n",
       ")"
      ]
     },
     "execution_count": 50,
     "metadata": {},
     "output_type": "execute_result"
    }
   ],
   "source": [
    "import numpy as np\n",
    "import torch\n",
    "\n",
    "model.eval()"
   ]
  },
  {
   "cell_type": "code",
   "execution_count": 51,
   "metadata": {},
   "outputs": [
    {
     "data": {
      "text/html": [
       "<div>\n",
       "<style scoped>\n",
       "    .dataframe tbody tr th:only-of-type {\n",
       "        vertical-align: middle;\n",
       "    }\n",
       "\n",
       "    .dataframe tbody tr th {\n",
       "        vertical-align: top;\n",
       "    }\n",
       "\n",
       "    .dataframe thead th {\n",
       "        text-align: right;\n",
       "    }\n",
       "</style>\n",
       "<table border=\"1\" class=\"dataframe\">\n",
       "  <thead>\n",
       "    <tr style=\"text-align: right;\">\n",
       "      <th></th>\n",
       "      <th>cement</th>\n",
       "      <th>slag</th>\n",
       "      <th>ash</th>\n",
       "      <th>water</th>\n",
       "      <th>superplastic</th>\n",
       "      <th>coarseagg</th>\n",
       "      <th>fineagg</th>\n",
       "      <th>age</th>\n",
       "      <th>strength</th>\n",
       "    </tr>\n",
       "  </thead>\n",
       "  <tbody>\n",
       "    <tr>\n",
       "      <th>count</th>\n",
       "      <td>824.000000</td>\n",
       "      <td>824.000000</td>\n",
       "      <td>824.000000</td>\n",
       "      <td>824.000000</td>\n",
       "      <td>824.000000</td>\n",
       "      <td>824.000000</td>\n",
       "      <td>824.000000</td>\n",
       "      <td>824.000000</td>\n",
       "      <td>824.00000</td>\n",
       "    </tr>\n",
       "    <tr>\n",
       "      <th>mean</th>\n",
       "      <td>279.965413</td>\n",
       "      <td>75.690898</td>\n",
       "      <td>53.219539</td>\n",
       "      <td>181.983252</td>\n",
       "      <td>6.157160</td>\n",
       "      <td>972.918447</td>\n",
       "      <td>772.832039</td>\n",
       "      <td>45.701456</td>\n",
       "      <td>35.76557</td>\n",
       "    </tr>\n",
       "    <tr>\n",
       "      <th>std</th>\n",
       "      <td>104.609002</td>\n",
       "      <td>87.638248</td>\n",
       "      <td>63.987005</td>\n",
       "      <td>21.332896</td>\n",
       "      <td>5.949393</td>\n",
       "      <td>76.702670</td>\n",
       "      <td>80.330482</td>\n",
       "      <td>63.289443</td>\n",
       "      <td>16.65238</td>\n",
       "    </tr>\n",
       "    <tr>\n",
       "      <th>min</th>\n",
       "      <td>102.000000</td>\n",
       "      <td>0.000000</td>\n",
       "      <td>0.000000</td>\n",
       "      <td>121.800000</td>\n",
       "      <td>0.000000</td>\n",
       "      <td>801.000000</td>\n",
       "      <td>594.000000</td>\n",
       "      <td>1.000000</td>\n",
       "      <td>2.33000</td>\n",
       "    </tr>\n",
       "    <tr>\n",
       "      <th>25%</th>\n",
       "      <td>190.600000</td>\n",
       "      <td>0.000000</td>\n",
       "      <td>0.000000</td>\n",
       "      <td>164.900000</td>\n",
       "      <td>0.000000</td>\n",
       "      <td>932.000000</td>\n",
       "      <td>724.300000</td>\n",
       "      <td>14.000000</td>\n",
       "      <td>23.79750</td>\n",
       "    </tr>\n",
       "    <tr>\n",
       "      <th>50%</th>\n",
       "      <td>273.000000</td>\n",
       "      <td>23.000000</td>\n",
       "      <td>0.000000</td>\n",
       "      <td>185.700000</td>\n",
       "      <td>6.500000</td>\n",
       "      <td>968.000000</td>\n",
       "      <td>778.500000</td>\n",
       "      <td>28.000000</td>\n",
       "      <td>34.44500</td>\n",
       "    </tr>\n",
       "    <tr>\n",
       "      <th>75%</th>\n",
       "      <td>351.250000</td>\n",
       "      <td>145.000000</td>\n",
       "      <td>118.300000</td>\n",
       "      <td>193.000000</td>\n",
       "      <td>10.200000</td>\n",
       "      <td>1028.400000</td>\n",
       "      <td>824.000000</td>\n",
       "      <td>56.000000</td>\n",
       "      <td>45.91000</td>\n",
       "    </tr>\n",
       "    <tr>\n",
       "      <th>max</th>\n",
       "      <td>540.000000</td>\n",
       "      <td>359.400000</td>\n",
       "      <td>200.100000</td>\n",
       "      <td>246.900000</td>\n",
       "      <td>32.200000</td>\n",
       "      <td>1145.000000</td>\n",
       "      <td>992.600000</td>\n",
       "      <td>365.000000</td>\n",
       "      <td>80.20000</td>\n",
       "    </tr>\n",
       "  </tbody>\n",
       "</table>\n",
       "</div>"
      ],
      "text/plain": [
       "           cement        slag         ash       water  superplastic  \\\n",
       "count  824.000000  824.000000  824.000000  824.000000    824.000000   \n",
       "mean   279.965413   75.690898   53.219539  181.983252      6.157160   \n",
       "std    104.609002   87.638248   63.987005   21.332896      5.949393   \n",
       "min    102.000000    0.000000    0.000000  121.800000      0.000000   \n",
       "25%    190.600000    0.000000    0.000000  164.900000      0.000000   \n",
       "50%    273.000000   23.000000    0.000000  185.700000      6.500000   \n",
       "75%    351.250000  145.000000  118.300000  193.000000     10.200000   \n",
       "max    540.000000  359.400000  200.100000  246.900000     32.200000   \n",
       "\n",
       "         coarseagg     fineagg         age   strength  \n",
       "count   824.000000  824.000000  824.000000  824.00000  \n",
       "mean    972.918447  772.832039   45.701456   35.76557  \n",
       "std      76.702670   80.330482   63.289443   16.65238  \n",
       "min     801.000000  594.000000    1.000000    2.33000  \n",
       "25%     932.000000  724.300000   14.000000   23.79750  \n",
       "50%     968.000000  778.500000   28.000000   34.44500  \n",
       "75%    1028.400000  824.000000   56.000000   45.91000  \n",
       "max    1145.000000  992.600000  365.000000   80.20000  "
      ]
     },
     "execution_count": 51,
     "metadata": {},
     "output_type": "execute_result"
    }
   ],
   "source": [
    "train.describe()"
   ]
  },
  {
   "cell_type": "code",
   "execution_count": 52,
   "metadata": {},
   "outputs": [
    {
     "data": {
      "text/html": [
       "<div>\n",
       "<style scoped>\n",
       "    .dataframe tbody tr th:only-of-type {\n",
       "        vertical-align: middle;\n",
       "    }\n",
       "\n",
       "    .dataframe tbody tr th {\n",
       "        vertical-align: top;\n",
       "    }\n",
       "\n",
       "    .dataframe thead th {\n",
       "        text-align: right;\n",
       "    }\n",
       "</style>\n",
       "<table border=\"1\" class=\"dataframe\">\n",
       "  <thead>\n",
       "    <tr style=\"text-align: right;\">\n",
       "      <th></th>\n",
       "      <th>cement</th>\n",
       "      <th>slag</th>\n",
       "      <th>ash</th>\n",
       "      <th>water</th>\n",
       "      <th>superplastic</th>\n",
       "      <th>coarseagg</th>\n",
       "      <th>fineagg</th>\n",
       "      <th>age</th>\n",
       "      <th>strength</th>\n",
       "    </tr>\n",
       "  </thead>\n",
       "  <tbody>\n",
       "    <tr>\n",
       "      <th>count</th>\n",
       "      <td>206.000000</td>\n",
       "      <td>206.000000</td>\n",
       "      <td>206.000000</td>\n",
       "      <td>206.000000</td>\n",
       "      <td>206.000000</td>\n",
       "      <td>206.000000</td>\n",
       "      <td>206.000000</td>\n",
       "      <td>206.000000</td>\n",
       "      <td>206.000000</td>\n",
       "    </tr>\n",
       "    <tr>\n",
       "      <th>mean</th>\n",
       "      <td>285.977670</td>\n",
       "      <td>66.715534</td>\n",
       "      <td>58.063592</td>\n",
       "      <td>179.903398</td>\n",
       "      <td>6.394660</td>\n",
       "      <td>972.920874</td>\n",
       "      <td>776.574272</td>\n",
       "      <td>45.504854</td>\n",
       "      <td>36.027524</td>\n",
       "    </tr>\n",
       "    <tr>\n",
       "      <th>std</th>\n",
       "      <td>104.209555</td>\n",
       "      <td>80.416840</td>\n",
       "      <td>64.045839</td>\n",
       "      <td>21.410363</td>\n",
       "      <td>6.081593</td>\n",
       "      <td>82.018633</td>\n",
       "      <td>79.678916</td>\n",
       "      <td>62.842563</td>\n",
       "      <td>16.956835</td>\n",
       "    </tr>\n",
       "    <tr>\n",
       "      <th>min</th>\n",
       "      <td>116.000000</td>\n",
       "      <td>0.000000</td>\n",
       "      <td>0.000000</td>\n",
       "      <td>121.800000</td>\n",
       "      <td>0.000000</td>\n",
       "      <td>801.000000</td>\n",
       "      <td>594.000000</td>\n",
       "      <td>3.000000</td>\n",
       "      <td>7.320000</td>\n",
       "    </tr>\n",
       "    <tr>\n",
       "      <th>25%</th>\n",
       "      <td>211.025000</td>\n",
       "      <td>0.000000</td>\n",
       "      <td>0.000000</td>\n",
       "      <td>163.250000</td>\n",
       "      <td>0.000000</td>\n",
       "      <td>931.400000</td>\n",
       "      <td>745.000000</td>\n",
       "      <td>7.000000</td>\n",
       "      <td>22.772500</td>\n",
       "    </tr>\n",
       "    <tr>\n",
       "      <th>50%</th>\n",
       "      <td>269.400000</td>\n",
       "      <td>20.000000</td>\n",
       "      <td>0.000000</td>\n",
       "      <td>182.100000</td>\n",
       "      <td>6.000000</td>\n",
       "      <td>967.000000</td>\n",
       "      <td>781.100000</td>\n",
       "      <td>28.000000</td>\n",
       "      <td>34.505000</td>\n",
       "    </tr>\n",
       "    <tr>\n",
       "      <th>75%</th>\n",
       "      <td>349.000000</td>\n",
       "      <td>129.800000</td>\n",
       "      <td>118.300000</td>\n",
       "      <td>192.000000</td>\n",
       "      <td>10.375000</td>\n",
       "      <td>1036.250000</td>\n",
       "      <td>825.375000</td>\n",
       "      <td>56.000000</td>\n",
       "      <td>47.340000</td>\n",
       "    </tr>\n",
       "    <tr>\n",
       "      <th>max</th>\n",
       "      <td>540.000000</td>\n",
       "      <td>359.400000</td>\n",
       "      <td>200.000000</td>\n",
       "      <td>247.000000</td>\n",
       "      <td>32.200000</td>\n",
       "      <td>1134.300000</td>\n",
       "      <td>992.600000</td>\n",
       "      <td>365.000000</td>\n",
       "      <td>82.600000</td>\n",
       "    </tr>\n",
       "  </tbody>\n",
       "</table>\n",
       "</div>"
      ],
      "text/plain": [
       "           cement        slag         ash       water  superplastic  \\\n",
       "count  206.000000  206.000000  206.000000  206.000000    206.000000   \n",
       "mean   285.977670   66.715534   58.063592  179.903398      6.394660   \n",
       "std    104.209555   80.416840   64.045839   21.410363      6.081593   \n",
       "min    116.000000    0.000000    0.000000  121.800000      0.000000   \n",
       "25%    211.025000    0.000000    0.000000  163.250000      0.000000   \n",
       "50%    269.400000   20.000000    0.000000  182.100000      6.000000   \n",
       "75%    349.000000  129.800000  118.300000  192.000000     10.375000   \n",
       "max    540.000000  359.400000  200.000000  247.000000     32.200000   \n",
       "\n",
       "         coarseagg     fineagg         age    strength  \n",
       "count   206.000000  206.000000  206.000000  206.000000  \n",
       "mean    972.920874  776.574272   45.504854   36.027524  \n",
       "std      82.018633   79.678916   62.842563   16.956835  \n",
       "min     801.000000  594.000000    3.000000    7.320000  \n",
       "25%     931.400000  745.000000    7.000000   22.772500  \n",
       "50%     967.000000  781.100000   28.000000   34.505000  \n",
       "75%    1036.250000  825.375000   56.000000   47.340000  \n",
       "max    1134.300000  992.600000  365.000000   82.600000  "
      ]
     },
     "execution_count": 52,
     "metadata": {},
     "output_type": "execute_result"
    }
   ],
   "source": [
    "test.describe()"
   ]
  },
  {
   "cell_type": "code",
   "execution_count": 53,
   "metadata": {},
   "outputs": [
    {
     "name": "stdout",
     "output_type": "stream",
     "text": [
      "31     39.29\n",
      "109    38.63\n",
      "136    43.57\n",
      "88     35.30\n",
      "918    39.44\n",
      "       ...  \n",
      "482    65.20\n",
      "545    72.10\n",
      "110    55.65\n",
      "514    51.96\n",
      "602    15.42\n",
      "Name: strength, Length: 206, dtype: float64\n"
     ]
    }
   ],
   "source": [
    "y_target = test.iloc[:,-1]\n",
    "print(y_target)"
   ]
  },
  {
   "cell_type": "code",
   "execution_count": 54,
   "metadata": {},
   "outputs": [
    {
     "name": "stdout",
     "output_type": "stream",
     "text": [
      "<class 'float'>\n"
     ]
    }
   ],
   "source": [
    "for gt_y in y_target:\n",
    "    print(type(gt_y)) # str\n",
    "    break"
   ]
  },
  {
   "cell_type": "code",
   "execution_count": 55,
   "metadata": {},
   "outputs": [
    {
     "data": {
      "text/plain": [
       "dtype('float64')"
      ]
     },
     "execution_count": 55,
     "metadata": {},
     "output_type": "execute_result"
    }
   ],
   "source": [
    "y_target.dtype"
   ]
  },
  {
   "cell_type": "code",
   "execution_count": 57,
   "metadata": {},
   "outputs": [],
   "source": [
    "# 적합도 함수\n",
    "def fitness(individual):\n",
    "    \"\"\"\n",
    "    individual : population의 한 개체\n",
    "    \"\"\"\n",
    "    x_tensor = torch.tensor(individual, dtype=torch.float32).unsqueeze(0).to('cuda') # 배치차원추가\n",
    "    with torch.no_grad():\n",
    "        y_pred, _ = model(x_tensor)\n",
    "    fit_fun = -abs(y_pred - y_target)\n",
    "    return fit_fun"
   ]
  },
  {
   "cell_type": "code",
   "execution_count": null,
   "metadata": {},
   "outputs": [],
   "source": [
    "from deap import base, creator, tools, algorithms\n",
    "import random\n",
    "\n",
    "creator.create('FitnessMax', base.Fitness, weights=(1.0,))\n",
    "creator.create('Individual', list, fitness=creator.FitnessMax)\n",
    "\n",
    "\n",
    "toolbox = base.Toolbox()\n",
    "toolbox.register('attr_float', random.uniform, x_min, x_max)\n",
    "toolbox.register('individual', tools.initRepeat, creator.Individual, toolbox.attr_float, n=1)\n",
    "toolbox.register('population', tools.initRepeat, list, toolbox.individual)\n",
    "\n",
    "toolbox.register('evaluate', fitness)\n",
    "toolbox.register('select', tools.selTournament, tournsize=3)\n",
    "toolbox.register('mate', tools.cxBlend, alpha=0.5)\n",
    "toolbox.register('mutate', tools.mutGaussian, mu=0, sigma=1, indpb=0.2)\n"
   ]
  },
  {
   "cell_type": "code",
   "execution_count": null,
   "metadata": {},
   "outputs": [],
   "source": [
    "pop_size = 50\n",
    "population = toolbox.population(n=pop_size)"
   ]
  },
  {
   "cell_type": "code",
   "execution_count": null,
   "metadata": {},
   "outputs": [],
   "source": [
    "print(len(population))"
   ]
  },
  {
   "cell_type": "code",
   "execution_count": null,
   "metadata": {},
   "outputs": [],
   "source": [
    "print(population[0])"
   ]
  },
  {
   "cell_type": "code",
   "execution_count": null,
   "metadata": {},
   "outputs": [],
   "source": [
    "print(len(population[0]))"
   ]
  },
  {
   "cell_type": "code",
   "execution_count": null,
   "metadata": {},
   "outputs": [],
   "source": [
    "alist = []\n",
    "for idx, ind in enumerate(population):\n",
    "    if idx < 2:\n",
    "        print(len(ind))\n",
    "        # print(toolbox.evaluate(ind))\n",
    "        # print(toolbox.evaluate(ind)[0])\n",
    "        alist.append(toolbox.evaluate(ind)[0])\n",
    "        \n",
    "print(alist)\n",
    "print(alist[0])\n",
    "print(alist[0].item())"
   ]
  },
  {
   "cell_type": "code",
   "execution_count": null,
   "metadata": {},
   "outputs": [],
   "source": [
    "for ind in population:\n",
    "    if hasattr(ind, 'fitness'):\n",
    "        print('true')\n",
    "    else:\n",
    "        print('false')\n",
    "    break"
   ]
  },
  {
   "cell_type": "code",
   "execution_count": null,
   "metadata": {},
   "outputs": [],
   "source": [
    "fitness_scores = [toolbox.evaluate(ind)[0] for ind in population]\n",
    "for ind, fit in zip(population, fitness_scores):\n",
    "    # ind.fitness.values = (fit,)\n",
    "    # print(fit.item())\n",
    "    print((fit,))\n",
    "    print(ind.fitness)\n",
    "    # print(ind.fitness.values)\n",
    "    # ind.fitness = fit.item()\n",
    "    break"
   ]
  },
  {
   "cell_type": "code",
   "execution_count": null,
   "metadata": {},
   "outputs": [],
   "source": [
    "print(len(population))"
   ]
  },
  {
   "cell_type": "code",
   "execution_count": null,
   "metadata": {},
   "outputs": [],
   "source": [
    "parents = toolbox.select(population, len(population) // 2)\n",
    "print(len(parents))"
   ]
  },
  {
   "cell_type": "code",
   "execution_count": null,
   "metadata": {},
   "outputs": [],
   "source": [
    "offspring = tools.selBest(parents, k=len(population))\n",
    "# print(offspring)\n",
    "print(len(offspring))"
   ]
  },
  {
   "cell_type": "code",
   "execution_count": null,
   "metadata": {},
   "outputs": [],
   "source": [
    "offspring = list(map(toolbox.clone, offspring))\n",
    "# print(offspring)\n",
    "print(len(offspring))"
   ]
  },
  {
   "cell_type": "code",
   "execution_count": null,
   "metadata": {},
   "outputs": [],
   "source": [
    "for i in range(1, len(offspring), 2):\n",
    "    if random.random() < 0.7:\n",
    "        print(toolbox.mate(offspring[i-1], offspring[i]))\n",
    "        print(len(toolbox.mate(offspring[i-1], offspring[i])))\n",
    "    break"
   ]
  },
  {
   "cell_type": "code",
   "execution_count": null,
   "metadata": {},
   "outputs": [],
   "source": [
    "# print(offspring)\n",
    "print(len(offspring))"
   ]
  },
  {
   "cell_type": "code",
   "execution_count": null,
   "metadata": {},
   "outputs": [],
   "source": [
    "for child in offspring:\n",
    "    if random.random() < 0.2:\n",
    "        print(toolbox.mutate(child))\n",
    "        print(len(toolbox.mutate(child)))\n",
    "    break"
   ]
  },
  {
   "cell_type": "code",
   "execution_count": null,
   "metadata": {},
   "outputs": [],
   "source": [
    "for ind in offspring:\n",
    "    print(ind)\n",
    "    break"
   ]
  },
  {
   "cell_type": "code",
   "execution_count": 170,
   "metadata": {},
   "outputs": [
    {
     "data": {
      "text/html": [
       "<div>\n",
       "<style scoped>\n",
       "    .dataframe tbody tr th:only-of-type {\n",
       "        vertical-align: middle;\n",
       "    }\n",
       "\n",
       "    .dataframe tbody tr th {\n",
       "        vertical-align: top;\n",
       "    }\n",
       "\n",
       "    .dataframe thead th {\n",
       "        text-align: right;\n",
       "    }\n",
       "</style>\n",
       "<table border=\"1\" class=\"dataframe\">\n",
       "  <thead>\n",
       "    <tr style=\"text-align: right;\">\n",
       "      <th></th>\n",
       "      <th>cement</th>\n",
       "      <th>slag</th>\n",
       "      <th>ash</th>\n",
       "      <th>water</th>\n",
       "      <th>superplastic</th>\n",
       "      <th>coarseagg</th>\n",
       "      <th>fineagg</th>\n",
       "      <th>age</th>\n",
       "      <th>strength</th>\n",
       "    </tr>\n",
       "  </thead>\n",
       "  <tbody>\n",
       "    <tr>\n",
       "      <th>995</th>\n",
       "      <td>380.0</td>\n",
       "      <td>0.0</td>\n",
       "      <td>0.0</td>\n",
       "      <td>228.0</td>\n",
       "      <td>0.0</td>\n",
       "      <td>932.0</td>\n",
       "      <td>670.0</td>\n",
       "      <td>365</td>\n",
       "      <td>52.52</td>\n",
       "    </tr>\n",
       "    <tr>\n",
       "      <th>507</th>\n",
       "      <td>251.8</td>\n",
       "      <td>0.0</td>\n",
       "      <td>99.9</td>\n",
       "      <td>146.1</td>\n",
       "      <td>12.4</td>\n",
       "      <td>1006.0</td>\n",
       "      <td>899.8</td>\n",
       "      <td>28</td>\n",
       "      <td>33.94</td>\n",
       "    </tr>\n",
       "    <tr>\n",
       "      <th>334</th>\n",
       "      <td>323.7</td>\n",
       "      <td>282.8</td>\n",
       "      <td>0.0</td>\n",
       "      <td>183.8</td>\n",
       "      <td>10.3</td>\n",
       "      <td>942.7</td>\n",
       "      <td>659.9</td>\n",
       "      <td>3</td>\n",
       "      <td>28.30</td>\n",
       "    </tr>\n",
       "    <tr>\n",
       "      <th>848</th>\n",
       "      <td>252.3</td>\n",
       "      <td>0.0</td>\n",
       "      <td>98.8</td>\n",
       "      <td>146.3</td>\n",
       "      <td>14.2</td>\n",
       "      <td>987.8</td>\n",
       "      <td>889.0</td>\n",
       "      <td>56</td>\n",
       "      <td>55.83</td>\n",
       "    </tr>\n",
       "    <tr>\n",
       "      <th>294</th>\n",
       "      <td>238.2</td>\n",
       "      <td>158.8</td>\n",
       "      <td>0.0</td>\n",
       "      <td>185.7</td>\n",
       "      <td>0.0</td>\n",
       "      <td>1040.6</td>\n",
       "      <td>734.3</td>\n",
       "      <td>28</td>\n",
       "      <td>26.91</td>\n",
       "    </tr>\n",
       "    <tr>\n",
       "      <th>...</th>\n",
       "      <td>...</td>\n",
       "      <td>...</td>\n",
       "      <td>...</td>\n",
       "      <td>...</td>\n",
       "      <td>...</td>\n",
       "      <td>...</td>\n",
       "      <td>...</td>\n",
       "      <td>...</td>\n",
       "      <td>...</td>\n",
       "    </tr>\n",
       "    <tr>\n",
       "      <th>87</th>\n",
       "      <td>212.5</td>\n",
       "      <td>0.0</td>\n",
       "      <td>100.4</td>\n",
       "      <td>159.3</td>\n",
       "      <td>8.7</td>\n",
       "      <td>1007.8</td>\n",
       "      <td>903.6</td>\n",
       "      <td>14</td>\n",
       "      <td>26.31</td>\n",
       "    </tr>\n",
       "    <tr>\n",
       "      <th>330</th>\n",
       "      <td>167.4</td>\n",
       "      <td>129.9</td>\n",
       "      <td>128.6</td>\n",
       "      <td>175.5</td>\n",
       "      <td>7.8</td>\n",
       "      <td>1006.3</td>\n",
       "      <td>746.6</td>\n",
       "      <td>14</td>\n",
       "      <td>31.81</td>\n",
       "    </tr>\n",
       "    <tr>\n",
       "      <th>466</th>\n",
       "      <td>439.0</td>\n",
       "      <td>177.0</td>\n",
       "      <td>0.0</td>\n",
       "      <td>186.0</td>\n",
       "      <td>11.1</td>\n",
       "      <td>884.9</td>\n",
       "      <td>707.9</td>\n",
       "      <td>3</td>\n",
       "      <td>39.30</td>\n",
       "    </tr>\n",
       "    <tr>\n",
       "      <th>121</th>\n",
       "      <td>250.0</td>\n",
       "      <td>0.0</td>\n",
       "      <td>95.7</td>\n",
       "      <td>191.8</td>\n",
       "      <td>5.3</td>\n",
       "      <td>948.9</td>\n",
       "      <td>857.2</td>\n",
       "      <td>56</td>\n",
       "      <td>39.64</td>\n",
       "    </tr>\n",
       "    <tr>\n",
       "      <th>860</th>\n",
       "      <td>162.0</td>\n",
       "      <td>190.0</td>\n",
       "      <td>148.0</td>\n",
       "      <td>179.0</td>\n",
       "      <td>19.0</td>\n",
       "      <td>838.0</td>\n",
       "      <td>741.0</td>\n",
       "      <td>28</td>\n",
       "      <td>33.76</td>\n",
       "    </tr>\n",
       "  </tbody>\n",
       "</table>\n",
       "<p>824 rows × 9 columns</p>\n",
       "</div>"
      ],
      "text/plain": [
       "     cement   slag    ash  water  superplastic  coarseagg  fineagg  age  \\\n",
       "995   380.0    0.0    0.0  228.0           0.0      932.0    670.0  365   \n",
       "507   251.8    0.0   99.9  146.1          12.4     1006.0    899.8   28   \n",
       "334   323.7  282.8    0.0  183.8          10.3      942.7    659.9    3   \n",
       "848   252.3    0.0   98.8  146.3          14.2      987.8    889.0   56   \n",
       "294   238.2  158.8    0.0  185.7           0.0     1040.6    734.3   28   \n",
       "..      ...    ...    ...    ...           ...        ...      ...  ...   \n",
       "87    212.5    0.0  100.4  159.3           8.7     1007.8    903.6   14   \n",
       "330   167.4  129.9  128.6  175.5           7.8     1006.3    746.6   14   \n",
       "466   439.0  177.0    0.0  186.0          11.1      884.9    707.9    3   \n",
       "121   250.0    0.0   95.7  191.8           5.3      948.9    857.2   56   \n",
       "860   162.0  190.0  148.0  179.0          19.0      838.0    741.0   28   \n",
       "\n",
       "     strength  \n",
       "995     52.52  \n",
       "507     33.94  \n",
       "334     28.30  \n",
       "848     55.83  \n",
       "294     26.91  \n",
       "..        ...  \n",
       "87      26.31  \n",
       "330     31.81  \n",
       "466     39.30  \n",
       "121     39.64  \n",
       "860     33.76  \n",
       "\n",
       "[824 rows x 9 columns]"
      ]
     },
     "execution_count": 170,
     "metadata": {},
     "output_type": "execute_result"
    }
   ],
   "source": [
    "train"
   ]
  },
  {
   "cell_type": "code",
   "execution_count": 171,
   "metadata": {},
   "outputs": [
    {
     "name": "stdout",
     "output_type": "stream",
     "text": [
      "tensor([ 0.9569, -0.8642, -0.8322,  2.1584, -1.0356, -0.5338, -1.2809,  5.0481])\n",
      "tensor([3.9612])\n"
     ]
    }
   ],
   "source": [
    "for x_,y_ in dataset_train:\n",
    "    print(x_)\n",
    "    print(y_)\n",
    "    break"
   ]
  },
  {
   "cell_type": "code",
   "execution_count": 172,
   "metadata": {},
   "outputs": [
    {
     "data": {
      "text/html": [
       "<div>\n",
       "<style scoped>\n",
       "    .dataframe tbody tr th:only-of-type {\n",
       "        vertical-align: middle;\n",
       "    }\n",
       "\n",
       "    .dataframe tbody tr th {\n",
       "        vertical-align: top;\n",
       "    }\n",
       "\n",
       "    .dataframe thead th {\n",
       "        text-align: right;\n",
       "    }\n",
       "</style>\n",
       "<table border=\"1\" class=\"dataframe\">\n",
       "  <thead>\n",
       "    <tr style=\"text-align: right;\">\n",
       "      <th></th>\n",
       "      <th>cement</th>\n",
       "      <th>slag</th>\n",
       "      <th>ash</th>\n",
       "      <th>water</th>\n",
       "      <th>superplastic</th>\n",
       "      <th>coarseagg</th>\n",
       "      <th>fineagg</th>\n",
       "      <th>age</th>\n",
       "    </tr>\n",
       "  </thead>\n",
       "  <tbody>\n",
       "    <tr>\n",
       "      <th>995</th>\n",
       "      <td>380.0</td>\n",
       "      <td>0.0</td>\n",
       "      <td>0.0</td>\n",
       "      <td>228.0</td>\n",
       "      <td>0.0</td>\n",
       "      <td>932.0</td>\n",
       "      <td>670.0</td>\n",
       "      <td>365</td>\n",
       "    </tr>\n",
       "    <tr>\n",
       "      <th>507</th>\n",
       "      <td>251.8</td>\n",
       "      <td>0.0</td>\n",
       "      <td>99.9</td>\n",
       "      <td>146.1</td>\n",
       "      <td>12.4</td>\n",
       "      <td>1006.0</td>\n",
       "      <td>899.8</td>\n",
       "      <td>28</td>\n",
       "    </tr>\n",
       "    <tr>\n",
       "      <th>334</th>\n",
       "      <td>323.7</td>\n",
       "      <td>282.8</td>\n",
       "      <td>0.0</td>\n",
       "      <td>183.8</td>\n",
       "      <td>10.3</td>\n",
       "      <td>942.7</td>\n",
       "      <td>659.9</td>\n",
       "      <td>3</td>\n",
       "    </tr>\n",
       "    <tr>\n",
       "      <th>848</th>\n",
       "      <td>252.3</td>\n",
       "      <td>0.0</td>\n",
       "      <td>98.8</td>\n",
       "      <td>146.3</td>\n",
       "      <td>14.2</td>\n",
       "      <td>987.8</td>\n",
       "      <td>889.0</td>\n",
       "      <td>56</td>\n",
       "    </tr>\n",
       "    <tr>\n",
       "      <th>294</th>\n",
       "      <td>238.2</td>\n",
       "      <td>158.8</td>\n",
       "      <td>0.0</td>\n",
       "      <td>185.7</td>\n",
       "      <td>0.0</td>\n",
       "      <td>1040.6</td>\n",
       "      <td>734.3</td>\n",
       "      <td>28</td>\n",
       "    </tr>\n",
       "    <tr>\n",
       "      <th>...</th>\n",
       "      <td>...</td>\n",
       "      <td>...</td>\n",
       "      <td>...</td>\n",
       "      <td>...</td>\n",
       "      <td>...</td>\n",
       "      <td>...</td>\n",
       "      <td>...</td>\n",
       "      <td>...</td>\n",
       "    </tr>\n",
       "    <tr>\n",
       "      <th>87</th>\n",
       "      <td>212.5</td>\n",
       "      <td>0.0</td>\n",
       "      <td>100.4</td>\n",
       "      <td>159.3</td>\n",
       "      <td>8.7</td>\n",
       "      <td>1007.8</td>\n",
       "      <td>903.6</td>\n",
       "      <td>14</td>\n",
       "    </tr>\n",
       "    <tr>\n",
       "      <th>330</th>\n",
       "      <td>167.4</td>\n",
       "      <td>129.9</td>\n",
       "      <td>128.6</td>\n",
       "      <td>175.5</td>\n",
       "      <td>7.8</td>\n",
       "      <td>1006.3</td>\n",
       "      <td>746.6</td>\n",
       "      <td>14</td>\n",
       "    </tr>\n",
       "    <tr>\n",
       "      <th>466</th>\n",
       "      <td>439.0</td>\n",
       "      <td>177.0</td>\n",
       "      <td>0.0</td>\n",
       "      <td>186.0</td>\n",
       "      <td>11.1</td>\n",
       "      <td>884.9</td>\n",
       "      <td>707.9</td>\n",
       "      <td>3</td>\n",
       "    </tr>\n",
       "    <tr>\n",
       "      <th>121</th>\n",
       "      <td>250.0</td>\n",
       "      <td>0.0</td>\n",
       "      <td>95.7</td>\n",
       "      <td>191.8</td>\n",
       "      <td>5.3</td>\n",
       "      <td>948.9</td>\n",
       "      <td>857.2</td>\n",
       "      <td>56</td>\n",
       "    </tr>\n",
       "    <tr>\n",
       "      <th>860</th>\n",
       "      <td>162.0</td>\n",
       "      <td>190.0</td>\n",
       "      <td>148.0</td>\n",
       "      <td>179.0</td>\n",
       "      <td>19.0</td>\n",
       "      <td>838.0</td>\n",
       "      <td>741.0</td>\n",
       "      <td>28</td>\n",
       "    </tr>\n",
       "  </tbody>\n",
       "</table>\n",
       "<p>824 rows × 8 columns</p>\n",
       "</div>"
      ],
      "text/plain": [
       "     cement   slag    ash  water  superplastic  coarseagg  fineagg  age\n",
       "995   380.0    0.0    0.0  228.0           0.0      932.0    670.0  365\n",
       "507   251.8    0.0   99.9  146.1          12.4     1006.0    899.8   28\n",
       "334   323.7  282.8    0.0  183.8          10.3      942.7    659.9    3\n",
       "848   252.3    0.0   98.8  146.3          14.2      987.8    889.0   56\n",
       "294   238.2  158.8    0.0  185.7           0.0     1040.6    734.3   28\n",
       "..      ...    ...    ...    ...           ...        ...      ...  ...\n",
       "87    212.5    0.0  100.4  159.3           8.7     1007.8    903.6   14\n",
       "330   167.4  129.9  128.6  175.5           7.8     1006.3    746.6   14\n",
       "466   439.0  177.0    0.0  186.0          11.1      884.9    707.9    3\n",
       "121   250.0    0.0   95.7  191.8           5.3      948.9    857.2   56\n",
       "860   162.0  190.0  148.0  179.0          19.0      838.0    741.0   28\n",
       "\n",
       "[824 rows x 8 columns]"
      ]
     },
     "execution_count": 172,
     "metadata": {},
     "output_type": "execute_result"
    }
   ],
   "source": [
    "train_except_strength = train.drop(columns='strength')\n",
    "train_except_strength"
   ]
  },
  {
   "cell_type": "code",
   "execution_count": 173,
   "metadata": {},
   "outputs": [],
   "source": [
    "# y target 뺀 train array\n",
    "train_array = np.array(train_except_strength)"
   ]
  },
  {
   "cell_type": "code",
   "execution_count": 174,
   "metadata": {},
   "outputs": [
    {
     "data": {
      "text/plain": [
       "array([230691.5,  62369.3,  43852.9, 149954.2,   5073.5, 801684.8,\n",
       "       636813.6,  37658. ])"
      ]
     },
     "execution_count": 174,
     "metadata": {},
     "output_type": "execute_result"
    }
   ],
   "source": [
    "# train array 열 별 sum\n",
    "x_sum = np.sum(train_array, axis=0)\n",
    "x_sum"
   ]
  },
  {
   "cell_type": "code",
   "execution_count": 175,
   "metadata": {},
   "outputs": [],
   "source": [
    "train_len = train_array.shape[0]"
   ]
  },
  {
   "cell_type": "code",
   "execution_count": 176,
   "metadata": {},
   "outputs": [
    {
     "data": {
      "text/plain": [
       "array([279.96541262,  75.69089806,  53.21953883, 181.98325243,\n",
       "         6.15716019, 972.9184466 , 772.83203883,  45.70145631])"
      ]
     },
     "execution_count": 176,
     "metadata": {},
     "output_type": "execute_result"
    }
   ],
   "source": [
    "x_mean = x_sum / train_len\n",
    "x_mean"
   ]
  },
  {
   "cell_type": "code",
   "execution_count": 177,
   "metadata": {},
   "outputs": [],
   "source": [
    "x_std = np.std(train_array, axis=0)"
   ]
  },
  {
   "cell_type": "code",
   "execution_count": 178,
   "metadata": {},
   "outputs": [
    {
     "data": {
      "text/plain": [
       "array([[ 0.9568521 , -0.8641988 , -0.83222932, ..., -0.53379235,\n",
       "        -1.28088979,  5.04811635],\n",
       "       [-0.26940816, -0.8641988 ,  0.72997342, ...,  0.43155793,\n",
       "         1.5815301 , -0.27986038],\n",
       "       [ 0.41833063,  2.36466262, -0.83222932, ..., -0.39420792,\n",
       "        -1.40669675, -0.67511088],\n",
       "       ...,\n",
       "       [ 1.52119965,  1.15669396, -0.83222932, ..., -1.14822476,\n",
       "        -0.80880226, -0.67511088],\n",
       "       [-0.28662554, -0.8641988 ,  0.66429522, ..., -0.31332722,\n",
       "         1.05089874,  0.16282018],\n",
       "       [-1.12836426,  1.30512111,  1.4821451 , ..., -1.76004812,\n",
       "        -0.39650418, -0.27986038]])"
      ]
     },
     "execution_count": 178,
     "metadata": {},
     "output_type": "execute_result"
    }
   ],
   "source": [
    "normalize_train_array = (train_array - x_mean) / x_std\n",
    "normalize_train_array"
   ]
  },
  {
   "cell_type": "code",
   "execution_count": 183,
   "metadata": {},
   "outputs": [],
   "source": [
    "x_min = np.min(normalize_train_array, axis=0)  # 열별 최소값\n",
    "x_max = np.max(normalize_train_array, axis=0)  # 열별 최대값"
   ]
  },
  {
   "cell_type": "code",
   "execution_count": 184,
   "metadata": {},
   "outputs": [
    {
     "name": "stdout",
     "output_type": "stream",
     "text": [
      "[-1.70227702 -0.8641988  -0.83222932 -2.82286121 -1.03555089 -2.24272326\n",
      " -2.22755607 -0.70673092]\n",
      "[2.48728613 3.23924107 2.29686745 3.0448831  4.38005268 2.24485103\n",
      " 2.73745945 5.04811635]\n"
     ]
    }
   ],
   "source": [
    "print(x_min)\n",
    "print(x_max)"
   ]
  },
  {
   "cell_type": "code",
   "execution_count": 186,
   "metadata": {},
   "outputs": [],
   "source": [
    "train_x_normalize_mean = normalize_train_array.mean(axis=0)"
   ]
  },
  {
   "cell_type": "code",
   "execution_count": 188,
   "metadata": {},
   "outputs": [
    {
     "name": "stderr",
     "output_type": "stream",
     "text": [
      "  0%|          | 0/206 [00:00<?, ?it/s]"
     ]
    },
    {
     "name": "stderr",
     "output_type": "stream",
     "text": [
      "100%|██████████| 206/206 [00:57<00:00,  3.60it/s]\n"
     ]
    }
   ],
   "source": [
    "import random\n",
    "from deap import base, creator, tools\n",
    "\n",
    "SSE_element = []\n",
    "SST_element = []\n",
    "\n",
    "for idx, row in tqdm(test.iterrows(), total=len(test)):\n",
    "    row = np.array(row)\n",
    "    gt_y = row[-1]\n",
    "    gt_x = row[:-1]\n",
    "    gt_x = (gt_x - x_mean) / x_std\n",
    "    gt_y = np.log(gt_y)\n",
    "\n",
    "    def fitness(individual):\n",
    "        x_tensor = torch.tensor(individual, dtype=torch.float32).unsqueeze(0).to('cuda') # 배치차원추가\n",
    "        with torch.no_grad():\n",
    "            y_pred, _ = model(x_tensor)\n",
    "        # fit_fun = -abs(y_pred - gt_y)\n",
    "        fit_fun = -(y_pred - gt_y)**2\n",
    "        return fit_fun\n",
    "\n",
    "    creator.create('FitnessMax', base.Fitness, weights=(1.0,))\n",
    "    creator.create('Individual', list, fitness=creator.FitnessMax)\n",
    "\n",
    "\n",
    "    toolbox = base.Toolbox()\n",
    "    toolbox.register('attr_float', random.uniform, x_min, x_max)\n",
    "    toolbox.register('individual', tools.initRepeat, creator.Individual, toolbox.attr_float, n=1)\n",
    "    toolbox.register('population', tools.initRepeat, list, toolbox.individual)\n",
    "\n",
    "    toolbox.register('evaluate', fitness)\n",
    "    # toolbox.register('select', tools.selTournament, tournsize=3)\n",
    "    toolbox.register('select', tools.selBest, k=5) # Rank Selection\n",
    "    toolbox.register('mate', tools.cxBlend, alpha=0.5)\n",
    "    toolbox.register('mutate', tools.mutGaussian, mu=0, sigma=1, indpb=0.2)\n",
    "\n",
    "    pop_size = 50\n",
    "    population = toolbox.population(n=pop_size)\n",
    "\n",
    "    for gen in range(100):\n",
    "\n",
    "        fitness_scores = [toolbox.evaluate(ind)[0] for ind in population]\n",
    "        for ind, fit in zip(population, fitness_scores):\n",
    "            ind.fitness.values = (fit,)\n",
    "            # ind.fitness = fit.item()\n",
    "\n",
    "        # offspring 생성\n",
    "        if len(population) == 1:\n",
    "            break\n",
    "        # parents = toolbox.select(population, len(population) // 2)\n",
    "        parents = toolbox.select(population) # Rank Selection\n",
    "        # print('population : ', len(population))\n",
    "        # print('parents : ', len(parent\n",
    "        # s))\n",
    "        offspring = tools.selBest(parents, k=len(population))\n",
    "        offspring = list(map(toolbox.clone, offspring))\n",
    "        # print('offspring : ', len(offspring))\n",
    "\n",
    "        # crossover\n",
    "        for i in range(1, len(offspring), 2):\n",
    "            if random.random() < 0.7:\n",
    "                toolbox.mate(offspring[i-1], offspring[i])\n",
    "                # print('cross over : ', len(toolbox.mate(offspring[i-1], offspring[i])))\n",
    "        # print('offspring의 길이 - crossover 후' , len(offspring))\n",
    "\n",
    "        # mutation\n",
    "        for child in offspring:\n",
    "            if random.random() < 0.2:\n",
    "                toolbox.mutate(child)\n",
    "                # print('child : ', len(toolbox.mutate(child)))\n",
    "\n",
    "        # print('offspring의 길이 -  mutation 후' , len(offspring))\n",
    "\n",
    "        # 새로운 자식만 평가\n",
    "        for ind in offspring:\n",
    "            del ind.fitness.values\n",
    "\n",
    "        # 다음 세대 개체로 갱신\n",
    "        population[:] = offspring\n",
    "        \n",
    "        # print(len(population))\n",
    "        \n",
    "    best_individual = tools.selBest(population, k=1)[0]\n",
    "    # print(\"Best Individual:\", best_individual)\n",
    "    best_individual = best_individual[0]\n",
    "        \n",
    "    gt_x = np.array([gt_x])\n",
    "    x_pred = np.array(best_individual)\n",
    "\n",
    "    # print(gt_x.shape)\n",
    "    # print(x_pred.shape)\n",
    "    x_pred = x_pred.reshape(1,8)\n",
    "    # print(x_pred.shape)\n",
    "    # print(x_mean.shape)\n",
    "\n",
    "    # print('gt_x : ', gt_x)\n",
    "    # print('x_pred : ', x_pred)\n",
    "    \n",
    "    # print('sum_gt_x : ', np.sum(gt_x))\n",
    "    # x_mean = np.sum(gt_x)/len(test_len)\n",
    "    # print('x_mean : ', x_mean)\n",
    "\n",
    "    # x_bar = []\n",
    "    # for _ in range(len(gt_x[0])):\n",
    "    #     x_bar.append(x_mean)\n",
    "    # x_bar = np.array(x_mean)\n",
    "    # print('x_bar : ', x_bar)\n",
    "\n",
    "    for num in (gt_x - x_pred):\n",
    "        SSE_element.append(num**2)\n",
    "    # print('sse_element : ', SSE_element)\n",
    "\n",
    "    for num in (gt_x - train_x_normalize_mean.reshape(1,8)):\n",
    "        SST_element.append(num**2)\n",
    "    \n",
    "    # print(gt_x.shape)\n",
    "    # print(train_x_normalize_mean.shape)\n",
    "    # print(x_pred.shape)\n",
    "    # break \n",
    "    # print('sst_element : ', SST_element)"
   ]
  },
  {
   "cell_type": "code",
   "execution_count": 189,
   "metadata": {},
   "outputs": [
    {
     "name": "stdout",
     "output_type": "stream",
     "text": [
      "206\n",
      "206\n"
     ]
    }
   ],
   "source": [
    "print(len(SSE_element))\n",
    "print(len(SST_element))"
   ]
  },
  {
   "cell_type": "code",
   "execution_count": 190,
   "metadata": {},
   "outputs": [
    {
     "name": "stdout",
     "output_type": "stream",
     "text": [
      "[5721.40786868 4590.59156317 5057.90274541 6841.93272188 4891.70753077\n",
      " 6454.6827651  6420.7813689  4278.47414664] [204.36589383 174.98083377 206.80873204 208.70292732 214.80067589\n",
      " 234.68499809 202.38062197 202.36283411]\n"
     ]
    }
   ],
   "source": [
    "SSE = np.sum(SSE_element, axis=0)\n",
    "SST = np.sum(SST_element, axis=0)\n",
    "print(SSE, SST)"
   ]
  },
  {
   "cell_type": "code",
   "execution_count": 191,
   "metadata": {},
   "outputs": [
    {
     "name": "stdout",
     "output_type": "stream",
     "text": [
      "(8,)\n",
      "(8,)\n"
     ]
    }
   ],
   "source": [
    "print(SSE_element[0].shape)\n",
    "print(SST_element[0].shape)"
   ]
  },
  {
   "cell_type": "code",
   "execution_count": 192,
   "metadata": {},
   "outputs": [
    {
     "name": "stdout",
     "output_type": "stream",
     "text": [
      "[-26.99590363 -25.23482506 -23.45691096 -31.78311814 -21.77324087\n",
      " -26.50360192 -30.72626562 -20.14258859]\n"
     ]
    }
   ],
   "source": [
    "r_squared = 1 - (SSE/SST)\n",
    "print(r_squared)"
   ]
  },
  {
   "cell_type": "markdown",
   "metadata": {},
   "source": [
    "## Surrogate Model - 시도 3 : GA(pygmo 라이브러리)"
   ]
  },
  {
   "cell_type": "code",
   "execution_count": 193,
   "metadata": {},
   "outputs": [],
   "source": [
    "import pygmo as pg"
   ]
  },
  {
   "cell_type": "code",
   "execution_count": 194,
   "metadata": {},
   "outputs": [],
   "source": [
    "class Sphere:\n",
    "    def __init__(self, model, target, x_min, x_max):\n",
    "        self.model = model\n",
    "        self.target = target\n",
    "        self.x_min = x_min\n",
    "        self.x_max = x_max\n",
    "\n",
    "    def fitness(self, x):\n",
    "        x_tensor = torch.tensor(x, dtype=torch.float32).unsqueeze(0).to('cuda')\n",
    "\n",
    "        with torch.no_grad():\n",
    "            y_pred = self.model(x_tensor)\n",
    "        \n",
    "        if isinstance(y_pred, tuple):\n",
    "            y_pred = y_pred[0]\n",
    "        \n",
    "        fit_fun = -((y_pred.item() - self.target) ** 2)\n",
    "        return [fit_fun]\n",
    "\n",
    "    def get_bounds(self):\n",
    "        # return ([-5] * 8, [5] * 8)  # 탐색 범위 설정 (8차원 예시)\n",
    "        return (self.x_min.tolist(), self.x_max.tolist())\n",
    "\n"
   ]
  },
  {
   "cell_type": "code",
   "execution_count": 92,
   "metadata": {},
   "outputs": [
    {
     "name": "stderr",
     "output_type": "stream",
     "text": [
      "100%|██████████| 206/206 [04:04<00:00,  1.19s/it]\n"
     ]
    }
   ],
   "source": [
    "from tqdm import tqdm\n",
    "\n",
    "results = []\n",
    "for gt_y in tqdm(y_target):\n",
    "\n",
    "    prob = pg.problem(Sphere(model, gt_y, x_min, x_max))\n",
    "    algo = pg.algorithm(pg.gaco(gen=100, ker=50, q=1.0, oracle=0.0, acc=0.01, threshold=1, memory=False))\n",
    "    pop = pg.population(prob, size=50)\n",
    "    pop = algo.evolve(pop)\n",
    "    results.append((pop.champion_x, pop.champion_f))"
   ]
  },
  {
   "cell_type": "code",
   "execution_count": 93,
   "metadata": {},
   "outputs": [
    {
     "name": "stdout",
     "output_type": "stream",
     "text": [
      "Best solution (x): [ 102.00002902  359.39966317  200.09997438  246.89924546   32.19992468\n",
      " 1144.99998841  992.5999068   364.99978425]\n"
     ]
    }
   ],
   "source": [
    "best_solution = min(results, key=lambda x: x[1])\n",
    "print(\"Best solution (x):\", best_solution[0])"
   ]
  },
  {
   "cell_type": "code",
   "execution_count": 196,
   "metadata": {},
   "outputs": [
    {
     "name": "stderr",
     "output_type": "stream",
     "text": [
      "100%|██████████| 206/206 [04:26<00:00,  1.29s/it]"
     ]
    },
    {
     "name": "stdout",
     "output_type": "stream",
     "text": [
      "SSE: 15490.899367041024\n",
      "SST: 1649.087517009808\n"
     ]
    },
    {
     "name": "stderr",
     "output_type": "stream",
     "text": [
      "\n"
     ]
    }
   ],
   "source": [
    "import numpy as np\n",
    "import torch\n",
    "import pygmo as pg\n",
    "from tqdm import tqdm\n",
    "\n",
    "SSE_element = []\n",
    "SST_element = []\n",
    "\n",
    "class SphereProblem:\n",
    "    def __init__(self, model, gt_y, x_min, x_max):\n",
    "        self.model = model\n",
    "        self.gt_y = gt_y\n",
    "        self.x_min = x_min\n",
    "        self.x_max = x_max\n",
    "\n",
    "    def fitness(self, x):\n",
    "        x_tensor = torch.tensor(x, dtype=torch.float32).unsqueeze(0).to('cuda')  # 배치 차원 추가\n",
    "        with torch.no_grad():\n",
    "            y_pred, _ = self.model(x_tensor)\n",
    "    \n",
    "        fit_fun = -((y_pred.item() - self.gt_y) ** 2)\n",
    "        return [fit_fun]\n",
    "\n",
    "    def get_bounds(self):\n",
    "        return (self.x_min.tolist(), self.x_max.tolist())\n",
    "\n",
    "for idx, row in tqdm(test.iterrows(), total=len(test)):\n",
    "    row = np.array(row)\n",
    "    gt_y = row[-1]\n",
    "    gt_x = row[:-1]\n",
    "    gt_x = (gt_x - x_mean) / x_std\n",
    "    gt_y = np.log(gt_y)\n",
    "\n",
    "    # x_min = np.min(test.iloc[:, :-1].values, axis=0)\n",
    "    # x_max = np.max(test.iloc[:, :-1].values, axis=0)\n",
    "    x_min = np.min(normalize_train_array, axis=0)\n",
    "    x_max = np.max(normalize_train_array, axis=0)\n",
    "\n",
    "    prob = pg.problem(SphereProblem(model, gt_y, x_min, x_max))\n",
    "\n",
    "    algo = pg.algorithm(pg.sga(gen=100, cr=0.7, eta_c=1.0, m=0.2, param_m=1.0))\n",
    "\n",
    "    pop = pg.population(prob, size=50)\n",
    "    pop = algo.evolve(pop)\n",
    "\n",
    "    best_individual = pop.champion_x\n",
    "\n",
    "    gt_x = np.array([gt_x])\n",
    "    x_pred = np.array(best_individual)\n",
    "    # print(gt_x.shape)\n",
    "    # print(x_pred.shape)\n",
    "    x_pred = x_pred.reshape(1,8)\n",
    "    # print(x_pred.shape)\n",
    "    # print(x_mean.shape)\n",
    "    for num in (gt_x - x_pred):\n",
    "        SSE_element.append(num ** 2)\n",
    "\n",
    "    for num in (gt_x - train_x_normalize_mean.reshape(1,8)):\n",
    "        SST_element.append(num ** 2)\n",
    "\n",
    "print('SSE:', np.sum(SSE_element))\n",
    "print('SST:', np.sum(SST_element))"
   ]
  },
  {
   "cell_type": "code",
   "execution_count": 197,
   "metadata": {},
   "outputs": [
    {
     "name": "stdout",
     "output_type": "stream",
     "text": [
      "206\n",
      "206\n"
     ]
    }
   ],
   "source": [
    "print(len(SSE_element))\n",
    "print(len(SST_element))"
   ]
  },
  {
   "cell_type": "code",
   "execution_count": 198,
   "metadata": {},
   "outputs": [
    {
     "name": "stdout",
     "output_type": "stream",
     "text": [
      "(8,)\n",
      "(8,)\n"
     ]
    }
   ],
   "source": [
    "print(SSE_element[0].shape)\n",
    "print(SST_element[0].shape)"
   ]
  },
  {
   "cell_type": "code",
   "execution_count": 199,
   "metadata": {},
   "outputs": [],
   "source": [
    "SSE = np.sum(SSE_element, axis=0)\n",
    "SST = np.sum(SST_element, axis=0)"
   ]
  },
  {
   "cell_type": "code",
   "execution_count": 200,
   "metadata": {},
   "outputs": [
    {
     "name": "stdout",
     "output_type": "stream",
     "text": [
      "[-5.94760667e+00 -1.31341021e+01 -4.90830170e+00 -7.31845886e+00\n",
      " -2.21645825e-03 -4.42318010e+00 -7.36772479e+00 -2.59732945e+01]\n"
     ]
    }
   ],
   "source": [
    "r_squared = 1 - (SSE/SST)\n",
    "print(r_squared)"
   ]
  },
  {
   "cell_type": "markdown",
   "metadata": {},
   "source": [
    "## Surrogate Model - 시도 4 : GA(pygad 라이브러리)"
   ]
  },
  {
   "cell_type": "code",
   "execution_count": 124,
   "metadata": {},
   "outputs": [
    {
     "name": "stderr",
     "output_type": "stream",
     "text": [
      "100%|██████████| 206/206 [04:50<00:00,  1.41s/it]"
     ]
    },
    {
     "name": "stdout",
     "output_type": "stream",
     "text": [
      "SSE: 26931400.0007563\n",
      "SST: 205245055.06375\n"
     ]
    },
    {
     "name": "stderr",
     "output_type": "stream",
     "text": [
      "\n"
     ]
    }
   ],
   "source": [
    "import numpy as np\n",
    "import torch\n",
    "from tqdm import tqdm\n",
    "import pygad\n",
    "\n",
    "SSE_element = []\n",
    "SST_element = []\n",
    "\n",
    "\n",
    "def fitness_function(ga_instance, solution, solution_idx):\n",
    "    x_tensor = torch.tensor(solution, dtype=torch.float32).unsqueeze(0).to('cuda')  # 배치 차원 추가\n",
    "    with torch.no_grad():\n",
    "        y_pred, _ = model(x_tensor)\n",
    "\n",
    "    fit_fun = -((y_pred.item() - ga_instance.gt_y) ** 2)\n",
    "    return fit_fun\n",
    "\n",
    "\n",
    "for idx, row in tqdm(test.iterrows(), total=len(test)):\n",
    "    row = np.array(row)\n",
    "    gt_y = row[-1]\n",
    "    gt_x = row[:-1]\n",
    "    gt_x = (gt_x - x_mean) / x_std\n",
    "    gt_y = np.log(gt_y)\n",
    "\n",
    "    # x_min = np.min(train.iloc[:, :-1].values, axis=0)\n",
    "    # x_max = np.max(train.iloc[:, :-1].values, axis=0)\n",
    "    x_min = np.min(normalize_train_array, axis=0)\n",
    "    x_max = np.max(normalize_train_array, axis=0)\n",
    "\n",
    "\n",
    "    num_generations = 100\n",
    "    num_parents_mating = 10\n",
    "    sol_per_pop = 50\n",
    "    num_genes = len(gt_x)\n",
    "\n",
    "    initial_population = np.random.uniform(low=x_min, high=x_max, size=(sol_per_pop, num_genes))\n",
    "\n",
    "    ga_instance = pygad.GA(\n",
    "        num_generations=num_generations,\n",
    "        num_parents_mating=num_parents_mating,\n",
    "        fitness_func=fitness_function,\n",
    "        sol_per_pop=sol_per_pop,\n",
    "        num_genes=num_genes,\n",
    "        init_range_low=x_min,\n",
    "        init_range_high=x_max,\n",
    "        mutation_percent_genes=20,\n",
    "        parent_selection_type=\"rank\",\n",
    "        crossover_type=\"single_point\",\n",
    "        mutation_type=\"random\"\n",
    "    )\n",
    "\n",
    "    ga_instance.gt_y = gt_y\n",
    "\n",
    "    ga_instance.run()\n",
    "\n",
    "    best_solution, best_solution_fitness, _ = ga_instance.best_solution()\n",
    "\n",
    "    x_pred = np.array(best_solution).reshape(1, -1)\n",
    "    # print(x_pred.shape)\n",
    "    gt_x = np.array([gt_x])\n",
    "    # print(gt_x.shape)\n",
    "\n",
    "    for num in (gt_x - x_pred):\n",
    "        SSE_element.append(num ** 2)\n",
    "\n",
    "    x_mean = np.mean(gt_x)\n",
    "    for num in (gt_x - train_x_normalize_mean.reshape(1,8)):\n",
    "        SST_element.append(num ** 2)\n",
    "    \n",
    "\n",
    "print('SSE:', np.sum(SSE_element))\n",
    "print('SST:', np.sum(SST_element))"
   ]
  },
  {
   "cell_type": "code",
   "execution_count": 125,
   "metadata": {},
   "outputs": [
    {
     "name": "stdout",
     "output_type": "stream",
     "text": [
      "206\n",
      "206\n"
     ]
    }
   ],
   "source": [
    "print(len(SSE_element))\n",
    "print(len(SST_element))"
   ]
  },
  {
   "cell_type": "code",
   "execution_count": 126,
   "metadata": {},
   "outputs": [
    {
     "name": "stdout",
     "output_type": "stream",
     "text": [
      "(8,)\n",
      "(8,)\n"
     ]
    }
   ],
   "source": [
    "print(SSE_element[0].shape)\n",
    "print(SST_element[0].shape)"
   ]
  },
  {
   "cell_type": "code",
   "execution_count": 127,
   "metadata": {},
   "outputs": [],
   "source": [
    "SSE = np.sum(SSE_element, axis=0)\n",
    "SST = np.sum(SST_element, axis=0)"
   ]
  },
  {
   "cell_type": "code",
   "execution_count": 128,
   "metadata": {},
   "outputs": [
    {
     "name": "stdout",
     "output_type": "stream",
     "text": [
      "[-1.94124345  0.2184415   0.8841088   0.87630993  0.99744189  0.96001303\n",
      "  0.91289332  0.92020097]\n"
     ]
    }
   ],
   "source": [
    "r_squared = 1 - (SSE/SST)\n",
    "print(r_squared)"
   ]
  }
 ],
 "metadata": {
  "kernelspec": {
   "display_name": "base",
   "language": "python",
   "name": "python3"
  },
  "language_info": {
   "codemirror_mode": {
    "name": "ipython",
    "version": 3
   },
   "file_extension": ".py",
   "mimetype": "text/x-python",
   "name": "python",
   "nbconvert_exporter": "python",
   "pygments_lexer": "ipython3",
   "version": "3.10.13"
  }
 },
 "nbformat": 4,
 "nbformat_minor": 2
}
