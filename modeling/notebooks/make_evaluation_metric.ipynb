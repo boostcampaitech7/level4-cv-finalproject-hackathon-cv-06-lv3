{
 "cells": [
  {
   "cell_type": "markdown",
   "metadata": {},
   "source": [
    "## 파일 목적  \n",
    "evaluation metric 만들기 - Seach Model(GA)에서 여러 예측 값을 뽑고, test set x와 가장 유사한 값과의 비교"
   ]
  },
  {
   "cell_type": "code",
   "execution_count": 6,
   "metadata": {},
   "outputs": [],
   "source": [
    "import src.datasets as datasets\n",
    "import src.surrogate as surrogate\n",
    "import src.search as search"
   ]
  },
  {
   "cell_type": "code",
   "execution_count": 7,
   "metadata": {},
   "outputs": [
    {
     "name": "stderr",
     "output_type": "stream",
     "text": [
      "/opt/conda/lib/python3.10/site-packages/lightgbm/basic.py:357: UserWarning: Converting column-vector to 1d array\n",
      "  _log_warning(\"Converting column-vector to 1d array\")\n"
     ]
    },
    {
     "name": "stdout",
     "output_type": "stream",
     "text": [
      "Training until validation scores don't improve for 50 rounds\n",
      "[100]\ttrain's rmse: 0.0448095\tvalid's rmse: 0.0588017\n",
      "[200]\ttrain's rmse: 0.0342117\tvalid's rmse: 0.0521947\n",
      "[300]\ttrain's rmse: 0.0290689\tvalid's rmse: 0.050235\n",
      "Early stopping, best iteration is:\n",
      "[305]\ttrain's rmse: 0.0288801\tvalid's rmse: 0.0501455\n"
     ]
    }
   ],
   "source": [
    "load_data_func = getattr(datasets, f'cement_data')\n",
    "X_train, X_test, y_train, y_test = load_data_func('./data/concrete_processed.csv')\n",
    "\n",
    "load_data_loader_func = getattr(datasets, f'lightgbm_load_data')\n",
    "train_loader, val_loader = load_data_loader_func(X_train, X_test, y_train, y_test)\n",
    "\n",
    "train_func = getattr(surrogate, f'lightgbm_train')\n",
    "pred_func = getattr(surrogate, f'lightgbm_predict')\n",
    "model = train_func(train_loader, val_loader)\n",
    "\n"
   ]
  },
  {
   "cell_type": "code",
   "execution_count": 8,
   "metadata": {},
   "outputs": [],
   "source": [
    "import random\n",
    "import torch\n",
    "from tqdm import tqdm\n",
    "import numpy as np\n",
    "from deap import base, creator, tools\n",
    "\n",
    "def adaptive_niche_size(gen, max_gen, initial_sigma, min_sigma, decay_constant=5.0):\n",
    "    \"\"\"\n",
    "    진화 단계에 따라 적응적으로 니치 크기를 조정하는 함수\n",
    "    - gen: 현재 세대\n",
    "    - max_gen: 최대 세대 수\n",
    "    - initial_sigma: 초기 니치 크기\n",
    "    - min_sigma: 최소 니치 크기\n",
    "    - decay_constant: 감소율 상수\n",
    "    \"\"\"\n",
    "    sigma = initial_sigma * np.exp(-decay_constant * gen / max_gen) # gen/max_gen : 현재 세대 비율(정규화한 값)\n",
    "    return max(sigma, min_sigma)  # 최소 니치 크기 보장\n",
    "\n",
    "def fitness_sharing(population, sigma, alpha):\n",
    "    \"\"\"\n",
    "    적응적 니치 크기를 적용한 적합도 공유 함수\n",
    "    목적 : 개체들이 특정 니치에 너무 몰리지 않도록 적합도를 조정\n",
    "    - population: 현재 개체군\n",
    "    - sigma: 니치 크기\n",
    "    - alpha: 거리의 중요도 조정 파라미터\n",
    "    \"\"\"\n",
    "    # 개체군을 numpy 배열로 변환\n",
    "    population_array = np.array([np.array(ind).squeeze() for ind in population])\n",
    "    # print(population_array.shape) # (50, 8)\n",
    "\n",
    "    # 개체 간 거리 계산 (모든 개체 쌍의 거리)\n",
    "    distances = np.linalg.norm(\n",
    "        population_array[:, np.newaxis, :] - population_array[np.newaxis, :, :], axis=2\n",
    "    )\n",
    "    # print(distances.shape) # (50, 50)\n",
    "\n",
    "    # 공유 함수 값 계산 : dist < sigma일 때만 적합도를 공유하도록 설계\n",
    "    sh_values = np.where(\n",
    "        distances < sigma, 1 - (distances / sigma) ** alpha, 0\n",
    "    )\n",
    "    # print(sh_values.shape) # (50, 50)\n",
    "\n",
    "    # 다른 개체들과 적합도를 나누는 정도를 나타냄\n",
    "    sharing_factors = np.sum(sh_values, axis=1)  # 각 개체별 sharing factor 계산\n",
    "    # print(sharing_factors.shape) # (50,)\n",
    "\n",
    "    # 적합도 조정\n",
    "    for ind, sharing_factor in zip(population, sharing_factors):\n",
    "        if sharing_factor > 0.0:  # 근처에 다른 개체가 있는 경우\n",
    "            ind.fitness.values = (ind.fitness.values[0] / sharing_factor,)\n",
    "\n",
    "\n",
    "\n",
    "def ga_adaptive_niching_search(model, pred_func, X_train, X_test, y_test, max_gen=10, initial_sigma=2.0, min_sigma=0.5, decay_constant=5.0):\n",
    "    \"\"\"\n",
    "    - model: 예측에 사용되는 딥러닝 모델 또는 함수\n",
    "    - pred_func: 입력(X_test)에 대해 model의 예측값을 반환하는 함수\n",
    "    - X_train: 입력값의 학습 데이터\n",
    "    - X_test: 최적화를 수행할 테스트 데이터\n",
    "    - y_test: 테스트 데이터에 대한 ground truth\n",
    "    - max_gen: GA의 최대 세대 수 (디폴트값: 100)\n",
    "    - initial_sigma: 초기 니치 크기 (디폴트값: 2.0)\n",
    "    - min_sigma: 최소 니치 크기 (디폴트값: 0.5)\n",
    "    - decay_constant: 니치 크기 감소율 상수 (디폴트값: 5.0)\n",
    "    \"\"\"\n",
    "    test = X_test\n",
    "    gt_ys = y_test\n",
    "\n",
    "    x_min = np.min(X_train, axis=0)\n",
    "    x_max = np.max(X_train, axis=0)\n",
    "\n",
    "    res = []\n",
    "    for gt_y in tqdm(gt_ys):\n",
    "        \n",
    "        # 적합도 함수 정의\n",
    "        def fitness(population):\n",
    "            population = np.concatenate(population, axis=0)\n",
    "            y_pred = pred_func(model=model, X_test=population)\n",
    "            y_pred_tensor = torch.tensor(y_pred, dtype=torch.float32)\n",
    "            fit_fun = -(y_pred_tensor - gt_y) ** 2\n",
    "            return fit_fun\n",
    "        \n",
    "        # GA 기본 설정\n",
    "        creator.create('FitnessMax', base.Fitness, weights=(1.0,)) # 적합도 최대화 문제를 정의\n",
    "        creator.create('Individual', list, fitness=creator.FitnessMax) # 개체 클래스 정의\n",
    "        toolbox = base.Toolbox()\n",
    "        toolbox.register('attr_float', random.uniform, x_min, x_max) # 각 유전자 값은 x_min과 x_max 사이의 실수로 초기화\n",
    "        toolbox.register('individual', tools.initRepeat, creator.Individual, toolbox.attr_float, n=1) # 유전자를 모아 개체 생성\n",
    "        toolbox.register('population', tools.initRepeat, list, toolbox.individual) # 개체를 모아 개체군을 생성\n",
    "\n",
    "        # GA 연산 등록\n",
    "        toolbox.register('evaluate', fitness) # 적합도 평가함수로 fitness 사용\n",
    "        toolbox.register('select', tools.selBest, k=5)  # Best Selection : 상위 5개의 개체를 선택하는 selBest 방식\n",
    "        toolbox.register('mate', tools.cxBlend, alpha=0.5) # crossover : 개체 간 교배(cxBlend)로 새로운 개체 생성\n",
    "        toolbox.register('mutate', tools.mutGaussian, mu=0, sigma=1, indpb=0.2) # mutation : 개체의 일부 유전자를 가우시안 노이즈로 변형\n",
    "\n",
    "        pop_size = 50\n",
    "        population = toolbox.population(n=pop_size)\n",
    "\n",
    "        # GA 루프\n",
    "        for gen in range(max_gen):\n",
    "\n",
    "            # 적합도 계산\n",
    "            fitness_scores = toolbox.evaluate(population)\n",
    "            for ind, fit in zip(population, fitness_scores):\n",
    "                ind.fitness.values = (fit,)\n",
    "\n",
    "            if len(population) == 1:\n",
    "                break\n",
    "            \n",
    "            # 다음 세대 생성\n",
    "            parents = toolbox.select(population, k=len(population))\n",
    "            offspring = tools.selBest(parents, k=len(population))\n",
    "            offspring = list(map(toolbox.clone, offspring))\n",
    "\n",
    "            # mate\n",
    "            for i in range(1, len(offspring), 2):\n",
    "                if random.random() < 0.7:\n",
    "                    toolbox.mate(offspring[i - 1], offspring[i])\n",
    "\n",
    "            # mutation\n",
    "            for child in offspring:\n",
    "                if random.random() < 0.2:\n",
    "                    toolbox.mutate(child)\n",
    "\n",
    "            for ind in offspring:\n",
    "                # del ind.fitness.values\n",
    "                if not ind.fitness.valid:\n",
    "                    fitness_scores = toolbox.evaluate([ind])\n",
    "                    ind.fitness.values = (fitness_scores[0],)\n",
    "\n",
    "            # 니치 크기 조정\n",
    "            sigma = adaptive_niche_size(gen, max_gen, initial_sigma, min_sigma, decay_constant)\n",
    "            fitness_sharing(offspring, sigma, alpha=1.0)\n",
    "\n",
    "            population[:] = offspring\n",
    "\n",
    "        # 최적 결과 반환\n",
    "        best_individual = tools.selBest(population, k=1)[0]\n",
    "        best_individual = best_individual[0]\n",
    "\n",
    "        x_pred = np.array(best_individual)\n",
    "        x_pred = x_pred.reshape(1, 8)\n",
    "        res.append(x_pred)\n",
    "        \n",
    "    return np.concatenate(res, axis=0)"
   ]
  },
  {
   "cell_type": "code",
   "execution_count": 9,
   "metadata": {},
   "outputs": [
    {
     "name": "stderr",
     "output_type": "stream",
     "text": [
      "  0%|          | 0/186 [00:00<?, ?it/s]/opt/conda/lib/python3.10/site-packages/deap/creator.py:185: RuntimeWarning: A class named 'FitnessMax' has already been created and it will be overwritten. Consider deleting previous creation of that class or rename it.\n",
      "  warnings.warn(\"A class named '{0}' has already been created and it \"\n",
      "/opt/conda/lib/python3.10/site-packages/deap/creator.py:185: RuntimeWarning: A class named 'Individual' has already been created and it will be overwritten. Consider deleting previous creation of that class or rename it.\n",
      "  warnings.warn(\"A class named '{0}' has already been created and it \"\n",
      "100%|██████████| 186/186 [00:10<00:00, 17.75it/s]\n"
     ]
    },
    {
     "data": {
      "text/plain": [
       "array([[ 0.30028415,  0.30028415,  0.30028415, ...,  0.30028415,\n",
       "         0.30028415, -1.19664022],\n",
       "       [-0.24855632, -0.24855632, -0.24855632, ..., -0.24855632,\n",
       "        -0.24855632, -1.01446206],\n",
       "       [ 0.87095575,  0.87095575,  0.87095575, ...,  0.87095575,\n",
       "         0.87095575,  3.64970165],\n",
       "       ...,\n",
       "       [ 0.0562841 ,  0.0562841 ,  0.0562841 , ...,  0.0562841 ,\n",
       "         0.0562841 , -0.77929245],\n",
       "       [ 0.67711016,  0.67711016,  0.67711016, ...,  0.67711016,\n",
       "         0.67711016,  2.5771396 ],\n",
       "       [ 0.01313539,  0.01313539,  0.01313539, ...,  0.01313539,\n",
       "         0.01313539, -1.22329402]])"
      ]
     },
     "execution_count": 9,
     "metadata": {},
     "output_type": "execute_result"
    }
   ],
   "source": [
    "ga_adaptive_niching_search(model, pred_func, X_train, X_test, y_test, max_gen=10, initial_sigma=2.0, min_sigma=0.5, decay_constant=5.0)"
   ]
  },
  {
   "cell_type": "markdown",
   "metadata": {},
   "source": [
    "## best individual을 1개가 아닌 50개 전부 가져오기"
   ]
  },
  {
   "cell_type": "code",
   "execution_count": 67,
   "metadata": {},
   "outputs": [],
   "source": [
    "x_min = np.min(X_train, axis=0)\n",
    "x_max = np.max(X_train, axis=0)"
   ]
  },
  {
   "cell_type": "code",
   "execution_count": 68,
   "metadata": {},
   "outputs": [
    {
     "name": "stdout",
     "output_type": "stream",
     "text": [
      "[0.10730594 0.40631394 0.54472764 0.65346535 0.27149321 0.26453488\n",
      " 0.51470588 0.        ] [0.27715064]\n"
     ]
    }
   ],
   "source": [
    "one_x, one_y = X_test[0], y_test[0]\n",
    "print(one_x, one_y)"
   ]
  },
  {
   "cell_type": "code",
   "execution_count": 69,
   "metadata": {},
   "outputs": [],
   "source": [
    "def fitness(population):\n",
    "    population = np.concatenate(population, axis=0)\n",
    "    y_pred = pred_func(model=model, X_test=population)\n",
    "    y_pred_tensor = torch.tensor(y_pred, dtype=torch.float32)\n",
    "    fit_fun = -(y_pred_tensor - one_y) ** 2\n",
    "    return fit_fun"
   ]
  },
  {
   "cell_type": "code",
   "execution_count": 70,
   "metadata": {},
   "outputs": [
    {
     "name": "stderr",
     "output_type": "stream",
     "text": [
      "/opt/conda/lib/python3.10/site-packages/deap/creator.py:185: RuntimeWarning: A class named 'FitnessMax' has already been created and it will be overwritten. Consider deleting previous creation of that class or rename it.\n",
      "  warnings.warn(\"A class named '{0}' has already been created and it \"\n",
      "/opt/conda/lib/python3.10/site-packages/deap/creator.py:185: RuntimeWarning: A class named 'Individual' has already been created and it will be overwritten. Consider deleting previous creation of that class or rename it.\n",
      "  warnings.warn(\"A class named '{0}' has already been created and it \"\n"
     ]
    }
   ],
   "source": [
    "creator.create('FitnessMax', base.Fitness, weights=(1.0,)) # 적합도 최대화 문제를 정의\n",
    "creator.create('Individual', list, fitness=creator.FitnessMax) # 개체 클래스 정의\n",
    "toolbox = base.Toolbox()\n",
    "toolbox.register('attr_float', random.uniform, x_min, x_max) # 각 유전자 값은 x_min과 x_max 사이의 실수로 초기화\n",
    "toolbox.register('individual', tools.initRepeat, creator.Individual, toolbox.attr_float, n=1) # 유전자를 모아 개체 생성\n",
    "toolbox.register('population', tools.initRepeat, list, toolbox.individual) # 개체를 모아 개체군을 생성\n",
    "\n",
    "# GA 연산 등록\n",
    "toolbox.register('evaluate', fitness) # 적합도 평가함수로 fitness 사용\n",
    "toolbox.register('select', tools.selBest, k=5)  # Best Selection : 상위 5개의 개체를 선택하는 selBest 방식\n",
    "toolbox.register('mate', tools.cxBlend, alpha=0.5) # crossover : 개체 간 교배(cxBlend)로 새로운 개체 생성\n",
    "toolbox.register('mutate', tools.mutGaussian, mu=0, sigma=1, indpb=0.2) # mutation : 개체의 일부 유전자를 가우시안 노이즈로 변형"
   ]
  },
  {
   "cell_type": "code",
   "execution_count": 71,
   "metadata": {},
   "outputs": [],
   "source": [
    "pop_size = 50\n",
    "population = toolbox.population(n=pop_size)"
   ]
  },
  {
   "cell_type": "code",
   "execution_count": 72,
   "metadata": {},
   "outputs": [],
   "source": [
    "# 적합도 계산\n",
    "fitness_scores = toolbox.evaluate(population)\n",
    "for ind, fit in zip(population, fitness_scores):\n",
    "    ind.fitness.values = (fit,)\n",
    "\n",
    "if len(population) == 1:\n",
    "    pass"
   ]
  },
  {
   "cell_type": "code",
   "execution_count": 73,
   "metadata": {},
   "outputs": [
    {
     "name": "stdout",
     "output_type": "stream",
     "text": [
      "torch.Size([50, 1])\n"
     ]
    }
   ],
   "source": [
    "print(fitness_scores.shape)"
   ]
  },
  {
   "cell_type": "code",
   "execution_count": 74,
   "metadata": {},
   "outputs": [],
   "source": [
    "# 다음 세대 생성\n",
    "parents = toolbox.select(population, k=len(population))\n",
    "offspring = tools.selBest(parents, k=len(population))\n",
    "offspring = list(map(toolbox.clone, offspring))"
   ]
  },
  {
   "cell_type": "code",
   "execution_count": 75,
   "metadata": {},
   "outputs": [],
   "source": [
    "# 다음 세대 생성\n",
    "parents = toolbox.select(population, k=len(population))\n",
    "offspring = tools.selBest(parents, k=len(population))\n",
    "offspring = list(map(toolbox.clone, offspring))\n",
    "\n",
    "# mate\n",
    "for i in range(1, len(offspring), 2):\n",
    "    if random.random() < 0.7:\n",
    "        toolbox.mate(offspring[i - 1], offspring[i])\n",
    "\n",
    "# mutation\n",
    "for child in offspring:\n",
    "    if random.random() < 0.2:\n",
    "        toolbox.mutate(child)\n",
    "\n",
    "for ind in offspring:\n",
    "    # del ind.fitness.values\n",
    "    if not ind.fitness.valid:\n",
    "        fitness_scores = toolbox.evaluate([ind])\n",
    "        ind.fitness.values = (fitness_scores[0],)"
   ]
  },
  {
   "cell_type": "code",
   "execution_count": 79,
   "metadata": {},
   "outputs": [
    {
     "name": "stdout",
     "output_type": "stream",
     "text": [
      "50\n",
      "8\n",
      "[ 0.02735379  0.02735379  0.02735379  0.03024283  0.02723001  0.02735379\n",
      "  0.02735379 -1.1307095 ]\n"
     ]
    }
   ],
   "source": [
    "best_individual = tools.selBest(population, k=len(population))\n",
    "print(len(best_individual))\n",
    "print(len(best_individual[0][0]))\n",
    "print(best_individual[0][0])"
   ]
  },
  {
   "cell_type": "markdown",
   "metadata": {},
   "source": [
    "## gt x와의 유클리드 거리 계산하기 (for문)"
   ]
  },
  {
   "cell_type": "code",
   "execution_count": 32,
   "metadata": {},
   "outputs": [
    {
     "data": {
      "text/plain": [
       "numpy.ndarray"
      ]
     },
     "execution_count": 32,
     "metadata": {},
     "output_type": "execute_result"
    }
   ],
   "source": [
    "type(one_x)\n"
   ]
  },
  {
   "cell_type": "code",
   "execution_count": 49,
   "metadata": {},
   "outputs": [
    {
     "name": "stdout",
     "output_type": "stream",
     "text": [
      "[array([ 0.01434638,  0.01434638,  0.01434638,  0.01727406,  0.01428146,\n",
      "        0.01434638,  0.01434638, -1.20441814])]\n"
     ]
    }
   ],
   "source": [
    "best_individual = tools.selBest(population, k=1)[0]\n",
    "print(best_individual)"
   ]
  },
  {
   "cell_type": "code",
   "execution_count": 93,
   "metadata": {},
   "outputs": [
    {
     "name": "stdout",
     "output_type": "stream",
     "text": [
      "50\n",
      "8\n"
     ]
    }
   ],
   "source": [
    "best_individual = tools.selBest(population, k=len(population))\n",
    "print(len(best_individual))\n",
    "print(len(best_individual[0][0]))"
   ]
  },
  {
   "cell_type": "code",
   "execution_count": 94,
   "metadata": {},
   "outputs": [
    {
     "name": "stdout",
     "output_type": "stream",
     "text": [
      "[array([1.56141621]), array([1.70833512]), array([1.60016184]), array([1.59917426]), array([1.70026852]), array([1.64508362]), array([1.39116122]), array([1.31275807]), array([1.31077764]), array([1.29785323]), array([1.16617573]), array([1.13802479]), array([0.90246977]), array([0.67232015]), array([0.8591729]), array([2.08292403]), array([2.08727548]), array([2.13314479]), array([3.97164566]), array([3.96024169]), array([3.72376516]), array([4.24076151]), array([4.51943871]), array([4.48325018]), array([4.54466483]), array([4.14111443]), array([4.11467768]), array([4.08395768]), array([1.97182677]), array([3.62961344]), array([2.2300868]), array([2.20168055]), array([1.96445686]), array([3.15394012]), array([3.46560778]), array([3.48362019]), array([3.31490768]), array([2.44547355]), array([2.4466868]), array([1.09732307]), array([1.31929938]), array([0.67413854]), array([0.66931077]), array([0.6755061]), array([0.87751231]), array([0.63322943]), array([0.93075508]), array([0.62315728]), array([0.61544914]), array([1.80015832])]\n",
      "50\n",
      "48\n",
      "[array([0.25608177, 0.25608177, 0.25608177, 0.25829143, 0.25492303,\n",
      "       0.25608177, 0.25608177, 0.16541575])]\n"
     ]
    }
   ],
   "source": [
    "dist = []\n",
    "for ind in best_individual:\n",
    "    # print(type(ind)\n",
    "    ind = np.array(ind)\n",
    "    # print(ind.shape) # (1, 8)\n",
    "    # distance1 = np.linalg.norm(one_x - ind)\n",
    "    # print(one_x.shape) # (8, )\n",
    "    distance = np.linalg.norm(one_x - ind, axis=1)\n",
    "    # dist.append(distance1)\n",
    "    dist.append(distance)\n",
    "print(dist)\n",
    "print(len(dist))\n",
    "print(np.argmin(dist))\n",
    "idx = np.argmin(dist)\n",
    "print(best_individual[idx])\n"
   ]
  },
  {
   "cell_type": "code",
   "execution_count": 50,
   "metadata": {},
   "outputs": [
    {
     "data": {
      "text/plain": [
       "deap.creator.Individual"
      ]
     },
     "execution_count": 50,
     "metadata": {},
     "output_type": "execute_result"
    }
   ],
   "source": [
    "type(best_individual)"
   ]
  },
  {
   "cell_type": "code",
   "execution_count": 80,
   "metadata": {},
   "outputs": [
    {
     "name": "stdout",
     "output_type": "stream",
     "text": [
      "50\n",
      "8\n"
     ]
    }
   ],
   "source": [
    "best_individual = tools.selBest(population, k=len(population))\n",
    "print(len(best_individual))\n",
    "print(len(best_individual[0][0]))"
   ]
  },
  {
   "cell_type": "markdown",
   "metadata": {},
   "source": [
    "## gt x와의 유클리드 거리 계산하기 (numpy array)"
   ]
  },
  {
   "cell_type": "code",
   "execution_count": null,
   "metadata": {},
   "outputs": [],
   "source": [
    "best_individual = np.array(best_individual)\n",
    "print(type(best_individual))\n",
    "print(best_individual.shape)\n",
    "print(best_individual)"
   ]
  },
  {
   "cell_type": "code",
   "execution_count": null,
   "metadata": {},
   "outputs": [],
   "source": [
    "squeezed_array = best_individual.squeeze(axis=1)  # axis=1은 1인 차원을 제거\n",
    "print(squeezed_array.shape)\n",
    "print(squeezed_array)\n",
    "\n"
   ]
  },
  {
   "cell_type": "code",
   "execution_count": 83,
   "metadata": {},
   "outputs": [
    {
     "data": {
      "text/plain": [
       "(8,)"
      ]
     },
     "execution_count": 83,
     "metadata": {},
     "output_type": "execute_result"
    }
   ],
   "source": [
    "one_x.shape"
   ]
  },
  {
   "cell_type": "code",
   "execution_count": null,
   "metadata": {},
   "outputs": [],
   "source": [
    "expanded_one_x = np.tile(one_x, (50, 1))\n",
    "print(expanded_one_x.shape)\n",
    "print(expanded_one_x)"
   ]
  },
  {
   "cell_type": "code",
   "execution_count": null,
   "metadata": {},
   "outputs": [],
   "source": [
    "# 두 배열의 차이를 계산\n",
    "differences = squeezed_array - expanded_one_x  # (50, 8)\n",
    "print(differences.shape)\n",
    "print(differences)\n",
    "\n"
   ]
  },
  {
   "cell_type": "code",
   "execution_count": 92,
   "metadata": {},
   "outputs": [
    {
     "name": "stdout",
     "output_type": "stream",
     "text": [
      "(50,)\n",
      "[1.56141621 1.70833512 1.60016184 1.59917426 1.70026852 1.64508362\n",
      " 1.39116122 1.31275807 1.31077764 1.29785323 1.16617573 1.13802479\n",
      " 0.90246977 0.67232015 0.8591729  2.08292403 2.08727548 2.13314479\n",
      " 3.97164566 3.96024169 3.72376516 4.24076151 4.51943871 4.48325018\n",
      " 4.54466483 4.14111443 4.11467768 4.08395768 1.97182677 3.62961344\n",
      " 2.2300868  2.20168055 1.96445686 3.15394012 3.46560778 3.48362019\n",
      " 3.31490768 2.44547355 2.4466868  1.09732307 1.31929938 0.67413854\n",
      " 0.66931077 0.6755061  0.87751231 0.63322943 0.93075508 0.62315728\n",
      " 0.61544914 1.80015832]\n",
      "48\n",
      "[[0.25608177 0.25608177 0.25608177 0.25829143 0.25492303 0.25608177\n",
      "  0.25608177 0.16541575]]\n"
     ]
    }
   ],
   "source": [
    "# 각 행의 유클리드 거리 계산\n",
    "distances = np.linalg.norm(differences, axis=1)  # 결과는 (50,)\n",
    "print(distances.shape)\n",
    "print(distances)\n",
    "print(np.argmin(distances))\n",
    "idx = np.argmin(distances)\n",
    "print(best_individual[idx])\n"
   ]
  },
  {
   "cell_type": "markdown",
   "metadata": {},
   "source": [
    "## RMSE 계산하기"
   ]
  },
  {
   "cell_type": "code",
   "execution_count": 97,
   "metadata": {},
   "outputs": [
    {
     "name": "stdout",
     "output_type": "stream",
     "text": [
      "8\n",
      "(8,)\n"
     ]
    }
   ],
   "source": [
    "res = best_individual[idx]\n",
    "print(len(res[0]))\n",
    "print(one_x.shape)\n"
   ]
  },
  {
   "cell_type": "code",
   "execution_count": 100,
   "metadata": {},
   "outputs": [
    {
     "data": {
      "text/plain": [
       "array([0.10730594, 0.40631394, 0.54472764, 0.65346535, 0.27149321,\n",
       "       0.26453488, 0.51470588, 0.        ])"
      ]
     },
     "execution_count": 100,
     "metadata": {},
     "output_type": "execute_result"
    }
   ],
   "source": [
    "one_x"
   ]
  },
  {
   "cell_type": "code",
   "execution_count": 101,
   "metadata": {},
   "outputs": [
    {
     "data": {
      "text/plain": [
       "[array([0.25608177, 0.25608177, 0.25608177, 0.25829143, 0.25492303,\n",
       "        0.25608177, 0.25608177, 0.16541575])]"
      ]
     },
     "execution_count": 101,
     "metadata": {},
     "output_type": "execute_result"
    }
   ],
   "source": [
    "res"
   ]
  },
  {
   "cell_type": "code",
   "execution_count": 102,
   "metadata": {},
   "outputs": [
    {
     "data": {
      "text/plain": [
       "array([[-0.14877583,  0.15023217,  0.28864587,  0.39517392,  0.01657018,\n",
       "         0.00845311,  0.25862411, -0.16541575]])"
      ]
     },
     "execution_count": 102,
     "metadata": {},
     "output_type": "execute_result"
    }
   ],
   "source": [
    "one_x - res"
   ]
  },
  {
   "cell_type": "code",
   "execution_count": 99,
   "metadata": {},
   "outputs": [
    {
     "name": "stdout",
     "output_type": "stream",
     "text": [
      "0.2175941297937622\n"
     ]
    }
   ],
   "source": [
    "rmse = np.sqrt(np.mean((one_x - res) ** 2))\n",
    "print(rmse)"
   ]
  }
 ],
 "metadata": {
  "kernelspec": {
   "display_name": "base",
   "language": "python",
   "name": "python3"
  },
  "language_info": {
   "codemirror_mode": {
    "name": "ipython",
    "version": 3
   },
   "file_extension": ".py",
   "mimetype": "text/x-python",
   "name": "python",
   "nbconvert_exporter": "python",
   "pygments_lexer": "ipython3",
   "version": "3.10.13"
  }
 },
 "nbformat": 4,
 "nbformat_minor": 2
}
