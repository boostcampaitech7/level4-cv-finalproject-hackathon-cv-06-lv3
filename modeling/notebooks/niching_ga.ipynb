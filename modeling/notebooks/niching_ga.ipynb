{
 "cells": [
  {
   "cell_type": "code",
   "execution_count": 1,
   "metadata": {},
   "outputs": [],
   "source": [
    "import src.datasets as datasets\n",
    "import src.surrogate as surrogate\n",
    "import src.search as search"
   ]
  },
  {
   "cell_type": "code",
   "execution_count": 2,
   "metadata": {},
   "outputs": [
    {
     "name": "stderr",
     "output_type": "stream",
     "text": [
      "/opt/conda/lib/python3.10/site-packages/lightgbm/basic.py:357: UserWarning: Converting column-vector to 1d array\n",
      "  _log_warning(\"Converting column-vector to 1d array\")\n"
     ]
    },
    {
     "name": "stdout",
     "output_type": "stream",
     "text": [
      "Training until validation scores don't improve for 50 rounds\n",
      "[100]\ttrain's rmse: 0.0448095\tvalid's rmse: 0.0588017\n",
      "[200]\ttrain's rmse: 0.0342117\tvalid's rmse: 0.0521947\n",
      "[300]\ttrain's rmse: 0.0290689\tvalid's rmse: 0.050235\n",
      "Early stopping, best iteration is:\n",
      "[305]\ttrain's rmse: 0.0288801\tvalid's rmse: 0.0501455\n"
     ]
    }
   ],
   "source": [
    "load_data_func = getattr(datasets, f'cement_data')\n",
    "X_train, X_test, y_train, y_test = load_data_func('./data/concrete_processed.csv')\n",
    "\n",
    "load_data_loader_func = getattr(datasets, f'lightgbm_load_data')\n",
    "train_loader, val_loader = load_data_loader_func(X_train, X_test, y_train, y_test)\n",
    "\n",
    "train_func = getattr(surrogate, f'lightgbm_train')\n",
    "model = train_func(train_loader, val_loader)\n",
    "\n",
    "# search_func = getattr(search, f'ga_search')\n",
    "# search_func(model, train_loader, val_loader)\n",
    "\n",
    "\n"
   ]
  },
  {
   "cell_type": "code",
   "execution_count": 3,
   "metadata": {},
   "outputs": [],
   "source": [
    "from deap import base, creator, tools\n",
    "import numpy as np\n",
    "import random"
   ]
  },
  {
   "cell_type": "code",
   "execution_count": 4,
   "metadata": {},
   "outputs": [],
   "source": [
    "x_min,x_max = np.min(X_train, axis=0), np.max(X_train, axis=0)"
   ]
  },
  {
   "cell_type": "code",
   "execution_count": 5,
   "metadata": {},
   "outputs": [],
   "source": [
    "n_features = X_train.shape[1]"
   ]
  },
  {
   "cell_type": "code",
   "execution_count": 6,
   "metadata": {},
   "outputs": [],
   "source": [
    "creator.create('FitnessMax', base.Fitness, weights=(1.0,))\n",
    "creator.create('Individual', np.ndarray, fitness=creator.FitnessMax)"
   ]
  },
  {
   "cell_type": "code",
   "execution_count": 7,
   "metadata": {},
   "outputs": [],
   "source": [
    "def generate_individual():\n",
    "    return np.random.uniform(x_min, x_max)\n"
   ]
  },
  {
   "cell_type": "code",
   "execution_count": 8,
   "metadata": {},
   "outputs": [],
   "source": [
    "toolbox = base.Toolbox()\n",
    "toolbox.register('attr_float', generate_individual)\n",
    "# min_max 차원이 8개이기에 n을 1로 설정 하면 8개의 변수를 가진 ind 생성!\n",
    "toolbox.register('individual', tools.initIterate, creator.Individual, toolbox.attr_float)\n",
    "toolbox.register('population', tools.initRepeat, list, toolbox.individual)\n"
   ]
  },
  {
   "cell_type": "code",
   "execution_count": 9,
   "metadata": {},
   "outputs": [],
   "source": [
    "predict_func = getattr(surrogate, f'lightgbm_predict')"
   ]
  },
  {
   "cell_type": "code",
   "execution_count": 10,
   "metadata": {},
   "outputs": [],
   "source": [
    "gt_y = y_test[0]"
   ]
  },
  {
   "cell_type": "code",
   "execution_count": 51,
   "metadata": {},
   "outputs": [],
   "source": [
    "def fitness(population):\n",
    "\n",
    "    population = np.array(population)\n",
    "    print('population shape : ', population.shape)\n",
    "    y_pred = predict_func(model=model, X_test=population)\n",
    "\n",
    "    fit_fun = -(y_pred - gt_y)**2\n",
    "    return fit_fun\n"
   ]
  },
  {
   "cell_type": "code",
   "execution_count": 12,
   "metadata": {},
   "outputs": [],
   "source": [
    "toolbox.register('evaluate', fitness)\n"
   ]
  },
  {
   "cell_type": "code",
   "execution_count": 13,
   "metadata": {},
   "outputs": [],
   "source": [
    "population = toolbox.population(n=100)\n"
   ]
  },
  {
   "cell_type": "code",
   "execution_count": 50,
   "metadata": {},
   "outputs": [],
   "source": []
  },
  {
   "cell_type": "code",
   "execution_count": 14,
   "metadata": {},
   "outputs": [],
   "source": [
    "ETA_CX = 5.0 # 초기에 작게(탐색), 점점 크게(exploitation)\n",
    "toolbox.register('mate', tools.cxSimulatedBinary, eta=ETA_CX)"
   ]
  },
  {
   "cell_type": "code",
   "execution_count": 15,
   "metadata": {},
   "outputs": [],
   "source": [
    "MUTPB = 0.2          # 돌연변이 적용 확률(전역)\n",
    "INDPB = 0.1          # 각 변수별 변이 확률\n",
    "sigma_list = [(ub - lb)/10.0 for (lb,ub) in zip(x_min, x_max)]  # 변수 범위에 따른 sigma 값 \n",
    "\n",
    "toolbox.register('mutate', tools.mutGaussian, mu=[0.0]*(len(x_min)), sigma=sigma_list, indpb=INDPB)\n"
   ]
  },
  {
   "cell_type": "markdown",
   "metadata": {},
   "source": [
    "추후 selNSGA2(), selSPEA2(), selNSGA3() 등 파레토 최적화 알고리즘으로 변경 필요"
   ]
  },
  {
   "cell_type": "code",
   "execution_count": 69,
   "metadata": {},
   "outputs": [],
   "source": [
    "toolbox.register('select', tools.selTournament)"
   ]
  },
  {
   "cell_type": "code",
   "execution_count": 70,
   "metadata": {},
   "outputs": [],
   "source": [
    "population = toolbox.population(n=100)\n"
   ]
  },
  {
   "cell_type": "code",
   "execution_count": 71,
   "metadata": {},
   "outputs": [],
   "source": [
    "cxpb = 0.5\n",
    "mutpb = 0.5\n"
   ]
  },
  {
   "cell_type": "code",
   "execution_count": 72,
   "metadata": {},
   "outputs": [],
   "source": [
    "offspring = [toolbox.clone(ind) for ind in population]"
   ]
  },
  {
   "cell_type": "code",
   "execution_count": null,
   "metadata": {},
   "outputs": [],
   "source": []
  },
  {
   "cell_type": "code",
   "execution_count": 73,
   "metadata": {},
   "outputs": [],
   "source": [
    "for i in range(1, len(offspring), 2):\n",
    "    if random.random() < cxpb:\n",
    "        offspring[i - 1], offspring[i] = toolbox.mate(offspring[i - 1],\n",
    "                                                        offspring[i])\n",
    "        del offspring[i - 1].fitness.values, offspring[i].fitness.values\n",
    "\n"
   ]
  },
  {
   "cell_type": "code",
   "execution_count": 74,
   "metadata": {},
   "outputs": [],
   "source": [
    "offspring = [np.clip(individual, x_min, x_max) for individual in offspring]\n"
   ]
  },
  {
   "cell_type": "code",
   "execution_count": 75,
   "metadata": {},
   "outputs": [],
   "source": [
    "for i in range(len(offspring)):\n",
    "    if random.random() < mutpb:\n",
    "        offspring[i], = toolbox.mutate(offspring[i])\n",
    "        # del offspring[i].fitness\n"
   ]
  },
  {
   "cell_type": "code",
   "execution_count": 76,
   "metadata": {},
   "outputs": [],
   "source": [
    "offspring = [np.clip(individual, x_min, x_max) for individual in offspring]\n"
   ]
  },
  {
   "cell_type": "code",
   "execution_count": 77,
   "metadata": {},
   "outputs": [],
   "source": [
    "invalid_ind = [ind for ind in population if not ind.fitness.valid]"
   ]
  },
  {
   "cell_type": "code",
   "execution_count": 78,
   "metadata": {},
   "outputs": [
    {
     "name": "stdout",
     "output_type": "stream",
     "text": [
      "population shape :  (100, 8)\n"
     ]
    }
   ],
   "source": [
    "fitness_scores = toolbox.evaluate(invalid_ind)\n",
    "for ind, fit in zip(invalid_ind, fitness_scores):\n",
    "    ind.fitness.values = (fit,)"
   ]
  },
  {
   "cell_type": "code",
   "execution_count": 79,
   "metadata": {},
   "outputs": [],
   "source": [
    "import faiss\n",
    "def fast_nearest_neighbors(population, k):\n",
    "    n, d = population.shape\n",
    "    kmeans = faiss.Kmeans(d, k, niter=20, verbose=False)\n",
    "    population = population.astype('float32')\n",
    "    kmeans.train(population)\n",
    "\n",
    "    cluster_labels = kmeans.index.search(population, 1)[1].flatten()  \n",
    "    centroids = kmeans.centroids\n",
    "    \n",
    "    return cluster_labels, centroids\n"
   ]
  },
  {
   "cell_type": "code",
   "execution_count": 80,
   "metadata": {},
   "outputs": [
    {
     "name": "stderr",
     "output_type": "stream",
     "text": [
      "WARNING clustering 100 points to 10 centroids: please provide at least 390 training points\n"
     ]
    }
   ],
   "source": [
    "cluster_labels, centroids = fast_nearest_neighbors(np.array(population),k=len(population)//10)"
   ]
  },
  {
   "cell_type": "code",
   "execution_count": 81,
   "metadata": {},
   "outputs": [
    {
     "data": {
      "text/plain": [
       "200"
      ]
     },
     "execution_count": 81,
     "metadata": {},
     "output_type": "execute_result"
    }
   ],
   "source": [
    "len(population + offspring)"
   ]
  },
  {
   "cell_type": "code",
   "execution_count": 82,
   "metadata": {},
   "outputs": [
    {
     "name": "stderr",
     "output_type": "stream",
     "text": [
      "WARNING clustering 200 points to 10 centroids: please provide at least 390 training points\n"
     ]
    }
   ],
   "source": [
    "cluster_labels, centroids = fast_nearest_neighbors(np.array(population + offspring),k=len(population)//10)"
   ]
  },
  {
   "cell_type": "code",
   "execution_count": 83,
   "metadata": {},
   "outputs": [
    {
     "data": {
      "text/plain": [
       "array([2, 7, 4, 4, 8, 0, 9, 1, 7, 5, 4, 7, 5, 5, 0, 6, 3, 7, 8, 2, 1, 6,\n",
       "       7, 6, 1, 4, 3, 1, 9, 2, 5, 8, 6, 2, 9, 6, 2, 4, 3, 5, 2, 4, 4, 7,\n",
       "       2, 1, 7, 5, 0, 6, 2, 0, 2, 7, 0, 8, 6, 3, 8, 2, 2, 4, 9, 3, 0, 3,\n",
       "       1, 7, 8, 0, 7, 5, 1, 7, 2, 1, 7, 1, 1, 7, 2, 2, 8, 0, 8, 1, 2, 6,\n",
       "       3, 5, 6, 7, 3, 8, 2, 4, 3, 5, 7, 9, 6, 7, 4, 4, 8, 0, 9, 1, 7, 5,\n",
       "       4, 7, 5, 5, 0, 6, 3, 7, 8, 2, 1, 6, 7, 6, 1, 4, 3, 1, 9, 2, 5, 8,\n",
       "       6, 2, 9, 6, 2, 1, 3, 5, 2, 7, 4, 7, 2, 1, 7, 5, 0, 6, 2, 0, 6, 7,\n",
       "       0, 4, 2, 3, 8, 2, 2, 4, 9, 3, 0, 3, 1, 7, 8, 0, 7, 5, 1, 7, 2, 1,\n",
       "       8, 1, 1, 7, 2, 2, 8, 0, 8, 1, 2, 6, 3, 7, 2, 4, 3, 8, 2, 4, 3, 2,\n",
       "       7, 9])"
      ]
     },
     "execution_count": 83,
     "metadata": {},
     "output_type": "execute_result"
    }
   ],
   "source": [
    "cluster_labels"
   ]
  },
  {
   "cell_type": "code",
   "execution_count": 84,
   "metadata": {},
   "outputs": [
    {
     "data": {
      "text/plain": [
       "array([False, False, False, False, False, False, False,  True, False,\n",
       "       False, False, False, False, False, False, False, False, False,\n",
       "       False, False,  True, False, False, False,  True, False, False,\n",
       "        True, False, False, False, False, False, False, False, False,\n",
       "       False, False, False, False, False, False, False, False, False,\n",
       "        True, False, False, False, False, False, False, False, False,\n",
       "       False, False, False, False, False, False, False, False, False,\n",
       "       False, False, False,  True, False, False, False, False, False,\n",
       "        True, False, False,  True, False,  True,  True, False, False,\n",
       "       False, False, False, False,  True, False, False, False, False,\n",
       "       False, False, False, False, False, False, False, False, False,\n",
       "       False, False, False, False, False, False, False, False,  True,\n",
       "       False, False, False, False, False, False, False, False, False,\n",
       "       False, False, False,  True, False, False, False,  True, False,\n",
       "       False,  True, False, False, False, False, False, False, False,\n",
       "       False, False,  True, False, False, False, False, False, False,\n",
       "       False,  True, False, False, False, False, False, False, False,\n",
       "       False, False, False, False, False, False, False, False, False,\n",
       "       False, False, False, False,  True, False, False, False, False,\n",
       "       False,  True, False, False,  True, False,  True,  True, False,\n",
       "       False, False, False, False, False,  True, False, False, False,\n",
       "       False, False, False, False, False, False, False, False, False,\n",
       "       False, False])"
      ]
     },
     "execution_count": 84,
     "metadata": {},
     "output_type": "execute_result"
    }
   ],
   "source": [
    "i = 1\n",
    "cluster_labels == i"
   ]
  },
  {
   "cell_type": "code",
   "execution_count": 85,
   "metadata": {},
   "outputs": [],
   "source": [
    "cluster_idx = np.where(cluster_labels == i)[0]\n"
   ]
  },
  {
   "cell_type": "code",
   "execution_count": 86,
   "metadata": {},
   "outputs": [
    {
     "data": {
      "text/plain": [
       "array([  7,  20,  24,  27,  45,  66,  72,  75,  77,  78,  85, 107, 120,\n",
       "       124, 127, 137, 145, 166, 172, 175, 177, 178, 185])"
      ]
     },
     "execution_count": 86,
     "metadata": {},
     "output_type": "execute_result"
    }
   ],
   "source": [
    "cluster_idx"
   ]
  },
  {
   "cell_type": "code",
   "execution_count": 87,
   "metadata": {},
   "outputs": [],
   "source": [
    "k = [(population + offspring)[i] for i in cluster_idx]"
   ]
  },
  {
   "cell_type": "code",
   "execution_count": 88,
   "metadata": {},
   "outputs": [
    {
     "data": {
      "text/plain": [
       "functools.partial(<function selTournament at 0x7ff110fa7a30>)"
      ]
     },
     "execution_count": 88,
     "metadata": {},
     "output_type": "execute_result"
    }
   ],
   "source": [
    "toolbox.select"
   ]
  },
  {
   "cell_type": "code",
   "execution_count": 89,
   "metadata": {},
   "outputs": [
    {
     "data": {
      "text/plain": [
       "100"
      ]
     },
     "execution_count": 89,
     "metadata": {},
     "output_type": "execute_result"
    }
   ],
   "source": [
    "len(population + offspring)//2"
   ]
  },
  {
   "cell_type": "code",
   "execution_count": 90,
   "metadata": {},
   "outputs": [
    {
     "data": {
      "text/plain": [
       "23"
      ]
     },
     "execution_count": 90,
     "metadata": {},
     "output_type": "execute_result"
    }
   ],
   "source": [
    "len([(population + offspring)[i] for i in cluster_idx])\n"
   ]
  },
  {
   "cell_type": "code",
   "execution_count": 91,
   "metadata": {},
   "outputs": [
    {
     "data": {
      "text/plain": [
       "10"
      ]
     },
     "execution_count": 91,
     "metadata": {},
     "output_type": "execute_result"
    }
   ],
   "source": [
    "len(population)//10"
   ]
  },
  {
   "cell_type": "code",
   "execution_count": 94,
   "metadata": {},
   "outputs": [
    {
     "ename": "TypeError",
     "evalue": "'>' not supported between instances of 'MetaCreator' and 'MetaCreator'",
     "output_type": "error",
     "traceback": [
      "\u001b[0;31m---------------------------------------------------------------------------\u001b[0m",
      "\u001b[0;31mTypeError\u001b[0m                                 Traceback (most recent call last)",
      "Cell \u001b[0;32mIn[94], line 1\u001b[0m\n\u001b[0;32m----> 1\u001b[0m pop \u001b[38;5;241m=\u001b[39m \u001b[43mtoolbox\u001b[49m\u001b[38;5;241;43m.\u001b[39;49m\u001b[43mselect\u001b[49m\u001b[43m(\u001b[49m\u001b[43m[\u001b[49m\u001b[43m(\u001b[49m\u001b[43mpopulation\u001b[49m\u001b[43m \u001b[49m\u001b[38;5;241;43m+\u001b[39;49m\u001b[43m \u001b[49m\u001b[43moffspring\u001b[49m\u001b[43m)\u001b[49m\u001b[43m[\u001b[49m\u001b[43mi\u001b[49m\u001b[43m]\u001b[49m\u001b[43m \u001b[49m\u001b[38;5;28;43;01mfor\u001b[39;49;00m\u001b[43m \u001b[49m\u001b[43mi\u001b[49m\u001b[43m \u001b[49m\u001b[38;5;129;43;01min\u001b[39;49;00m\u001b[43m \u001b[49m\u001b[43mcluster_idx\u001b[49m\u001b[43m]\u001b[49m\u001b[43m,\u001b[49m\u001b[43mk\u001b[49m\u001b[38;5;241;43m=\u001b[39;49m\u001b[38;5;28;43mlen\u001b[39;49m\u001b[43m(\u001b[49m\u001b[43mpopulation\u001b[49m\u001b[43m \u001b[49m\u001b[38;5;241;43m+\u001b[39;49m\u001b[43m \u001b[49m\u001b[43moffspring\u001b[49m\u001b[43m)\u001b[49m\u001b[38;5;241;43m/\u001b[39;49m\u001b[38;5;241;43m/\u001b[39;49m\u001b[38;5;241;43m2\u001b[39;49m\u001b[43m,\u001b[49m\u001b[43mtournsize\u001b[49m\u001b[38;5;241;43m=\u001b[39;49m\u001b[38;5;241;43m3\u001b[39;49m\u001b[43m)\u001b[49m\n",
      "File \u001b[0;32m/opt/conda/lib/python3.10/site-packages/deap/tools/selection.py:68\u001b[0m, in \u001b[0;36mselTournament\u001b[0;34m(individuals, k, tournsize, fit_attr)\u001b[0m\n\u001b[1;32m     66\u001b[0m \u001b[38;5;28;01mfor\u001b[39;00m i \u001b[38;5;129;01min\u001b[39;00m \u001b[38;5;28mrange\u001b[39m(k):\n\u001b[1;32m     67\u001b[0m     aspirants \u001b[38;5;241m=\u001b[39m selRandom(individuals, tournsize)\n\u001b[0;32m---> 68\u001b[0m     chosen\u001b[38;5;241m.\u001b[39mappend(\u001b[38;5;28;43mmax\u001b[39;49m\u001b[43m(\u001b[49m\u001b[43maspirants\u001b[49m\u001b[43m,\u001b[49m\u001b[43m \u001b[49m\u001b[43mkey\u001b[49m\u001b[38;5;241;43m=\u001b[39;49m\u001b[43mattrgetter\u001b[49m\u001b[43m(\u001b[49m\u001b[43mfit_attr\u001b[49m\u001b[43m)\u001b[49m\u001b[43m)\u001b[49m)\n\u001b[1;32m     69\u001b[0m \u001b[38;5;28;01mreturn\u001b[39;00m chosen\n",
      "\u001b[0;31mTypeError\u001b[0m: '>' not supported between instances of 'MetaCreator' and 'MetaCreator'"
     ]
    }
   ],
   "source": [
    "pop = toolbox.select([(population + offspring)[i] for i in cluster_idx],k=len(population + offspring)//2,tournsize=3)\n"
   ]
  },
  {
   "cell_type": "code",
   "execution_count": 42,
   "metadata": {},
   "outputs": [],
   "source": [
    "# %%time\n",
    "# offspring = list(map(toolbox.clone, population))\n"
   ]
  },
  {
   "cell_type": "code",
   "execution_count": 35,
   "metadata": {},
   "outputs": [],
   "source": [
    "# selTournamentDCD는 4의 배수여야함 ... \n",
    "# offspring = toolbox.select(population, len(population))"
   ]
  },
  {
   "cell_type": "code",
   "execution_count": null,
   "metadata": {},
   "outputs": [],
   "source": []
  }
 ],
 "metadata": {
  "kernelspec": {
   "display_name": "base",
   "language": "python",
   "name": "python3"
  },
  "language_info": {
   "codemirror_mode": {
    "name": "ipython",
    "version": 3
   },
   "file_extension": ".py",
   "mimetype": "text/x-python",
   "name": "python",
   "nbconvert_exporter": "python",
   "pygments_lexer": "ipython3",
   "version": "3.10.13"
  }
 },
 "nbformat": 4,
 "nbformat_minor": 2
}
