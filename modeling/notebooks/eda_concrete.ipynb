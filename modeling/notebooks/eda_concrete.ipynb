{
 "cells": [
  {
   "cell_type": "code",
   "execution_count": 1,
   "metadata": {},
   "outputs": [
    {
     "name": "stderr",
     "output_type": "stream",
     "text": [
      "/opt/conda/lib/python3.10/site-packages/tqdm/auto.py:21: TqdmWarning: IProgress not found. Please update jupyter and ipywidgets. See https://ipywidgets.readthedocs.io/en/stable/user_install.html\n",
      "  from .autonotebook import tqdm as notebook_tqdm\n"
     ]
    }
   ],
   "source": [
    "import kagglehub"
   ]
  },
  {
   "cell_type": "code",
   "execution_count": null,
   "metadata": {},
   "outputs": [],
   "source": []
  },
  {
   "cell_type": "code",
   "execution_count": 2,
   "metadata": {},
   "outputs": [],
   "source": [
    "path = kagglehub.dataset_download(\"vinayakshanawad/cement-manufacturing-concrete-dataset\")\n"
   ]
  },
  {
   "cell_type": "code",
   "execution_count": 3,
   "metadata": {},
   "outputs": [
    {
     "name": "stdout",
     "output_type": "stream",
     "text": [
      "Path to dataset files: /data/ephemeral/home/.cache/kagglehub/datasets/vinayakshanawad/cement-manufacturing-concrete-dataset/versions/1\n"
     ]
    }
   ],
   "source": [
    "print(\"Path to dataset files:\", path)\n"
   ]
  },
  {
   "cell_type": "code",
   "execution_count": 9,
   "metadata": {},
   "outputs": [],
   "source": [
    "path = \"/data/ephemeral/home/.cache/kagglehub/datasets/vinayakshanawad/cement-manufacturing-concrete-dataset/versions/1\""
   ]
  },
  {
   "cell_type": "code",
   "execution_count": 123,
   "metadata": {},
   "outputs": [
    {
     "data": {
      "text/html": [
       "<div>\n",
       "<style scoped>\n",
       "    .dataframe tbody tr th:only-of-type {\n",
       "        vertical-align: middle;\n",
       "    }\n",
       "\n",
       "    .dataframe tbody tr th {\n",
       "        vertical-align: top;\n",
       "    }\n",
       "\n",
       "    .dataframe thead th {\n",
       "        text-align: right;\n",
       "    }\n",
       "</style>\n",
       "<table border=\"1\" class=\"dataframe\">\n",
       "  <thead>\n",
       "    <tr style=\"text-align: right;\">\n",
       "      <th></th>\n",
       "      <th>cement</th>\n",
       "      <th>slag</th>\n",
       "      <th>ash</th>\n",
       "      <th>water</th>\n",
       "      <th>superplastic</th>\n",
       "      <th>coarseagg</th>\n",
       "      <th>fineagg</th>\n",
       "      <th>age</th>\n",
       "      <th>strength</th>\n",
       "    </tr>\n",
       "  </thead>\n",
       "  <tbody>\n",
       "    <tr>\n",
       "      <th>count</th>\n",
       "      <td>1030.000000</td>\n",
       "      <td>1030.000000</td>\n",
       "      <td>1030.000000</td>\n",
       "      <td>1030.000000</td>\n",
       "      <td>1030.000000</td>\n",
       "      <td>1030.000000</td>\n",
       "      <td>1030.000000</td>\n",
       "      <td>1030.000000</td>\n",
       "      <td>1030.000000</td>\n",
       "    </tr>\n",
       "    <tr>\n",
       "      <th>mean</th>\n",
       "      <td>281.167864</td>\n",
       "      <td>73.895825</td>\n",
       "      <td>54.188350</td>\n",
       "      <td>181.567282</td>\n",
       "      <td>6.204660</td>\n",
       "      <td>972.918932</td>\n",
       "      <td>773.580485</td>\n",
       "      <td>45.662136</td>\n",
       "      <td>35.817961</td>\n",
       "    </tr>\n",
       "    <tr>\n",
       "      <th>std</th>\n",
       "      <td>104.506364</td>\n",
       "      <td>86.279342</td>\n",
       "      <td>63.997004</td>\n",
       "      <td>21.354219</td>\n",
       "      <td>5.973841</td>\n",
       "      <td>77.753954</td>\n",
       "      <td>80.175980</td>\n",
       "      <td>63.169912</td>\n",
       "      <td>16.705742</td>\n",
       "    </tr>\n",
       "    <tr>\n",
       "      <th>min</th>\n",
       "      <td>102.000000</td>\n",
       "      <td>0.000000</td>\n",
       "      <td>0.000000</td>\n",
       "      <td>121.800000</td>\n",
       "      <td>0.000000</td>\n",
       "      <td>801.000000</td>\n",
       "      <td>594.000000</td>\n",
       "      <td>1.000000</td>\n",
       "      <td>2.330000</td>\n",
       "    </tr>\n",
       "    <tr>\n",
       "      <th>25%</th>\n",
       "      <td>192.375000</td>\n",
       "      <td>0.000000</td>\n",
       "      <td>0.000000</td>\n",
       "      <td>164.900000</td>\n",
       "      <td>0.000000</td>\n",
       "      <td>932.000000</td>\n",
       "      <td>730.950000</td>\n",
       "      <td>7.000000</td>\n",
       "      <td>23.710000</td>\n",
       "    </tr>\n",
       "    <tr>\n",
       "      <th>50%</th>\n",
       "      <td>272.900000</td>\n",
       "      <td>22.000000</td>\n",
       "      <td>0.000000</td>\n",
       "      <td>185.000000</td>\n",
       "      <td>6.400000</td>\n",
       "      <td>968.000000</td>\n",
       "      <td>779.500000</td>\n",
       "      <td>28.000000</td>\n",
       "      <td>34.445000</td>\n",
       "    </tr>\n",
       "    <tr>\n",
       "      <th>75%</th>\n",
       "      <td>350.000000</td>\n",
       "      <td>142.950000</td>\n",
       "      <td>118.300000</td>\n",
       "      <td>192.000000</td>\n",
       "      <td>10.200000</td>\n",
       "      <td>1029.400000</td>\n",
       "      <td>824.000000</td>\n",
       "      <td>56.000000</td>\n",
       "      <td>46.135000</td>\n",
       "    </tr>\n",
       "    <tr>\n",
       "      <th>max</th>\n",
       "      <td>540.000000</td>\n",
       "      <td>359.400000</td>\n",
       "      <td>200.100000</td>\n",
       "      <td>247.000000</td>\n",
       "      <td>32.200000</td>\n",
       "      <td>1145.000000</td>\n",
       "      <td>992.600000</td>\n",
       "      <td>365.000000</td>\n",
       "      <td>82.600000</td>\n",
       "    </tr>\n",
       "  </tbody>\n",
       "</table>\n",
       "</div>"
      ],
      "text/plain": [
       "            cement         slag          ash        water  superplastic  \\\n",
       "count  1030.000000  1030.000000  1030.000000  1030.000000   1030.000000   \n",
       "mean    281.167864    73.895825    54.188350   181.567282      6.204660   \n",
       "std     104.506364    86.279342    63.997004    21.354219      5.973841   \n",
       "min     102.000000     0.000000     0.000000   121.800000      0.000000   \n",
       "25%     192.375000     0.000000     0.000000   164.900000      0.000000   \n",
       "50%     272.900000    22.000000     0.000000   185.000000      6.400000   \n",
       "75%     350.000000   142.950000   118.300000   192.000000     10.200000   \n",
       "max     540.000000   359.400000   200.100000   247.000000     32.200000   \n",
       "\n",
       "         coarseagg      fineagg          age     strength  \n",
       "count  1030.000000  1030.000000  1030.000000  1030.000000  \n",
       "mean    972.918932   773.580485    45.662136    35.817961  \n",
       "std      77.753954    80.175980    63.169912    16.705742  \n",
       "min     801.000000   594.000000     1.000000     2.330000  \n",
       "25%     932.000000   730.950000     7.000000    23.710000  \n",
       "50%     968.000000   779.500000    28.000000    34.445000  \n",
       "75%    1029.400000   824.000000    56.000000    46.135000  \n",
       "max    1145.000000   992.600000   365.000000    82.600000  "
      ]
     },
     "execution_count": 123,
     "metadata": {},
     "output_type": "execute_result"
    }
   ],
   "source": []
  },
  {
   "cell_type": "code",
   "execution_count": 10,
   "metadata": {},
   "outputs": [
    {
     "data": {
      "text/html": [
       "<div>\n",
       "<style scoped>\n",
       "    .dataframe tbody tr th:only-of-type {\n",
       "        vertical-align: middle;\n",
       "    }\n",
       "\n",
       "    .dataframe tbody tr th {\n",
       "        vertical-align: top;\n",
       "    }\n",
       "\n",
       "    .dataframe thead th {\n",
       "        text-align: right;\n",
       "    }\n",
       "</style>\n",
       "<table border=\"1\" class=\"dataframe\">\n",
       "  <thead>\n",
       "    <tr style=\"text-align: right;\">\n",
       "      <th></th>\n",
       "      <th>cement</th>\n",
       "      <th>slag</th>\n",
       "      <th>ash</th>\n",
       "      <th>water</th>\n",
       "      <th>superplastic</th>\n",
       "      <th>coarseagg</th>\n",
       "      <th>fineagg</th>\n",
       "      <th>age</th>\n",
       "      <th>strength</th>\n",
       "    </tr>\n",
       "  </thead>\n",
       "  <tbody>\n",
       "    <tr>\n",
       "      <th>0</th>\n",
       "      <td>141.3</td>\n",
       "      <td>212.0</td>\n",
       "      <td>0.0</td>\n",
       "      <td>203.5</td>\n",
       "      <td>0.0</td>\n",
       "      <td>971.8</td>\n",
       "      <td>748.5</td>\n",
       "      <td>28</td>\n",
       "      <td>29.89</td>\n",
       "    </tr>\n",
       "    <tr>\n",
       "      <th>1</th>\n",
       "      <td>168.9</td>\n",
       "      <td>42.2</td>\n",
       "      <td>124.3</td>\n",
       "      <td>158.3</td>\n",
       "      <td>10.8</td>\n",
       "      <td>1080.8</td>\n",
       "      <td>796.2</td>\n",
       "      <td>14</td>\n",
       "      <td>23.51</td>\n",
       "    </tr>\n",
       "    <tr>\n",
       "      <th>2</th>\n",
       "      <td>250.0</td>\n",
       "      <td>0.0</td>\n",
       "      <td>95.7</td>\n",
       "      <td>187.4</td>\n",
       "      <td>5.5</td>\n",
       "      <td>956.9</td>\n",
       "      <td>861.2</td>\n",
       "      <td>28</td>\n",
       "      <td>29.22</td>\n",
       "    </tr>\n",
       "    <tr>\n",
       "      <th>3</th>\n",
       "      <td>266.0</td>\n",
       "      <td>114.0</td>\n",
       "      <td>0.0</td>\n",
       "      <td>228.0</td>\n",
       "      <td>0.0</td>\n",
       "      <td>932.0</td>\n",
       "      <td>670.0</td>\n",
       "      <td>28</td>\n",
       "      <td>45.85</td>\n",
       "    </tr>\n",
       "    <tr>\n",
       "      <th>4</th>\n",
       "      <td>154.8</td>\n",
       "      <td>183.4</td>\n",
       "      <td>0.0</td>\n",
       "      <td>193.3</td>\n",
       "      <td>9.1</td>\n",
       "      <td>1047.4</td>\n",
       "      <td>696.7</td>\n",
       "      <td>28</td>\n",
       "      <td>18.29</td>\n",
       "    </tr>\n",
       "  </tbody>\n",
       "</table>\n",
       "</div>"
      ],
      "text/plain": [
       "   cement   slag    ash  water  superplastic  coarseagg  fineagg  age  \\\n",
       "0   141.3  212.0    0.0  203.5           0.0      971.8    748.5   28   \n",
       "1   168.9   42.2  124.3  158.3          10.8     1080.8    796.2   14   \n",
       "2   250.0    0.0   95.7  187.4           5.5      956.9    861.2   28   \n",
       "3   266.0  114.0    0.0  228.0           0.0      932.0    670.0   28   \n",
       "4   154.8  183.4    0.0  193.3           9.1     1047.4    696.7   28   \n",
       "\n",
       "   strength  \n",
       "0     29.89  \n",
       "1     23.51  \n",
       "2     29.22  \n",
       "3     45.85  \n",
       "4     18.29  "
      ]
     },
     "execution_count": 10,
     "metadata": {},
     "output_type": "execute_result"
    }
   ],
   "source": [
    "import fireducks.pandas as pd\n",
    "df = pd.read_csv(path + \"/concrete.csv\")\n",
    "\n",
    "df.head()"
   ]
  },
  {
   "cell_type": "code",
   "execution_count": 125,
   "metadata": {},
   "outputs": [
    {
     "data": {
      "text/html": [
       "<div>\n",
       "<style scoped>\n",
       "    .dataframe tbody tr th:only-of-type {\n",
       "        vertical-align: middle;\n",
       "    }\n",
       "\n",
       "    .dataframe tbody tr th {\n",
       "        vertical-align: top;\n",
       "    }\n",
       "\n",
       "    .dataframe thead th {\n",
       "        text-align: right;\n",
       "    }\n",
       "</style>\n",
       "<table border=\"1\" class=\"dataframe\">\n",
       "  <thead>\n",
       "    <tr style=\"text-align: right;\">\n",
       "      <th></th>\n",
       "      <th>cement</th>\n",
       "      <th>slag</th>\n",
       "      <th>ash</th>\n",
       "      <th>water</th>\n",
       "      <th>superplastic</th>\n",
       "      <th>coarseagg</th>\n",
       "      <th>fineagg</th>\n",
       "      <th>age</th>\n",
       "      <th>strength</th>\n",
       "    </tr>\n",
       "  </thead>\n",
       "  <tbody>\n",
       "    <tr>\n",
       "      <th>count</th>\n",
       "      <td>1030.000000</td>\n",
       "      <td>1030.000000</td>\n",
       "      <td>1030.000000</td>\n",
       "      <td>1030.000000</td>\n",
       "      <td>1030.000000</td>\n",
       "      <td>1030.000000</td>\n",
       "      <td>1030.000000</td>\n",
       "      <td>1030.000000</td>\n",
       "      <td>1030.000000</td>\n",
       "    </tr>\n",
       "    <tr>\n",
       "      <th>mean</th>\n",
       "      <td>281.167864</td>\n",
       "      <td>73.895825</td>\n",
       "      <td>54.188350</td>\n",
       "      <td>181.567282</td>\n",
       "      <td>6.204660</td>\n",
       "      <td>972.918932</td>\n",
       "      <td>773.580485</td>\n",
       "      <td>45.662136</td>\n",
       "      <td>35.817961</td>\n",
       "    </tr>\n",
       "    <tr>\n",
       "      <th>std</th>\n",
       "      <td>104.506364</td>\n",
       "      <td>86.279342</td>\n",
       "      <td>63.997004</td>\n",
       "      <td>21.354219</td>\n",
       "      <td>5.973841</td>\n",
       "      <td>77.753954</td>\n",
       "      <td>80.175980</td>\n",
       "      <td>63.169912</td>\n",
       "      <td>16.705742</td>\n",
       "    </tr>\n",
       "    <tr>\n",
       "      <th>min</th>\n",
       "      <td>102.000000</td>\n",
       "      <td>0.000000</td>\n",
       "      <td>0.000000</td>\n",
       "      <td>121.800000</td>\n",
       "      <td>0.000000</td>\n",
       "      <td>801.000000</td>\n",
       "      <td>594.000000</td>\n",
       "      <td>1.000000</td>\n",
       "      <td>2.330000</td>\n",
       "    </tr>\n",
       "    <tr>\n",
       "      <th>25%</th>\n",
       "      <td>192.375000</td>\n",
       "      <td>0.000000</td>\n",
       "      <td>0.000000</td>\n",
       "      <td>164.900000</td>\n",
       "      <td>0.000000</td>\n",
       "      <td>932.000000</td>\n",
       "      <td>730.950000</td>\n",
       "      <td>7.000000</td>\n",
       "      <td>23.710000</td>\n",
       "    </tr>\n",
       "    <tr>\n",
       "      <th>50%</th>\n",
       "      <td>272.900000</td>\n",
       "      <td>22.000000</td>\n",
       "      <td>0.000000</td>\n",
       "      <td>185.000000</td>\n",
       "      <td>6.400000</td>\n",
       "      <td>968.000000</td>\n",
       "      <td>779.500000</td>\n",
       "      <td>28.000000</td>\n",
       "      <td>34.445000</td>\n",
       "    </tr>\n",
       "    <tr>\n",
       "      <th>75%</th>\n",
       "      <td>350.000000</td>\n",
       "      <td>142.950000</td>\n",
       "      <td>118.300000</td>\n",
       "      <td>192.000000</td>\n",
       "      <td>10.200000</td>\n",
       "      <td>1029.400000</td>\n",
       "      <td>824.000000</td>\n",
       "      <td>56.000000</td>\n",
       "      <td>46.135000</td>\n",
       "    </tr>\n",
       "    <tr>\n",
       "      <th>max</th>\n",
       "      <td>540.000000</td>\n",
       "      <td>359.400000</td>\n",
       "      <td>200.100000</td>\n",
       "      <td>247.000000</td>\n",
       "      <td>32.200000</td>\n",
       "      <td>1145.000000</td>\n",
       "      <td>992.600000</td>\n",
       "      <td>365.000000</td>\n",
       "      <td>82.600000</td>\n",
       "    </tr>\n",
       "  </tbody>\n",
       "</table>\n",
       "</div>"
      ],
      "text/plain": [
       "            cement         slag          ash        water  superplastic  \\\n",
       "count  1030.000000  1030.000000  1030.000000  1030.000000   1030.000000   \n",
       "mean    281.167864    73.895825    54.188350   181.567282      6.204660   \n",
       "std     104.506364    86.279342    63.997004    21.354219      5.973841   \n",
       "min     102.000000     0.000000     0.000000   121.800000      0.000000   \n",
       "25%     192.375000     0.000000     0.000000   164.900000      0.000000   \n",
       "50%     272.900000    22.000000     0.000000   185.000000      6.400000   \n",
       "75%     350.000000   142.950000   118.300000   192.000000     10.200000   \n",
       "max     540.000000   359.400000   200.100000   247.000000     32.200000   \n",
       "\n",
       "         coarseagg      fineagg          age     strength  \n",
       "count  1030.000000  1030.000000  1030.000000  1030.000000  \n",
       "mean    972.918932   773.580485    45.662136    35.817961  \n",
       "std      77.753954    80.175980    63.169912    16.705742  \n",
       "min     801.000000   594.000000     1.000000     2.330000  \n",
       "25%     932.000000   730.950000     7.000000    23.710000  \n",
       "50%     968.000000   779.500000    28.000000    34.445000  \n",
       "75%    1029.400000   824.000000    56.000000    46.135000  \n",
       "max    1145.000000   992.600000   365.000000    82.600000  "
      ]
     },
     "execution_count": 125,
     "metadata": {},
     "output_type": "execute_result"
    }
   ],
   "source": [
    "df.describe()"
   ]
  },
  {
   "cell_type": "code",
   "execution_count": 11,
   "metadata": {},
   "outputs": [
    {
     "data": {
      "text/html": [
       "<div>\n",
       "<style scoped>\n",
       "    .dataframe tbody tr th:only-of-type {\n",
       "        vertical-align: middle;\n",
       "    }\n",
       "\n",
       "    .dataframe tbody tr th {\n",
       "        vertical-align: top;\n",
       "    }\n",
       "\n",
       "    .dataframe thead th {\n",
       "        text-align: right;\n",
       "    }\n",
       "</style>\n",
       "<table border=\"1\" class=\"dataframe\">\n",
       "  <thead>\n",
       "    <tr style=\"text-align: right;\">\n",
       "      <th></th>\n",
       "      <th>cement</th>\n",
       "      <th>slag</th>\n",
       "      <th>ash</th>\n",
       "      <th>water</th>\n",
       "      <th>superplastic</th>\n",
       "      <th>coarseagg</th>\n",
       "      <th>fineagg</th>\n",
       "      <th>age</th>\n",
       "      <th>strength</th>\n",
       "    </tr>\n",
       "  </thead>\n",
       "  <tbody>\n",
       "    <tr>\n",
       "      <th>cement</th>\n",
       "      <td>1.000000</td>\n",
       "      <td>-0.275216</td>\n",
       "      <td>-0.397467</td>\n",
       "      <td>-0.081587</td>\n",
       "      <td>0.092386</td>\n",
       "      <td>-0.109349</td>\n",
       "      <td>-0.222718</td>\n",
       "      <td>0.081946</td>\n",
       "      <td>0.497832</td>\n",
       "    </tr>\n",
       "    <tr>\n",
       "      <th>slag</th>\n",
       "      <td>-0.275216</td>\n",
       "      <td>1.000000</td>\n",
       "      <td>-0.323580</td>\n",
       "      <td>0.107252</td>\n",
       "      <td>0.043270</td>\n",
       "      <td>-0.283999</td>\n",
       "      <td>-0.281603</td>\n",
       "      <td>-0.044246</td>\n",
       "      <td>0.134829</td>\n",
       "    </tr>\n",
       "    <tr>\n",
       "      <th>ash</th>\n",
       "      <td>-0.397467</td>\n",
       "      <td>-0.323580</td>\n",
       "      <td>1.000000</td>\n",
       "      <td>-0.256984</td>\n",
       "      <td>0.377503</td>\n",
       "      <td>-0.009961</td>\n",
       "      <td>0.079108</td>\n",
       "      <td>-0.154371</td>\n",
       "      <td>-0.105755</td>\n",
       "    </tr>\n",
       "    <tr>\n",
       "      <th>water</th>\n",
       "      <td>-0.081587</td>\n",
       "      <td>0.107252</td>\n",
       "      <td>-0.256984</td>\n",
       "      <td>1.000000</td>\n",
       "      <td>-0.657533</td>\n",
       "      <td>-0.182294</td>\n",
       "      <td>-0.450661</td>\n",
       "      <td>0.277618</td>\n",
       "      <td>-0.289633</td>\n",
       "    </tr>\n",
       "    <tr>\n",
       "      <th>superplastic</th>\n",
       "      <td>0.092386</td>\n",
       "      <td>0.043270</td>\n",
       "      <td>0.377503</td>\n",
       "      <td>-0.657533</td>\n",
       "      <td>1.000000</td>\n",
       "      <td>-0.265999</td>\n",
       "      <td>0.222691</td>\n",
       "      <td>-0.192700</td>\n",
       "      <td>0.366079</td>\n",
       "    </tr>\n",
       "    <tr>\n",
       "      <th>coarseagg</th>\n",
       "      <td>-0.109349</td>\n",
       "      <td>-0.283999</td>\n",
       "      <td>-0.009961</td>\n",
       "      <td>-0.182294</td>\n",
       "      <td>-0.265999</td>\n",
       "      <td>1.000000</td>\n",
       "      <td>-0.178481</td>\n",
       "      <td>-0.003016</td>\n",
       "      <td>-0.164935</td>\n",
       "    </tr>\n",
       "    <tr>\n",
       "      <th>fineagg</th>\n",
       "      <td>-0.222718</td>\n",
       "      <td>-0.281603</td>\n",
       "      <td>0.079108</td>\n",
       "      <td>-0.450661</td>\n",
       "      <td>0.222691</td>\n",
       "      <td>-0.178481</td>\n",
       "      <td>1.000000</td>\n",
       "      <td>-0.156095</td>\n",
       "      <td>-0.167241</td>\n",
       "    </tr>\n",
       "    <tr>\n",
       "      <th>age</th>\n",
       "      <td>0.081946</td>\n",
       "      <td>-0.044246</td>\n",
       "      <td>-0.154371</td>\n",
       "      <td>0.277618</td>\n",
       "      <td>-0.192700</td>\n",
       "      <td>-0.003016</td>\n",
       "      <td>-0.156095</td>\n",
       "      <td>1.000000</td>\n",
       "      <td>0.328873</td>\n",
       "    </tr>\n",
       "    <tr>\n",
       "      <th>strength</th>\n",
       "      <td>0.497832</td>\n",
       "      <td>0.134829</td>\n",
       "      <td>-0.105755</td>\n",
       "      <td>-0.289633</td>\n",
       "      <td>0.366079</td>\n",
       "      <td>-0.164935</td>\n",
       "      <td>-0.167241</td>\n",
       "      <td>0.328873</td>\n",
       "      <td>1.000000</td>\n",
       "    </tr>\n",
       "  </tbody>\n",
       "</table>\n",
       "</div>"
      ],
      "text/plain": [
       "                cement      slag       ash     water  superplastic  coarseagg  \\\n",
       "cement        1.000000 -0.275216 -0.397467 -0.081587      0.092386  -0.109349   \n",
       "slag         -0.275216  1.000000 -0.323580  0.107252      0.043270  -0.283999   \n",
       "ash          -0.397467 -0.323580  1.000000 -0.256984      0.377503  -0.009961   \n",
       "water        -0.081587  0.107252 -0.256984  1.000000     -0.657533  -0.182294   \n",
       "superplastic  0.092386  0.043270  0.377503 -0.657533      1.000000  -0.265999   \n",
       "coarseagg    -0.109349 -0.283999 -0.009961 -0.182294     -0.265999   1.000000   \n",
       "fineagg      -0.222718 -0.281603  0.079108 -0.450661      0.222691  -0.178481   \n",
       "age           0.081946 -0.044246 -0.154371  0.277618     -0.192700  -0.003016   \n",
       "strength      0.497832  0.134829 -0.105755 -0.289633      0.366079  -0.164935   \n",
       "\n",
       "               fineagg       age  strength  \n",
       "cement       -0.222718  0.081946  0.497832  \n",
       "slag         -0.281603 -0.044246  0.134829  \n",
       "ash           0.079108 -0.154371 -0.105755  \n",
       "water        -0.450661  0.277618 -0.289633  \n",
       "superplastic  0.222691 -0.192700  0.366079  \n",
       "coarseagg    -0.178481 -0.003016 -0.164935  \n",
       "fineagg       1.000000 -0.156095 -0.167241  \n",
       "age          -0.156095  1.000000  0.328873  \n",
       "strength     -0.167241  0.328873  1.000000  "
      ]
     },
     "execution_count": 11,
     "metadata": {},
     "output_type": "execute_result"
    }
   ],
   "source": [
    "df.corr()\n"
   ]
  },
  {
   "cell_type": "code",
   "execution_count": 12,
   "metadata": {},
   "outputs": [],
   "source": [
    "import torch"
   ]
  },
  {
   "cell_type": "code",
   "execution_count": 13,
   "metadata": {},
   "outputs": [],
   "source": [
    "import sklearn"
   ]
  },
  {
   "cell_type": "code",
   "execution_count": 14,
   "metadata": {},
   "outputs": [],
   "source": [
    "train,test = sklearn.model_selection.train_test_split(df, test_size=0.2, random_state=42)"
   ]
  },
  {
   "cell_type": "code",
   "execution_count": 15,
   "metadata": {},
   "outputs": [],
   "source": [
    "class ConcreteDataset(torch.utils.data.Dataset):\n",
    "    def __init__(self, df, mean,std):\n",
    "        self.df = df\n",
    "        self.mean = mean\n",
    "        self.std = std\n",
    "\n",
    "\n",
    "    def __len__(self):\n",
    "        return len(self.df)\n",
    "\n",
    "    def __getitem__(self, idx):\n",
    "        x = self.df.iloc[idx][['cement','slag','ash','water','superplastic','coarseagg','fineagg','age']].to_numpy()\n",
    "        y = self.df.iloc[idx][['strength']].to_numpy()\n",
    "        x = torch.tensor(x, dtype=torch.float32)    \n",
    "        y = torch.tensor(y, dtype=torch.float32)\n",
    "        x = (x - self.mean[:-1]) / self.std[:-1]\n",
    "        # y = (y - self.mean[7]) / self.std[7]\n",
    "        y = torch.log(y)\n",
    "        # if self.transform:\n",
    "        #     x = self.transform(x)\n",
    "            \n",
    "        return x, y"
   ]
  },
  {
   "cell_type": "code",
   "execution_count": 16,
   "metadata": {},
   "outputs": [],
   "source": [
    "# dataset = ConcreteDataset(df)\n",
    "\n",
    "# dataset[0]"
   ]
  },
  {
   "cell_type": "code",
   "execution_count": 18,
   "metadata": {},
   "outputs": [
    {
     "data": {
      "text/html": [
       "<div>\n",
       "<style scoped>\n",
       "    .dataframe tbody tr th:only-of-type {\n",
       "        vertical-align: middle;\n",
       "    }\n",
       "\n",
       "    .dataframe tbody tr th {\n",
       "        vertical-align: top;\n",
       "    }\n",
       "\n",
       "    .dataframe thead th {\n",
       "        text-align: right;\n",
       "    }\n",
       "</style>\n",
       "<table border=\"1\" class=\"dataframe\">\n",
       "  <thead>\n",
       "    <tr style=\"text-align: right;\">\n",
       "      <th></th>\n",
       "      <th>cement</th>\n",
       "      <th>slag</th>\n",
       "      <th>ash</th>\n",
       "      <th>water</th>\n",
       "      <th>superplastic</th>\n",
       "      <th>coarseagg</th>\n",
       "      <th>fineagg</th>\n",
       "      <th>age</th>\n",
       "      <th>strength</th>\n",
       "    </tr>\n",
       "  </thead>\n",
       "  <tbody>\n",
       "    <tr>\n",
       "      <th>995</th>\n",
       "      <td>380.0</td>\n",
       "      <td>0.0</td>\n",
       "      <td>0.0</td>\n",
       "      <td>228.0</td>\n",
       "      <td>0.0</td>\n",
       "      <td>932.0</td>\n",
       "      <td>670.0</td>\n",
       "      <td>365</td>\n",
       "      <td>52.52</td>\n",
       "    </tr>\n",
       "    <tr>\n",
       "      <th>507</th>\n",
       "      <td>251.8</td>\n",
       "      <td>0.0</td>\n",
       "      <td>99.9</td>\n",
       "      <td>146.1</td>\n",
       "      <td>12.4</td>\n",
       "      <td>1006.0</td>\n",
       "      <td>899.8</td>\n",
       "      <td>28</td>\n",
       "      <td>33.94</td>\n",
       "    </tr>\n",
       "    <tr>\n",
       "      <th>334</th>\n",
       "      <td>323.7</td>\n",
       "      <td>282.8</td>\n",
       "      <td>0.0</td>\n",
       "      <td>183.8</td>\n",
       "      <td>10.3</td>\n",
       "      <td>942.7</td>\n",
       "      <td>659.9</td>\n",
       "      <td>3</td>\n",
       "      <td>28.30</td>\n",
       "    </tr>\n",
       "    <tr>\n",
       "      <th>848</th>\n",
       "      <td>252.3</td>\n",
       "      <td>0.0</td>\n",
       "      <td>98.8</td>\n",
       "      <td>146.3</td>\n",
       "      <td>14.2</td>\n",
       "      <td>987.8</td>\n",
       "      <td>889.0</td>\n",
       "      <td>56</td>\n",
       "      <td>55.83</td>\n",
       "    </tr>\n",
       "    <tr>\n",
       "      <th>294</th>\n",
       "      <td>238.2</td>\n",
       "      <td>158.8</td>\n",
       "      <td>0.0</td>\n",
       "      <td>185.7</td>\n",
       "      <td>0.0</td>\n",
       "      <td>1040.6</td>\n",
       "      <td>734.3</td>\n",
       "      <td>28</td>\n",
       "      <td>26.91</td>\n",
       "    </tr>\n",
       "    <tr>\n",
       "      <th>...</th>\n",
       "      <td>...</td>\n",
       "      <td>...</td>\n",
       "      <td>...</td>\n",
       "      <td>...</td>\n",
       "      <td>...</td>\n",
       "      <td>...</td>\n",
       "      <td>...</td>\n",
       "      <td>...</td>\n",
       "      <td>...</td>\n",
       "    </tr>\n",
       "    <tr>\n",
       "      <th>87</th>\n",
       "      <td>212.5</td>\n",
       "      <td>0.0</td>\n",
       "      <td>100.4</td>\n",
       "      <td>159.3</td>\n",
       "      <td>8.7</td>\n",
       "      <td>1007.8</td>\n",
       "      <td>903.6</td>\n",
       "      <td>14</td>\n",
       "      <td>26.31</td>\n",
       "    </tr>\n",
       "    <tr>\n",
       "      <th>330</th>\n",
       "      <td>167.4</td>\n",
       "      <td>129.9</td>\n",
       "      <td>128.6</td>\n",
       "      <td>175.5</td>\n",
       "      <td>7.8</td>\n",
       "      <td>1006.3</td>\n",
       "      <td>746.6</td>\n",
       "      <td>14</td>\n",
       "      <td>31.81</td>\n",
       "    </tr>\n",
       "    <tr>\n",
       "      <th>466</th>\n",
       "      <td>439.0</td>\n",
       "      <td>177.0</td>\n",
       "      <td>0.0</td>\n",
       "      <td>186.0</td>\n",
       "      <td>11.1</td>\n",
       "      <td>884.9</td>\n",
       "      <td>707.9</td>\n",
       "      <td>3</td>\n",
       "      <td>39.30</td>\n",
       "    </tr>\n",
       "    <tr>\n",
       "      <th>121</th>\n",
       "      <td>250.0</td>\n",
       "      <td>0.0</td>\n",
       "      <td>95.7</td>\n",
       "      <td>191.8</td>\n",
       "      <td>5.3</td>\n",
       "      <td>948.9</td>\n",
       "      <td>857.2</td>\n",
       "      <td>56</td>\n",
       "      <td>39.64</td>\n",
       "    </tr>\n",
       "    <tr>\n",
       "      <th>860</th>\n",
       "      <td>162.0</td>\n",
       "      <td>190.0</td>\n",
       "      <td>148.0</td>\n",
       "      <td>179.0</td>\n",
       "      <td>19.0</td>\n",
       "      <td>838.0</td>\n",
       "      <td>741.0</td>\n",
       "      <td>28</td>\n",
       "      <td>33.76</td>\n",
       "    </tr>\n",
       "  </tbody>\n",
       "</table>\n",
       "<p>824 rows × 9 columns</p>\n",
       "</div>"
      ],
      "text/plain": [
       "     cement   slag    ash  water  superplastic  coarseagg  fineagg  age  \\\n",
       "995   380.0    0.0    0.0  228.0           0.0      932.0    670.0  365   \n",
       "507   251.8    0.0   99.9  146.1          12.4     1006.0    899.8   28   \n",
       "334   323.7  282.8    0.0  183.8          10.3      942.7    659.9    3   \n",
       "848   252.3    0.0   98.8  146.3          14.2      987.8    889.0   56   \n",
       "294   238.2  158.8    0.0  185.7           0.0     1040.6    734.3   28   \n",
       "..      ...    ...    ...    ...           ...        ...      ...  ...   \n",
       "87    212.5    0.0  100.4  159.3           8.7     1007.8    903.6   14   \n",
       "330   167.4  129.9  128.6  175.5           7.8     1006.3    746.6   14   \n",
       "466   439.0  177.0    0.0  186.0          11.1      884.9    707.9    3   \n",
       "121   250.0    0.0   95.7  191.8           5.3      948.9    857.2   56   \n",
       "860   162.0  190.0  148.0  179.0          19.0      838.0    741.0   28   \n",
       "\n",
       "     strength  \n",
       "995     52.52  \n",
       "507     33.94  \n",
       "334     28.30  \n",
       "848     55.83  \n",
       "294     26.91  \n",
       "..        ...  \n",
       "87      26.31  \n",
       "330     31.81  \n",
       "466     39.30  \n",
       "121     39.64  \n",
       "860     33.76  \n",
       "\n",
       "[824 rows x 9 columns]"
      ]
     },
     "execution_count": 18,
     "metadata": {},
     "output_type": "execute_result"
    }
   ],
   "source": [
    "train"
   ]
  },
  {
   "cell_type": "code",
   "execution_count": 17,
   "metadata": {},
   "outputs": [],
   "source": [
    "mean = train[['cement','slag','ash','water','superplastic','coarseagg','fineagg','age','strength']].to_numpy().mean(axis=0)\n",
    "std = train[['cement','slag','ash','water','superplastic','coarseagg','fineagg','age','strength']].to_numpy().std(axis=0)\n",
    "mean = torch.tensor(mean, dtype=torch.float32)\n",
    "std = torch.tensor(std, dtype=torch.float32)"
   ]
  },
  {
   "cell_type": "code",
   "execution_count": 19,
   "metadata": {},
   "outputs": [],
   "source": [
    "# import torchvision.transforms as transforms\n",
    "# transform = transforms.Compose([transforms.ToTensor(),transforms.Normalize((0.5,), (0.5,))])\n",
    "dataset_train = ConcreteDataset(train,mean,std)\n",
    "dataset_test = ConcreteDataset(test,mean,std)\n"
   ]
  },
  {
   "cell_type": "code",
   "execution_count": 20,
   "metadata": {},
   "outputs": [],
   "source": [
    "from torch.utils.data import DataLoader\n",
    "train_loader = DataLoader(dataset_train, batch_size=100, shuffle=True)\n",
    "test_loader = DataLoader(dataset_test, batch_size=100, shuffle=False)"
   ]
  },
  {
   "cell_type": "code",
   "execution_count": 21,
   "metadata": {},
   "outputs": [],
   "source": [
    "class simple_nn(torch.nn.Module):\n",
    "    def __init__(self):\n",
    "        super(simple_nn, self).__init__()\n",
    "        self.fc1 = torch.nn.Linear(8, 16)\n",
    "        self.fc2 = torch.nn.Linear(16, 32)\n",
    "        self.fc3 = torch.nn.Linear(32, 1)\n",
    "    def forward(self, x):\n",
    "        x = self.fc1(x)\n",
    "        x = torch.relu(x)\n",
    "        x = self.fc2(x)\n",
    "        x = torch.relu(x)\n",
    "        xf = self.fc3(x)\n",
    "        return xf,x\n"
   ]
  },
  {
   "cell_type": "code",
   "execution_count": 50,
   "metadata": {},
   "outputs": [
    {
     "data": {
      "text/plain": [
       "simple_nn(\n",
       "  (fc1): Linear(in_features=8, out_features=16, bias=True)\n",
       "  (fc2): Linear(in_features=16, out_features=32, bias=True)\n",
       "  (fc3): Linear(in_features=32, out_features=1, bias=True)\n",
       ")"
      ]
     },
     "execution_count": 50,
     "metadata": {},
     "output_type": "execute_result"
    }
   ],
   "source": [
    "model = simple_nn()\n",
    "model.cuda()"
   ]
  },
  {
   "cell_type": "code",
   "execution_count": 51,
   "metadata": {},
   "outputs": [],
   "source": [
    "import torch.optim as optim\n",
    "optimizer = optim.Adam(model.parameters(), lr=0.001)"
   ]
  },
  {
   "cell_type": "code",
   "execution_count": 52,
   "metadata": {},
   "outputs": [
    {
     "name": "stdout",
     "output_type": "stream",
     "text": [
      "losses: 12.827824698554146\n",
      "val_losses: 13.359480857849121\n",
      "errors: 35.07183074951172\n",
      "losses: 12.54899591869778\n",
      "val_losses: 12.980097611745197\n",
      "errors: 34.97074508666992\n",
      "losses: 12.203702220210323\n",
      "val_losses: 12.579059176974825\n",
      "errors: 34.84500503540039\n",
      "losses: 11.849495437410143\n",
      "val_losses: 12.144580284754435\n",
      "errors: 34.674137115478516\n",
      "losses: 11.45729791853163\n",
      "val_losses: 11.665739186604817\n",
      "errors: 34.42488098144531\n",
      "losses: 11.019202991768166\n",
      "val_losses: 11.1326441499922\n",
      "errors: 34.034027099609375\n",
      "losses: 10.526872551630413\n",
      "val_losses: 10.539772896539597\n",
      "errors: 33.376014709472656\n",
      "losses: 9.984488361411625\n",
      "val_losses: 9.898152351379395\n",
      "errors: 32.24207305908203\n",
      "losses: 9.402301526363985\n",
      "val_losses: 9.227596150504219\n",
      "errors: 30.202180862426758\n",
      "losses: 8.802138612005447\n",
      "val_losses: 8.557985870043437\n",
      "errors: 26.853151321411133\n",
      "losses: 8.202048991665695\n",
      "val_losses: 7.920596249175795\n",
      "errors: 23.49087905883789\n",
      "losses: 7.637614451072834\n",
      "val_losses: 7.344267858399285\n",
      "errors: 23.957584381103516\n",
      "losses: 7.126923743985657\n",
      "val_losses: 6.8412337349011345\n",
      "errors: 28.29823112487793\n",
      "losses: 6.680287735329734\n",
      "val_losses: 6.405395560321353\n",
      "errors: 31.458454132080078\n",
      "losses: 6.28592327479963\n",
      "val_losses: 6.024090772204929\n",
      "errors: 30.764970779418945\n",
      "losses: 5.940071589416927\n",
      "val_losses: 5.687432677795489\n",
      "errors: 28.403039932250977\n",
      "losses: 5.631240331269557\n",
      "val_losses: 5.388118567419987\n",
      "errors: 25.539886474609375\n",
      "losses: 5.356371361532329\n",
      "val_losses: 5.120811453572026\n",
      "errors: 23.99045181274414\n",
      "losses: 5.107722241278976\n",
      "val_losses: 4.880631154043632\n",
      "errors: 22.891904830932617\n",
      "losses: 4.881676958666906\n",
      "val_losses: 4.663553793231646\n",
      "errors: 22.44902992248535\n",
      "losses: 4.67807398965119\n",
      "val_losses: 4.466429056629302\n",
      "errors: 22.023134231567383\n",
      "losses: 4.491533203257454\n",
      "val_losses: 4.2864006608724585\n",
      "errors: 21.72515869140625\n",
      "losses: 4.320221283297607\n",
      "val_losses: 4.121425807044125\n",
      "errors: 21.60753059387207\n",
      "losses: 4.163546548397453\n",
      "val_losses: 3.9696987647977138\n",
      "errors: 21.02627182006836\n",
      "losses: 4.018270494540532\n",
      "val_losses: 3.829644502798716\n",
      "errors: 20.470075607299805\n",
      "losses: 3.883650250159777\n",
      "val_losses: 3.699956276477911\n",
      "errors: 20.160152435302734\n",
      "losses: 3.7582319988390056\n",
      "val_losses: 3.579380561540156\n",
      "errors: 19.80799102783203\n",
      "losses: 3.6423707274453982\n",
      "val_losses: 3.4670275432013327\n",
      "errors: 19.496456146240234\n",
      "losses: 3.5333947765416114\n",
      "val_losses: 3.3620447934358966\n",
      "errors: 19.257932662963867\n",
      "losses: 3.4309585628686126\n",
      "val_losses: 3.2637071920765766\n",
      "errors: 19.015243530273438\n",
      "losses: 3.3353801005416446\n",
      "val_losses: 3.171338644399438\n",
      "errors: 18.698596954345703\n",
      "losses: 3.2449125130143432\n",
      "val_losses: 3.084386819973588\n",
      "errors: 18.50382423400879\n",
      "losses: 3.1594632740574653\n",
      "val_losses: 3.0024298432499474\n",
      "errors: 18.080955505371094\n",
      "losses: 3.07904713858966\n",
      "val_losses: 2.9250289306921116\n",
      "errors: 17.813932418823242\n",
      "losses: 3.0031207973048804\n",
      "val_losses: 2.851777948651995\n",
      "errors: 17.74657440185547\n",
      "losses: 2.930566271054156\n",
      "val_losses: 2.782380019073133\n",
      "errors: 17.61880111694336\n",
      "losses: 2.8617441024150216\n",
      "val_losses: 2.716502255147642\n",
      "errors: 17.570350646972656\n",
      "losses: 2.7963192538734067\n",
      "val_losses: 2.653874610338295\n",
      "errors: 17.499950408935547\n",
      "losses: 2.7342417952511724\n",
      "val_losses: 2.5942648751103983\n",
      "errors: 17.276988983154297\n",
      "losses: 2.6747953477005164\n",
      "val_losses: 2.537421761949857\n",
      "errors: 17.058629989624023\n",
      "losses: 2.6181847006890187\n",
      "val_losses: 2.4831564831055277\n",
      "errors: 16.77287483215332\n",
      "losses: 2.5645118777162184\n",
      "val_losses: 2.4312980458849953\n",
      "errors: 16.430240631103516\n",
      "losses: 2.5130369414885836\n",
      "val_losses: 2.381682257781657\n",
      "errors: 16.295459747314453\n",
      "losses: 2.4635439168925237\n",
      "val_losses: 2.334139649615143\n",
      "errors: 15.824471473693848\n",
      "losses: 2.4160471037950044\n",
      "val_losses: 2.2885793061168105\n",
      "errors: 15.76828670501709\n",
      "losses: 2.370610956084613\n",
      "val_losses: 2.2448287688303683\n",
      "errors: 15.56590747833252\n",
      "losses: 2.327376839680593\n",
      "val_losses: 2.202808312596159\n",
      "errors: 15.295537948608398\n",
      "losses: 2.2856181773736526\n",
      "val_losses: 2.162425676567687\n",
      "errors: 15.482817649841309\n",
      "losses: 2.2455250529610384\n",
      "val_losses: 2.1235501771273255\n",
      "errors: 15.176210403442383\n",
      "losses: 2.206668770776855\n",
      "val_losses: 2.086129341820876\n",
      "errors: 14.908804893493652\n",
      "losses: 2.169374431984617\n",
      "val_losses: 2.0500834861806796\n",
      "errors: 14.772128105163574\n",
      "losses: 2.133251381480796\n",
      "val_losses: 2.015310203417754\n",
      "errors: 14.635146141052246\n",
      "losses: 2.098372686584041\n",
      "val_losses: 1.9817274428388612\n",
      "errors: 14.439467430114746\n",
      "losses: 2.0648909797700346\n",
      "val_losses: 1.9492837042536268\n",
      "errors: 14.364517211914062\n",
      "losses: 2.032394865456254\n",
      "val_losses: 1.9178910685308055\n",
      "errors: 14.346831321716309\n",
      "losses: 2.0008607366610143\n",
      "val_losses: 1.8875222917468777\n",
      "errors: 14.00108814239502\n",
      "losses: 1.9703990667477456\n",
      "val_losses: 1.8581467780627705\n",
      "errors: 13.949369430541992\n",
      "losses: 1.9409089213472677\n",
      "val_losses: 1.829697312894224\n",
      "errors: 13.734825134277344\n",
      "losses: 1.912366247642961\n",
      "val_losses: 1.8021318114410014\n",
      "errors: 13.534591674804688\n",
      "losses: 1.8847891750435037\n",
      "val_losses: 1.775401537699832\n",
      "errors: 13.333609580993652\n",
      "losses: 1.8579356928775004\n",
      "val_losses: 1.7494976517281247\n",
      "errors: 13.255291938781738\n",
      "losses: 1.8318754473040184\n",
      "val_losses: 1.7243373780160822\n",
      "errors: 13.229630470275879\n",
      "losses: 1.8064901863456406\n",
      "val_losses: 1.6999236777345972\n",
      "errors: 12.883378028869629\n",
      "losses: 1.7819557916890416\n",
      "val_losses: 1.676202804160615\n",
      "errors: 12.783421516418457\n",
      "losses: 1.7580871461548357\n",
      "val_losses: 1.653133358481603\n",
      "errors: 12.808501243591309\n",
      "losses: 1.7349808290851638\n",
      "val_losses: 1.6306979061678204\n",
      "errors: 12.649544715881348\n",
      "losses: 1.712424407946332\n",
      "val_losses: 1.608862470779846\n",
      "errors: 12.535161018371582\n",
      "losses: 1.6906852829543986\n",
      "val_losses: 1.5876049015524925\n",
      "errors: 12.382223129272461\n",
      "losses: 1.6694081485655383\n",
      "val_losses: 1.5669242982271212\n",
      "errors: 12.174053192138672\n",
      "losses: 1.6485614081223807\n",
      "val_losses: 1.5467868089321113\n",
      "errors: 12.118467330932617\n",
      "losses: 1.6283127636603536\n",
      "val_losses: 1.5271777944735518\n",
      "errors: 12.037965774536133\n",
      "losses: 1.6085946146904686\n",
      "val_losses: 1.5080485836844202\n",
      "errors: 11.705819129943848\n",
      "losses: 1.5893533298096518\n",
      "val_losses: 1.4893925263116894\n",
      "errors: 11.569400787353516\n",
      "losses: 1.5704951997477192\n",
      "val_losses: 1.4712156454386476\n",
      "errors: 11.376930236816406\n",
      "losses: 1.5521150471214895\n",
      "val_losses: 1.4534703296754097\n",
      "errors: 11.326425552368164\n",
      "losses: 1.5342018211380257\n",
      "val_losses: 1.4361546090232178\n",
      "errors: 11.196044921875\n",
      "losses: 1.5167114406845614\n",
      "val_losses: 1.419252320801541\n",
      "errors: 11.169095039367676\n",
      "losses: 1.499608453554221\n",
      "val_losses: 1.4027402200377905\n",
      "errors: 11.045443534851074\n",
      "losses: 1.4831064383796668\n",
      "val_losses: 1.3866089400737096\n",
      "errors: 11.016060829162598\n",
      "losses: 1.4669785114936533\n",
      "val_losses: 1.3708588319520156\n",
      "errors: 10.828222274780273\n",
      "losses: 1.4510704888176529\n",
      "val_losses: 1.3554543712992728\n",
      "errors: 10.765268325805664\n",
      "losses: 1.435580647765056\n",
      "val_losses: 1.340397190454045\n",
      "errors: 10.758734703063965\n",
      "losses: 1.4203474331033759\n",
      "val_losses: 1.3257072678651198\n",
      "errors: 10.464761734008789\n",
      "losses: 1.4053746138122822\n",
      "val_losses: 1.3113222848328334\n",
      "errors: 10.403468132019043\n",
      "losses: 1.3907516640677955\n",
      "val_losses: 1.2972381751619133\n",
      "errors: 10.341338157653809\n",
      "losses: 1.3764214118803044\n",
      "val_losses: 1.2834481049415678\n",
      "errors: 10.274991989135742\n",
      "losses: 1.3625142687543907\n",
      "val_losses: 1.2699465602065412\n",
      "errors: 10.177295684814453\n",
      "losses: 1.3488084748199192\n",
      "val_losses: 1.2567462535349259\n",
      "errors: 10.033580780029297\n",
      "losses: 1.335432093269593\n",
      "val_losses: 1.243805955914076\n",
      "errors: 10.055107116699219\n",
      "losses: 1.3222527724633248\n",
      "val_losses: 1.2311279300186369\n",
      "errors: 10.0477876663208\n",
      "losses: 1.309378373180772\n",
      "val_losses: 1.2187157289121615\n",
      "errors: 9.976629257202148\n",
      "losses: 1.2967501823938845\n",
      "val_losses: 1.2065444279030182\n",
      "errors: 9.916881561279297\n",
      "losses: 1.2843509144555854\n",
      "val_losses: 1.1946229345989698\n",
      "errors: 9.68361759185791\n",
      "losses: 1.2722160231066655\n",
      "val_losses: 1.182934388016344\n",
      "errors: 9.640666961669922\n",
      "losses: 1.2602797567147264\n",
      "val_losses: 1.1714754114025518\n",
      "errors: 9.500210762023926\n",
      "losses: 1.2486814147171874\n",
      "val_losses: 1.160236597319858\n",
      "errors: 9.458817481994629\n",
      "losses: 1.2372151611443236\n",
      "val_losses: 1.1492130313311861\n",
      "errors: 9.427408218383789\n",
      "losses: 1.22600671498616\n",
      "val_losses: 1.1384112526897063\n",
      "errors: 9.228415489196777\n",
      "losses: 1.215001195251072\n",
      "val_losses: 1.127814867969615\n",
      "errors: 9.198664665222168\n",
      "losses: 1.2041717727647887\n",
      "val_losses: 1.117422721249362\n",
      "errors: 9.059212684631348\n",
      "losses: 1.1935175558423052\n",
      "val_losses: 1.1072219408458415\n",
      "errors: 8.989940643310547\n",
      "losses: 1.1830775018432431\n",
      "val_losses: 1.0972068379541824\n",
      "errors: 9.019136428833008\n",
      "losses: 1.1728596412923342\n",
      "val_losses: 1.087386610691698\n",
      "errors: 8.87283992767334\n",
      "losses: 1.1627825177075644\n",
      "val_losses: 1.0777299244625447\n",
      "errors: 8.866671562194824\n",
      "losses: 1.1528899980915917\n",
      "val_losses: 1.0682529364786453\n",
      "errors: 8.77626895904541\n",
      "losses: 1.1431321328197386\n",
      "val_losses: 1.0589457022131614\n",
      "errors: 8.794337272644043\n",
      "losses: 1.1335623290540644\n",
      "val_losses: 1.049803978627159\n",
      "errors: 8.746711730957031\n",
      "losses: 1.1241293790915006\n",
      "val_losses: 1.0408258876291876\n",
      "errors: 8.708446502685547\n",
      "losses: 1.1149669563612319\n",
      "val_losses: 1.0320070160364887\n",
      "errors: 8.619949340820312\n",
      "losses: 1.1058869311303803\n",
      "val_losses: 1.023352726977883\n",
      "errors: 8.489151954650879\n",
      "losses: 1.0969748089576625\n",
      "val_losses: 1.0148377030998381\n",
      "errors: 8.64354133605957\n",
      "losses: 1.088182340095204\n",
      "val_losses: 1.0064684505507882\n",
      "errors: 8.496240615844727\n",
      "losses: 1.07951876531367\n",
      "val_losses: 0.9982433854588539\n",
      "errors: 8.461699485778809\n",
      "losses: 1.0710422428974748\n",
      "val_losses: 0.9901551560700286\n",
      "errors: 8.366168975830078\n",
      "losses: 1.062707664705993\n",
      "val_losses: 0.9821933345086331\n",
      "errors: 8.369547843933105\n",
      "losses: 1.0544589745287583\n",
      "val_losses: 0.9743666412822644\n",
      "errors: 8.346423149108887\n",
      "losses: 1.0463881479312667\n",
      "val_losses: 0.9666682621331465\n",
      "errors: 8.293900489807129\n",
      "losses: 1.0384582257540214\n",
      "val_losses: 0.959099586116476\n",
      "errors: 8.194269180297852\n",
      "losses: 1.030593791477431\n",
      "val_losses: 0.9516542833872368\n",
      "errors: 8.168209075927734\n",
      "losses: 1.022945259332105\n",
      "val_losses: 0.9443338472706576\n",
      "errors: 8.139067649841309\n",
      "losses: 1.0153447176826669\n",
      "val_losses: 0.9371247596464045\n",
      "errors: 8.16348648071289\n",
      "losses: 1.0078269114517666\n",
      "val_losses: 0.9300281451862367\n",
      "errors: 8.126127243041992\n",
      "losses: 1.0004703203164034\n",
      "val_losses: 0.923049794868402\n",
      "errors: 8.091618537902832\n",
      "losses: 0.9932071133032708\n",
      "val_losses: 0.9161884393743288\n",
      "errors: 8.217671394348145\n",
      "losses: 0.986075249599086\n",
      "val_losses: 0.909431481997172\n",
      "errors: 7.833772659301758\n",
      "losses: 0.9790418352504677\n",
      "val_losses: 0.9027751105684767\n",
      "errors: 7.996755123138428\n",
      "losses: 0.9721261922625316\n",
      "val_losses: 0.8962215284408703\n",
      "errors: 7.940110683441162\n",
      "losses: 0.9652637755562965\n",
      "val_losses: 0.8897646232702149\n",
      "errors: 7.912474632263184\n",
      "losses: 0.9584979603643\n",
      "val_losses: 0.8834076456013269\n",
      "errors: 7.7326765060424805\n",
      "losses: 0.9518655038383018\n",
      "val_losses: 0.877143708568735\n",
      "errors: 7.782008647918701\n",
      "losses: 0.9452920616450352\n",
      "val_losses: 0.8709735757275544\n",
      "errors: 7.7913031578063965\n",
      "losses: 0.9388260226916234\n",
      "val_losses: 0.8648890600248118\n",
      "errors: 7.656125545501709\n",
      "losses: 0.932456345309067\n",
      "val_losses: 0.8588934925415164\n",
      "errors: 7.671072006225586\n",
      "losses: 0.9262316912492956\n",
      "val_losses: 0.8529823648914769\n",
      "errors: 7.570906162261963\n",
      "losses: 0.9200356952784728\n",
      "val_losses: 0.847166358008061\n",
      "errors: 7.6042866706848145\n",
      "losses: 0.9139400806393645\n",
      "val_losses: 0.8414373107108416\n",
      "errors: 7.6791205406188965\n",
      "losses: 0.9078970730020715\n",
      "val_losses: 0.8357811313657285\n",
      "errors: 7.475529193878174\n",
      "losses: 0.9019352494050628\n",
      "val_losses: 0.8302107417173145\n",
      "errors: 7.5162353515625\n",
      "losses: 0.8961199361303871\n",
      "val_losses: 0.824719892667352\n",
      "errors: 7.512242794036865\n",
      "losses: 0.8903088085087282\n",
      "val_losses: 0.8193089750905832\n",
      "errors: 7.5411810874938965\n",
      "losses: 0.8845868318380569\n",
      "val_losses: 0.8139685577147114\n",
      "errors: 7.452465057373047\n",
      "losses: 0.8789562307187416\n",
      "val_losses: 0.8087084129312788\n",
      "errors: 7.5262250900268555\n",
      "losses: 0.8733811344439055\n",
      "val_losses: 0.8035169805732224\n",
      "errors: 7.389933109283447\n",
      "losses: 0.8678953482332513\n",
      "val_losses: 0.7983978155793415\n",
      "errors: 7.301499366760254\n",
      "losses: 0.8624809029629862\n",
      "val_losses: 0.793350440503537\n",
      "errors: 7.303897380828857\n",
      "losses: 0.8571222021274235\n",
      "val_losses: 0.7883757625676726\n",
      "errors: 7.356350421905518\n",
      "losses: 0.8518309690542547\n",
      "val_losses: 0.7834660891367464\n",
      "errors: 7.338940143585205\n",
      "losses: 0.8466406772192847\n",
      "val_losses: 0.7786121768457396\n",
      "errors: 7.205289840698242\n",
      "losses: 0.8414916979325388\n",
      "val_losses: 0.7738264799534742\n",
      "errors: 7.214978218078613\n",
      "losses: 0.8364130823038243\n",
      "val_losses: 0.7691129313078192\n",
      "errors: 7.4915547370910645\n",
      "losses: 0.8314209362057485\n",
      "val_losses: 0.7644469101006621\n",
      "errors: 7.056657314300537\n",
      "losses: 0.8264423096797576\n",
      "val_losses: 0.7598511058543074\n",
      "errors: 7.208727836608887\n",
      "losses: 0.821538156906201\n",
      "val_losses: 0.7553101751653069\n",
      "errors: 7.218794822692871\n",
      "losses: 0.8166888936235963\n",
      "val_losses: 0.7508294601315931\n",
      "errors: 7.245096683502197\n",
      "losses: 0.8118993216518006\n",
      "val_losses: 0.7464006930349335\n",
      "errors: 7.148735046386719\n",
      "losses: 0.8072060416173986\n",
      "val_losses: 0.7420259792373604\n",
      "errors: 7.154966354370117\n",
      "losses: 0.8025311242079828\n",
      "val_losses: 0.7377163516693688\n",
      "errors: 7.263073444366455\n",
      "losses: 0.7978930533870153\n",
      "val_losses: 0.7334646616791245\n",
      "errors: 7.295371055603027\n",
      "losses: 0.7933145812071553\n",
      "val_losses: 0.7292579441903397\n",
      "errors: 7.0761637687683105\n",
      "losses: 0.7887969055316516\n",
      "val_losses: 0.7251021044561641\n",
      "errors: 7.084428787231445\n",
      "losses: 0.7843334286751996\n",
      "val_losses: 0.7210025907442067\n",
      "errors: 7.037384510040283\n",
      "losses: 0.7799168546851445\n",
      "val_losses: 0.7169626674580354\n",
      "errors: 7.0931572914123535\n",
      "losses: 0.7755525523178337\n",
      "val_losses: 0.7129687154951272\n",
      "errors: 7.1322221755981445\n",
      "losses: 0.7712283914600851\n",
      "val_losses: 0.7090125802556069\n",
      "errors: 6.911142349243164\n",
      "losses: 0.7669872941543359\n",
      "val_losses: 0.7051121300519115\n",
      "errors: 7.127372741699219\n",
      "losses: 0.7627763682490133\n",
      "val_losses: 0.7012472874428853\n",
      "errors: 6.932178020477295\n",
      "losses: 0.7586245682791958\n",
      "val_losses: 0.6974356576369075\n",
      "errors: 7.129363536834717\n",
      "losses: 0.7545067000562552\n",
      "val_losses: 0.6936690038114433\n",
      "errors: 6.885156631469727\n",
      "losses: 0.7504272622525948\n",
      "val_losses: 0.6899490396343393\n",
      "errors: 7.041285991668701\n",
      "losses: 0.7464041609450981\n",
      "val_losses: 0.6862725705054461\n",
      "errors: 7.090830326080322\n",
      "losses: 0.7424287355073461\n",
      "val_losses: 0.6826364262134825\n",
      "errors: 6.893957614898682\n",
      "losses: 0.7384938440978701\n",
      "val_losses: 0.679044651069729\n",
      "errors: 6.938440799713135\n",
      "losses: 0.7346092205609488\n",
      "val_losses: 0.6754929682666971\n",
      "errors: 6.946774482727051\n",
      "losses: 0.730755387479499\n",
      "val_losses: 0.6719811507768331\n",
      "errors: 6.881261348724365\n",
      "losses: 0.726937021006431\n",
      "val_losses: 0.6685129996921336\n",
      "errors: 6.879463195800781\n",
      "losses: 0.7231610901594971\n",
      "val_losses: 0.6650896678523471\n",
      "errors: 7.095803737640381\n",
      "losses: 0.7194354732679314\n",
      "val_losses: 0.661693103001111\n",
      "errors: 6.802524566650391\n",
      "losses: 0.7157494559286444\n",
      "val_losses: 0.6583286479938678\n",
      "errors: 6.899316787719727\n",
      "losses: 0.7121152705637233\n",
      "val_losses: 0.655005009702686\n",
      "errors: 6.9496870040893555\n",
      "losses: 0.7085255353274629\n",
      "val_losses: 0.6517310386523605\n",
      "errors: 7.025148868560791\n",
      "losses: 0.7049464429685809\n",
      "val_losses: 0.6484753005412403\n",
      "errors: 6.6808648109436035\n",
      "losses: 0.7014307573480902\n",
      "val_losses: 0.6452618613088633\n",
      "errors: 6.9222259521484375\n",
      "losses: 0.6979348294484431\n",
      "val_losses: 0.6420977560494551\n",
      "errors: 6.898466110229492\n",
      "losses: 0.6944931295243709\n",
      "val_losses: 0.6389620296279158\n",
      "errors: 6.9787163734436035\n",
      "losses: 0.6910643409713879\n",
      "val_losses: 0.6358578438828658\n",
      "errors: 6.851768493652344\n",
      "losses: 0.6876757586566262\n",
      "val_losses: 0.632795507241855\n",
      "errors: 7.105829238891602\n",
      "losses: 0.6843264497854192\n",
      "val_losses: 0.6297545902523978\n",
      "errors: 6.793352127075195\n",
      "losses: 0.6809955909374846\n",
      "val_losses: 0.6267432672506634\n",
      "errors: 6.820093154907227\n",
      "losses: 0.6777153629437309\n",
      "val_losses: 0.6237713802520455\n",
      "errors: 6.951554775238037\n",
      "losses: 0.6744619228174551\n",
      "val_losses: 0.6208322685146541\n",
      "errors: 6.981801509857178\n",
      "losses: 0.6712461974116399\n",
      "val_losses: 0.617912347755195\n",
      "errors: 6.768251419067383\n",
      "losses: 0.6680598112084057\n",
      "val_losses: 0.6150231499729367\n",
      "errors: 6.792044162750244\n",
      "losses: 0.664893121204983\n",
      "val_losses: 0.6121723374001207\n",
      "errors: 7.0652031898498535\n",
      "losses: 0.6617716380265912\n",
      "val_losses: 0.6093489094173273\n",
      "errors: 6.794775009155273\n",
      "losses: 0.6586640946418472\n",
      "val_losses: 0.6065519159420942\n",
      "errors: 6.977821350097656\n",
      "losses: 0.6555929127827185\n",
      "val_losses: 0.6037790837197178\n",
      "errors: 6.8281025886535645\n",
      "losses: 0.6525457800569268\n",
      "val_losses: 0.6010300786172981\n",
      "errors: 6.877427101135254\n",
      "losses: 0.649530520399261\n",
      "val_losses: 0.5983094816481827\n",
      "errors: 6.7371649742126465\n",
      "losses: 0.6465816349394324\n",
      "val_losses: 0.5956144693870741\n",
      "errors: 6.753477096557617\n",
      "losses: 0.6436321280979448\n",
      "val_losses: 0.5929491111574073\n",
      "errors: 6.8327717781066895\n"
     ]
    }
   ],
   "source": [
    "import numpy as np\n",
    "losses = []\n",
    "val_losses = []\n",
    "errors = []\n",
    "for i in range(200):\n",
    "    Lo = []\n",
    "    for inputs, outputs in train_loader:\n",
    "        inputs = inputs.cuda()\n",
    "        outputs = outputs.cuda()\n",
    "        model.zero_grad()\n",
    "        pred,_ = model(inputs)\n",
    "        loss = torch.nn.MSELoss()(pred, outputs)\n",
    "        \n",
    "        loss.backward()\n",
    "        optimizer.step()\n",
    "        Lo.append(loss.item())\n",
    "    \n",
    "    losses.append(np.mean(Lo))\n",
    "    err = []\n",
    "    vLo = []\n",
    "    for inputs, outputs in test_loader:\n",
    "        inputs = inputs.cuda()\n",
    "        outputs = outputs.cuda()\n",
    "        pred,_ = model(inputs)\n",
    "        loss = torch.nn.MSELoss()(pred, outputs)\n",
    "        vLo.append(loss.item())\n",
    "        err.append(abs(torch.exp(pred.detach().cpu())- torch.exp(outputs.detach().cpu())).numpy())\n",
    "    errors.append(np.concatenate(err,axis=0).mean())\n",
    "    val_losses.append(np.mean(vLo))\n",
    "    print(f'losses: {np.mean(losses)}')\n",
    "    print(f'val_losses: {np.mean(val_losses)}')\n",
    "    print(f'errors: {np.concatenate(err,axis=0).mean()}')"
   ]
  },
  {
   "cell_type": "code",
   "execution_count": 53,
   "metadata": {},
   "outputs": [
    {
     "data": {
      "text/plain": [
       "200"
      ]
     },
     "execution_count": 53,
     "metadata": {},
     "output_type": "execute_result"
    }
   ],
   "source": [
    "len(val_losses)\n"
   ]
  },
  {
   "cell_type": "code",
   "execution_count": 54,
   "metadata": {},
   "outputs": [
    {
     "data": {
      "image/png": "[encoded data removed]",
      "text/plain": [
       "<Figure size 640x480 with 1 Axes>"
      ]
     },
     "metadata": {},
     "output_type": "display_data"
    }
   ],
   "source": [
    "import matplotlib.pyplot as plt\n",
    "plt.plot(losses)\n",
    "plt.plot(val_losses)\n",
    "plt.show()\n"
   ]
  },
  {
   "cell_type": "code",
   "execution_count": 55,
   "metadata": {},
   "outputs": [],
   "source": [
    "# np.concatenate(errors,axis=0).shape"
   ]
  },
  {
   "cell_type": "code",
   "execution_count": 56,
   "metadata": {},
   "outputs": [
    {
     "data": {
      "text/plain": [
       "(200,)"
      ]
     },
     "execution_count": 56,
     "metadata": {},
     "output_type": "execute_result"
    }
   ],
   "source": [
    "np.array(errors).shape"
   ]
  },
  {
   "cell_type": "code",
   "execution_count": 57,
   "metadata": {},
   "outputs": [
    {
     "data": {
      "image/png": "[encoded data removed]",
      "text/plain": [
       "<Figure size 640x480 with 1 Axes>"
      ]
     },
     "metadata": {},
     "output_type": "display_data"
    }
   ],
   "source": [
    "plt.plot(np.array(errors))\n",
    "plt.plot(len(errors)*[np.mean(df['strength'].to_numpy())])\n",
    "plt.plot(len(errors)*[np.mean(df['strength'].to_numpy())+np.std(df['strength'].to_numpy())])\n",
    "plt.plot(len(errors)*[np.mean(df['strength'].to_numpy())-np.std(df['strength'].to_numpy())])\n",
    "plt.show()"
   ]
  },
  {
   "cell_type": "code",
   "execution_count": 58,
   "metadata": {},
   "outputs": [
    {
     "ename": "NameError",
     "evalue": "name 'pred_y' is not defined",
     "output_type": "error",
     "traceback": [
      "\u001b[0;31m---------------------------------------------------------------------------\u001b[0m",
      "\u001b[0;31mNameError\u001b[0m                                 Traceback (most recent call last)",
      "Cell \u001b[0;32mIn[58], line 1\u001b[0m\n\u001b[0;32m----> 1\u001b[0m plt\u001b[38;5;241m.\u001b[39mscatter(\u001b[43mpred_y\u001b[49m, residuals, alpha\u001b[38;5;241m=\u001b[39m\u001b[38;5;241m0.7\u001b[39m)\n",
      "\u001b[0;31mNameError\u001b[0m: name 'pred_y' is not defined"
     ]
    }
   ],
   "source": [
    "# plt.scatter(pred_y, residuals, alpha=0.7)\n"
   ]
  },
  {
   "cell_type": "code",
   "execution_count": 59,
   "metadata": {},
   "outputs": [
    {
     "data": {
      "text/plain": [
       "tensor([279.9654,  75.6909,  53.2195, 181.9832,   6.1572, 972.9185, 772.8320,\n",
       "         45.7015,  35.7656])"
      ]
     },
     "execution_count": 59,
     "metadata": {},
     "output_type": "execute_result"
    }
   ],
   "source": [
    "mean"
   ]
  },
  {
   "cell_type": "code",
   "execution_count": 61,
   "metadata": {},
   "outputs": [],
   "source": [
    "\n",
    "err = []\n",
    "mean_err = []\n",
    "pred_y = []\n",
    "\n",
    "for inputs, outputs in test_loader:\n",
    "    inputs = inputs.cuda()\n",
    "    outputs = outputs.cuda()\n",
    "    pred,_ = model(inputs)\n",
    "    loss = torch.nn.MSELoss()(pred, outputs)\n",
    "    val_losses.append(loss.item())\n",
    "    pred_y.append(torch.exp(pred.detach().cpu()).numpy())\n",
    "    y_p = (torch.exp(pred.detach().cpu())- torch.exp(outputs.detach().cpu()))**2\n",
    "    y_t = (mean[-1].repeat(outputs.shape[0]).reshape(outputs.shape[0],1) - torch.exp(outputs.detach().cpu()))**2\n",
    "    err.append(y_p.numpy())\n",
    "    mean_err.append(y_t.numpy())\n"
   ]
  },
  {
   "cell_type": "code",
   "execution_count": 63,
   "metadata": {},
   "outputs": [
    {
     "data": {
      "text/plain": [
       "(206, 8)"
      ]
     },
     "execution_count": 63,
     "metadata": {},
     "output_type": "execute_result"
    }
   ],
   "source": [
    "test[['cement','slag','ash','water','superplastic','coarseagg','fineagg','age']].to_numpy().shape"
   ]
  },
  {
   "cell_type": "code",
   "execution_count": 64,
   "metadata": {},
   "outputs": [],
   "source": [
    "err = np.concatenate(err,axis=0)\n",
    "mean_err = np.concatenate(mean_err,axis=0)\n"
   ]
  },
  {
   "cell_type": "code",
   "execution_count": 65,
   "metadata": {},
   "outputs": [],
   "source": [
    "pred_y = np.concatenate(pred_y,axis=0)"
   ]
  },
  {
   "cell_type": "code",
   "execution_count": 66,
   "metadata": {},
   "outputs": [
    {
     "name": "stdout",
     "output_type": "stream",
     "text": [
      "(206, 1)\n",
      "(206, 1)\n",
      "(206, 1)\n"
     ]
    }
   ],
   "source": [
    "print(err.shape)\n",
    "print(mean_err.shape)\n",
    "print(pred_y.shape)"
   ]
  },
  {
   "cell_type": "code",
   "execution_count": 68,
   "metadata": {},
   "outputs": [
    {
     "data": {
      "text/plain": [
       "1030"
      ]
     },
     "execution_count": 68,
     "metadata": {},
     "output_type": "execute_result"
    }
   ],
   "source": [
    "1030"
   ]
  },
  {
   "cell_type": "code",
   "execution_count": 69,
   "metadata": {},
   "outputs": [
    {
     "name": "stdout",
     "output_type": "stream",
     "text": [
      "0.6032081842422485\n"
     ]
    }
   ],
   "source": [
    "print(1- np.mean(err)/np.mean(mean_err))"
   ]
  },
  {
   "cell_type": "code",
   "execution_count": 70,
   "metadata": {},
   "outputs": [],
   "source": [
    "n = 1030\n",
    "p = 8"
   ]
  },
  {
   "cell_type": "code",
   "execution_count": 71,
   "metadata": {},
   "outputs": [
    {
     "name": "stdout",
     "output_type": "stream",
     "text": [
      "0.6000991352500664\n"
     ]
    }
   ],
   "source": [
    "print(1- (np.mean(err)/(n-p-1))/(np.mean(mean_err)/(n-1)))"
   ]
  },
  {
   "cell_type": "code",
   "execution_count": 72,
   "metadata": {},
   "outputs": [
    {
     "data": {
      "text/plain": [
       "array([2991.5735], dtype=float32)"
      ]
     },
     "execution_count": 72,
     "metadata": {},
     "output_type": "execute_result"
    }
   ],
   "source": [
    "max(err)"
   ]
  },
  {
   "cell_type": "code",
   "execution_count": 73,
   "metadata": {},
   "outputs": [
    {
     "data": {
      "text/plain": [
       "(163, 1)"
      ]
     },
     "execution_count": 73,
     "metadata": {},
     "output_type": "execute_result"
    }
   ],
   "source": [
    "err[np.where(err < 100)[1]].shape"
   ]
  },
  {
   "cell_type": "code",
   "execution_count": 74,
   "metadata": {},
   "outputs": [
    {
     "data": {
      "text/plain": [
       "(188, 1)"
      ]
     },
     "execution_count": 74,
     "metadata": {},
     "output_type": "execute_result"
    }
   ],
   "source": [
    "err[np.where(err < 300)[1]].shape"
   ]
  },
  {
   "cell_type": "code",
   "execution_count": 75,
   "metadata": {},
   "outputs": [
    {
     "data": {
      "text/plain": [
       "<matplotlib.collections.PathCollection at 0x7fed80799600>"
      ]
     },
     "execution_count": 75,
     "metadata": {},
     "output_type": "execute_result"
    },
    {
     "data": {
      "image/png": "[encoded data removed]",
      "text/plain": [
       "<Figure size 640x480 with 1 Axes>"
      ]
     },
     "metadata": {},
     "output_type": "display_data"
    }
   ],
   "source": [
    "plt.scatter(pred_y,err, alpha=0.7)\n"
   ]
  },
  {
   "cell_type": "code",
   "execution_count": 76,
   "metadata": {},
   "outputs": [],
   "source": [
    "# !pip install statsmodels"
   ]
  },
  {
   "cell_type": "code",
   "execution_count": 77,
   "metadata": {},
   "outputs": [],
   "source": [
    "from statsmodels.stats.diagnostic import het_breuschpagan\n",
    "import statsmodels.api as sm\n"
   ]
  },
  {
   "cell_type": "code",
   "execution_count": 78,
   "metadata": {},
   "outputs": [
    {
     "data": {
      "text/plain": [
       "(206,)"
      ]
     },
     "execution_count": 78,
     "metadata": {},
     "output_type": "execute_result"
    }
   ],
   "source": [
    "err.flatten().shape"
   ]
  },
  {
   "cell_type": "code",
   "execution_count": 80,
   "metadata": {},
   "outputs": [],
   "source": [
    "X_with_const = sm.add_constant(test[['cement','slag','ash','water','superplastic','coarseagg','fineagg','age']].to_numpy())  # 상수항 추가\n",
    "bp_test = het_breuschpagan(err.flatten(), X_with_const)\n"
   ]
  },
  {
   "cell_type": "code",
   "execution_count": 81,
   "metadata": {},
   "outputs": [
    {
     "name": "stdout",
     "output_type": "stream",
     "text": [
      "Breusch-Pagan Test Results:\n",
      "Lagrange Multiplier Statistic: 25.629721153067834\n",
      "p-value: 0.001214962520734009\n",
      "F-statistic: 3.499090246070383\n",
      "F-statistic p-value: 0.0008395971342929447\n"
     ]
    }
   ],
   "source": [
    "print(\"Breusch-Pagan Test Results:\")\n",
    "print(f\"Lagrange Multiplier Statistic: {bp_test[0]}\")\n",
    "print(f\"p-value: {bp_test[1]}\")\n",
    "print(f\"F-statistic: {bp_test[2]}\")\n",
    "print(f\"F-statistic p-value: {bp_test[3]}\")\n"
   ]
  },
  {
   "cell_type": "code",
   "execution_count": 82,
   "metadata": {},
   "outputs": [
    {
     "name": "stdout",
     "output_type": "stream",
     "text": [
      "The assumption of homoscedasticity is violated.\n"
     ]
    }
   ],
   "source": [
    "if bp_test[1] < 0.05:\n",
    "    print(\"The assumption of homoscedasticity is violated.\")\n",
    "else:\n",
    "    print(\"The assumption of homoscedasticity is satisfied.\")\n"
   ]
  },
  {
   "cell_type": "code",
   "execution_count": 83,
   "metadata": {},
   "outputs": [
    {
     "data": {
      "text/plain": [
       "(array([ 1.,  1.,  1.,  3.,  2.,  5.,  7.,  7.,  4., 14.,  7., 11., 15.,\n",
       "        18.,  9., 18., 18.,  5., 16., 16.,  6., 11.,  9., 13., 15., 14.,\n",
       "        23., 21., 24., 20., 11., 16., 11., 16., 18., 12., 23., 19., 34.,\n",
       "        21., 14., 15., 16., 23., 19., 22., 27., 16., 25., 19., 10., 16.,\n",
       "        23.,  6., 13., 11.,  8.,  9.,  7.,  9., 15.,  8., 13., 12.,  8.,\n",
       "        10., 15., 13.,  5.,  1.,  8.,  5.,  6.,  6.,  7.,  2.,  3.,  6.,\n",
       "         4.,  5.,  8.,  5.,  3.,  2.,  1.,  5.,  4.,  1.,  3.,  4.,  2.,\n",
       "         1.,  2.,  4.,  0.,  5.,  2.,  1.,  1.,  1.]),\n",
       " array([ 2.33  ,  3.1327,  3.9354,  4.7381,  5.5408,  6.3435,  7.1462,\n",
       "         7.9489,  8.7516,  9.5543, 10.357 , 11.1597, 11.9624, 12.7651,\n",
       "        13.5678, 14.3705, 15.1732, 15.9759, 16.7786, 17.5813, 18.384 ,\n",
       "        19.1867, 19.9894, 20.7921, 21.5948, 22.3975, 23.2002, 24.0029,\n",
       "        24.8056, 25.6083, 26.411 , 27.2137, 28.0164, 28.8191, 29.6218,\n",
       "        30.4245, 31.2272, 32.0299, 32.8326, 33.6353, 34.438 , 35.2407,\n",
       "        36.0434, 36.8461, 37.6488, 38.4515, 39.2542, 40.0569, 40.8596,\n",
       "        41.6623, 42.465 , 43.2677, 44.0704, 44.8731, 45.6758, 46.4785,\n",
       "        47.2812, 48.0839, 48.8866, 49.6893, 50.492 , 51.2947, 52.0974,\n",
       "        52.9001, 53.7028, 54.5055, 55.3082, 56.1109, 56.9136, 57.7163,\n",
       "        58.519 , 59.3217, 60.1244, 60.9271, 61.7298, 62.5325, 63.3352,\n",
       "        64.1379, 64.9406, 65.7433, 66.546 , 67.3487, 68.1514, 68.9541,\n",
       "        69.7568, 70.5595, 71.3622, 72.1649, 72.9676, 73.7703, 74.573 ,\n",
       "        75.3757, 76.1784, 76.9811, 77.7838, 78.5865, 79.3892, 80.1919,\n",
       "        80.9946, 81.7973, 82.6   ]),\n",
       " <BarContainer object of 100 artists>)"
      ]
     },
     "execution_count": 83,
     "metadata": {},
     "output_type": "execute_result"
    },
    {
     "data": {
      "image/png": "[encoded data removed]",
      "text/plain": [
       "<Figure size 640x480 with 1 Axes>"
      ]
     },
     "metadata": {},
     "output_type": "display_data"
    }
   ],
   "source": [
    "# df['strength'].to_numpy()\n",
    "plt.hist(df['strength'].to_numpy(),bins=100)"
   ]
  },
  {
   "cell_type": "code",
   "execution_count": 87,
   "metadata": {},
   "outputs": [],
   "source": [
    "feature_list = []\n",
    "for inputs, outputs in test_loader:\n",
    "    inputs = inputs.cuda()\n",
    "    outputs = outputs.cuda()\n",
    "    pred,features = model(inputs)\n",
    "    features = features.detach().cpu().numpy()\n",
    "    feature_list.extend(features)\n",
    "feature_list = np.array(feature_list)"
   ]
  },
  {
   "cell_type": "code",
   "execution_count": 43,
   "metadata": {},
   "outputs": [
    {
     "data": {
      "text/plain": [
       "(1030, 32)"
      ]
     },
     "execution_count": 43,
     "metadata": {},
     "output_type": "execute_result"
    }
   ],
   "source": [
    "feature_list.shape"
   ]
  },
  {
   "cell_type": "code",
   "execution_count": null,
   "metadata": {},
   "outputs": [],
   "source": []
  },
  {
   "cell_type": "code",
   "execution_count": 89,
   "metadata": {},
   "outputs": [
    {
     "data": {
      "image/png": "[encoded data removed]",
      "text/plain": [
       "<Figure size 640x480 with 1 Axes>"
      ]
     },
     "metadata": {},
     "output_type": "display_data"
    }
   ],
   "source": [
    "from sklearn.manifold import TSNE\n",
    "tsne = TSNE(n_components=2)\n",
    "tsne.fit_transform(feature_list)\n",
    "plt.scatter(tsne.embedding_[:, 0], tsne.embedding_[:, 1], c=test['strength'].to_numpy())\n",
    "plt.show()"
   ]
  },
  {
   "cell_type": "code",
   "execution_count": 91,
   "metadata": {},
   "outputs": [
    {
     "data": {
      "image/png": "[encoded data removed]",
      "text/plain": [
       "<Figure size 640x480 with 1 Axes>"
      ]
     },
     "metadata": {},
     "output_type": "display_data"
    }
   ],
   "source": [
    "feature_list = []\n",
    "for inputs, outputs in train_loader:\n",
    "    inputs = inputs.cuda()\n",
    "    outputs = outputs.cuda()\n",
    "    pred,features = model(inputs)\n",
    "    features = features.detach().cpu().numpy()\n",
    "    feature_list.extend(features)\n",
    "feature_list = np.array(feature_list)\n",
    "tsne.fit_transform(feature_list)\n",
    "plt.scatter(tsne.embedding_[:, 0], tsne.embedding_[:, 1], c=train['strength'].to_numpy())\n",
    "plt.show()"
   ]
  },
  {
   "cell_type": "code",
   "execution_count": 46,
   "metadata": {},
   "outputs": [
    {
     "data": {
      "text/plain": [
       "simple_nn(\n",
       "  (fc1): Linear(in_features=8, out_features=16, bias=True)\n",
       "  (fc2): Linear(in_features=16, out_features=32, bias=True)\n",
       "  (fc3): Linear(in_features=32, out_features=1, bias=True)\n",
       ")"
      ]
     },
     "execution_count": 46,
     "metadata": {},
     "output_type": "execute_result"
    }
   ],
   "source": [
    "model"
   ]
  },
  {
   "cell_type": "code",
   "execution_count": 47,
   "metadata": {},
   "outputs": [],
   "source": []
  },
  {
   "cell_type": "code",
   "execution_count": 48,
   "metadata": {},
   "outputs": [
    {
     "data": {
      "text/plain": [
       "tensor([280.1015,  75.5017,  53.0863, 182.0931,   6.1760, 972.9208, 773.0807,\n",
       "         45.5150])"
      ]
     },
     "execution_count": 48,
     "metadata": {},
     "output_type": "execute_result"
    }
   ],
   "source": [
    "mean[:-1]"
   ]
  },
  {
   "cell_type": "code",
   "execution_count": 49,
   "metadata": {},
   "outputs": [
    {
     "data": {
      "text/plain": [
       "tensor([104.3662,  87.4915,  63.7361,  21.3201,   5.9781,  76.6903,  80.4051,\n",
       "         62.8134])"
      ]
     },
     "execution_count": 49,
     "metadata": {},
     "output_type": "execute_result"
    }
   ],
   "source": [
    "std[:-1]"
   ]
  },
  {
   "cell_type": "code",
   "execution_count": 93,
   "metadata": {},
   "outputs": [],
   "source": [
    "import tqdm"
   ]
  },
  {
   "cell_type": "code",
   "execution_count": 107,
   "metadata": {},
   "outputs": [
    {
     "name": "stderr",
     "output_type": "stream",
     "text": [
      "100%|██████████| 3/3 [00:27<00:00,  9.25s/it]\n"
     ]
    }
   ],
   "source": [
    "flag = 0\n",
    "save_SSE = []\n",
    "save_SST = []\n",
    "patience = 10\n",
    "lr_decay_factor = 0.5  \n",
    "for x,y in tqdm.tqdm(test_loader):\n",
    "    x = x.cuda()\n",
    "    y = y.cuda()\n",
    "    # print(x.shape)\n",
    "    # brewa\n",
    "    y_opt = y.detach()\n",
    "    init_x = torch.randn(x.shape[0],x.shape[1], device='cuda', requires_grad=True) # .requires_grad_(True).cuda()\n",
    "    # init_x = mean[:-1].expand(10,8).clone().requires_grad_(True)\n",
    "    init_x.requires_grad = True\n",
    "    optimizer = optim.Adam([init_x], lr=0.1)\n",
    "    \n",
    "    \n",
    "    for param in model.parameters():\n",
    "        param.requires_grad = False\n",
    "\n",
    "    min_val = 1e6\n",
    "    min_yp = None\n",
    "    min_yt = None\n",
    "\n",
    "    no_improve_epochs = 0\n",
    "\n",
    "    for i in range(10000):\n",
    "        optimizer.zero_grad()\n",
    "        # with torch.no_grad():\n",
    "        pred,features = model(init_x)\n",
    "        loss = torch.nn.MSELoss()(pred, y_opt)\n",
    "        loss.backward()\n",
    "        optimizer.step()\n",
    "        if loss.item() < min_val:\n",
    "            min_val = loss.item()\n",
    "            min_yp = (init_x.detach().cpu()*std[:-1] - x.detach().cpu()*std[:-1])**2\n",
    "            min_yt = (mean[:-1].repeat(init_x.shape[0]).reshape(init_x.shape[0],-1) - x.detach().cpu()*std[:-1])**2\n",
    "        \n",
    "            # print(min_x.mean())\n",
    "        else:\n",
    "            no_improve_epochs += 1\n",
    "        \n",
    "        if no_improve_epochs > patience:\n",
    "            optimizer.param_groups[0]['lr'] *= lr_decay_factor\n",
    "            # print(f'lr decayed to {optimizer.param_groups[0][\"lr\"]}')\n",
    "            no_improve_epochs = 0\n",
    "        # print((init_x.detach().cpu() - x.cpu()).numpy().mean())\n",
    "    \n",
    "    save_SSE.append(min_yp.numpy())\n",
    "    save_SST.append(min_yt.numpy())\n",
    "    \n"
   ]
  },
  {
   "cell_type": "code",
   "execution_count": 112,
   "metadata": {},
   "outputs": [
    {
     "name": "stdout",
     "output_type": "stream",
     "text": [
      "(206, 8)\n",
      "(206, 8)\n",
      "0.9512221962213516\n"
     ]
    }
   ],
   "source": [
    "save_SSE = np.concatenate(save_SSE,axis=0)\n",
    "save_SST = np.concatenate(save_SST,axis=0)\n",
    "print(save_SSE.shape)\n",
    "print(save_SST.shape)\n",
    "print(1- np.mean(save_SSE)/np.mean(save_SST))\n"
   ]
  },
  {
   "cell_type": "code",
   "execution_count": 101,
   "metadata": {},
   "outputs": [],
   "source": [
    "# save = torch.tensor(np.array(save))*std[7] + mean[7]\n"
   ]
  },
  {
   "cell_type": "code",
   "execution_count": 102,
   "metadata": {},
   "outputs": [
    {
     "data": {
      "text/plain": [
       "tensor([104.5455,  87.5851,  63.9482,  21.3199,   5.9458,  76.6561,  80.2817,\n",
       "         63.2510,  16.6423])"
      ]
     },
     "execution_count": 102,
     "metadata": {},
     "output_type": "execute_result"
    }
   ],
   "source": [
    "std# np.concatenate(save1,axis=0).shape"
   ]
  },
  {
   "cell_type": "code",
   "execution_count": 113,
   "metadata": {},
   "outputs": [
    {
     "data": {
      "text/plain": [
       "(206, 8)"
      ]
     },
     "execution_count": 113,
     "metadata": {},
     "output_type": "execute_result"
    }
   ],
   "source": [
    "save_SSE.shape"
   ]
  },
  {
   "cell_type": "code",
   "execution_count": 117,
   "metadata": {},
   "outputs": [
    {
     "data": {
      "text/plain": [
       "(206,)"
      ]
     },
     "execution_count": 117,
     "metadata": {},
     "output_type": "execute_result"
    }
   ],
   "source": [
    "save_SSE.mean(axis=1).shape"
   ]
  },
  {
   "cell_type": "code",
   "execution_count": 118,
   "metadata": {},
   "outputs": [
    {
     "data": {
      "text/plain": [
       "(206,)"
      ]
     },
     "execution_count": 118,
     "metadata": {},
     "output_type": "execute_result"
    }
   ],
   "source": [
    "save_SST.mean(axis=1).shape"
   ]
  },
  {
   "cell_type": "code",
   "execution_count": 119,
   "metadata": {},
   "outputs": [],
   "source": [
    "# save_SSE.mean(axis=1).shape"
   ]
  },
  {
   "cell_type": "code",
   "execution_count": 120,
   "metadata": {},
   "outputs": [
    {
     "data": {
      "text/plain": [
       "Index(['cement', 'slag', 'ash', 'water', 'superplastic', 'coarseagg',\n",
       "       'fineagg', 'age', 'strength'],\n",
       "      dtype='object')"
      ]
     },
     "execution_count": 120,
     "metadata": {},
     "output_type": "execute_result"
    }
   ],
   "source": [
    "df.columns"
   ]
  },
  {
   "cell_type": "code",
   "execution_count": null,
   "metadata": {},
   "outputs": [],
   "source": []
  },
  {
   "cell_type": "code",
   "execution_count": 121,
   "metadata": {},
   "outputs": [
    {
     "data": {
      "text/plain": [
       "array([ 0.72862595, -0.41315353, -0.25725543,  0.9766509 , -0.19901109,\n",
       "        0.98789907,  0.9753307 ,  0.16730648], dtype=float32)"
      ]
     },
     "execution_count": 121,
     "metadata": {},
     "output_type": "execute_result"
    }
   ],
   "source": [
    "1 - (save_SSE.mean(axis=0) / save_SST.mean(axis=0))"
   ]
  },
  {
   "cell_type": "code",
   "execution_count": 124,
   "metadata": {},
   "outputs": [
    {
     "data": {
      "text/plain": [
       "Index(['cement', 'slag', 'ash', 'water', 'superplastic', 'coarseagg',\n",
       "       'fineagg', 'age', 'strength'],\n",
       "      dtype='object')"
      ]
     },
     "execution_count": 124,
     "metadata": {},
     "output_type": "execute_result"
    }
   ],
   "source": [
    "df.columns\n"
   ]
  },
  {
   "cell_type": "code",
   "execution_count": 122,
   "metadata": {},
   "outputs": [
    {
     "data": {
      "text/plain": [
       "(array([3., 1., 0., 0., 0., 1., 0., 0., 2., 1.]),\n",
       " array([0.01210095, 0.15220621, 0.29231146, 0.43241674, 0.57252198,\n",
       "        0.71262723, 0.85273248, 0.99283773, 1.13294303, 1.27304828,\n",
       "        1.41315353]),\n",
       " <BarContainer object of 10 artists>)"
      ]
     },
     "execution_count": 122,
     "metadata": {},
     "output_type": "execute_result"
    },
    {
     "data": {
      "image/png": "[encoded data removed]",
      "text/plain": [
       "<Figure size 640x480 with 1 Axes>"
      ]
     },
     "metadata": {},
     "output_type": "display_data"
    }
   ],
   "source": [
    "plt.hist(save_SSE.mean(axis=0) / save_SST.mean(axis=0))"
   ]
  },
  {
   "cell_type": "markdown",
   "metadata": {},
   "source": []
  },
  {
   "cell_type": "code",
   "execution_count": 250,
   "metadata": {},
   "outputs": [],
   "source": [
    "# plt.hist(save1.mean(axis=1),bins=100)\n"
   ]
  },
  {
   "cell_type": "code",
   "execution_count": 154,
   "metadata": {},
   "outputs": [
    {
     "data": {
      "text/plain": [
       "tensor([103.7299,  87.5987,  63.7379,  21.3921,   5.9165,  76.1287,  80.1190,\n",
       "         63.6713,  16.6320])"
      ]
     },
     "execution_count": 154,
     "metadata": {},
     "output_type": "execute_result"
    }
   ],
   "source": [
    "std"
   ]
  },
  {
   "cell_type": "code",
   "execution_count": 155,
   "metadata": {},
   "outputs": [
    {
     "data": {
      "text/plain": [
       "tensor([279.3396,  75.9091,  53.5494, 182.0205,   6.1600, 973.1346, 772.6256,\n",
       "         46.0563,  35.8011])"
      ]
     },
     "execution_count": 155,
     "metadata": {},
     "output_type": "execute_result"
    }
   ],
   "source": [
    "mean"
   ]
  },
  {
   "cell_type": "code",
   "execution_count": null,
   "metadata": {},
   "outputs": [],
   "source": []
  }
 ],
 "metadata": {
  "kernelspec": {
   "display_name": "base",
   "language": "python",
   "name": "python3"
  },
  "language_info": {
   "codemirror_mode": {
    "name": "ipython",
    "version": 3
   },
   "file_extension": ".py",
   "mimetype": "text/x-python",
   "name": "python",
   "nbconvert_exporter": "python",
   "pygments_lexer": "ipython3",
   "version": "3.10.13"
  }
 },
 "nbformat": 4,
 "nbformat_minor": 2
}
