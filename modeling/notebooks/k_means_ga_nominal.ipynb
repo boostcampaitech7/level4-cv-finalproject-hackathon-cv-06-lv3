{
 "cells": [
  {
   "cell_type": "code",
   "execution_count": 1,
   "metadata": {},
   "outputs": [],
   "source": [
    "import src.datasets as datasets\n",
    "import src.surrogate as surrogate\n",
    "import src.search as search"
   ]
  },
  {
   "cell_type": "code",
   "execution_count": 2,
   "metadata": {},
   "outputs": [],
   "source": [
    "from deap import base, creator, tools\n",
    "import numpy as np\n",
    "import random"
   ]
  },
  {
   "cell_type": "code",
   "execution_count": 3,
   "metadata": {},
   "outputs": [],
   "source": [
    "import faiss\n",
    "from deap import algorithms"
   ]
  },
  {
   "cell_type": "code",
   "execution_count": 4,
   "metadata": {},
   "outputs": [
    {
     "name": "stderr",
     "output_type": "stream",
     "text": [
      "/opt/conda/lib/python3.10/site-packages/lightgbm/basic.py:357: UserWarning: Converting column-vector to 1d array\n",
      "  _log_warning(\"Converting column-vector to 1d array\")\n"
     ]
    },
    {
     "name": "stdout",
     "output_type": "stream",
     "text": [
      "Training until validation scores don't improve for 50 rounds\n",
      "[100]\ttrain's rmse: 0.0711261\tvalid's rmse: 0.0879105\n",
      "[200]\ttrain's rmse: 0.0606034\tvalid's rmse: 0.0844337\n",
      "[300]\ttrain's rmse: 0.0540944\tvalid's rmse: 0.0837656\n",
      "[400]\ttrain's rmse: 0.0491065\tvalid's rmse: 0.0835851\n",
      "[500]\ttrain's rmse: 0.0450523\tvalid's rmse: 0.0832498\n",
      "Early stopping, best iteration is:\n",
      "[515]\ttrain's rmse: 0.0444072\tvalid's rmse: 0.083166\n"
     ]
    }
   ],
   "source": [
    "load_data_func = getattr(datasets, f'melb_data')\n",
    "X_train, X_test, y_train, y_test = load_data_func('./data/melb_data_processed_04mean.csv')\n",
    "\n",
    "load_data_loader_func = getattr(datasets, f'lightgbm_load_data')\n",
    "train_loader, val_loader = load_data_loader_func(X_train, X_test, y_train, y_test)\n",
    "\n",
    "train_func = getattr(surrogate, f'lightgbm_train')\n",
    "model = train_func(train_loader, val_loader)\n"
   ]
  },
  {
   "cell_type": "code",
   "execution_count": 5,
   "metadata": {},
   "outputs": [],
   "source": [
    "x_min,x_max = np.min(X_train, axis=0), np.max(X_train, axis=0)"
   ]
  },
  {
   "cell_type": "code",
   "execution_count": 6,
   "metadata": {},
   "outputs": [],
   "source": [
    "n_features = X_train.shape[1]"
   ]
  },
  {
   "cell_type": "code",
   "execution_count": 10,
   "metadata": {},
   "outputs": [],
   "source": [
    "predict_func = getattr(surrogate, f'lightgbm_predict')"
   ]
  },
  {
   "cell_type": "code",
   "execution_count": 11,
   "metadata": {},
   "outputs": [],
   "source": [
    "gt_y = y_test[0]"
   ]
  },
  {
   "cell_type": "markdown",
   "metadata": {},
   "source": [
    "price는 따로..."
   ]
  },
  {
   "cell_type": "code",
   "execution_count": 17,
   "metadata": {},
   "outputs": [],
   "source": [
    "vars = ['Suburb','Rooms','Type','Price','Method','SellerG','Distance','Postcode','Bedroom2','Bathroom','Car','Landsize','YearBuilt','CouncilArea','Lattitude','Longtitude','Regionname','Propertycount','Address_bert_mean']"
   ]
  },
  {
   "cell_type": "code",
   "execution_count": null,
   "metadata": {},
   "outputs": [],
   "source": [
    "vars = ['Suburb','Rooms','Type','Method','SellerG','Distance','Postcode','Bedroom2','Bathroom','Car','Landsize','YearBuilt','CouncilArea','Lattitude','Longtitude','Regionname','Propertycount','Address_bert_mean']"
   ]
  },
  {
   "cell_type": "markdown",
   "metadata": {},
   "source": [
    "control이 몇번째인가"
   ]
  },
  {
   "cell_type": "code",
   "execution_count": 18,
   "metadata": {},
   "outputs": [],
   "source": [
    "control = ['Distance','Landsize']"
   ]
  },
  {
   "cell_type": "code",
   "execution_count": 20,
   "metadata": {},
   "outputs": [],
   "source": [
    "res = []\n",
    "for i in range(len(vars)):\n",
    "    if vars[i] in control:\n",
    "        res.append(i)"
   ]
  },
  {
   "cell_type": "code",
   "execution_count": 21,
   "metadata": {},
   "outputs": [
    {
     "data": {
      "text/plain": [
       "[6, 11]"
      ]
     },
     "execution_count": 21,
     "metadata": {},
     "output_type": "execute_result"
    }
   ],
   "source": [
    "res"
   ]
  },
  {
   "cell_type": "code",
   "execution_count": 23,
   "metadata": {},
   "outputs": [
    {
     "data": {
      "text/plain": [
       "array([1., 1.])"
      ]
     },
     "execution_count": 23,
     "metadata": {},
     "output_type": "execute_result"
    }
   ],
   "source": [
    "x_min[res]\n",
    "x_max[res]\n"
   ]
  },
  {
   "cell_type": "code",
   "execution_count": null,
   "metadata": {},
   "outputs": [],
   "source": [
    "creator.create('FitnessMax', base.Fitness, weights=(1.0,))\n",
    "creator.create('Individual', np.ndarray, fitness=creator.FitnessMax)\n",
    "def generate_individual():\n",
    "    return np.random.uniform(x_min[res], x_max[res])\n",
    "toolbox = base.Toolbox()\n",
    "toolbox.register('attr_float', generate_individual)\n",
    "# min_max 차원이 8개이기에 n을 1로 설정 하면 8개의 변수를 가진 ind 생성!\n",
    "toolbox.register('individual', tools.initIterate, creator.Individual, toolbox.attr_float)\n",
    "toolbox.register('population', tools.initRepeat, list, toolbox.individual)"
   ]
  },
  {
   "cell_type": "code",
   "execution_count": 12,
   "metadata": {},
   "outputs": [],
   "source": [
    "def fitness(population):\n",
    "\n",
    "    population = np.array(population)\n",
    "     \n",
    "    # print('population shape : ', population.shape)\n",
    "    y_pred = predict_func(model=model, X_test=population)\n",
    "\n",
    "    fit_fun = -(y_pred - gt_y)**2\n",
    "    return fit_fun\n"
   ]
  },
  {
   "cell_type": "code",
   "execution_count": 13,
   "metadata": {},
   "outputs": [],
   "source": [
    "toolbox.register('evaluate', fitness)"
   ]
  },
  {
   "cell_type": "code",
   "execution_count": 14,
   "metadata": {},
   "outputs": [],
   "source": [
    "ETA_CX = 5.0 # 초기에 작게(탐색), 점점 크게(exploitation)\n",
    "toolbox.register('mate', tools.cxSimulatedBinary, eta=ETA_CX)\n",
    "\n",
    "MUTPB = 0.2          # 돌연변이 적용 확률(전역)\n",
    "INDPB = 0.1          # 각 변수별 변이 확률\n",
    "sigma_list = [(ub - lb)/10.0 for (lb,ub) in zip(x_min, x_max)]  # 변수 범위에 따른 sigma 값 \n",
    "\n",
    "toolbox.register('mutate', tools.mutGaussian, mu=[0.0]*(len(x_min)), sigma=sigma_list, indpb=INDPB)\n"
   ]
  },
  {
   "cell_type": "code",
   "execution_count": 15,
   "metadata": {},
   "outputs": [],
   "source": [
    "toolbox.register('select', tools.selTournament)"
   ]
  },
  {
   "cell_type": "code",
   "execution_count": 24,
   "metadata": {},
   "outputs": [],
   "source": [
    "population = toolbox.population(n=100)\n"
   ]
  },
  {
   "cell_type": "code",
   "execution_count": 25,
   "metadata": {},
   "outputs": [],
   "source": [
    "cxpb = 0.5\n",
    "mutpb = 0.5"
   ]
  },
  {
   "cell_type": "code",
   "execution_count": 26,
   "metadata": {},
   "outputs": [],
   "source": [
    "def kmeans_clustering(population, k):\n",
    "    n, d = population.shape\n",
    "    kmeans = faiss.Kmeans(d, k, niter=20, verbose=False)\n",
    "    population = population.astype('float32')\n",
    "    kmeans.train(population)\n",
    "\n",
    "    cluster_labels = kmeans.index.search(population, 1)[1].flatten()  \n",
    "    centroids = kmeans.centroids\n",
    "    \n",
    "    return cluster_labels, centroids\n"
   ]
  },
  {
   "cell_type": "code",
   "execution_count": 27,
   "metadata": {},
   "outputs": [],
   "source": [
    "def k_means_selection(population, k):\n",
    "    cluster_labels, centroids = kmeans_clustering(np.array(population),k=k)\n",
    "    res = []\n",
    "    for i in range(k):\n",
    "        cluster_idx = np.where(cluster_labels == i)[0]\n",
    "        cluster_population = [population[j] for j in cluster_idx]\n",
    "        res.extend(toolbox.select(cluster_population, k=len(cluster_population)//2,tournsize = 3))\n",
    "    return res"
   ]
  },
  {
   "cell_type": "code",
   "execution_count": 30,
   "metadata": {},
   "outputs": [
    {
     "name": "stderr",
     "output_type": "stream",
     "text": [
      "WARNING clustering 28 points to 2 centroids: please provide at least 78 training points\n",
      "WARNING clustering 28 points to 2 centroids: please provide at least 78 training points\n",
      "WARNING clustering 28 points to 2 centroids: please provide at least 78 training points\n",
      "WARNING clustering 28 points to 2 centroids: please provide at least 78 training points\n",
      "WARNING clustering 28 points to 2 centroids: please provide at least 78 training points\n",
      "WARNING clustering 28 points to 2 centroids: please provide at least 78 training points\n",
      "WARNING clustering 28 points to 2 centroids: please provide at least 78 training points\n",
      "WARNING clustering 28 points to 2 centroids: please provide at least 78 training points\n",
      "WARNING clustering 28 points to 2 centroids: please provide at least 78 training points\n",
      "WARNING clustering 28 points to 2 centroids: please provide at least 78 training points\n",
      "WARNING clustering 28 points to 2 centroids: please provide at least 78 training points\n",
      "WARNING clustering 28 points to 2 centroids: please provide at least 78 training points\n",
      "WARNING clustering 28 points to 2 centroids: please provide at least 78 training points\n",
      "WARNING clustering 28 points to 2 centroids: please provide at least 78 training points\n",
      "WARNING clustering 28 points to 2 centroids: please provide at least 78 training points\n",
      "WARNING clustering 28 points to 2 centroids: please provide at least 78 training points\n",
      "WARNING clustering 28 points to 2 centroids: please provide at least 78 training points\n",
      "WARNING clustering 28 points to 2 centroids: please provide at least 78 training points\n",
      "WARNING clustering 28 points to 2 centroids: please provide at least 78 training points\n",
      "WARNING clustering 28 points to 2 centroids: please provide at least 78 training points\n",
      "WARNING clustering 28 points to 2 centroids: please provide at least 78 training points\n",
      "WARNING clustering 28 points to 2 centroids: please provide at least 78 training points\n",
      "WARNING clustering 28 points to 2 centroids: please provide at least 78 training points\n",
      "WARNING clustering 28 points to 2 centroids: please provide at least 78 training points\n",
      "WARNING clustering 28 points to 2 centroids: please provide at least 78 training points\n",
      "WARNING clustering 28 points to 2 centroids: please provide at least 78 training points\n",
      "WARNING clustering 28 points to 2 centroids: please provide at least 78 training points\n",
      "WARNING clustering 28 points to 2 centroids: please provide at least 78 training points\n",
      "WARNING clustering 28 points to 2 centroids: please provide at least 78 training points\n",
      "WARNING clustering 28 points to 2 centroids: please provide at least 78 training points\n",
      "WARNING clustering 28 points to 2 centroids: please provide at least 78 training points\n",
      "WARNING clustering 28 points to 2 centroids: please provide at least 78 training points\n",
      "WARNING clustering 28 points to 2 centroids: please provide at least 78 training points\n",
      "WARNING clustering 28 points to 2 centroids: please provide at least 78 training points\n",
      "WARNING clustering 28 points to 2 centroids: please provide at least 78 training points\n",
      "WARNING clustering 28 points to 2 centroids: please provide at least 78 training points\n",
      "WARNING clustering 28 points to 2 centroids: please provide at least 78 training points\n",
      "WARNING clustering 28 points to 2 centroids: please provide at least 78 training points\n",
      "WARNING clustering 28 points to 2 centroids: please provide at least 78 training points\n",
      "WARNING clustering 28 points to 2 centroids: please provide at least 78 training points\n",
      "WARNING clustering 28 points to 2 centroids: please provide at least 78 training points\n",
      "WARNING clustering 28 points to 2 centroids: please provide at least 78 training points\n",
      "WARNING clustering 28 points to 2 centroids: please provide at least 78 training points\n",
      "WARNING clustering 28 points to 2 centroids: please provide at least 78 training points\n",
      "WARNING clustering 28 points to 2 centroids: please provide at least 78 training points\n",
      "WARNING clustering 28 points to 2 centroids: please provide at least 78 training points\n",
      "WARNING clustering 28 points to 2 centroids: please provide at least 78 training points\n",
      "WARNING clustering 28 points to 2 centroids: please provide at least 78 training points\n",
      "WARNING clustering 28 points to 2 centroids: please provide at least 78 training points\n",
      "WARNING clustering 28 points to 2 centroids: please provide at least 78 training points\n",
      "WARNING clustering 28 points to 2 centroids: please provide at least 78 training points\n",
      "WARNING clustering 28 points to 2 centroids: please provide at least 78 training points\n",
      "WARNING clustering 28 points to 2 centroids: please provide at least 78 training points\n",
      "WARNING clustering 28 points to 2 centroids: please provide at least 78 training points\n",
      "WARNING clustering 28 points to 2 centroids: please provide at least 78 training points\n",
      "WARNING clustering 28 points to 2 centroids: please provide at least 78 training points\n",
      "WARNING clustering 28 points to 2 centroids: please provide at least 78 training points\n",
      "WARNING clustering 28 points to 2 centroids: please provide at least 78 training points\n",
      "WARNING clustering 28 points to 2 centroids: please provide at least 78 training points\n",
      "WARNING clustering 28 points to 2 centroids: please provide at least 78 training points\n",
      "WARNING clustering 28 points to 2 centroids: please provide at least 78 training points\n",
      "WARNING clustering 28 points to 2 centroids: please provide at least 78 training points\n",
      "WARNING clustering 28 points to 2 centroids: please provide at least 78 training points\n",
      "WARNING clustering 28 points to 2 centroids: please provide at least 78 training points\n",
      "WARNING clustering 28 points to 2 centroids: please provide at least 78 training points\n",
      "WARNING clustering 28 points to 2 centroids: please provide at least 78 training points\n",
      "WARNING clustering 28 points to 2 centroids: please provide at least 78 training points\n",
      "WARNING clustering 28 points to 2 centroids: please provide at least 78 training points\n",
      "WARNING clustering 28 points to 2 centroids: please provide at least 78 training points\n",
      "WARNING clustering 28 points to 2 centroids: please provide at least 78 training points\n",
      "WARNING clustering 28 points to 2 centroids: please provide at least 78 training points\n",
      "WARNING clustering 28 points to 2 centroids: please provide at least 78 training points\n",
      "WARNING clustering 28 points to 2 centroids: please provide at least 78 training points\n",
      "WARNING clustering 28 points to 2 centroids: please provide at least 78 training points\n",
      "WARNING clustering 28 points to 2 centroids: please provide at least 78 training points\n",
      "WARNING clustering 28 points to 2 centroids: please provide at least 78 training points\n",
      "WARNING clustering 28 points to 2 centroids: please provide at least 78 training points\n",
      "WARNING clustering 28 points to 2 centroids: please provide at least 78 training points\n",
      "WARNING clustering 28 points to 2 centroids: please provide at least 78 training points\n",
      "WARNING clustering 28 points to 2 centroids: please provide at least 78 training points\n",
      "WARNING clustering 28 points to 2 centroids: please provide at least 78 training points\n",
      "WARNING clustering 28 points to 2 centroids: please provide at least 78 training points\n",
      "WARNING clustering 28 points to 2 centroids: please provide at least 78 training points\n",
      "WARNING clustering 28 points to 2 centroids: please provide at least 78 training points\n",
      "WARNING clustering 28 points to 2 centroids: please provide at least 78 training points\n",
      "WARNING clustering 28 points to 2 centroids: please provide at least 78 training points\n",
      "WARNING clustering 28 points to 2 centroids: please provide at least 78 training points\n",
      "WARNING clustering 28 points to 2 centroids: please provide at least 78 training points\n",
      "WARNING clustering 28 points to 2 centroids: please provide at least 78 training points\n",
      "WARNING clustering 28 points to 2 centroids: please provide at least 78 training points\n",
      "WARNING clustering 28 points to 2 centroids: please provide at least 78 training points\n",
      "WARNING clustering 28 points to 2 centroids: please provide at least 78 training points\n",
      "WARNING clustering 28 points to 2 centroids: please provide at least 78 training points\n",
      "WARNING clustering 28 points to 2 centroids: please provide at least 78 training points\n",
      "WARNING clustering 28 points to 2 centroids: please provide at least 78 training points\n",
      "WARNING clustering 28 points to 2 centroids: please provide at least 78 training points\n",
      "WARNING clustering 28 points to 2 centroids: please provide at least 78 training points\n",
      "WARNING clustering 28 points to 2 centroids: please provide at least 78 training points\n",
      "WARNING clustering 28 points to 2 centroids: please provide at least 78 training points\n",
      "WARNING clustering 28 points to 2 centroids: please provide at least 78 training points\n"
     ]
    }
   ],
   "source": [
    "%%capture\n",
    "for i in range(100):\n",
    "    offspring = algorithms.varAnd(population, toolbox, cxpb, mutpb)\n",
    "    population = offspring+population\n",
    "    invalid_ind = [ind for ind in population if not ind.fitness.valid]\n",
    "    fitness_scores = toolbox.evaluate(invalid_ind)\n",
    "    for ind, fit in zip(invalid_ind, fitness_scores):\n",
    "        ind.fitness.values = (fit,)\n",
    "    population = k_means_selection(population, k=len(population)//10)\n",
    "    # print([i.fitness.values for i in population[:3]])"
   ]
  },
  {
   "cell_type": "code",
   "execution_count": null,
   "metadata": {},
   "outputs": [],
   "source": []
  }
 ],
 "metadata": {
  "kernelspec": {
   "display_name": "base",
   "language": "python",
   "name": "python3"
  },
  "language_info": {
   "codemirror_mode": {
    "name": "ipython",
    "version": 3
   },
   "file_extension": ".py",
   "mimetype": "text/x-python",
   "name": "python",
   "nbconvert_exporter": "python",
   "pygments_lexer": "ipython3",
   "version": "3.10.13"
  }
 },
 "nbformat": 4,
 "nbformat_minor": 2
}
