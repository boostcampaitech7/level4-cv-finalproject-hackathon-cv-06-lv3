{
 "cells": [
  {
   "cell_type": "markdown",
   "metadata": {},
   "source": [
    "## 파일 목적\n",
    "Surrogate Model(single-objective) 구현 및  \n",
    "Surrogate Model(LightGBM, CatBoost, TabPFN)으로 multi-objective 구현하기 위해, end-to-end로 잘 동작하는 지 확인 "
   ]
  },
  {
   "cell_type": "markdown",
   "metadata": {},
   "source": [
    "## Surrogate Model(LightGBM)으로 multi-objective 구현"
   ]
  },
  {
   "cell_type": "code",
   "execution_count": 1,
   "metadata": {},
   "outputs": [],
   "source": [
    "import src.datasets as datasets\n",
    "import src.surrogate as surrogate\n",
    "import src.search as search\n",
    "\n",
    "import numpy as np\n",
    "from sklearn.multioutput import MultiOutputRegressor\n",
    "from lightgbm import LGBMRegressor\n",
    "from lightgbm import LGBMRegressor, early_stopping, log_evaluation\n",
    "from sklearn.model_selection import train_test_split"
   ]
  },
  {
   "cell_type": "code",
   "execution_count": 2,
   "metadata": {},
   "outputs": [
    {
     "data": {
      "text/html": [
       "<div>\n",
       "<style scoped>\n",
       "    .dataframe tbody tr th:only-of-type {\n",
       "        vertical-align: middle;\n",
       "    }\n",
       "\n",
       "    .dataframe tbody tr th {\n",
       "        vertical-align: top;\n",
       "    }\n",
       "\n",
       "    .dataframe thead th {\n",
       "        text-align: right;\n",
       "    }\n",
       "</style>\n",
       "<table border=\"1\" class=\"dataframe\">\n",
       "  <thead>\n",
       "    <tr style=\"text-align: right;\">\n",
       "      <th></th>\n",
       "      <th>cement</th>\n",
       "      <th>slag</th>\n",
       "      <th>ash</th>\n",
       "      <th>water</th>\n",
       "      <th>superplastic</th>\n",
       "      <th>coarseagg</th>\n",
       "      <th>fineagg</th>\n",
       "      <th>age</th>\n",
       "      <th>strength</th>\n",
       "    </tr>\n",
       "  </thead>\n",
       "  <tbody>\n",
       "    <tr>\n",
       "      <th>0</th>\n",
       "      <td>0.089726</td>\n",
       "      <td>0.619702</td>\n",
       "      <td>0.000000</td>\n",
       "      <td>0.757426</td>\n",
       "      <td>0.000000</td>\n",
       "      <td>0.496512</td>\n",
       "      <td>0.422059</td>\n",
       "      <td>0.000000</td>\n",
       "      <td>0.357597</td>\n",
       "    </tr>\n",
       "    <tr>\n",
       "      <th>1</th>\n",
       "      <td>0.152740</td>\n",
       "      <td>0.123356</td>\n",
       "      <td>0.621189</td>\n",
       "      <td>0.309901</td>\n",
       "      <td>0.488688</td>\n",
       "      <td>0.813372</td>\n",
       "      <td>0.562353</td>\n",
       "      <td>-0.666667</td>\n",
       "      <td>0.274815</td>\n",
       "    </tr>\n",
       "    <tr>\n",
       "      <th>2</th>\n",
       "      <td>0.337900</td>\n",
       "      <td>0.000000</td>\n",
       "      <td>0.478261</td>\n",
       "      <td>0.598020</td>\n",
       "      <td>0.248869</td>\n",
       "      <td>0.453198</td>\n",
       "      <td>0.753529</td>\n",
       "      <td>0.000000</td>\n",
       "      <td>0.348904</td>\n",
       "    </tr>\n",
       "    <tr>\n",
       "      <th>3</th>\n",
       "      <td>0.374429</td>\n",
       "      <td>0.333236</td>\n",
       "      <td>0.000000</td>\n",
       "      <td>1.000000</td>\n",
       "      <td>0.000000</td>\n",
       "      <td>0.380814</td>\n",
       "      <td>0.191176</td>\n",
       "      <td>0.000000</td>\n",
       "      <td>0.564681</td>\n",
       "    </tr>\n",
       "    <tr>\n",
       "      <th>4</th>\n",
       "      <td>0.120548</td>\n",
       "      <td>0.536101</td>\n",
       "      <td>0.000000</td>\n",
       "      <td>0.656436</td>\n",
       "      <td>0.411765</td>\n",
       "      <td>0.716279</td>\n",
       "      <td>0.269706</td>\n",
       "      <td>0.000000</td>\n",
       "      <td>0.207084</td>\n",
       "    </tr>\n",
       "    <tr>\n",
       "      <th>...</th>\n",
       "      <td>...</td>\n",
       "      <td>...</td>\n",
       "      <td>...</td>\n",
       "      <td>...</td>\n",
       "      <td>...</td>\n",
       "      <td>...</td>\n",
       "      <td>...</td>\n",
       "      <td>...</td>\n",
       "      <td>...</td>\n",
       "    </tr>\n",
       "    <tr>\n",
       "      <th>921</th>\n",
       "      <td>0.089726</td>\n",
       "      <td>0.619702</td>\n",
       "      <td>0.000000</td>\n",
       "      <td>0.757426</td>\n",
       "      <td>0.000000</td>\n",
       "      <td>0.496512</td>\n",
       "      <td>0.422059</td>\n",
       "      <td>-1.000000</td>\n",
       "      <td>0.104580</td>\n",
       "    </tr>\n",
       "    <tr>\n",
       "      <th>922</th>\n",
       "      <td>0.445662</td>\n",
       "      <td>0.000000</td>\n",
       "      <td>0.587206</td>\n",
       "      <td>0.473267</td>\n",
       "      <td>0.429864</td>\n",
       "      <td>0.644767</td>\n",
       "      <td>0.436765</td>\n",
       "      <td>-1.190476</td>\n",
       "      <td>0.254055</td>\n",
       "    </tr>\n",
       "    <tr>\n",
       "      <th>923</th>\n",
       "      <td>0.075342</td>\n",
       "      <td>0.000000</td>\n",
       "      <td>0.829585</td>\n",
       "      <td>0.524752</td>\n",
       "      <td>0.452489</td>\n",
       "      <td>0.465116</td>\n",
       "      <td>0.588235</td>\n",
       "      <td>0.000000</td>\n",
       "      <td>0.142208</td>\n",
       "    </tr>\n",
       "    <tr>\n",
       "      <th>924</th>\n",
       "      <td>0.398174</td>\n",
       "      <td>0.339082</td>\n",
       "      <td>0.451274</td>\n",
       "      <td>0.520792</td>\n",
       "      <td>0.402715</td>\n",
       "      <td>0.200872</td>\n",
       "      <td>0.480294</td>\n",
       "      <td>0.000000</td>\n",
       "      <td>0.544310</td>\n",
       "    </tr>\n",
       "    <tr>\n",
       "      <th>925</th>\n",
       "      <td>1.000000</td>\n",
       "      <td>0.000000</td>\n",
       "      <td>0.000000</td>\n",
       "      <td>0.455446</td>\n",
       "      <td>0.000000</td>\n",
       "      <td>0.941860</td>\n",
       "      <td>0.023529</td>\n",
       "      <td>-1.000000</td>\n",
       "      <td>0.652394</td>\n",
       "    </tr>\n",
       "  </tbody>\n",
       "</table>\n",
       "<p>926 rows × 9 columns</p>\n",
       "</div>"
      ],
      "text/plain": [
       "       cement      slag       ash     water  superplastic  coarseagg  \\\n",
       "0    0.089726  0.619702  0.000000  0.757426      0.000000   0.496512   \n",
       "1    0.152740  0.123356  0.621189  0.309901      0.488688   0.813372   \n",
       "2    0.337900  0.000000  0.478261  0.598020      0.248869   0.453198   \n",
       "3    0.374429  0.333236  0.000000  1.000000      0.000000   0.380814   \n",
       "4    0.120548  0.536101  0.000000  0.656436      0.411765   0.716279   \n",
       "..        ...       ...       ...       ...           ...        ...   \n",
       "921  0.089726  0.619702  0.000000  0.757426      0.000000   0.496512   \n",
       "922  0.445662  0.000000  0.587206  0.473267      0.429864   0.644767   \n",
       "923  0.075342  0.000000  0.829585  0.524752      0.452489   0.465116   \n",
       "924  0.398174  0.339082  0.451274  0.520792      0.402715   0.200872   \n",
       "925  1.000000  0.000000  0.000000  0.455446      0.000000   0.941860   \n",
       "\n",
       "      fineagg       age  strength  \n",
       "0    0.422059  0.000000  0.357597  \n",
       "1    0.562353 -0.666667  0.274815  \n",
       "2    0.753529  0.000000  0.348904  \n",
       "3    0.191176  0.000000  0.564681  \n",
       "4    0.269706  0.000000  0.207084  \n",
       "..        ...       ...       ...  \n",
       "921  0.422059 -1.000000  0.104580  \n",
       "922  0.436765 -1.190476  0.254055  \n",
       "923  0.588235  0.000000  0.142208  \n",
       "924  0.480294  0.000000  0.544310  \n",
       "925  0.023529 -1.000000  0.652394  \n",
       "\n",
       "[926 rows x 9 columns]"
      ]
     },
     "execution_count": 2,
     "metadata": {},
     "output_type": "execute_result"
    }
   ],
   "source": [
    "import fireducks.pandas as pd\n",
    "df = pd.read_csv('./data/concrete_processed.csv')\n",
    "df"
   ]
  },
  {
   "cell_type": "code",
   "execution_count": 4,
   "metadata": {},
   "outputs": [],
   "source": [
    "target_cols = ['strength', 'cement', 'water']"
   ]
  },
  {
   "cell_type": "code",
   "execution_count": 5,
   "metadata": {},
   "outputs": [],
   "source": [
    "X = df.drop(columns=target_cols)\n",
    "y = df[target_cols]    "
   ]
  },
  {
   "cell_type": "code",
   "execution_count": 6,
   "metadata": {},
   "outputs": [
    {
     "data": {
      "text/html": [
       "<div>\n",
       "<style scoped>\n",
       "    .dataframe tbody tr th:only-of-type {\n",
       "        vertical-align: middle;\n",
       "    }\n",
       "\n",
       "    .dataframe tbody tr th {\n",
       "        vertical-align: top;\n",
       "    }\n",
       "\n",
       "    .dataframe thead th {\n",
       "        text-align: right;\n",
       "    }\n",
       "</style>\n",
       "<table border=\"1\" class=\"dataframe\">\n",
       "  <thead>\n",
       "    <tr style=\"text-align: right;\">\n",
       "      <th></th>\n",
       "      <th>slag</th>\n",
       "      <th>ash</th>\n",
       "      <th>superplastic</th>\n",
       "      <th>coarseagg</th>\n",
       "      <th>fineagg</th>\n",
       "      <th>age</th>\n",
       "    </tr>\n",
       "  </thead>\n",
       "  <tbody>\n",
       "    <tr>\n",
       "      <th>0</th>\n",
       "      <td>0.619702</td>\n",
       "      <td>0.000000</td>\n",
       "      <td>0.000000</td>\n",
       "      <td>0.496512</td>\n",
       "      <td>0.422059</td>\n",
       "      <td>0.000000</td>\n",
       "    </tr>\n",
       "    <tr>\n",
       "      <th>1</th>\n",
       "      <td>0.123356</td>\n",
       "      <td>0.621189</td>\n",
       "      <td>0.488688</td>\n",
       "      <td>0.813372</td>\n",
       "      <td>0.562353</td>\n",
       "      <td>-0.666667</td>\n",
       "    </tr>\n",
       "    <tr>\n",
       "      <th>2</th>\n",
       "      <td>0.000000</td>\n",
       "      <td>0.478261</td>\n",
       "      <td>0.248869</td>\n",
       "      <td>0.453198</td>\n",
       "      <td>0.753529</td>\n",
       "      <td>0.000000</td>\n",
       "    </tr>\n",
       "    <tr>\n",
       "      <th>3</th>\n",
       "      <td>0.333236</td>\n",
       "      <td>0.000000</td>\n",
       "      <td>0.000000</td>\n",
       "      <td>0.380814</td>\n",
       "      <td>0.191176</td>\n",
       "      <td>0.000000</td>\n",
       "    </tr>\n",
       "    <tr>\n",
       "      <th>4</th>\n",
       "      <td>0.536101</td>\n",
       "      <td>0.000000</td>\n",
       "      <td>0.411765</td>\n",
       "      <td>0.716279</td>\n",
       "      <td>0.269706</td>\n",
       "      <td>0.000000</td>\n",
       "    </tr>\n",
       "    <tr>\n",
       "      <th>...</th>\n",
       "      <td>...</td>\n",
       "      <td>...</td>\n",
       "      <td>...</td>\n",
       "      <td>...</td>\n",
       "      <td>...</td>\n",
       "      <td>...</td>\n",
       "    </tr>\n",
       "    <tr>\n",
       "      <th>921</th>\n",
       "      <td>0.619702</td>\n",
       "      <td>0.000000</td>\n",
       "      <td>0.000000</td>\n",
       "      <td>0.496512</td>\n",
       "      <td>0.422059</td>\n",
       "      <td>-1.000000</td>\n",
       "    </tr>\n",
       "    <tr>\n",
       "      <th>922</th>\n",
       "      <td>0.000000</td>\n",
       "      <td>0.587206</td>\n",
       "      <td>0.429864</td>\n",
       "      <td>0.644767</td>\n",
       "      <td>0.436765</td>\n",
       "      <td>-1.190476</td>\n",
       "    </tr>\n",
       "    <tr>\n",
       "      <th>923</th>\n",
       "      <td>0.000000</td>\n",
       "      <td>0.829585</td>\n",
       "      <td>0.452489</td>\n",
       "      <td>0.465116</td>\n",
       "      <td>0.588235</td>\n",
       "      <td>0.000000</td>\n",
       "    </tr>\n",
       "    <tr>\n",
       "      <th>924</th>\n",
       "      <td>0.339082</td>\n",
       "      <td>0.451274</td>\n",
       "      <td>0.402715</td>\n",
       "      <td>0.200872</td>\n",
       "      <td>0.480294</td>\n",
       "      <td>0.000000</td>\n",
       "    </tr>\n",
       "    <tr>\n",
       "      <th>925</th>\n",
       "      <td>0.000000</td>\n",
       "      <td>0.000000</td>\n",
       "      <td>0.000000</td>\n",
       "      <td>0.941860</td>\n",
       "      <td>0.023529</td>\n",
       "      <td>-1.000000</td>\n",
       "    </tr>\n",
       "  </tbody>\n",
       "</table>\n",
       "<p>926 rows × 6 columns</p>\n",
       "</div>"
      ],
      "text/plain": [
       "         slag       ash  superplastic  coarseagg   fineagg       age\n",
       "0    0.619702  0.000000      0.000000   0.496512  0.422059  0.000000\n",
       "1    0.123356  0.621189      0.488688   0.813372  0.562353 -0.666667\n",
       "2    0.000000  0.478261      0.248869   0.453198  0.753529  0.000000\n",
       "3    0.333236  0.000000      0.000000   0.380814  0.191176  0.000000\n",
       "4    0.536101  0.000000      0.411765   0.716279  0.269706  0.000000\n",
       "..        ...       ...           ...        ...       ...       ...\n",
       "921  0.619702  0.000000      0.000000   0.496512  0.422059 -1.000000\n",
       "922  0.000000  0.587206      0.429864   0.644767  0.436765 -1.190476\n",
       "923  0.000000  0.829585      0.452489   0.465116  0.588235  0.000000\n",
       "924  0.339082  0.451274      0.402715   0.200872  0.480294  0.000000\n",
       "925  0.000000  0.000000      0.000000   0.941860  0.023529 -1.000000\n",
       "\n",
       "[926 rows x 6 columns]"
      ]
     },
     "execution_count": 6,
     "metadata": {},
     "output_type": "execute_result"
    }
   ],
   "source": [
    "X"
   ]
  },
  {
   "cell_type": "code",
   "execution_count": 7,
   "metadata": {},
   "outputs": [
    {
     "data": {
      "text/html": [
       "<div>\n",
       "<style scoped>\n",
       "    .dataframe tbody tr th:only-of-type {\n",
       "        vertical-align: middle;\n",
       "    }\n",
       "\n",
       "    .dataframe tbody tr th {\n",
       "        vertical-align: top;\n",
       "    }\n",
       "\n",
       "    .dataframe thead th {\n",
       "        text-align: right;\n",
       "    }\n",
       "</style>\n",
       "<table border=\"1\" class=\"dataframe\">\n",
       "  <thead>\n",
       "    <tr style=\"text-align: right;\">\n",
       "      <th></th>\n",
       "      <th>strength</th>\n",
       "      <th>cement</th>\n",
       "      <th>water</th>\n",
       "    </tr>\n",
       "  </thead>\n",
       "  <tbody>\n",
       "    <tr>\n",
       "      <th>0</th>\n",
       "      <td>0.357597</td>\n",
       "      <td>0.089726</td>\n",
       "      <td>0.757426</td>\n",
       "    </tr>\n",
       "    <tr>\n",
       "      <th>1</th>\n",
       "      <td>0.274815</td>\n",
       "      <td>0.152740</td>\n",
       "      <td>0.309901</td>\n",
       "    </tr>\n",
       "    <tr>\n",
       "      <th>2</th>\n",
       "      <td>0.348904</td>\n",
       "      <td>0.337900</td>\n",
       "      <td>0.598020</td>\n",
       "    </tr>\n",
       "    <tr>\n",
       "      <th>3</th>\n",
       "      <td>0.564681</td>\n",
       "      <td>0.374429</td>\n",
       "      <td>1.000000</td>\n",
       "    </tr>\n",
       "    <tr>\n",
       "      <th>4</th>\n",
       "      <td>0.207084</td>\n",
       "      <td>0.120548</td>\n",
       "      <td>0.656436</td>\n",
       "    </tr>\n",
       "    <tr>\n",
       "      <th>...</th>\n",
       "      <td>...</td>\n",
       "      <td>...</td>\n",
       "      <td>...</td>\n",
       "    </tr>\n",
       "    <tr>\n",
       "      <th>921</th>\n",
       "      <td>0.104580</td>\n",
       "      <td>0.089726</td>\n",
       "      <td>0.757426</td>\n",
       "    </tr>\n",
       "    <tr>\n",
       "      <th>922</th>\n",
       "      <td>0.254055</td>\n",
       "      <td>0.445662</td>\n",
       "      <td>0.473267</td>\n",
       "    </tr>\n",
       "    <tr>\n",
       "      <th>923</th>\n",
       "      <td>0.142208</td>\n",
       "      <td>0.075342</td>\n",
       "      <td>0.524752</td>\n",
       "    </tr>\n",
       "    <tr>\n",
       "      <th>924</th>\n",
       "      <td>0.544310</td>\n",
       "      <td>0.398174</td>\n",
       "      <td>0.520792</td>\n",
       "    </tr>\n",
       "    <tr>\n",
       "      <th>925</th>\n",
       "      <td>0.652394</td>\n",
       "      <td>1.000000</td>\n",
       "      <td>0.455446</td>\n",
       "    </tr>\n",
       "  </tbody>\n",
       "</table>\n",
       "<p>926 rows × 3 columns</p>\n",
       "</div>"
      ],
      "text/plain": [
       "     strength    cement     water\n",
       "0    0.357597  0.089726  0.757426\n",
       "1    0.274815  0.152740  0.309901\n",
       "2    0.348904  0.337900  0.598020\n",
       "3    0.564681  0.374429  1.000000\n",
       "4    0.207084  0.120548  0.656436\n",
       "..        ...       ...       ...\n",
       "921  0.104580  0.089726  0.757426\n",
       "922  0.254055  0.445662  0.473267\n",
       "923  0.142208  0.075342  0.524752\n",
       "924  0.544310  0.398174  0.520792\n",
       "925  0.652394  1.000000  0.455446\n",
       "\n",
       "[926 rows x 3 columns]"
      ]
     },
     "execution_count": 7,
     "metadata": {},
     "output_type": "execute_result"
    }
   ],
   "source": [
    "y"
   ]
  },
  {
   "cell_type": "code",
   "execution_count": 8,
   "metadata": {},
   "outputs": [
    {
     "name": "stdout",
     "output_type": "stream",
     "text": [
      "X_train shape: (740, 6)\n",
      "y_train shape: (740, 3)\n",
      "X_test shape:  (186, 6)\n",
      "y_test shape:  (186, 3)\n"
     ]
    }
   ],
   "source": [
    "X_train, X_test, y_train, y_test = train_test_split(\n",
    "    X,\n",
    "    y,\n",
    "    test_size=0.2,\n",
    "    random_state=42,\n",
    "    shuffle=True\n",
    "\n",
    "    \n",
    ")\n",
    "\n",
    "print(\"X_train shape:\", X_train.shape)\n",
    "print(\"y_train shape:\", y_train.shape)\n",
    "print(\"X_test shape: \", X_test.shape)\n",
    "print(\"y_test shape: \", y_test.shape)"
   ]
  },
  {
   "cell_type": "code",
   "execution_count": 9,
   "metadata": {},
   "outputs": [
    {
     "name": "stdout",
     "output_type": "stream",
     "text": [
      "(740, 6) <class 'numpy.ndarray'>\n",
      "(740, 3) <class 'numpy.ndarray'>\n",
      "(186, 6) <class 'numpy.ndarray'>\n",
      "(186, 3) <class 'numpy.ndarray'>\n"
     ]
    }
   ],
   "source": [
    "X_train = np.array(X_train)\n",
    "y_train = np.array(y_train)\n",
    "X_test = np.array(X_test)\n",
    "y_test = np.array(y_test)\n",
    "print(X_train.shape, type(X_train))\n",
    "print(y_train.shape, type(y_train))\n",
    "print(X_test.shape, type(X_test))\n",
    "print(y_test.shape, type(y_test))"
   ]
  },
  {
   "cell_type": "code",
   "execution_count": 10,
   "metadata": {},
   "outputs": [],
   "source": [
    "def lightgbm_multi_train(X_train: np.ndarray,\n",
    "                         y_train: np.ndarray, \n",
    "                         params: dict = None):\n",
    "    \n",
    "    if params is None:\n",
    "        params = {\n",
    "            \"objective\": \"regression\",   \n",
    "            \"boosting_type\": \"gbdt\",     \n",
    "            \"learning_rate\": 0.05,       \n",
    "            \"num_leaves\": 31,\n",
    "            \"max_depth\": -1,\n",
    "            \"subsample\": 0.8,\n",
    "            \"colsample_bytree\": 0.8,\n",
    "            \"n_jobs\": -1,\n",
    "            \"random_state\": 42\n",
    "        }\n",
    "    # X_train, X_val, y_train, y_val = train_test_split(X_train, y_train, test_size=0.2, random_state=42, shuffle=True)\n",
    "    base_estimator = LGBMRegressor(**params, n_estimators=1000)\n",
    "    multi_model = MultiOutputRegressor(base_estimator)\n",
    "    multi_model.fit(X_train, y_train,\n",
    "                    # eval_set=[(X_val, y_val)],\n",
    "                    # eval_metric=\"rmse\",\n",
    "                    # callbacks=[\n",
    "                    # early_stopping(stopping_rounds=50),\n",
    "                    # log_evaluation(period=100)\n",
    "                    # ]\n",
    "                    )\n",
    "\n",
    "    return multi_model"
   ]
  },
  {
   "cell_type": "code",
   "execution_count": null,
   "metadata": {},
   "outputs": [],
   "source": [
    "model = lightgbm_multi_train(X_train, y_train)"
   ]
  },
  {
   "cell_type": "code",
   "execution_count": 12,
   "metadata": {},
   "outputs": [
    {
     "data": {
      "text/plain": [
       "(186, 3)"
      ]
     },
     "execution_count": 12,
     "metadata": {},
     "output_type": "execute_result"
    }
   ],
   "source": [
    "y_pred = model.predict(X_test)\n",
    "y_pred.shape"
   ]
  },
  {
   "cell_type": "code",
   "execution_count": 62,
   "metadata": {},
   "outputs": [
    {
     "data": {
      "text/plain": [
       "(740, 3)"
      ]
     },
     "execution_count": 62,
     "metadata": {},
     "output_type": "execute_result"
    }
   ],
   "source": [
    "y_train.shape"
   ]
  },
  {
   "cell_type": "code",
   "execution_count": 23,
   "metadata": {},
   "outputs": [],
   "source": [
    "# 모델 저장\n",
    "import joblib\n",
    "\n",
    "def lightgbm_save(model, path):\n",
    "    \"\"\"MultiOutputRegressor의 개별 LightGBM 모델을 저장\"\"\"\n",
    "    # models = model.estimators_  # 내부의 개별 모델 리스트 가져오기\n",
    "    # joblib.dump(models, path)\n",
    "    joblib.dump(model, path)"
   ]
  },
  {
   "cell_type": "code",
   "execution_count": 27,
   "metadata": {},
   "outputs": [],
   "source": [
    "lightgbm_save(model, './model_save/multi_lightgbm.pkl')"
   ]
  },
  {
   "cell_type": "code",
   "execution_count": 30,
   "metadata": {},
   "outputs": [],
   "source": [
    "def lightgbm_load(path):\n",
    "    \"\"\"joblib을 이용해 MultiOutputRegressor를 불러오기\"\"\"\n",
    "    return joblib.load(path)"
   ]
  },
  {
   "cell_type": "code",
   "execution_count": 31,
   "metadata": {},
   "outputs": [],
   "source": [
    "loaded_model = lightgbm_load('./model_save/multi_lightgbm.pkl')"
   ]
  },
  {
   "cell_type": "code",
   "execution_count": 34,
   "metadata": {},
   "outputs": [
    {
     "data": {
      "text/plain": [
       "(186, 3)"
      ]
     },
     "execution_count": 34,
     "metadata": {},
     "output_type": "execute_result"
    }
   ],
   "source": [
    "y_pred = loaded_model.predict(X_test)\n",
    "y_pred.shape"
   ]
  },
  {
   "cell_type": "code",
   "execution_count": 96,
   "metadata": {},
   "outputs": [],
   "source": [
    "import numpy as np\n",
    "\n",
    "def lightgbm_multi_evaluate(model, y_train, y_pred, y_test, target_cols):\n",
    "    rmse_list, mae_list, r2_list = [], [], []\n",
    "    \n",
    "    for idx, col in enumerate(target_cols):\n",
    "        y_true_i = y_test[:, idx]  # target_dict의 key를 인덱스로 변환\n",
    "        y_pred_i = y_pred[:, idx]\n",
    "        \n",
    "        mae_i = np.mean(np.abs(y_true_i - y_pred_i))\n",
    "        mse_i = np.mean((y_true_i - y_pred_i) ** 2)\n",
    "        rmse_i = np.sqrt(mse_i)\n",
    "        \n",
    "        sse_i = np.sum((y_true_i - y_pred_i) ** 2)\n",
    "        sst_i = np.sum(y_true_i - np.mean(y_train) ** 2)\n",
    "        \n",
    "        r2_i = 1 - sse_i / sst_i\n",
    "        \n",
    "        rmse_list.append(rmse_i)\n",
    "        mae_list.append(mae_i)\n",
    "        r2_list.append(r2_i)\n",
    "        \n",
    "        print(f\"Target '{col}' - RMSE: {rmse_i:.4f}, MAE: {mae_i:.4f}, R2: {r2_i:.4f}\")\n",
    "    \n",
    "    rmse_mean = np.mean(rmse_list)\n",
    "    mae_mean = np.mean(mae_list)\n",
    "    r2_mean = np.mean(r2_list)\n",
    "    \n",
    "    print(f\"[Average Metrics] RMSE: {rmse_mean:.4f}, MAE: {mae_mean:.4f}, R2: {r2_mean:.4f}\")\n",
    "    return rmse_mean, mae_mean, r2_mean"
   ]
  },
  {
   "cell_type": "code",
   "execution_count": 97,
   "metadata": {},
   "outputs": [
    {
     "name": "stdout",
     "output_type": "stream",
     "text": [
      "Target 'strength' - RMSE: 0.0803, MAE: 0.0450, R2: 0.9674\n",
      "Target 'cement' - RMSE: 0.0666, MAE: 0.0248, R2: 0.9755\n",
      "Target 'water' - RMSE: 0.0545, MAE: 0.0207, R2: 0.9911\n",
      "[Average Metrics] RMSE: 0.0672, MAE: 0.0302, R2: 0.9780\n",
      "lightGBM 모델 mulit-objective RMSE: 0.0672\n",
      "lightGBM 모델 mulit-objective MAE: 0.0302\n",
      "lightGBM 모델 mulit-objective R^2: 0.9780\n"
     ]
    }
   ],
   "source": [
    "rmse_mean, mae_mean, r2_mean = lightgbm_multi_evaluate(model,\n",
    "                        y_train, \n",
    "                        y_pred,\n",
    "                        y_test,\n",
    "                        target_cols\n",
    "                        )\n",
    "\n",
    "print(f'lightGBM 모델 mulit-objective RMSE: {rmse_mean:.4f}')\n",
    "print(f'lightGBM 모델 mulit-objective MAE: {mae_mean:.4f}')\n",
    "print(f'lightGBM 모델 mulit-objective R^2: {r2_mean:.4f}')"
   ]
  },
  {
   "cell_type": "markdown",
   "metadata": {},
   "source": [
    "## Surrogate Model(CatBoost)으로 single-objective 구현"
   ]
  },
  {
   "cell_type": "code",
   "execution_count": 35,
   "metadata": {},
   "outputs": [],
   "source": [
    "import src.datasets as datasets\n",
    "import src.surrogate as surrogate\n",
    "import src.search as search"
   ]
  },
  {
   "cell_type": "code",
   "execution_count": 36,
   "metadata": {},
   "outputs": [],
   "source": [
    "load_data_func = getattr(datasets, f'cement_data')\n",
    "X_train, X_test, y_train, y_test = load_data_func('./data/concrete_processed.csv')"
   ]
  },
  {
   "cell_type": "code",
   "execution_count": 37,
   "metadata": {},
   "outputs": [
    {
     "name": "stdout",
     "output_type": "stream",
     "text": [
      "(740, 8)\n",
      "(740, 1)\n",
      "(186, 8)\n",
      "(186, 1)\n"
     ]
    }
   ],
   "source": [
    "print(X_train.shape)\n",
    "print(y_train.shape)\n",
    "print(X_test.shape)\n",
    "print(y_test.shape)"
   ]
  },
  {
   "cell_type": "code",
   "execution_count": 38,
   "metadata": {},
   "outputs": [
    {
     "name": "stdout",
     "output_type": "stream",
     "text": [
      "선형회귀 모델 R^2: 0.7556\n"
     ]
    }
   ],
   "source": [
    "# 비교를 위한 선형회귀\n",
    "from sklearn.linear_model import LinearRegression\n",
    "baseline_model = LinearRegression()\n",
    "baseline_model.fit(X_train, y_train)\n",
    "baseline_pred = baseline_model.predict(X_test)\n",
    "baseline_r2 = 1 - np.sum((y_test - baseline_pred) ** 2) / (np.sum((y_test - y_train.mean()) ** 2) + 1e-10)\n",
    "print(f'선형회귀 모델 R^2: {baseline_r2.item() :.4f}')"
   ]
  },
  {
   "cell_type": "code",
   "execution_count": 39,
   "metadata": {},
   "outputs": [],
   "source": [
    "from catboost import CatBoostRegressor"
   ]
  },
  {
   "cell_type": "code",
   "execution_count": 40,
   "metadata": {},
   "outputs": [
    {
     "name": "stdout",
     "output_type": "stream",
     "text": [
      "0:\tlearn: 0.2125008\ttotal: 48.1ms\tremaining: 1m 36s\n",
      "100:\tlearn: 0.0540607\ttotal: 142ms\tremaining: 2.68s\n",
      "200:\tlearn: 0.0423818\ttotal: 232ms\tremaining: 2.08s\n"
     ]
    },
    {
     "name": "stdout",
     "output_type": "stream",
     "text": [
      "300:\tlearn: 0.0352422\ttotal: 322ms\tremaining: 1.82s\n",
      "400:\tlearn: 0.0305735\ttotal: 411ms\tremaining: 1.64s\n",
      "500:\tlearn: 0.0272640\ttotal: 501ms\tremaining: 1.5s\n",
      "600:\tlearn: 0.0249423\ttotal: 589ms\tremaining: 1.37s\n",
      "700:\tlearn: 0.0231242\ttotal: 680ms\tremaining: 1.26s\n",
      "800:\tlearn: 0.0218541\ttotal: 790ms\tremaining: 1.18s\n",
      "900:\tlearn: 0.0206984\ttotal: 882ms\tremaining: 1.08s\n",
      "1000:\tlearn: 0.0198208\ttotal: 985ms\tremaining: 983ms\n",
      "1100:\tlearn: 0.0191964\ttotal: 1.1s\tremaining: 897ms\n",
      "1200:\tlearn: 0.0186435\ttotal: 1.21s\tremaining: 802ms\n",
      "1300:\tlearn: 0.0181889\ttotal: 1.29s\tremaining: 696ms\n",
      "1400:\tlearn: 0.0177914\ttotal: 1.38s\tremaining: 590ms\n",
      "1500:\tlearn: 0.0174438\ttotal: 1.48s\tremaining: 492ms\n",
      "1600:\tlearn: 0.0171564\ttotal: 1.57s\tremaining: 392ms\n",
      "1700:\tlearn: 0.0169187\ttotal: 1.66s\tremaining: 292ms\n",
      "1800:\tlearn: 0.0167320\ttotal: 1.76s\tremaining: 194ms\n",
      "1900:\tlearn: 0.0165502\ttotal: 1.86s\tremaining: 96.8ms\n",
      "1999:\tlearn: 0.0164236\ttotal: 1.95s\tremaining: 0us\n"
     ]
    },
    {
     "data": {
      "text/plain": [
       "<catboost.core.CatBoostRegressor at 0x7fc446ff1270>"
      ]
     },
     "execution_count": 40,
     "metadata": {},
     "output_type": "execute_result"
    }
   ],
   "source": [
    "model = CatBoostRegressor(\n",
    "    iterations=2000,        # 학습 반복 횟수\n",
    "    depth=7,                # 트리 깊이\n",
    "    learning_rate=0.05,     # 학습률\n",
    "    bagging_temperature=1, # 앙상블 다양성을 조절 (1~3 추천)\n",
    "    # l2_leaf_reg=5,         # L2 정규화 (3~10 사이에서 튜닝 가능)\n",
    "    loss_function='RMSE',   # 손실 함수 (회귀 문제이므로 RMSE 사용)\n",
    "    # eval_metric='RMSE',     # 평가 지표\n",
    "    random_seed=42,\n",
    "    verbose=100,            # 학습 과정 출력\n",
    "    early_stopping_rounds=100  # 조기 종료\n",
    ")\n",
    "\n",
    "model.fit(X_train, y_train)"
   ]
  },
  {
   "cell_type": "code",
   "execution_count": 41,
   "metadata": {},
   "outputs": [],
   "source": [
    "def eval_surrogate_model(y_train,y_pred, y_test):\n",
    "    rmse = np.sqrt(np.mean((y_test - y_pred) ** 2))\n",
    "    mae = np.mean(np.abs(y_test - y_pred))\n",
    "    SSE = np.sum(np.square(y_test - y_pred))    \n",
    "    SST = np.sum(np.square(y_test - y_train.mean()))\n",
    "    r2 = 1 - SSE/SST\n",
    "    return rmse, mae, r2"
   ]
  },
  {
   "cell_type": "code",
   "execution_count": 42,
   "metadata": {},
   "outputs": [
    {
     "name": "stdout",
     "output_type": "stream",
     "text": [
      "(186,)\n",
      "(186, 1)\n"
     ]
    }
   ],
   "source": [
    "y_pred = model.predict(X_test)\n",
    "print(y_pred.shape)\n",
    "if y_pred.ndim == 1:\n",
    "        y_pred = y_pred.reshape(-1, 1)\n",
    "print(y_pred.shape)"
   ]
  },
  {
   "cell_type": "code",
   "execution_count": 43,
   "metadata": {},
   "outputs": [
    {
     "name": "stdout",
     "output_type": "stream",
     "text": [
      "catboost 모델 RMSE: 0.0496\n",
      "catboost 모델 MAE: 0.0302\n",
      "catboost 모델 R^2: 0.9430\n"
     ]
    }
   ],
   "source": [
    "rmse, mae, r2 = eval_surrogate_model(y_train, y_pred, y_test)\n",
    "print(f'catboost 모델 RMSE: {rmse:.4f}')\n",
    "print(f'catboost 모델 MAE: {mae:.4f}')\n",
    "print(f'catboost 모델 R^2: {r2:.4f}')"
   ]
  },
  {
   "cell_type": "code",
   "execution_count": 44,
   "metadata": {},
   "outputs": [],
   "source": [
    "# 모델저장\n",
    "def catboost_save(model, path):\n",
    "    \"\"\"CatBoost 모델 저장\"\"\"\n",
    "    model.save_model(path, format=\"cbm\")  # CatBoost 전용 포맷으로 저장"
   ]
  },
  {
   "cell_type": "code",
   "execution_count": 45,
   "metadata": {},
   "outputs": [],
   "source": [
    "catboost_save(model,'./model_save/catboost_model.cbm')"
   ]
  },
  {
   "cell_type": "code",
   "execution_count": 46,
   "metadata": {},
   "outputs": [],
   "source": [
    "# 모델불러오기\n",
    "def catboost_load(path):\n",
    "    \"\"\"CatBoost 모델 불러오기\"\"\"\n",
    "    model = CatBoostRegressor()  # 회귀 모델이면 CatBoostRegressor, 분류 모델이면 CatBoostClassifier\n",
    "    model.load_model(path)\n",
    "    return model"
   ]
  },
  {
   "cell_type": "code",
   "execution_count": 48,
   "metadata": {},
   "outputs": [],
   "source": [
    "loaded_model = catboost_load('./model_save/catboost_model.cbm')"
   ]
  },
  {
   "cell_type": "code",
   "execution_count": 49,
   "metadata": {},
   "outputs": [],
   "source": [
    "y_pred = loaded_model.predict(X_test)"
   ]
  },
  {
   "cell_type": "code",
   "execution_count": 50,
   "metadata": {},
   "outputs": [
    {
     "data": {
      "text/plain": [
       "(186,)"
      ]
     },
     "execution_count": 50,
     "metadata": {},
     "output_type": "execute_result"
    }
   ],
   "source": [
    "y_pred.shape"
   ]
  },
  {
   "cell_type": "markdown",
   "metadata": {},
   "source": [
    "## Surrogate Model(CatBoost)으로 multi-objective 구현"
   ]
  },
  {
   "cell_type": "code",
   "execution_count": 51,
   "metadata": {},
   "outputs": [
    {
     "data": {
      "text/html": [
       "<div>\n",
       "<style scoped>\n",
       "    .dataframe tbody tr th:only-of-type {\n",
       "        vertical-align: middle;\n",
       "    }\n",
       "\n",
       "    .dataframe tbody tr th {\n",
       "        vertical-align: top;\n",
       "    }\n",
       "\n",
       "    .dataframe thead th {\n",
       "        text-align: right;\n",
       "    }\n",
       "</style>\n",
       "<table border=\"1\" class=\"dataframe\">\n",
       "  <thead>\n",
       "    <tr style=\"text-align: right;\">\n",
       "      <th></th>\n",
       "      <th>cement</th>\n",
       "      <th>slag</th>\n",
       "      <th>ash</th>\n",
       "      <th>water</th>\n",
       "      <th>superplastic</th>\n",
       "      <th>coarseagg</th>\n",
       "      <th>fineagg</th>\n",
       "      <th>age</th>\n",
       "      <th>strength</th>\n",
       "    </tr>\n",
       "  </thead>\n",
       "  <tbody>\n",
       "    <tr>\n",
       "      <th>0</th>\n",
       "      <td>0.089726</td>\n",
       "      <td>0.619702</td>\n",
       "      <td>0.000000</td>\n",
       "      <td>0.757426</td>\n",
       "      <td>0.000000</td>\n",
       "      <td>0.496512</td>\n",
       "      <td>0.422059</td>\n",
       "      <td>0.000000</td>\n",
       "      <td>0.357597</td>\n",
       "    </tr>\n",
       "    <tr>\n",
       "      <th>1</th>\n",
       "      <td>0.152740</td>\n",
       "      <td>0.123356</td>\n",
       "      <td>0.621189</td>\n",
       "      <td>0.309901</td>\n",
       "      <td>0.488688</td>\n",
       "      <td>0.813372</td>\n",
       "      <td>0.562353</td>\n",
       "      <td>-0.666667</td>\n",
       "      <td>0.274815</td>\n",
       "    </tr>\n",
       "    <tr>\n",
       "      <th>2</th>\n",
       "      <td>0.337900</td>\n",
       "      <td>0.000000</td>\n",
       "      <td>0.478261</td>\n",
       "      <td>0.598020</td>\n",
       "      <td>0.248869</td>\n",
       "      <td>0.453198</td>\n",
       "      <td>0.753529</td>\n",
       "      <td>0.000000</td>\n",
       "      <td>0.348904</td>\n",
       "    </tr>\n",
       "    <tr>\n",
       "      <th>3</th>\n",
       "      <td>0.374429</td>\n",
       "      <td>0.333236</td>\n",
       "      <td>0.000000</td>\n",
       "      <td>1.000000</td>\n",
       "      <td>0.000000</td>\n",
       "      <td>0.380814</td>\n",
       "      <td>0.191176</td>\n",
       "      <td>0.000000</td>\n",
       "      <td>0.564681</td>\n",
       "    </tr>\n",
       "    <tr>\n",
       "      <th>4</th>\n",
       "      <td>0.120548</td>\n",
       "      <td>0.536101</td>\n",
       "      <td>0.000000</td>\n",
       "      <td>0.656436</td>\n",
       "      <td>0.411765</td>\n",
       "      <td>0.716279</td>\n",
       "      <td>0.269706</td>\n",
       "      <td>0.000000</td>\n",
       "      <td>0.207084</td>\n",
       "    </tr>\n",
       "    <tr>\n",
       "      <th>...</th>\n",
       "      <td>...</td>\n",
       "      <td>...</td>\n",
       "      <td>...</td>\n",
       "      <td>...</td>\n",
       "      <td>...</td>\n",
       "      <td>...</td>\n",
       "      <td>...</td>\n",
       "      <td>...</td>\n",
       "      <td>...</td>\n",
       "    </tr>\n",
       "    <tr>\n",
       "      <th>921</th>\n",
       "      <td>0.089726</td>\n",
       "      <td>0.619702</td>\n",
       "      <td>0.000000</td>\n",
       "      <td>0.757426</td>\n",
       "      <td>0.000000</td>\n",
       "      <td>0.496512</td>\n",
       "      <td>0.422059</td>\n",
       "      <td>-1.000000</td>\n",
       "      <td>0.104580</td>\n",
       "    </tr>\n",
       "    <tr>\n",
       "      <th>922</th>\n",
       "      <td>0.445662</td>\n",
       "      <td>0.000000</td>\n",
       "      <td>0.587206</td>\n",
       "      <td>0.473267</td>\n",
       "      <td>0.429864</td>\n",
       "      <td>0.644767</td>\n",
       "      <td>0.436765</td>\n",
       "      <td>-1.190476</td>\n",
       "      <td>0.254055</td>\n",
       "    </tr>\n",
       "    <tr>\n",
       "      <th>923</th>\n",
       "      <td>0.075342</td>\n",
       "      <td>0.000000</td>\n",
       "      <td>0.829585</td>\n",
       "      <td>0.524752</td>\n",
       "      <td>0.452489</td>\n",
       "      <td>0.465116</td>\n",
       "      <td>0.588235</td>\n",
       "      <td>0.000000</td>\n",
       "      <td>0.142208</td>\n",
       "    </tr>\n",
       "    <tr>\n",
       "      <th>924</th>\n",
       "      <td>0.398174</td>\n",
       "      <td>0.339082</td>\n",
       "      <td>0.451274</td>\n",
       "      <td>0.520792</td>\n",
       "      <td>0.402715</td>\n",
       "      <td>0.200872</td>\n",
       "      <td>0.480294</td>\n",
       "      <td>0.000000</td>\n",
       "      <td>0.544310</td>\n",
       "    </tr>\n",
       "    <tr>\n",
       "      <th>925</th>\n",
       "      <td>1.000000</td>\n",
       "      <td>0.000000</td>\n",
       "      <td>0.000000</td>\n",
       "      <td>0.455446</td>\n",
       "      <td>0.000000</td>\n",
       "      <td>0.941860</td>\n",
       "      <td>0.023529</td>\n",
       "      <td>-1.000000</td>\n",
       "      <td>0.652394</td>\n",
       "    </tr>\n",
       "  </tbody>\n",
       "</table>\n",
       "<p>926 rows × 9 columns</p>\n",
       "</div>"
      ],
      "text/plain": [
       "       cement      slag       ash     water  superplastic  coarseagg  \\\n",
       "0    0.089726  0.619702  0.000000  0.757426      0.000000   0.496512   \n",
       "1    0.152740  0.123356  0.621189  0.309901      0.488688   0.813372   \n",
       "2    0.337900  0.000000  0.478261  0.598020      0.248869   0.453198   \n",
       "3    0.374429  0.333236  0.000000  1.000000      0.000000   0.380814   \n",
       "4    0.120548  0.536101  0.000000  0.656436      0.411765   0.716279   \n",
       "..        ...       ...       ...       ...           ...        ...   \n",
       "921  0.089726  0.619702  0.000000  0.757426      0.000000   0.496512   \n",
       "922  0.445662  0.000000  0.587206  0.473267      0.429864   0.644767   \n",
       "923  0.075342  0.000000  0.829585  0.524752      0.452489   0.465116   \n",
       "924  0.398174  0.339082  0.451274  0.520792      0.402715   0.200872   \n",
       "925  1.000000  0.000000  0.000000  0.455446      0.000000   0.941860   \n",
       "\n",
       "      fineagg       age  strength  \n",
       "0    0.422059  0.000000  0.357597  \n",
       "1    0.562353 -0.666667  0.274815  \n",
       "2    0.753529  0.000000  0.348904  \n",
       "3    0.191176  0.000000  0.564681  \n",
       "4    0.269706  0.000000  0.207084  \n",
       "..        ...       ...       ...  \n",
       "921  0.422059 -1.000000  0.104580  \n",
       "922  0.436765 -1.190476  0.254055  \n",
       "923  0.588235  0.000000  0.142208  \n",
       "924  0.480294  0.000000  0.544310  \n",
       "925  0.023529 -1.000000  0.652394  \n",
       "\n",
       "[926 rows x 9 columns]"
      ]
     },
     "execution_count": 51,
     "metadata": {},
     "output_type": "execute_result"
    }
   ],
   "source": [
    "import fireducks.pandas as pd\n",
    "df = pd.read_csv('./data/concrete_processed.csv')\n",
    "df"
   ]
  },
  {
   "cell_type": "code",
   "execution_count": 52,
   "metadata": {},
   "outputs": [],
   "source": [
    "target_cols = ['strength', 'cement', 'water']\n",
    "X = df.drop(columns=target_cols)\n",
    "y = df[target_cols]    "
   ]
  },
  {
   "cell_type": "code",
   "execution_count": 53,
   "metadata": {},
   "outputs": [],
   "source": [
    "X_train, X_test, y_train, y_test = train_test_split(\n",
    "    X,\n",
    "    y,\n",
    "    test_size=0.2,\n",
    "    random_state=42,\n",
    "    shuffle=True\n",
    ")"
   ]
  },
  {
   "cell_type": "code",
   "execution_count": 54,
   "metadata": {},
   "outputs": [
    {
     "name": "stdout",
     "output_type": "stream",
     "text": [
      "(740, 6) <class 'pandas.core.frame.DataFrame'>\n",
      "(740, 3) <class 'pandas.core.frame.DataFrame'>\n",
      "(186, 6) <class 'pandas.core.frame.DataFrame'>\n",
      "(186, 3) <class 'pandas.core.frame.DataFrame'>\n"
     ]
    }
   ],
   "source": [
    "print(X_train.shape, type(X_train))\n",
    "print(y_train.shape, type(y_train))\n",
    "print(X_test.shape, type(X_test))\n",
    "print(y_test.shape, type(y_test))"
   ]
  },
  {
   "cell_type": "code",
   "execution_count": 55,
   "metadata": {},
   "outputs": [
    {
     "name": "stdout",
     "output_type": "stream",
     "text": [
      "(740, 6) <class 'numpy.ndarray'>\n",
      "(740, 3) <class 'numpy.ndarray'>\n",
      "(186, 6) <class 'numpy.ndarray'>\n",
      "(186, 3) <class 'numpy.ndarray'>\n"
     ]
    }
   ],
   "source": [
    "X_train = np.array(X_train)\n",
    "y_train = np.array(y_train)\n",
    "X_test = np.array(X_test)\n",
    "y_test = np.array(y_test)\n",
    "print(X_train.shape, type(X_train))\n",
    "print(y_train.shape, type(y_train))\n",
    "print(X_test.shape, type(X_test))\n",
    "print(y_test.shape, type(y_test))"
   ]
  },
  {
   "cell_type": "markdown",
   "metadata": {},
   "source": [
    "### 방법 1 : 개별모델학습해서 multi-objective 최적화"
   ]
  },
  {
   "cell_type": "code",
   "execution_count": 56,
   "metadata": {},
   "outputs": [],
   "source": [
    "from catboost import CatBoostRegressor"
   ]
  },
  {
   "cell_type": "code",
   "execution_count": null,
   "metadata": {},
   "outputs": [],
   "source": [
    "models = []\n",
    "for i in range(y.shape[1]):\n",
    "    model = CatBoostRegressor(\n",
    "        iterations=2000,\n",
    "        depth=7,\n",
    "        learning_rate=0.05,\n",
    "        loss_function='RMSE',\n",
    "        random_seed=42,\n",
    "        verbose=200\n",
    "    )\n",
    "    model.fit(X_train, y_train[:, i], early_stopping_rounds=100)\n",
    "    models.append(model)"
   ]
  },
  {
   "cell_type": "code",
   "execution_count": 99,
   "metadata": {},
   "outputs": [
    {
     "name": "stdout",
     "output_type": "stream",
     "text": [
      "(186,)\n",
      "(186, 1)\n",
      "(186,)\n",
      "(186, 1)\n",
      "(186,)\n",
      "(186, 1)\n",
      "(186, 3)\n"
     ]
    }
   ],
   "source": [
    "y_preds = []\n",
    "for m in models:\n",
    "    y_pred = m.predict(X_test)\n",
    "    print(y_pred.shape)\n",
    "    if y_pred.ndim == 1:\n",
    "        y_pred = y_pred.reshape(-1, 1)\n",
    "    print(y_pred.shape)\n",
    "    y_preds.append(y_pred)\n",
    "y_preds = np.column_stack(y_preds)\n",
    "print(y_preds.shape)\n",
    "\n",
    "# y_preds = np.column_stack([m.predict(X_test) for m in models])"
   ]
  },
  {
   "cell_type": "code",
   "execution_count": 100,
   "metadata": {},
   "outputs": [],
   "source": [
    "import numpy as np\n",
    "\n",
    "def catboost_multi_evaluate(model, y_train, y_pred, y_test, target_cols):\n",
    "    rmse_list, mae_list, r2_list = [], [], []\n",
    "    \n",
    "    for idx, col in enumerate(target_cols):\n",
    "        y_true_i = y_test[:, idx]  # target_dict의 key를 인덱스로 변환\n",
    "        y_pred_i = y_pred[:, idx]\n",
    "        \n",
    "        mae_i = np.mean(np.abs(y_true_i - y_pred_i))\n",
    "        mse_i = np.mean((y_true_i - y_pred_i) ** 2)\n",
    "        rmse_i = np.sqrt(mse_i)\n",
    "        \n",
    "        sse_i = np.sum((y_true_i - y_pred_i) ** 2)\n",
    "        sst_i = np.sum(y_true_i - np.mean(y_train) ** 2)\n",
    "        \n",
    "        r2_i = 1 - sse_i / sst_i\n",
    "        \n",
    "        rmse_list.append(rmse_i)\n",
    "        mae_list.append(mae_i)\n",
    "        r2_list.append(r2_i)\n",
    "        \n",
    "        print(f\"Target '{col}' - RMSE: {rmse_i:.4f}, MAE: {mae_i:.4f}, R2: {r2_i:.4f}\")\n",
    "    \n",
    "    rmse_mean = np.mean(rmse_list)\n",
    "    mae_mean = np.mean(mae_list)\n",
    "    r2_mean = np.mean(r2_list)\n",
    "    \n",
    "    print(f\"[Average Metrics] RMSE: {rmse_mean:.4f}, MAE: {mae_mean:.4f}, R2: {r2_mean:.4f}\")\n",
    "    return rmse_mean, mae_mean, r2_mean"
   ]
  },
  {
   "cell_type": "code",
   "execution_count": 101,
   "metadata": {},
   "outputs": [
    {
     "name": "stdout",
     "output_type": "stream",
     "text": [
      "Target 'strength' - RMSE: 0.0796, MAE: 0.0421, R2: 0.9680\n",
      "Target 'cement' - RMSE: 0.0641, MAE: 0.0224, R2: 0.9773\n",
      "Target 'water' - RMSE: 0.0584, MAE: 0.0219, R2: 0.9898\n",
      "[Average Metrics] RMSE: 0.0674, MAE: 0.0288, R2: 0.9784\n",
      "catboost 모델 mulit-objective RMSE: 0.0674\n",
      "catboost 모델 mulit-objective MAE: 0.0288\n",
      "catboost 모델 mulit-objective R^2: 0.9784\n"
     ]
    }
   ],
   "source": [
    "rmse_mean, mae_mean, r2_mean = catboost_multi_evaluate(model,\n",
    "                            y_train,    \n",
    "                            y_preds,  \n",
    "                            y_test,   \n",
    "                            target_cols)\n",
    "print(f'catboost 모델 mulit-objective RMSE: {rmse_mean:.4f}')\n",
    "print(f'catboost 모델 mulit-objective MAE: {mae_mean:.4f}')\n",
    "print(f'catboost 모델 mulit-objective R^2: {r2_mean:.4f}')"
   ]
  },
  {
   "cell_type": "markdown",
   "metadata": {},
   "source": [
    "### 방법 2 : custom loss function 활용 - 실패"
   ]
  },
  {
   "cell_type": "code",
   "execution_count": 224,
   "metadata": {},
   "outputs": [
    {
     "name": "stdout",
     "output_type": "stream",
     "text": [
      "(740, 6)\n",
      "(740, 3)\n",
      "(186, 6)\n",
      "(186, 3)\n"
     ]
    }
   ],
   "source": [
    "print(X_train.shape)\n",
    "print(y_train.shape)\n",
    "print(X_test.shape)\n",
    "print(y_test.shape)"
   ]
  },
  {
   "cell_type": "code",
   "execution_count": 133,
   "metadata": {},
   "outputs": [],
   "source": [
    "class MultiObjectiveLoss:\n",
    "    def __init__(self, alpha=0.5, beta=0.5):\n",
    "        \"\"\"\n",
    "        Multi-Objective 손실 함수 (RMSE + MAE)\n",
    "        alpha: RMSE 가중치\n",
    "        beta: MAE 가중치\n",
    "        \"\"\"\n",
    "        self.alpha = alpha\n",
    "        self.beta = beta\n",
    "    \n",
    "    def calc_ders_range(self, approxes, targets, weights):\n",
    "        \"\"\"\n",
    "        approxes: 예측값 (logits)\n",
    "        targets: 실제 값\n",
    "        weights: 샘플 가중치 (필요 없을 경우 None)\n",
    "        \"\"\"\n",
    "        assert len(approxes) == len(targets)\n",
    "        \n",
    "        derivatives = []\n",
    "        second_derivatives = []\n",
    "        \n",
    "        for i in range(len(approxes)):\n",
    "            error1 = approxes[i] - targets[i]  # RMSE 오차\n",
    "            error2 = approxes[i] - targets[i]  # MAE 오차\n",
    "            \n",
    "            grad_rmse = error1 # RMSE 미분값\n",
    "            grad_mae = np.sign(error2) # MAE 미분값\n",
    "            \n",
    "            grad = self.alpha * grad_rmse + self.beta * grad_mae  # Gradient (1차 미분)\n",
    "            # Hessian (2차 미분) - 보통 1로 설정\n",
    "            hess = 1.0  # CatBoost에서는 Hessian을 안 쓰는 경우가 많음\n",
    "            \n",
    "            derivatives.append(grad)\n",
    "            second_derivatives.append(hess)\n",
    "        \n",
    "        return zip(derivatives, second_derivatives)"
   ]
  },
  {
   "cell_type": "code",
   "execution_count": 134,
   "metadata": {},
   "outputs": [],
   "source": [
    "model = CatBoostRegressor(\n",
    "    iterations=2000,\n",
    "    depth=7,\n",
    "    learning_rate=0.05,\n",
    "    loss_function=MultiObjectiveLoss(alpha=0.7, beta=0.3),  # 가중치 조정 가능\n",
    "    random_seed=42,\n",
    "    verbose=200\n",
    ")"
   ]
  },
  {
   "cell_type": "code",
   "execution_count": 135,
   "metadata": {},
   "outputs": [
    {
     "ename": "CatBoostError",
     "evalue": "catboost/private/libs/target/data_providers.cpp:639: Currently only multi-regression, multilabel and survival objectives work with multidimensional target",
     "output_type": "error",
     "traceback": [
      "\u001b[0;31m---------------------------------------------------------------------------\u001b[0m",
      "\u001b[0;31mCatBoostError\u001b[0m                             Traceback (most recent call last)",
      "Cell \u001b[0;32mIn[135], line 1\u001b[0m\n\u001b[0;32m----> 1\u001b[0m \u001b[43mmodel\u001b[49m\u001b[38;5;241;43m.\u001b[39;49m\u001b[43mfit\u001b[49m\u001b[43m(\u001b[49m\u001b[43mX_train\u001b[49m\u001b[43m,\u001b[49m\u001b[43m \u001b[49m\u001b[43my_train\u001b[49m\u001b[43m)\u001b[49m\n",
      "File \u001b[0;32m/opt/conda/lib/python3.10/site-packages/catboost/core.py:5873\u001b[0m, in \u001b[0;36mCatBoostRegressor.fit\u001b[0;34m(self, X, y, cat_features, text_features, embedding_features, graph, sample_weight, baseline, use_best_model, eval_set, verbose, logging_level, plot, plot_file, column_description, verbose_eval, metric_period, silent, early_stopping_rounds, save_snapshot, snapshot_file, snapshot_interval, init_model, callbacks, log_cout, log_cerr)\u001b[0m\n\u001b[1;32m   5871\u001b[0m \u001b[38;5;28;01mif\u001b[39;00m \u001b[38;5;124m'\u001b[39m\u001b[38;5;124mloss_function\u001b[39m\u001b[38;5;124m'\u001b[39m \u001b[38;5;129;01min\u001b[39;00m params:\n\u001b[1;32m   5872\u001b[0m     CatBoostRegressor\u001b[38;5;241m.\u001b[39m_check_is_compatible_loss(params[\u001b[38;5;124m'\u001b[39m\u001b[38;5;124mloss_function\u001b[39m\u001b[38;5;124m'\u001b[39m])\n\u001b[0;32m-> 5873\u001b[0m \u001b[38;5;28;01mreturn\u001b[39;00m \u001b[38;5;28;43mself\u001b[39;49m\u001b[38;5;241;43m.\u001b[39;49m\u001b[43m_fit\u001b[49m\u001b[43m(\u001b[49m\u001b[43mX\u001b[49m\u001b[43m,\u001b[49m\u001b[43m \u001b[49m\u001b[43my\u001b[49m\u001b[43m,\u001b[49m\u001b[43m \u001b[49m\u001b[43mcat_features\u001b[49m\u001b[43m,\u001b[49m\u001b[43m \u001b[49m\u001b[43mtext_features\u001b[49m\u001b[43m,\u001b[49m\u001b[43m \u001b[49m\u001b[43membedding_features\u001b[49m\u001b[43m,\u001b[49m\u001b[43m \u001b[49m\u001b[38;5;28;43;01mNone\u001b[39;49;00m\u001b[43m,\u001b[49m\u001b[43m \u001b[49m\u001b[43mgraph\u001b[49m\u001b[43m,\u001b[49m\u001b[43m \u001b[49m\u001b[43msample_weight\u001b[49m\u001b[43m,\u001b[49m\u001b[43m \u001b[49m\u001b[38;5;28;43;01mNone\u001b[39;49;00m\u001b[43m,\u001b[49m\u001b[43m \u001b[49m\u001b[38;5;28;43;01mNone\u001b[39;49;00m\u001b[43m,\u001b[49m\u001b[43m \u001b[49m\u001b[38;5;28;43;01mNone\u001b[39;49;00m\u001b[43m,\u001b[49m\u001b[43m \u001b[49m\u001b[38;5;28;43;01mNone\u001b[39;49;00m\u001b[43m,\u001b[49m\u001b[43m \u001b[49m\u001b[43mbaseline\u001b[49m\u001b[43m,\u001b[49m\n\u001b[1;32m   5874\u001b[0m \u001b[43m                 \u001b[49m\u001b[43muse_best_model\u001b[49m\u001b[43m,\u001b[49m\u001b[43m \u001b[49m\u001b[43meval_set\u001b[49m\u001b[43m,\u001b[49m\u001b[43m \u001b[49m\u001b[43mverbose\u001b[49m\u001b[43m,\u001b[49m\u001b[43m \u001b[49m\u001b[43mlogging_level\u001b[49m\u001b[43m,\u001b[49m\u001b[43m \u001b[49m\u001b[43mplot\u001b[49m\u001b[43m,\u001b[49m\u001b[43m \u001b[49m\u001b[43mplot_file\u001b[49m\u001b[43m,\u001b[49m\u001b[43m \u001b[49m\u001b[43mcolumn_description\u001b[49m\u001b[43m,\u001b[49m\n\u001b[1;32m   5875\u001b[0m \u001b[43m                 \u001b[49m\u001b[43mverbose_eval\u001b[49m\u001b[43m,\u001b[49m\u001b[43m \u001b[49m\u001b[43mmetric_period\u001b[49m\u001b[43m,\u001b[49m\u001b[43m \u001b[49m\u001b[43msilent\u001b[49m\u001b[43m,\u001b[49m\u001b[43m \u001b[49m\u001b[43mearly_stopping_rounds\u001b[49m\u001b[43m,\u001b[49m\n\u001b[1;32m   5876\u001b[0m \u001b[43m                 \u001b[49m\u001b[43msave_snapshot\u001b[49m\u001b[43m,\u001b[49m\u001b[43m \u001b[49m\u001b[43msnapshot_file\u001b[49m\u001b[43m,\u001b[49m\u001b[43m \u001b[49m\u001b[43msnapshot_interval\u001b[49m\u001b[43m,\u001b[49m\u001b[43m \u001b[49m\u001b[43minit_model\u001b[49m\u001b[43m,\u001b[49m\u001b[43m \u001b[49m\u001b[43mcallbacks\u001b[49m\u001b[43m,\u001b[49m\u001b[43m \u001b[49m\u001b[43mlog_cout\u001b[49m\u001b[43m,\u001b[49m\u001b[43m \u001b[49m\u001b[43mlog_cerr\u001b[49m\u001b[43m)\u001b[49m\n",
      "File \u001b[0;32m/opt/conda/lib/python3.10/site-packages/catboost/core.py:2410\u001b[0m, in \u001b[0;36mCatBoost._fit\u001b[0;34m(self, X, y, cat_features, text_features, embedding_features, pairs, graph, sample_weight, group_id, group_weight, subgroup_id, pairs_weight, baseline, use_best_model, eval_set, verbose, logging_level, plot, plot_file, column_description, verbose_eval, metric_period, silent, early_stopping_rounds, save_snapshot, snapshot_file, snapshot_interval, init_model, callbacks, log_cout, log_cerr)\u001b[0m\n\u001b[1;32m   2407\u001b[0m allow_clear_pool \u001b[38;5;241m=\u001b[39m train_params[\u001b[38;5;124m\"\u001b[39m\u001b[38;5;124mallow_clear_pool\u001b[39m\u001b[38;5;124m\"\u001b[39m]\n\u001b[1;32m   2409\u001b[0m \u001b[38;5;28;01mwith\u001b[39;00m plot_wrapper(plot, plot_file, \u001b[38;5;124m'\u001b[39m\u001b[38;5;124mTraining plots\u001b[39m\u001b[38;5;124m'\u001b[39m, [_get_train_dir(\u001b[38;5;28mself\u001b[39m\u001b[38;5;241m.\u001b[39mget_params())]):\n\u001b[0;32m-> 2410\u001b[0m     \u001b[38;5;28;43mself\u001b[39;49m\u001b[38;5;241;43m.\u001b[39;49m\u001b[43m_train\u001b[49m\u001b[43m(\u001b[49m\n\u001b[1;32m   2411\u001b[0m \u001b[43m        \u001b[49m\u001b[43mtrain_pool\u001b[49m\u001b[43m,\u001b[49m\n\u001b[1;32m   2412\u001b[0m \u001b[43m        \u001b[49m\u001b[43mtrain_params\u001b[49m\u001b[43m[\u001b[49m\u001b[38;5;124;43m\"\u001b[39;49m\u001b[38;5;124;43meval_sets\u001b[39;49m\u001b[38;5;124;43m\"\u001b[39;49m\u001b[43m]\u001b[49m\u001b[43m,\u001b[49m\n\u001b[1;32m   2413\u001b[0m \u001b[43m        \u001b[49m\u001b[43mparams\u001b[49m\u001b[43m,\u001b[49m\n\u001b[1;32m   2414\u001b[0m \u001b[43m        \u001b[49m\u001b[43mallow_clear_pool\u001b[49m\u001b[43m,\u001b[49m\n\u001b[1;32m   2415\u001b[0m \u001b[43m        \u001b[49m\u001b[43mtrain_params\u001b[49m\u001b[43m[\u001b[49m\u001b[38;5;124;43m\"\u001b[39;49m\u001b[38;5;124;43minit_model\u001b[39;49m\u001b[38;5;124;43m\"\u001b[39;49m\u001b[43m]\u001b[49m\n\u001b[1;32m   2416\u001b[0m \u001b[43m    \u001b[49m\u001b[43m)\u001b[49m\n\u001b[1;32m   2418\u001b[0m \u001b[38;5;66;03m# Have property feature_importance possibly set\u001b[39;00m\n\u001b[1;32m   2419\u001b[0m loss \u001b[38;5;241m=\u001b[39m \u001b[38;5;28mself\u001b[39m\u001b[38;5;241m.\u001b[39m_object\u001b[38;5;241m.\u001b[39m_get_loss_function_name()\n",
      "File \u001b[0;32m/opt/conda/lib/python3.10/site-packages/catboost/core.py:1790\u001b[0m, in \u001b[0;36m_CatBoostBase._train\u001b[0;34m(self, train_pool, test_pool, params, allow_clear_pool, init_model)\u001b[0m\n\u001b[1;32m   1789\u001b[0m \u001b[38;5;28;01mdef\u001b[39;00m\u001b[38;5;250m \u001b[39m\u001b[38;5;21m_train\u001b[39m(\u001b[38;5;28mself\u001b[39m, train_pool, test_pool, params, allow_clear_pool, init_model):\n\u001b[0;32m-> 1790\u001b[0m     \u001b[38;5;28;43mself\u001b[39;49m\u001b[38;5;241;43m.\u001b[39;49m\u001b[43m_object\u001b[49m\u001b[38;5;241;43m.\u001b[39;49m\u001b[43m_train\u001b[49m\u001b[43m(\u001b[49m\u001b[43mtrain_pool\u001b[49m\u001b[43m,\u001b[49m\u001b[43m \u001b[49m\u001b[43mtest_pool\u001b[49m\u001b[43m,\u001b[49m\u001b[43m \u001b[49m\u001b[43mparams\u001b[49m\u001b[43m,\u001b[49m\u001b[43m \u001b[49m\u001b[43mallow_clear_pool\u001b[49m\u001b[43m,\u001b[49m\u001b[43m \u001b[49m\u001b[43minit_model\u001b[49m\u001b[38;5;241;43m.\u001b[39;49m\u001b[43m_object\u001b[49m\u001b[43m \u001b[49m\u001b[38;5;28;43;01mif\u001b[39;49;00m\u001b[43m \u001b[49m\u001b[43minit_model\u001b[49m\u001b[43m \u001b[49m\u001b[38;5;28;43;01melse\u001b[39;49;00m\u001b[43m \u001b[49m\u001b[38;5;28;43;01mNone\u001b[39;49;00m\u001b[43m)\u001b[49m\n\u001b[1;32m   1791\u001b[0m     \u001b[38;5;28mself\u001b[39m\u001b[38;5;241m.\u001b[39m_set_trained_model_attributes()\n",
      "File \u001b[0;32m_catboost.pyx:5017\u001b[0m, in \u001b[0;36m_catboost._CatBoost._train\u001b[0;34m()\u001b[0m\n",
      "File \u001b[0;32m_catboost.pyx:5066\u001b[0m, in \u001b[0;36m_catboost._CatBoost._train\u001b[0;34m()\u001b[0m\n",
      "\u001b[0;31mCatBoostError\u001b[0m: catboost/private/libs/target/data_providers.cpp:639: Currently only multi-regression, multilabel and survival objectives work with multidimensional target"
     ]
    }
   ],
   "source": [
    "model.fit(X_train, y_train)"
   ]
  },
  {
   "cell_type": "markdown",
   "metadata": {},
   "source": [
    "### 방법 3 :  CatBoost의 MultiRegression 모드"
   ]
  },
  {
   "cell_type": "code",
   "execution_count": 57,
   "metadata": {},
   "outputs": [
    {
     "name": "stdout",
     "output_type": "stream",
     "text": [
      "(740, 6)\n",
      "(740, 3)\n",
      "(186, 6)\n",
      "(186, 3)\n"
     ]
    }
   ],
   "source": [
    "print(X_train.shape)\n",
    "print(y_train.shape)\n",
    "print(X_test.shape)\n",
    "print(y_test.shape)"
   ]
  },
  {
   "cell_type": "code",
   "execution_count": 58,
   "metadata": {},
   "outputs": [],
   "source": [
    "model = CatBoostRegressor(\n",
    "    iterations=2000,\n",
    "    depth=7,\n",
    "    learning_rate=0.05,\n",
    "    loss_function=\"MultiRMSE\",  # MultiRegression을 위한 손실 함수\n",
    "    random_seed=42,\n",
    "    verbose=200\n",
    ")"
   ]
  },
  {
   "cell_type": "code",
   "execution_count": 59,
   "metadata": {},
   "outputs": [
    {
     "name": "stdout",
     "output_type": "stream",
     "text": [
      "0:\tlearn: 0.3564912\ttotal: 14.4ms\tremaining: 28.9s\n",
      "200:\tlearn: 0.1020031\ttotal: 450ms\tremaining: 4.03s\n",
      "400:\tlearn: 0.0737576\ttotal: 853ms\tremaining: 3.4s\n",
      "600:\tlearn: 0.0603022\ttotal: 1.25s\tremaining: 2.9s\n",
      "800:\tlearn: 0.0526923\ttotal: 1.62s\tremaining: 2.43s\n",
      "1000:\tlearn: 0.0478308\ttotal: 2.01s\tremaining: 2.01s\n",
      "1200:\tlearn: 0.0446486\ttotal: 2.39s\tremaining: 1.59s\n",
      "1400:\tlearn: 0.0424420\ttotal: 2.77s\tremaining: 1.19s\n",
      "1600:\tlearn: 0.0407968\ttotal: 3.17s\tremaining: 789ms\n",
      "1800:\tlearn: 0.0395850\ttotal: 3.56s\tremaining: 393ms\n",
      "1999:\tlearn: 0.0386691\ttotal: 3.95s\tremaining: 0us\n"
     ]
    },
    {
     "data": {
      "text/plain": [
       "<catboost.core.CatBoostRegressor at 0x7fc434133520>"
      ]
     },
     "execution_count": 59,
     "metadata": {},
     "output_type": "execute_result"
    }
   ],
   "source": [
    "model.fit(X_train, y_train)\n"
   ]
  },
  {
   "cell_type": "code",
   "execution_count": 60,
   "metadata": {},
   "outputs": [
    {
     "name": "stdout",
     "output_type": "stream",
     "text": [
      "(186, 3)\n",
      "<class 'numpy.ndarray'>\n"
     ]
    }
   ],
   "source": [
    "y_preds = model.predict(X_test)\n",
    "print(y_preds.shape)\n",
    "print(type(y_preds))"
   ]
  },
  {
   "cell_type": "code",
   "execution_count": 61,
   "metadata": {},
   "outputs": [
    {
     "name": "stdout",
     "output_type": "stream",
     "text": [
      "(186, 3)\n",
      "<class 'numpy.ndarray'>\n"
     ]
    }
   ],
   "source": [
    "print(y_test.shape)\n",
    "print(type(y_test))"
   ]
  },
  {
   "cell_type": "code",
   "execution_count": 62,
   "metadata": {},
   "outputs": [],
   "source": [
    "import numpy as np\n",
    "\n",
    "def catboost_multi_evaluate(model, y_train, y_pred, y_test, target_cols):\n",
    "    rmse_list, mae_list, r2_list = [], [], []\n",
    "    \n",
    "    for idx, col in enumerate(target_cols):\n",
    "        y_true_i = y_test[:, idx]  # target_dict의 key를 인덱스로 변환\n",
    "        y_pred_i = y_pred[:, idx]\n",
    "        \n",
    "        mae_i = np.mean(np.abs(y_true_i - y_pred_i))\n",
    "        mse_i = np.mean((y_true_i - y_pred_i) ** 2)\n",
    "        rmse_i = np.sqrt(mse_i)\n",
    "        \n",
    "        sse_i = np.sum((y_true_i - y_pred_i) ** 2)\n",
    "        sst_i = np.sum(y_true_i - np.mean(y_train) ** 2)\n",
    "        \n",
    "        r2_i = 1 - sse_i / sst_i\n",
    "        \n",
    "        rmse_list.append(rmse_i)\n",
    "        mae_list.append(mae_i)\n",
    "        r2_list.append(r2_i)\n",
    "        \n",
    "        print(f\"Target '{col}' - RMSE: {rmse_i:.4f}, MAE: {mae_i:.4f}, R2: {r2_i:.4f}\")\n",
    "    \n",
    "    rmse_mean = np.mean(rmse_list)\n",
    "    mae_mean = np.mean(mae_list)\n",
    "    r2_mean = np.mean(r2_list)\n",
    "    \n",
    "    print(f\"[Average Metrics] RMSE: {rmse_mean:.4f}, MAE: {mae_mean:.4f}, R2: {r2_mean:.4f}\")\n",
    "    return rmse_mean, mae_mean, r2_mean"
   ]
  },
  {
   "cell_type": "code",
   "execution_count": 63,
   "metadata": {},
   "outputs": [
    {
     "name": "stdout",
     "output_type": "stream",
     "text": [
      "Target 'strength' - RMSE: 0.0791, MAE: 0.0427, R2: 0.9684\n",
      "Target 'cement' - RMSE: 0.0701, MAE: 0.0329, R2: 0.9729\n",
      "Target 'water' - RMSE: 0.0650, MAE: 0.0318, R2: 0.9873\n",
      "[Average Metrics] RMSE: 0.0714, MAE: 0.0358, R2: 0.9762\n",
      "catboost 모델 mulit-objective RMSE: 0.0714\n",
      "catboost 모델 mulit-objective MAE: 0.0358\n",
      "catboost 모델 mulit-objective R^2: 0.9762\n"
     ]
    }
   ],
   "source": [
    "rmse_mean, mae_mean, r2_mean = catboost_multi_evaluate(model,\n",
    "                            y_train,    \n",
    "                            y_preds,  \n",
    "                            y_test,   \n",
    "                            target_cols)\n",
    "print(f'catboost 모델 mulit-objective RMSE: {rmse_mean:.4f}')\n",
    "print(f'catboost 모델 mulit-objective MAE: {mae_mean:.4f}')\n",
    "print(f'catboost 모델 mulit-objective R^2: {r2_mean:.4f}')"
   ]
  },
  {
   "cell_type": "code",
   "execution_count": 64,
   "metadata": {},
   "outputs": [],
   "source": [
    "# 모델저장\n",
    "def catboost_save(model, path):\n",
    "    \"\"\"\n",
    "    CatBoost 모델을 지정된 경로에 저장합니다.\n",
    "\n",
    "    Args:\n",
    "        model (CatBoostRegressor): 저장할 CatBoost 모델 객체\n",
    "        path (str): 모델을 저장할 파일 경로\n",
    "\n",
    "    Returns:\n",
    "        None\n",
    "    \"\"\"\n",
    "    model.save_model(path, format='cbm')"
   ]
  },
  {
   "cell_type": "code",
   "execution_count": 65,
   "metadata": {},
   "outputs": [],
   "source": [
    "catboost_save(model,'./model_save/catboost_multi_model.cbm')"
   ]
  },
  {
   "cell_type": "code",
   "execution_count": 66,
   "metadata": {},
   "outputs": [],
   "source": [
    "# 모델불러오기\n",
    "def catboost_load(path):\n",
    "    \"\"\"CatBoost 모델 불러오기\"\"\"\n",
    "    model = CatBoostRegressor()  # 회귀 모델이면 CatBoostRegressor, 분류 모델이면 CatBoostClassifier\n",
    "    model.load_model(path)\n",
    "    return model"
   ]
  },
  {
   "cell_type": "code",
   "execution_count": 69,
   "metadata": {},
   "outputs": [],
   "source": [
    "loaded_model = catboost_load('./model_save/catboost_multi_model.cbm')"
   ]
  },
  {
   "cell_type": "code",
   "execution_count": 70,
   "metadata": {},
   "outputs": [],
   "source": [
    "y_pred = loaded_model.predict(X_test)"
   ]
  },
  {
   "cell_type": "markdown",
   "metadata": {},
   "source": [
    "## Surrogate Model(TabPFN)으로 multi-objective 구현"
   ]
  },
  {
   "cell_type": "code",
   "execution_count": 4,
   "metadata": {},
   "outputs": [
    {
     "name": "stdout",
     "output_type": "stream",
     "text": [
      "(740, 8)\n",
      "(740, 1)\n",
      "(186, 8)\n",
      "(186, 1)\n"
     ]
    }
   ],
   "source": [
    "print(X_train.shape)\n",
    "print(y_train.shape)\n",
    "print(X_test.shape)\n",
    "print(y_test.shape)"
   ]
  },
  {
   "cell_type": "code",
   "execution_count": 104,
   "metadata": {},
   "outputs": [],
   "source": [
    "from tabpfn import TabPFNRegressor"
   ]
  },
  {
   "cell_type": "code",
   "execution_count": 105,
   "metadata": {},
   "outputs": [],
   "source": [
    "models = []\n",
    "for i in range(y_train.shape[1]):\n",
    "    model = TabPFNRegressor()\n",
    "    # model.fit(X_train, y_train.iloc[:, i])\n",
    "    model.fit(X_train, y_train[:, i])\n",
    "    models.append(model)"
   ]
  },
  {
   "cell_type": "code",
   "execution_count": 107,
   "metadata": {},
   "outputs": [
    {
     "name": "stdout",
     "output_type": "stream",
     "text": [
      "(186,)\n",
      "(186, 1)\n",
      "(186,)\n",
      "(186, 1)\n",
      "(186,)\n",
      "(186, 1)\n",
      "(186, 3) <class 'numpy.ndarray'>\n"
     ]
    }
   ],
   "source": [
    "y_preds = []\n",
    "for m in models:\n",
    "    y_pred = m.predict(X_test)\n",
    "    print(y_pred.shape)\n",
    "    if y_pred.ndim == 1:\n",
    "        y_pred = y_pred.reshape(-1, 1)\n",
    "    print(y_pred.shape)\n",
    "    y_preds.append(y_pred)\n",
    "y_preds = np.column_stack(y_preds)\n",
    "print(y_preds.shape, type(y_preds))"
   ]
  },
  {
   "cell_type": "code",
   "execution_count": 108,
   "metadata": {},
   "outputs": [],
   "source": [
    "import numpy as np\n",
    "\n",
    "def tabpfn_multi_evaluate(model, y_train, y_pred, y_test, target_cols):\n",
    "    rmse_list, mae_list, r2_list = [], [], []\n",
    "    \n",
    "    for idx, col in enumerate(target_cols):\n",
    "        y_true_i = y_test[:, idx]  # target_dict의 key를 인덱스로 변환\n",
    "        y_pred_i = y_pred[:, idx]\n",
    "        \n",
    "        mae_i = np.mean(np.abs(y_true_i - y_pred_i))\n",
    "        mse_i = np.mean((y_true_i - y_pred_i) ** 2)\n",
    "        rmse_i = np.sqrt(mse_i)\n",
    "        \n",
    "        sse_i = np.sum((y_true_i - y_pred_i) ** 2)\n",
    "        sst_i = np.sum(y_true_i - np.mean(y_train) ** 2)\n",
    "        \n",
    "        r2_i = 1 - sse_i / sst_i\n",
    "        \n",
    "        rmse_list.append(rmse_i)\n",
    "        mae_list.append(mae_i)\n",
    "        r2_list.append(r2_i)\n",
    "        \n",
    "        print(f\"Target '{col}' - RMSE: {rmse_i:.4f}, MAE: {mae_i:.4f}, R2: {r2_i:.4f}\")\n",
    "    \n",
    "    rmse_mean = np.mean(rmse_list)\n",
    "    mae_mean = np.mean(mae_list)\n",
    "    r2_mean = np.mean(r2_list)\n",
    "    \n",
    "    print(f\"[Average Metrics] RMSE: {rmse_mean:.4f}, MAE: {mae_mean:.4f}, R2: {r2_mean:.4f}\")\n",
    "    return rmse_mean, mae_mean, r2_mean"
   ]
  },
  {
   "cell_type": "code",
   "execution_count": 109,
   "metadata": {},
   "outputs": [
    {
     "name": "stdout",
     "output_type": "stream",
     "text": [
      "Target 'strength' - RMSE: 0.0878, MAE: 0.0455, R2: 0.9611\n",
      "Target 'cement' - RMSE: 0.0604, MAE: 0.0140, R2: 0.9799\n",
      "Target 'water' - RMSE: 0.0476, MAE: 0.0112, R2: 0.9932\n",
      "[Average Metrics] RMSE: 0.0653, MAE: 0.0236, R2: 0.9781\n",
      "tabpfn 모델 mulit-objective RMSE: 0.0653\n",
      "tabpfn 모델 mulit-objective MAE: 0.0236\n",
      "tabpfn 모델 mulit-objective R^2: 0.9781\n"
     ]
    }
   ],
   "source": [
    "rmse_mean, mae_mean, r2_mean = tabpfn_multi_evaluate(model,\n",
    "                            y_train,    \n",
    "                            y_preds,  \n",
    "                            y_test,   \n",
    "                            target_cols)\n",
    "print(f'tabpfn 모델 mulit-objective RMSE: {rmse_mean:.4f}')\n",
    "print(f'tabpfn 모델 mulit-objective MAE: {mae_mean:.4f}')\n",
    "print(f'tabpfn 모델 mulit-objective R^2: {r2_mean:.4f}')"
   ]
  }
 ],
 "metadata": {
  "kernelspec": {
   "display_name": "base",
   "language": "python",
   "name": "python3"
  },
  "language_info": {
   "codemirror_mode": {
    "name": "ipython",
    "version": 3
   },
   "file_extension": ".py",
   "mimetype": "text/x-python",
   "name": "python",
   "nbconvert_exporter": "python",
   "pygments_lexer": "ipython3",
   "version": "3.10.13"
  }
 },
 "nbformat": 4,
 "nbformat_minor": 2
}
