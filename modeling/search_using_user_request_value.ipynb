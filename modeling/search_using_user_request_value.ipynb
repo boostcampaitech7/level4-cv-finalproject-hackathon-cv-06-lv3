{
 "cells": [
  {
   "cell_type": "markdown",
   "metadata": {},
   "source": [
    "### 최적화에 필요한 X 값 외에 필요한 environment value 입력 가능"
   ]
  },
  {
   "cell_type": "code",
   "execution_count": 2,
   "metadata": {},
   "outputs": [
    {
     "name": "stderr",
     "output_type": "stream",
     "text": [
      "c:\\Users\\seong\\conda3\\envs\\hack\\lib\\site-packages\\tqdm\\auto.py:21: TqdmWarning: IProgress not found. Please update jupyter and ipywidgets. See https://ipywidgets.readthedocs.io/en/stable/user_install.html\n",
      "  from .autonotebook import tqdm as notebook_tqdm\n"
     ]
    }
   ],
   "source": [
    "import surrogate_model\n",
    "import argparse\n",
    "import numpy as np\n",
    "import fireducks.pandas as pd\n",
    "import os\n",
    "import search_model\n",
    "from src.datasets.data_loader import load_data\n",
    "import src.dynamic_pipeline as dynamic_pipeline\n"
   ]
  },
  {
   "cell_type": "code",
   "execution_count": 3,
   "metadata": {},
   "outputs": [],
   "source": [
    "def concrete():\n",
    "    df = pd.read_csv('./data/concrete.csv')\n",
    "\n",
    "    target = 'strength'\n",
    "    user_request_target = 40.0\n",
    "\n",
    "    control_name = ['cement', 'slag', 'ash', 'water', 'superplastic', 'coarseagg', 'fineagg', 'age']\n",
    "    importance={'cement': 1,\n",
    "                    'water': 2,\n",
    "    }\n",
    "    optimize={'cement': 'minimize',\n",
    "                'water': 'minimize',\n",
    "    }\n",
    "    return df, target, user_request_target, control_name, importance, optimize "
   ]
  },
  {
   "cell_type": "code",
   "execution_count": 4,
   "metadata": {},
   "outputs": [],
   "source": [
    "# def concrete():\n",
    "#     df = pd.read_csv('./data/concrete.csv')\n",
    "\n",
    "#     target = 'strength'\n",
    "#     user_request_target = 40.0\n",
    "\n",
    "#     control_name = ['cement', 'slag', 'ash', 'water', 'superplastic', 'coarseagg', 'fineagg']\n",
    "#     importance={'cement': 1,\n",
    "#                     'water': 2,\n",
    "#     }\n",
    "#     optimize={'cement': 'minimize',\n",
    "#                 'water': 'minimize',\n",
    "#     }\n",
    "#     return df, target, user_request_target, control_name, importance, optimize "
   ]
  },
  {
   "cell_type": "code",
   "execution_count": 5,
   "metadata": {},
   "outputs": [],
   "source": [
    "def dvm():\n",
    "    df = pd.read_csv('./data/dvm_merged_df.csv')\n",
    "\n",
    "    target = 'Annual_revenue'\n",
    "    user_request_target = 2485797880\n",
    "\n",
    "    control_name = ['Entry_price', 'Fuel_type', 'Bodytype', 'Top_speed', 'Gearbox']\n",
    "    # control_name = [col for col in df.columns if col != target]\n",
    "    importance={'Entry_price': 1,\n",
    "                    'Top_speed': 2,\n",
    "    }\n",
    "    optimize={'Entry_price': 'minimize',\n",
    "                'Top_speed': 'minimize',\n",
    "    }\n",
    "    return df, target, user_request_target, control_name, importance, optimize "
   ]
  },
  {
   "cell_type": "code",
   "execution_count": 6,
   "metadata": {},
   "outputs": [],
   "source": [
    "def ecommerce():\n",
    "    df = pd.read_csv('./data/ecommerce_sampled_10000.csv')\n",
    "\n",
    "    target = 'revenue'\n",
    "    user_request_target = 50000000\n",
    "\n",
    "    control_name = ['discount_rate']\n",
    "    # control_name = [col for col in df.columns if col != target]\n",
    "    importance={'discount_rate': 1,\n",
    "    }\n",
    "    optimize={'discount_rate': 'minimize',\n",
    "    }\n",
    "    return df, target, user_request_target, control_name, importance, optimize "
   ]
  },
  {
   "cell_type": "code",
   "execution_count": 7,
   "metadata": {},
   "outputs": [],
   "source": [
    "def melb():\n",
    "    df = pd.read_csv('./data/melb_data.csv')\n",
    "\n",
    "    target = 'Price'\n",
    "    user_request_target = 7000000\n",
    "\n",
    "    control_name = ['Suburb', 'Rooms', 'Landsize']\n",
    "    # control_name = [col for col in df.columns if col != target]\n",
    "    importance={'Landsize': 1,\n",
    "            'Rooms': 2,\n",
    "    }\n",
    "    optimize={'Landsize': 'minimize',\n",
    "            'Rooms': 'minimize',\n",
    "    }\n",
    "    return df, target, user_request_target, control_name, importance, optimize "
   ]
  },
  {
   "cell_type": "code",
   "execution_count": 8,
   "metadata": {},
   "outputs": [],
   "source": [
    "def employee():\n",
    "    df = pd.read_csv('./data/employee_attrition_dataset.csv')\n",
    "\n",
    "    target = 'Attrition'\n",
    "    user_request_target = 'No'\n",
    "\n",
    "    control_name = ['Job_Role', 'Hourly_Rate', 'Average_Hours_Worked_Per_Week', 'Relationship_with_Manager', 'Job_Involvement', 'Number_of_Companies_Worked']\n",
    "    # control_name = [col for col in df.columns if col != target]\n",
    "    importance={'Hourly_Rate': 1,\n",
    "                'Average_Hours_Worked_Per_Week': 2,\n",
    "    }\n",
    "    optimize={'Hourly_Rate': 'minimize',\n",
    "            'Average_Hours_Worked_Per_Week': 'maximize',\n",
    "    }\n",
    "    return df, target, user_request_target, control_name, importance, optimize "
   ]
  },
  {
   "cell_type": "code",
   "execution_count": 10,
   "metadata": {},
   "outputs": [],
   "source": [
    "df, target, user_request_target, control_name, importance, optimize = concrete() # concrete(), dvm(), ecommerce(), melb(), employee()\n",
    "model = 'tabpfn' # 'catboost','tabpfn'"
   ]
  },
  {
   "cell_type": "code",
   "execution_count": 11,
   "metadata": {},
   "outputs": [
    {
     "name": "stdout",
     "output_type": "stream",
     "text": [
      "제거된 컬럼이 없습니다.\n",
      "cement: 비대칭 분포로 확인됨. IQR 방식 적용.\n",
      "slag: 비대칭 분포로 확인됨. IQR 방식 적용.\n",
      "ash: 비대칭 분포로 확인됨. IQR 방식 적용.\n",
      "water: 비대칭 분포로 확인됨. IQR 방식 적용.\n",
      "superplastic: 비대칭 분포로 확인됨. IQR 방식 적용.\n",
      "coarseagg: 비대칭 분포로 확인됨. IQR 방식 적용.\n",
      "fineagg: 비대칭 분포로 확인됨. IQR 방식 적용.\n",
      "age: 비대칭 분포로 확인됨. IQR 방식 적용.\n",
      "strength: 비대칭 분포로 확인됨. IQR 방식 적용.\n",
      "cement: 값 범위 중요 → MinMaxScaler 적용\n",
      "slag: 값 범위 중요 → MinMaxScaler 적용\n",
      "ash: 값 범위 중요 → MinMaxScaler 적용\n",
      "water: 값 범위 중요 → MinMaxScaler 적용\n",
      "superplastic: 값 범위 중요 → MinMaxScaler 적용\n",
      "coarseagg: 값 범위 중요 → MinMaxScaler 적용\n",
      "fineagg: 값 범위 중요 → MinMaxScaler 적용\n",
      "age: 비대칭 분포 → RobustScaler 적용\n",
      "strength: 값 범위 중요 → MinMaxScaler 적용\n"
     ]
    }
   ],
   "source": [
    "ret_dict = dynamic_pipeline.preprocess_dynamic(df.copy())\n",
    "ret_dict['processed_df'].to_csv('./temp.csv', index=False)"
   ]
  },
  {
   "cell_type": "code",
   "execution_count": 13,
   "metadata": {},
   "outputs": [
    {
     "name": "stderr",
     "output_type": "stream",
     "text": [
      "2025-02-13 15:11:39,172 - INFO - X_train.shape: (740, 8)\n",
      "2025-02-13 15:11:39,173 - INFO - X_test.shape: (186, 8)\n"
     ]
    },
    {
     "name": "stderr",
     "output_type": "stream",
     "text": [
      "2025-02-13 15:11:39,173 - INFO - y_train.shape: (740, 1)\n",
      "2025-02-13 15:11:39,173 - INFO - y_test.shape: (186, 1)\n",
      "c:\\Users\\seong\\conda3\\envs\\hack\\lib\\site-packages\\sklearn\\utils\\validation.py:1408: DataConversionWarning: A column-vector y was passed when a 1d array was expected. Please change the shape of y to (n_samples, ), for example using ravel().\n",
      "  y = column_or_1d(y, warn=True)\n"
     ]
    },
    {
     "name": "stdout",
     "output_type": "stream",
     "text": [
      "(186, 1)\n",
      "(186, 1)\n",
      "       rmse      mae        r2    target\n",
      "0  0.055978  0.03315  0.927356  strength\n",
      "y_test.shape (186, 1)\n",
      "y_pred.shape (186, 1)\n"
     ]
    }
   ],
   "source": [
    "# if target not in ret_dict['processed_df'].columns: raise Exception('unexpected target')\n",
    "args = argparse.Namespace(\n",
    "    target = [target],\n",
    "    data_path='./temp.csv',\n",
    "    model=model,\n",
    "    prj_id = 40,\n",
    "    seed=40\n",
    ")\n",
    "surrogate_model.main(args, ret_dict['scalers'])"
   ]
  },
  {
   "cell_type": "code",
   "execution_count": 14,
   "metadata": {},
   "outputs": [
    {
     "data": {
      "text/plain": [
       "cement          float64\n",
       "slag            float64\n",
       "ash             float64\n",
       "water           float64\n",
       "superplastic    float64\n",
       "coarseagg       float64\n",
       "fineagg         float64\n",
       "age               int64\n",
       "strength        float64\n",
       "dtype: object"
      ]
     },
     "execution_count": 14,
     "metadata": {},
     "output_type": "execute_result"
    }
   ],
   "source": [
    "df.dtypes"
   ]
  },
  {
   "cell_type": "code",
   "execution_count": null,
   "metadata": {},
   "outputs": [],
   "source": []
  },
  {
   "cell_type": "code",
   "execution_count": 15,
   "metadata": {},
   "outputs": [
    {
     "name": "stdout",
     "output_type": "stream",
     "text": [
      "float64\n",
      "float64\n",
      "float64\n",
      "float64\n",
      "float64\n",
      "float64\n",
      "float64\n",
      "int64\n"
     ]
    }
   ],
   "source": [
    "if target not in df.columns: raise Exception('unexpected target')\n",
    "# control_range = df[control_name]\n",
    "control_range = {}\n",
    "for col in control_name:\n",
    "    col_type = df[col].dtype\n",
    "    print(col_type)\n",
    "    \n",
    "    try:\n",
    "        # 숫자로 변환 가능한 경우 변환 후 min/max 계산\n",
    "        control_range[col] = (df[col].min(), df[col].max())\n",
    "    except Exception as e:\n",
    "        # print(f\"Warning: Could not process column {col} due to {e}\")\n",
    "        unique_values = df[col].unique()\n",
    "        control_range[col] = (unique_values[0], unique_values[-1])  # 변환 실패 시 기본값 설정\n",
    "\n",
    "\n",
    "# control_range = {col: (df[col].min(), df[col].max()) for col in control_range}"
   ]
  },
  {
   "cell_type": "code",
   "execution_count": 16,
   "metadata": {},
   "outputs": [
    {
     "data": {
      "text/plain": [
       "{'cement': (102.0, 540.0),\n",
       " 'slag': (0.0, 359.4),\n",
       " 'ash': (0.0, 200.1),\n",
       " 'water': (121.8, 247.0),\n",
       " 'superplastic': (0.0, 32.2),\n",
       " 'coarseagg': (801.0, 1145.0),\n",
       " 'fineagg': (594.0, 992.6),\n",
       " 'age': (1, 365)}"
      ]
     },
     "execution_count": 16,
     "metadata": {},
     "output_type": "execute_result"
    }
   ],
   "source": [
    "control_range"
   ]
  },
  {
   "cell_type": "code",
   "execution_count": 17,
   "metadata": {},
   "outputs": [
    {
     "name": "stdout",
     "output_type": "stream",
     "text": [
      "strength 2.33 ~ 82.6\n"
     ]
    }
   ],
   "source": [
    "print(target, df[target].min(),'~',df[target].max())"
   ]
  },
  {
   "cell_type": "code",
   "execution_count": 18,
   "metadata": {},
   "outputs": [],
   "source": [
    "df_scaled = load_data(args.data_path)\n",
    "X = df_scaled.drop(columns=args.target)\n",
    "y = df_scaled[args.target]\n",
    "x_col_list = X.columns.tolist()\n",
    "\n",
    "X_train,y_train = X.to_numpy(),y.to_numpy()\n"
   ]
  },
  {
   "cell_type": "code",
   "execution_count": 21,
   "metadata": {},
   "outputs": [],
   "source": [
    "scalers = ret_dict['scalers']\n"
   ]
  },
  {
   "cell_type": "code",
   "execution_count": 22,
   "metadata": {},
   "outputs": [],
   "source": [
    "from src.datasets.data_loader import load_data"
   ]
  },
  {
   "cell_type": "markdown",
   "metadata": {},
   "source": [
    "### ADD User Request Value"
   ]
  },
  {
   "cell_type": "code",
   "execution_count": 24,
   "metadata": {},
   "outputs": [],
   "source": [
    "base_csv = df.copy() # 원본 데이터 복사 ## 전처리 되었는지 확인 필수 \n",
    "scalers = ret_dict['scalers']"
   ]
  },
  {
   "cell_type": "code",
   "execution_count": 25,
   "metadata": {},
   "outputs": [],
   "source": [
    "user_request_value = base_csv.iloc[0] # 첫번째 행 추출\n",
    "user_request_value = user_request_value.to_dict()"
   ]
  },
  {
   "cell_type": "code",
   "execution_count": 26,
   "metadata": {},
   "outputs": [],
   "source": [
    "env_list = []\n",
    "for env in base_csv.columns:\n",
    "    if env not in control_name and env != target:\n",
    "        print(f'{env} is environment variable')\n",
    "        env_list.append(env)\n",
    "        "
   ]
  },
  {
   "cell_type": "code",
   "execution_count": null,
   "metadata": {},
   "outputs": [],
   "source": []
  },
  {
   "cell_type": "code",
   "execution_count": 27,
   "metadata": {},
   "outputs": [],
   "source": [
    "for env in env_list:\n",
    "    user_req = input(f'{env} 값을 입력해주세요: ')\n",
    "    if user_req == '':\n",
    "        continue\n",
    "    elif 'float' in str(df[env].dtype):\n",
    "        user_req = float(user_req)\n",
    "    elif 'int' in str(df[env].dtype):\n",
    "        user_req = int(user_req)\n",
    "    elif df[env].dtype == 'object' or df[env].dtype == 'str':\n",
    "        user_req = str(user_req)\n",
    "    else:\n",
    "        raise Exception(f'{env} 값을 입력해주세요: ')\n",
    "    \n",
    "    user_request_value[env] = user_req"
   ]
  },
  {
   "cell_type": "code",
   "execution_count": 28,
   "metadata": {},
   "outputs": [],
   "source": [
    "# user_request_value_scaled = {}\n",
    "# for key, value in user_request_value.items():\n",
    "#     if key in scalers:\n",
    "#         user_request_value_scaled[key] = scalers[key].transform(np.array([value]).reshape(-1,1)).flatten()\n",
    "#     else:\n",
    "#         user_request_value_scaled[key] = value"
   ]
  },
  {
   "cell_type": "code",
   "execution_count": 29,
   "metadata": {},
   "outputs": [],
   "source": [
    "# user_request_value_scaled = pd.DataFrame(user_request_value_scaled)\n"
   ]
  },
  {
   "cell_type": "code",
   "execution_count": 31,
   "metadata": {},
   "outputs": [],
   "source": [
    "for l in [control_name, importance, optimize]:\n",
    "    for c in l:\n",
    "        if c not in ret_dict['processed_df'].columns:\n",
    "            raise Exception(f'{c} is unexpected col_name')\n",
    "args = argparse.Namespace(\n",
    "    model=model,\n",
    "    search_model='k_means',\n",
    "    data_path='./temp.csv',\n",
    "    control_name=control_name,\n",
    "    control_range= control_range,\n",
    "    target=[target],\n",
    "    importance=importance,\n",
    "    optimize=optimize,\n",
    "    prj_id=40,\n",
    "    seed=40,\n",
    "    user_request_target=[user_request_target],\n",
    "    model_path='./temp/surrogate_model/model',\n",
    "    user_request_idx=-1,\n",
    "    user_request_value=user_request_value\n",
    ")"
   ]
  },
  {
   "cell_type": "code",
   "execution_count": 33,
   "metadata": {},
   "outputs": [
    {
     "name": "stderr",
     "output_type": "stream",
     "text": [
      "c:\\Users\\seong\\conda3\\envs\\hack\\lib\\site-packages\\sklearn\\utils\\validation.py:2739: UserWarning: X does not have valid feature names, but MinMaxScaler was fitted with feature names\n",
      "  warnings.warn(\n",
      "c:\\Users\\seong\\conda3\\envs\\hack\\lib\\site-packages\\sklearn\\utils\\validation.py:2739: UserWarning: X does not have valid feature names, but MinMaxScaler was fitted with feature names\n",
      "  warnings.warn(\n",
      "c:\\Users\\seong\\conda3\\envs\\hack\\lib\\site-packages\\sklearn\\utils\\validation.py:2739: UserWarning: X does not have valid feature names, but MinMaxScaler was fitted with feature names\n",
      "  warnings.warn(\n",
      "c:\\Users\\seong\\conda3\\envs\\hack\\lib\\site-packages\\sklearn\\utils\\validation.py:2739: UserWarning: X does not have valid feature names, but MinMaxScaler was fitted with feature names\n",
      "  warnings.warn(\n",
      "c:\\Users\\seong\\conda3\\envs\\hack\\lib\\site-packages\\sklearn\\utils\\validation.py:2739: UserWarning: X does not have valid feature names, but MinMaxScaler was fitted with feature names\n",
      "  warnings.warn(\n",
      "c:\\Users\\seong\\conda3\\envs\\hack\\lib\\site-packages\\sklearn\\utils\\validation.py:2739: UserWarning: X does not have valid feature names, but MinMaxScaler was fitted with feature names\n",
      "  warnings.warn(\n",
      "c:\\Users\\seong\\conda3\\envs\\hack\\lib\\site-packages\\sklearn\\utils\\validation.py:2739: UserWarning: X does not have valid feature names, but MinMaxScaler was fitted with feature names\n",
      "  warnings.warn(\n",
      "c:\\Users\\seong\\conda3\\envs\\hack\\lib\\site-packages\\sklearn\\utils\\validation.py:2739: UserWarning: X does not have valid feature names, but RobustScaler was fitted with feature names\n",
      "  warnings.warn(\n",
      "c:\\Users\\seong\\conda3\\envs\\hack\\lib\\site-packages\\sklearn\\utils\\validation.py:2739: UserWarning: X does not have valid feature names, but MinMaxScaler was fitted with feature names\n",
      "  warnings.warn(\n",
      "c:\\Users\\seong\\conda3\\envs\\hack\\lib\\site-packages\\sklearn\\utils\\validation.py:2739: UserWarning: X does not have valid feature names, but MinMaxScaler was fitted with feature names\n",
      "  warnings.warn(\n",
      "c:\\Users\\seong\\conda3\\envs\\hack\\lib\\site-packages\\sklearn\\utils\\validation.py:2739: UserWarning: X does not have valid feature names, but MinMaxScaler was fitted with feature names\n",
      "  warnings.warn(\n",
      "c:\\Users\\seong\\conda3\\envs\\hack\\lib\\site-packages\\sklearn\\utils\\validation.py:2739: UserWarning: X does not have valid feature names, but MinMaxScaler was fitted with feature names\n",
      "  warnings.warn(\n",
      "c:\\Users\\seong\\conda3\\envs\\hack\\lib\\site-packages\\sklearn\\utils\\validation.py:2739: UserWarning: X does not have valid feature names, but MinMaxScaler was fitted with feature names\n",
      "  warnings.warn(\n",
      "c:\\Users\\seong\\conda3\\envs\\hack\\lib\\site-packages\\sklearn\\utils\\validation.py:2739: UserWarning: X does not have valid feature names, but MinMaxScaler was fitted with feature names\n",
      "  warnings.warn(\n",
      "c:\\Users\\seong\\conda3\\envs\\hack\\lib\\site-packages\\sklearn\\utils\\validation.py:2739: UserWarning: X does not have valid feature names, but MinMaxScaler was fitted with feature names\n",
      "  warnings.warn(\n",
      "c:\\Users\\seong\\conda3\\envs\\hack\\lib\\site-packages\\sklearn\\utils\\validation.py:2739: UserWarning: X does not have valid feature names, but MinMaxScaler was fitted with feature names\n",
      "  warnings.warn(\n",
      "c:\\Users\\seong\\conda3\\envs\\hack\\lib\\site-packages\\sklearn\\utils\\validation.py:2739: UserWarning: X does not have valid feature names, but RobustScaler was fitted with feature names\n",
      "  warnings.warn(\n",
      "c:\\Users\\seong\\conda3\\envs\\hack\\lib\\site-packages\\sklearn\\utils\\validation.py:2739: UserWarning: X does not have valid feature names, but MinMaxScaler was fitted with feature names\n",
      "  warnings.warn(\n",
      "2025-02-13 15:12:20,894 - INFO - X_train.shape: (926, 8)\n",
      "2025-02-13 15:12:20,895 - INFO - X_test.shape: (1, 8)\n",
      "2025-02-13 15:12:20,896 - INFO - y_train.shape: (926, 1)\n",
      "2025-02-13 15:12:20,897 - INFO - y_test.shape: (1, 1)\n"
     ]
    },
    {
     "name": "stderr",
     "output_type": "stream",
     "text": [
      "c:\\Users\\seong\\Desktop\\ton\\ddddd\\level4-cv-finalproject-hackathon-cv-06-lv3\\modeling\\src\\search\\k_means_search_deploy.py:69: RuntimeWarning: divide by zero encountered in log10\n",
      "  rounding_digits_y = np.clip(np.ceil(-np.log10(scale_factor_y/100)), 2, 10).astype(int)\n"
     ]
    },
    {
     "name": "stdout",
     "output_type": "stream",
     "text": [
      "TabPFNRegressor(device='cuda')\n",
      "is_norminal [False, False, False, False, False, False, False, False]\n",
      "x_min :  [ 0.          0.          0.         -0.05148515  0.          0.\n",
      " -0.03235294 -1.28571429]\n",
      "x_max :  [ 1.          1.05057001  1.          1.18811881  1.45701357  1.\n",
      "  1.14       16.04761905]\n",
      "weights (1.0, -1.0, -1.0)\n"
     ]
    },
    {
     "name": "stderr",
     "output_type": "stream",
     "text": [
      "1it [00:04,  4.82s/it]\n"
     ]
    },
    {
     "name": "stdout",
     "output_type": "stream",
     "text": [
      "search model 소요 시간: 4.8301초\n"
     ]
    }
   ],
   "source": [
    "# %%time \n",
    "x_opt = search_model.main(args,ret_dict['scalers'])"
   ]
  },
  {
   "cell_type": "code",
   "execution_count": 34,
   "metadata": {},
   "outputs": [
    {
     "data": {
      "text/html": [
       "<div>\n",
       "<style scoped>\n",
       "    .dataframe tbody tr th:only-of-type {\n",
       "        vertical-align: middle;\n",
       "    }\n",
       "\n",
       "    .dataframe tbody tr th {\n",
       "        vertical-align: top;\n",
       "    }\n",
       "\n",
       "    .dataframe thead th {\n",
       "        text-align: right;\n",
       "    }\n",
       "</style>\n",
       "<table border=\"1\" class=\"dataframe\">\n",
       "  <thead>\n",
       "    <tr style=\"text-align: right;\">\n",
       "      <th></th>\n",
       "      <th>cement</th>\n",
       "      <th>slag</th>\n",
       "      <th>ash</th>\n",
       "      <th>water</th>\n",
       "      <th>superplastic</th>\n",
       "      <th>coarseagg</th>\n",
       "      <th>fineagg</th>\n",
       "      <th>age</th>\n",
       "      <th>strength</th>\n",
       "    </tr>\n",
       "  </thead>\n",
       "  <tbody>\n",
       "    <tr>\n",
       "      <th>0</th>\n",
       "      <td>141.3</td>\n",
       "      <td>212.0</td>\n",
       "      <td>0.0</td>\n",
       "      <td>203.5</td>\n",
       "      <td>0.0</td>\n",
       "      <td>971.8</td>\n",
       "      <td>748.5</td>\n",
       "      <td>28</td>\n",
       "      <td>29.89</td>\n",
       "    </tr>\n",
       "    <tr>\n",
       "      <th>1</th>\n",
       "      <td>168.9</td>\n",
       "      <td>42.2</td>\n",
       "      <td>124.3</td>\n",
       "      <td>158.3</td>\n",
       "      <td>10.8</td>\n",
       "      <td>1080.8</td>\n",
       "      <td>796.2</td>\n",
       "      <td>14</td>\n",
       "      <td>23.51</td>\n",
       "    </tr>\n",
       "    <tr>\n",
       "      <th>2</th>\n",
       "      <td>250.0</td>\n",
       "      <td>0.0</td>\n",
       "      <td>95.7</td>\n",
       "      <td>187.4</td>\n",
       "      <td>5.5</td>\n",
       "      <td>956.9</td>\n",
       "      <td>861.2</td>\n",
       "      <td>28</td>\n",
       "      <td>29.22</td>\n",
       "    </tr>\n",
       "    <tr>\n",
       "      <th>3</th>\n",
       "      <td>266.0</td>\n",
       "      <td>114.0</td>\n",
       "      <td>0.0</td>\n",
       "      <td>228.0</td>\n",
       "      <td>0.0</td>\n",
       "      <td>932.0</td>\n",
       "      <td>670.0</td>\n",
       "      <td>28</td>\n",
       "      <td>45.85</td>\n",
       "    </tr>\n",
       "    <tr>\n",
       "      <th>4</th>\n",
       "      <td>154.8</td>\n",
       "      <td>183.4</td>\n",
       "      <td>0.0</td>\n",
       "      <td>193.3</td>\n",
       "      <td>9.1</td>\n",
       "      <td>1047.4</td>\n",
       "      <td>696.7</td>\n",
       "      <td>28</td>\n",
       "      <td>18.29</td>\n",
       "    </tr>\n",
       "    <tr>\n",
       "      <th>...</th>\n",
       "      <td>...</td>\n",
       "      <td>...</td>\n",
       "      <td>...</td>\n",
       "      <td>...</td>\n",
       "      <td>...</td>\n",
       "      <td>...</td>\n",
       "      <td>...</td>\n",
       "      <td>...</td>\n",
       "      <td>...</td>\n",
       "    </tr>\n",
       "    <tr>\n",
       "      <th>1025</th>\n",
       "      <td>135.0</td>\n",
       "      <td>0.0</td>\n",
       "      <td>166.0</td>\n",
       "      <td>180.0</td>\n",
       "      <td>10.0</td>\n",
       "      <td>961.0</td>\n",
       "      <td>805.0</td>\n",
       "      <td>28</td>\n",
       "      <td>13.29</td>\n",
       "    </tr>\n",
       "    <tr>\n",
       "      <th>1026</th>\n",
       "      <td>531.3</td>\n",
       "      <td>0.0</td>\n",
       "      <td>0.0</td>\n",
       "      <td>141.8</td>\n",
       "      <td>28.2</td>\n",
       "      <td>852.1</td>\n",
       "      <td>893.7</td>\n",
       "      <td>3</td>\n",
       "      <td>41.30</td>\n",
       "    </tr>\n",
       "    <tr>\n",
       "      <th>1027</th>\n",
       "      <td>276.4</td>\n",
       "      <td>116.0</td>\n",
       "      <td>90.3</td>\n",
       "      <td>179.6</td>\n",
       "      <td>8.9</td>\n",
       "      <td>870.1</td>\n",
       "      <td>768.3</td>\n",
       "      <td>28</td>\n",
       "      <td>44.28</td>\n",
       "    </tr>\n",
       "    <tr>\n",
       "      <th>1028</th>\n",
       "      <td>342.0</td>\n",
       "      <td>38.0</td>\n",
       "      <td>0.0</td>\n",
       "      <td>228.0</td>\n",
       "      <td>0.0</td>\n",
       "      <td>932.0</td>\n",
       "      <td>670.0</td>\n",
       "      <td>270</td>\n",
       "      <td>55.06</td>\n",
       "    </tr>\n",
       "    <tr>\n",
       "      <th>1029</th>\n",
       "      <td>540.0</td>\n",
       "      <td>0.0</td>\n",
       "      <td>0.0</td>\n",
       "      <td>173.0</td>\n",
       "      <td>0.0</td>\n",
       "      <td>1125.0</td>\n",
       "      <td>613.0</td>\n",
       "      <td>7</td>\n",
       "      <td>52.61</td>\n",
       "    </tr>\n",
       "  </tbody>\n",
       "</table>\n",
       "<p>1030 rows × 9 columns</p>\n",
       "</div>"
      ],
      "text/plain": [
       "      cement   slag    ash  water  superplastic  coarseagg  fineagg  age  \\\n",
       "0      141.3  212.0    0.0  203.5           0.0      971.8    748.5   28   \n",
       "1      168.9   42.2  124.3  158.3          10.8     1080.8    796.2   14   \n",
       "2      250.0    0.0   95.7  187.4           5.5      956.9    861.2   28   \n",
       "3      266.0  114.0    0.0  228.0           0.0      932.0    670.0   28   \n",
       "4      154.8  183.4    0.0  193.3           9.1     1047.4    696.7   28   \n",
       "...      ...    ...    ...    ...           ...        ...      ...  ...   \n",
       "1025   135.0    0.0  166.0  180.0          10.0      961.0    805.0   28   \n",
       "1026   531.3    0.0    0.0  141.8          28.2      852.1    893.7    3   \n",
       "1027   276.4  116.0   90.3  179.6           8.9      870.1    768.3   28   \n",
       "1028   342.0   38.0    0.0  228.0           0.0      932.0    670.0  270   \n",
       "1029   540.0    0.0    0.0  173.0           0.0     1125.0    613.0    7   \n",
       "\n",
       "      strength  \n",
       "0        29.89  \n",
       "1        23.51  \n",
       "2        29.22  \n",
       "3        45.85  \n",
       "4        18.29  \n",
       "...        ...  \n",
       "1025     13.29  \n",
       "1026     41.30  \n",
       "1027     44.28  \n",
       "1028     55.06  \n",
       "1029     52.61  \n",
       "\n",
       "[1030 rows x 9 columns]"
      ]
     },
     "execution_count": 34,
     "metadata": {},
     "output_type": "execute_result"
    }
   ],
   "source": [
    "df"
   ]
  },
  {
   "cell_type": "code",
   "execution_count": 35,
   "metadata": {},
   "outputs": [
    {
     "data": {
      "text/html": [
       "<div>\n",
       "<style scoped>\n",
       "    .dataframe tbody tr th:only-of-type {\n",
       "        vertical-align: middle;\n",
       "    }\n",
       "\n",
       "    .dataframe tbody tr th {\n",
       "        vertical-align: top;\n",
       "    }\n",
       "\n",
       "    .dataframe thead th {\n",
       "        text-align: right;\n",
       "    }\n",
       "</style>\n",
       "<table border=\"1\" class=\"dataframe\">\n",
       "  <thead>\n",
       "    <tr style=\"text-align: right;\">\n",
       "      <th></th>\n",
       "      <th>column_name</th>\n",
       "      <th>ground_truth</th>\n",
       "      <th>predicted</th>\n",
       "    </tr>\n",
       "  </thead>\n",
       "  <tbody>\n",
       "    <tr>\n",
       "      <th>0</th>\n",
       "      <td>cement</td>\n",
       "      <td>[141.3]</td>\n",
       "      <td>[269.41055617710555]</td>\n",
       "    </tr>\n",
       "    <tr>\n",
       "      <th>1</th>\n",
       "      <td>slag</td>\n",
       "      <td>[212.00000000000003]</td>\n",
       "      <td>[101.11839441395027]</td>\n",
       "    </tr>\n",
       "    <tr>\n",
       "      <th>2</th>\n",
       "      <td>ash</td>\n",
       "      <td>[0.0]</td>\n",
       "      <td>[165.13523971747122]</td>\n",
       "    </tr>\n",
       "    <tr>\n",
       "      <th>3</th>\n",
       "      <td>water</td>\n",
       "      <td>[203.5]</td>\n",
       "      <td>[221.50200669061906]</td>\n",
       "    </tr>\n",
       "    <tr>\n",
       "      <th>4</th>\n",
       "      <td>superplastic</td>\n",
       "      <td>[0.0]</td>\n",
       "      <td>[26.497053492235757]</td>\n",
       "    </tr>\n",
       "    <tr>\n",
       "      <th>5</th>\n",
       "      <td>coarseagg</td>\n",
       "      <td>[971.8]</td>\n",
       "      <td>[802.0282118933405]</td>\n",
       "    </tr>\n",
       "    <tr>\n",
       "      <th>6</th>\n",
       "      <td>fineagg</td>\n",
       "      <td>[748.5000000000001]</td>\n",
       "      <td>[898.4936269760229]</td>\n",
       "    </tr>\n",
       "    <tr>\n",
       "      <th>7</th>\n",
       "      <td>age</td>\n",
       "      <td>[28.0]</td>\n",
       "      <td>[113.64094626295831]</td>\n",
       "    </tr>\n",
       "    <tr>\n",
       "      <th>8</th>\n",
       "      <td>strength</td>\n",
       "      <td>[29.89]</td>\n",
       "      <td>[40.01401901245117]</td>\n",
       "    </tr>\n",
       "  </tbody>\n",
       "</table>\n",
       "</div>"
      ],
      "text/plain": [
       "    column_name          ground_truth             predicted\n",
       "0        cement               [141.3]  [269.41055617710555]\n",
       "1          slag  [212.00000000000003]  [101.11839441395027]\n",
       "2           ash                 [0.0]  [165.13523971747122]\n",
       "3         water               [203.5]  [221.50200669061906]\n",
       "4  superplastic                 [0.0]  [26.497053492235757]\n",
       "5     coarseagg               [971.8]   [802.0282118933405]\n",
       "6       fineagg   [748.5000000000001]   [898.4936269760229]\n",
       "7           age                [28.0]  [113.64094626295831]\n",
       "8      strength               [29.89]   [40.01401901245117]"
      ]
     },
     "execution_count": 35,
     "metadata": {},
     "output_type": "execute_result"
    }
   ],
   "source": [
    "x_opt"
   ]
  },
  {
   "cell_type": "code",
   "execution_count": null,
   "metadata": {},
   "outputs": [],
   "source": []
  },
  {
   "cell_type": "code",
   "execution_count": null,
   "metadata": {},
   "outputs": [],
   "source": []
  }
 ],
 "metadata": {
  "kernelspec": {
   "display_name": "hack",
   "language": "python",
   "name": "python3"
  },
  "language_info": {
   "codemirror_mode": {
    "name": "ipython",
    "version": 3
   },
   "file_extension": ".py",
   "mimetype": "text/x-python",
   "name": "python",
   "nbconvert_exporter": "python",
   "pygments_lexer": "ipython3",
   "version": "3.10.16"
  }
 },
 "nbformat": 4,
 "nbformat_minor": 2
}
